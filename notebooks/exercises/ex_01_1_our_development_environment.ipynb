{
 "cells": [
  {
   "cell_type": "markdown",
   "id": "0aca588c-4207-4246-babc-cb33ce59cc37",
   "metadata": {},
   "source": [
    "![BAE logo](images/bae_logo.png)"
   ]
  },
  {
   "cell_type": "markdown",
   "id": "6784dd55-f460-4d66-8f08-014c39b9a262",
   "metadata": {
    "tags": []
   },
   "source": [
    "# Hands-On Exercise 1.1: Our Development Environment"
   ]
  },
  {
   "cell_type": "markdown",
   "id": "43161cda-34bd-4f42-99dc-da623ecbf8db",
   "metadata": {},
   "source": [
    "## Objective"
   ]
  },
  {
   "cell_type": "markdown",
   "id": "3fabfee4-77dc-4d80-8f26-c5c1f858b9a4",
   "metadata": {},
   "source": [
    "Become familiar with Visual Studio and test a sample C# program that does currency conversion."
   ]
  },
  {
   "cell_type": "markdown",
   "id": "948bc07d-e22a-4d6a-98d2-5fa818eb1b7b",
   "metadata": {},
   "source": [
    "## Compiling and executing programs"
   ]
  },
  {
   "cell_type": "markdown",
   "id": "17cf18ea-d8dd-4e19-9c57-08378c12d662",
   "metadata": {},
   "source": [
    "#### Start Visual Studio and maximise its window to full screen."
   ]
  },
  {
   "cell_type": "markdown",
   "id": "f7315253-3bd8-4561-bd86-7fc20e4bdb49",
   "metadata": {},
   "source": [
    "The installation of Visual Studio you are about to use has been minimally preconfigured for course use---i.e. it's pretty much a fresh install.\n",
    "\n",
    "None of the course exercises are dependent on this configuration, and you should be able to directly use a virgin installation of Visual Studio to do them. Feel free to configure the development environment to suit your personal preferences."
   ]
  },
  {
   "cell_type": "markdown",
   "id": "6f8c8870-005c-4fab-8578-193c0c385306",
   "metadata": {},
   "source": [
    "From the Windows task bar, click the **Start** button. From its pop-up menu, select **Visual Studio**. This will start the integrated development environment (IDE) that we will use during the course."
   ]
  },
  {
   "cell_type": "markdown",
   "id": "711adc7c-156e-48b3-9ca5-1f81212f8873",
   "metadata": {},
   "source": [
    "A start page should be displayed. It is actually a web browser. It will change each time you start Visual Studio to reflect the latest work you've been doing. From here, you can quickly select previous solutions, or various other help and information"
   ]
  },
  {
   "cell_type": "markdown",
   "id": "0d488eb8-3e2d-4cdc-be2a-f10c9b214a82",
   "metadata": {},
   "source": [
    "#### Open the existing solution, `CurrencyConverter.sln`, located in the directory `C:\\Course\\510D\\Exercises\\Ex011\\`."
   ]
  },
  {
   "cell_type": "markdown",
   "id": "88b29b96-1643-457b-822e-46cfdd229e95",
   "metadata": {},
   "source": [
    "Although you could select the link \"Open Project\" from the start page, the start page might not be available depending on how Visual Studio is configured."
   ]
  },
  {
   "cell_type": "markdown",
   "id": "13c3d3ad-612d-496b-8a60-cafca44af1f0",
   "metadata": {},
   "source": [
    "Select from the menu bar **File | Open | Project/Solution...**."
   ]
  },
  {
   "cell_type": "markdown",
   "id": "506fb9bf-85f6-488f-ad7f-2ae794e33924",
   "metadata": {},
   "source": [
    "When the File dialog box appears, navigate to the directory `C:\\Course\\510D\\Exercises\\Ex011`.\n",
    "\n",
    "The above directory can be located anywhere if you copy the exercises to your own computer. There are no dependencies on the folder location."
   ]
  },
  {
   "cell_type": "markdown",
   "id": "79215d33-12ef-4349-9ce8-dae6972de592",
   "metadata": {},
   "source": [
    "Double-click the solution control file `CurrencyConverter.sln`.\n",
    "\n",
    "The currency converter should open as the active project."
   ]
  },
  {
   "cell_type": "markdown",
   "id": "043e7bc3-c113-4f33-af30-849bbe0e8df3",
   "metadata": {
    "tags": []
   },
   "source": [
    "#### Open the Solution Explorer window so that you are able to see the files included in the project."
   ]
  },
  {
   "cell_type": "markdown",
   "id": "21d1766f-0a97-45b4-b7a3-b54bdb271dc4",
   "metadata": {},
   "source": [
    "If the Solution Explorer window is not already there, select from the menu bar **View | Solution Explorer**.\n",
    "\n",
    "The Solution Explorer window should appear on the right side of the Visual Studio work area if it was not already there."
   ]
  },
  {
   "cell_type": "markdown",
   "id": "8e1dbb09-4f71-42af-8eea-8e3938b7fc8e",
   "metadata": {},
   "source": [
    "If the files are not already visible in the Solution Explorer, click the triangle icon next to the **CurrencyConverter** project. This will open to reveal all of the files and folders in the project."
   ]
  },
  {
   "cell_type": "markdown",
   "id": "af2693d8-fc9b-4c54-88d7-23acad484eb1",
   "metadata": {},
   "source": [
    "What C# source files are in the project? Look in the folders, too."
   ]
  },
  {
   "cell_type": "markdown",
   "id": "a40122e2-7947-470e-9118-1be7e376e6b7",
   "metadata": {},
   "source": [
    "#### Answer..."
   ]
  },
  {
   "cell_type": "markdown",
   "id": "a9d3784d-aa88-4573-b459-d439448e5534",
   "metadata": {
    "tags": []
   },
   "source": [
    "#### - `Program.cs`"
   ]
  },
  {
   "cell_type": "markdown",
   "id": "71ecadb7-c47a-4389-9351-39ec18886913",
   "metadata": {},
   "source": [
    "What dependencies are being referenced?"
   ]
  },
  {
   "cell_type": "markdown",
   "id": "ae6c5ef2-628b-43df-95d8-b7e61db07b46",
   "metadata": {},
   "source": [
    "#### Answer..."
   ]
  },
  {
   "cell_type": "markdown",
   "id": "ec0d8c5a-0f2a-4e4e-8840-fcca5ca14b01",
   "metadata": {
    "jupyter": {
     "source_hidden": true
    },
    "tags": []
   },
   "source": [
    "- `Microsoft.NETCore.App`\n",
    "- `Microsoft.CodeAnalysis.CSharp.NetAnalyzers`\n",
    "- `Microsoft.CodeAnalysis.NetAnalyzers`\n",
    "- `System.Text.Json.SourceGeneration`\n",
    "\n",
    "The `CodeAnalysis` dependencies allow various code analysis tools to be added as needed.\n",
    "\n",
    "`System.Text.Json.SourceGeneration` is used to improve the performance of applications that use `System.Text.Json.SourceGeneration`."
   ]
  },
  {
   "cell_type": "markdown",
   "id": "1cd7acfa-b8e9-414d-be0b-2a87163ff129",
   "metadata": {},
   "source": [
    "#### Review the application source code."
   ]
  },
  {
   "cell_type": "markdown",
   "id": "76983c33-ff95-4878-9023-2706b98720f6",
   "metadata": {},
   "source": [
    "If it is not already visible, open the file `Program.cs` by double-clicking the icon next to the filename in the Solution Explorer window. This will open it in the Edit window."
   ]
  },
  {
   "cell_type": "markdown",
   "id": "2a9e0297-f2a9-4eea-92bc-dc7bf19f8376",
   "metadata": {},
   "source": [
    "_Briefly_ review it and see if you can determine what it does."
   ]
  },
  {
   "cell_type": "markdown",
   "id": "ffc2b71c-9414-4738-9aee-4fb998b16303",
   "metadata": {},
   "source": [
    "#### Build and then execute the program using the Visual S menu-bar items and accelerator keys."
   ]
  },
  {
   "cell_type": "markdown",
   "id": "67489b5e-f4fe-4a30-91f1-5cd5a92ec1b6",
   "metadata": {},
   "source": [
    "Select from the VS menu bar **Debug | Start Without Debugging**. This will both compile and run the program.\n",
    "\n",
    "The application should run as a console program."
   ]
  },
  {
   "cell_type": "markdown",
   "id": "8978826d-63c6-4d8a-94d0-35be26dc6fa6",
   "metadata": {},
   "source": [
    "The program will now prompt you for input with:\n",
    "\n",
    "`Input amount of USD to convert to EUR?`"
   ]
  },
  {
   "cell_type": "markdown",
   "id": "15143c80-bd94-4790-a33a-df9acdb6546c",
   "metadata": {},
   "source": [
    "Enter an appropriate dollar value followed by `<Enter>`. The amount in Euros will be displayed."
   ]
  },
  {
   "cell_type": "markdown",
   "id": "ede67a0a-6b44-476a-b2f2-e90881743ee4",
   "metadata": {},
   "source": [
    "Press the `<Enter>` key again to continue."
   ]
  },
  {
   "cell_type": "markdown",
   "id": "2007a4a1-8f59-44c5-b0c3-33d830554c5d",
   "metadata": {},
   "source": [
    "## Exploring Visual Studio editing and compilation error handling"
   ]
  },
  {
   "cell_type": "markdown",
   "id": "a54df149-7582-4146-8e9b-2c3742f86b24",
   "metadata": {},
   "source": [
    "#### Edit `Program.cs` in any fashion you like."
   ]
  },
  {
   "cell_type": "markdown",
   "id": "8b9ea19e-1f92-4f82-b256-519bc0dd3147",
   "metadata": {},
   "source": [
    "Try moving around `Program.cs` using the mouse and cursor keys. Change some text by adding, modifying, or deleting."
   ]
  },
  {
   "cell_type": "markdown",
   "id": "f669a868-6a81-4c38-9d8e-9360286465a8",
   "metadata": {},
   "source": [
    "Use an undo command to completely undo all changes you have made. You'll know when all changes have been undone because the toolbar and menu items will gray out.\n",
    "\n",
    "Notice that the edit window has `[+]` and `[-]` icons. These icons can be used to fold away text that you are not currently working with, and then to unfold it again when you need it."
   ]
  },
  {
   "cell_type": "markdown",
   "id": "608b7af9-57c8-436a-bdfc-11857d345be1",
   "metadata": {},
   "source": [
    "Try folding and unfolding a few of the code sections, leaving only the `Main` exposed."
   ]
  },
  {
   "cell_type": "markdown",
   "id": "3959a1c7-a5b1-46b8-9208-162b06fe2564",
   "metadata": {
    "tags": []
   },
   "source": [
    "#### Place an error in the `Main` method of the program and compile."
   ]
  },
  {
   "cell_type": "markdown",
   "id": "f4585954-baa5-46d7-94f3-7e6cf06f2107",
   "metadata": {},
   "source": [
    "Move to a convenient line and enter some gibberish text."
   ]
  },
  {
   "cell_type": "markdown",
   "id": "9fb1a7b1-10c6-454d-9476-18c56ce5d8ac",
   "metadata": {},
   "source": [
    "Attempt to compile and execute the program using **Debug | Start Without Debugging**.\n",
    "\n",
    "There is no need to save your changes manually or do a separate compile. \"Make mode\" is used and Visual Studio will automatically save all the changes you have made and compile them before attempting to run the program.\n",
    "\n",
    "Wait for a dialog box to appear."
   ]
  },
  {
   "cell_type": "markdown",
   "id": "8c3f7fa7-cb12-412d-9557-30300a0bd63a",
   "metadata": {},
   "source": [
    "Select **No** and do not run the program."
   ]
  },
  {
   "cell_type": "markdown",
   "id": "6fe87563-5ae2-4dfd-b8e4-0d6d06fb9f20",
   "metadata": {},
   "source": [
    "#### Fix the error"
   ]
  },
  {
   "cell_type": "markdown",
   "id": "a4212349-68c1-4b86-bb2d-57514d143765",
   "metadata": {},
   "source": [
    "In the message window, double-click the text of the first error message. This will have the effect of jumping to the error line in the edit window.\n",
    "\n",
    "If you hover the mouse pointer over the highlighted error in the edit window, a tool tip will appear possibly explaining the error"
   ]
  },
  {
   "cell_type": "markdown",
   "id": "8cb676f4-4df0-4de0-83c3-4006a65f2a32",
   "metadata": {},
   "source": [
    "Enter a few other errors and compile to see what happens. Try:\n",
    "\n",
    "- Removing a semicolon at the end of a statement\n",
    "- Removing a curly bracket: `{` or `}`\n",
    "\n",
    "<font color=\"red\">**Warning! When there is more than one error message, it is best to fix just the first error message, and then recompile. Don't tediously examine each error message in order. One error can produce many error messages.**</font>"
   ]
  },
  {
   "cell_type": "markdown",
   "id": "2bb9dabe-a13f-47bb-9795-14fee5951316",
   "metadata": {},
   "source": [
    "#### Close the solution"
   ]
  },
  {
   "cell_type": "markdown",
   "id": "df87b19a-2b91-44b9-ac8a-ec15da918eee",
   "metadata": {},
   "source": [
    "Select **File | Close Solution** and select **No** if asked to save the changes.\n",
    "\n",
    "Ensure that the project window and the edit windows disappear."
   ]
  },
  {
   "cell_type": "markdown",
   "id": "c8b7e9f9-b99f-422c-87dd-60c226c0c429",
   "metadata": {},
   "source": [
    "## Creating a project and writing a program"
   ]
  },
  {
   "cell_type": "markdown",
   "id": "eb1e45a6-9384-4cd5-8837-953448e3efb5",
   "metadata": {},
   "source": [
    "Create a new project and to edit the framework code produced by Visual Studio to be a \"hello world\" program."
   ]
  },
  {
   "cell_type": "markdown",
   "id": "585f4129-2475-4a2f-8950-9696f455da61",
   "metadata": {},
   "source": [
    "#### Create a new project called `HelloWorld`."
   ]
  },
  {
   "cell_type": "markdown",
   "id": "15c9dfbf-ad36-4888-813c-29e44873f8cd",
   "metadata": {},
   "source": [
    "Select **File | New | Project...** from the Visual Studio menu bar and wait for the New Project dialog box to appear."
   ]
  },
  {
   "cell_type": "markdown",
   "id": "fd69a21b-7642-47f5-8e42-39f7d218b3b6",
   "metadata": {},
   "source": [
    "In the dialog box:\n",
    "\n",
    "- In the search box at the top-right enter `Console`\n",
    "- Look for an item titled **Console App**. Make sure (via its tags) that's it's a C# template and (via it's description) that it can \"run on .NET Core\". Select it.\n",
    "- Click **Next** to go to the **Configure your new project\" page in the dialog\n",
    "- In the **Project name** text box, enter `HelloWorld`\n",
    "- Enter `C:\\Course\\510D\\Exercises\\` into the Location text box.\n",
    "- Make sure the \"Place solution and project in the same directory\" checkbox is cleared\n",
    "- Check the **Solution name** text box contains `HelloWorld`\n",
    "- Click **Next** to go to the **Additional information** page in the dialog\n",
    "- Select .NET 5.0 in the **Framework** list. This isn't the newest version, but it'll give us the older template (which is more common for now).\n",
    "\n",
    "Click **Create**.\n",
    "\n",
    "You will need to wait a few seconds while the project is created."
   ]
  },
  {
   "cell_type": "markdown",
   "id": "3ba70ddc-522f-42e8-b235-de3c0e059b92",
   "metadata": {},
   "source": [
    "Open the Solution Explorer window (**View | Solution Explorer**) if necessary and view the file `Program.cs`.\n",
    "    \n",
    "Visual Studio has created a new solution with one project in it and produced a framework `Main` function. This can be edited to produce the \"hello world\" program we previously looked at."
   ]
  },
  {
   "cell_type": "markdown",
   "id": "04d1eecc-579b-4ad2-baf2-b6eff5551f49",
   "metadata": {},
   "source": [
    "#### Add the \"hello world\" logic to the `Main` method."
   ]
  },
  {
   "cell_type": "markdown",
   "id": "80d71082-647d-42e1-9f54-63b3d56f100b",
   "metadata": {},
   "source": [
    "Modify the `Main` method—insert the logic to output the text message \"Hello BAE Systems!\".\n",
    "    \n",
    "As you start to type, IntelliSense will pop up items that match what you have entered. You can continue to type or select an item in the drop-down list and press `<Tab>` to select it and enter the text."
   ]
  },
  {
   "cell_type": "markdown",
   "id": "56c6d767-44f1-4667-abbd-d1c41f911226",
   "metadata": {},
   "source": [
    "Compile and test."
   ]
  },
  {
   "cell_type": "markdown",
   "id": "7a7f65ba-efc8-4c2c-b982-ebefbac34ecd",
   "metadata": {},
   "source": [
    "## Congratulations! You have successfully completed the exercise."
   ]
  },
  {
   "cell_type": "markdown",
   "id": "f33544b3-0dda-4567-b747-a4aacef11846",
   "metadata": {},
   "source": [
    "# Bonus (Optional)"
   ]
  },
  {
   "cell_type": "markdown",
   "id": "77d3b3b2-6da4-43ac-b158-6573b29c05f8",
   "metadata": {},
   "source": [
    "If you have _more time_, try the following bonus exercises."
   ]
  },
  {
   "cell_type": "markdown",
   "id": "41ff4e9d-ecc6-48e8-978d-dd21ceec25a1",
   "metadata": {},
   "source": [
    "#### Explore the solution layout."
   ]
  },
  {
   "cell_type": "markdown",
   "id": "569b0617-6ed2-4dfc-8104-c408381f3aaa",
   "metadata": {},
   "source": [
    "Using Windows Explorer, examine the files and the directory layout of the solution you created in `C:\\Course\\510D\\Exercises\\HelloWorld`."
   ]
  },
  {
   "cell_type": "markdown",
   "id": "e537a14e-061b-427c-9cff-cb7bf37990e5",
   "metadata": {},
   "source": [
    "## Congratulations! You have completed the bonus."
   ]
  }
 ],
 "metadata": {
  "kernelspec": {
   "display_name": ".NET (C#)",
   "language": "C#",
   "name": ".net-csharp"
  },
  "language_info": {
   "file_extension": ".cs",
   "mimetype": "text/x-csharp",
   "name": "C#",
   "pygments_lexer": "csharp",
   "version": "9.0"
  }
 },
 "nbformat": 4,
 "nbformat_minor": 5
}

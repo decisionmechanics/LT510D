{
 "cells": [
  {
   "cell_type": "markdown",
   "id": "77cf3d42-9486-4cea-8e50-7b8e95a88bfd",
   "metadata": {},
   "source": [
    "![BAE logo](images/bae_logo.png)"
   ]
  },
  {
   "cell_type": "markdown",
   "id": "62aaf7a2-50e2-4237-a528-b2fc8e46ee82",
   "metadata": {
    "tags": []
   },
   "source": [
    "# Hands-On Exercise 9.1: Converting XML to JSON"
   ]
  },
  {
   "cell_type": "markdown",
   "id": "bc13a645-1310-4c57-95fa-225e5eba657b",
   "metadata": {},
   "source": [
    "## Objective"
   ]
  },
  {
   "cell_type": "markdown",
   "id": "33dfb6f9-13cb-4cce-a26f-363551644683",
   "metadata": {},
   "source": [
    "Write a command line tool to convert an XML document containing football match details into JSON.\n",
    "    \n",
    "This is a realistic problem as the XML format is less-well supported that it used to be, while the tool development around JSON is very active."
   ]
  },
  {
   "cell_type": "markdown",
   "id": "d919c6bc-8edb-4078-a818-3faa33ea16d9",
   "metadata": {
    "tags": []
   },
   "source": [
    "Close the previous solution if you have not already done so."
   ]
  },
  {
   "cell_type": "markdown",
   "id": "ea6382dc-37de-4993-b1dc-b33d0c221aa2",
   "metadata": {},
   "source": [
    "#### Review the XML document"
   ]
  },
  {
   "cell_type": "markdown",
   "id": "e87d4813-ecf4-4b3f-9035-d2ae22f41595",
   "metadata": {},
   "source": [
    "Open the XML document in `C:\\Course\\510D\\Data\\epl_2020_2021.xml`. You can use Visual Studio, Visual Studio Code, Notepad, etc. It's just a text file."
   ]
  },
  {
   "cell_type": "markdown",
   "id": "9853072e-62e7-4cd2-a7d0-68a222c4553f",
   "metadata": {},
   "source": [
    "Review the contents. It's a list of the (380) matches played in the 2020/2021 season of the English Premier League. Each match is describe by a `<Match />` element.\n",
    "\n",
    "Here's the first one.\n",
    "\n",
    "```XML\n",
    "<Match id=\"0\">\n",
    "    <Kickoff>2020-09-12T12:30:00+01:00</Kickoff>\n",
    "    <HomeTeam>Fulham</HomeTeam>\n",
    "    <AwayTeam>Arsenal</AwayTeam>\n",
    "    <Score>\n",
    "        <FullTime>\n",
    "            <Home>0</Home>\n",
    "            <Away>3</Away>\n",
    "        </FullTime>\n",
    "        <HalfTime>\n",
    "            <Home>0</Home>\n",
    "            <Away>1</Away>\n",
    "        </HalfTime>\n",
    "    </Score>\n",
    "    <Prices>\n",
    "        <Home>6.16</Home>\n",
    "        <Draw>4.51</Draw>\n",
    "        <Away>1.56</Away>\n",
    "    </Prices>\n",
    "</Match>\n",
    "```\n",
    "\n",
    "This represents the game on 12-Sep-2020 where Fulham were at home to Arsenal. Arsenal were leading 0-1 at half-time and eventually won the game with a score line of 0-3. The betting prices on the day were 6.16 for a Fulham win, 4.51 for a draw and 1.56 for an Arsenal win.\n",
    "\n",
    "The `id` attribute is a unique ID."
   ]
  },
  {
   "cell_type": "markdown",
   "id": "0c4389a5-9415-42da-8c53-47af13007ec7",
   "metadata": {},
   "source": [
    "#### Create a new console application targeting .NET 6.0."
   ]
  },
  {
   "cell_type": "markdown",
   "id": "e271cee6-bb1f-4b50-835d-1c8335f5829c",
   "metadata": {},
   "source": [
    "Create a new console app project/solution. Name it `XmlToJson` with the location `C:\\Course\\510D\\Exercises\\`.\n",
    "\n",
    "<font color=\"red\">**When asked what framework to use, choose NET _5.0_.**</font>\n",
    "\n",
    "This will ensure we get a `Program` class."
   ]
  },
  {
   "cell_type": "markdown",
   "id": "7dc67bcb-7dd0-49c8-a511-f375b10230b8",
   "metadata": {},
   "source": [
    "When the solution has been created, right-click on the `XmlToJson` _project_ in Solution Explorer and open the **Properties** editor."
   ]
  },
  {
   "cell_type": "markdown",
   "id": "0d365a93-1aad-4afe-a993-229b5a7ee1c7",
   "metadata": {},
   "source": [
    "In the **Application | General** tab change the **Target Framework** to .NET 6.0. In the **Build | General** tab, enable **Nullable** (non-nullable reference types)."
   ]
  },
  {
   "cell_type": "markdown",
   "id": "b869185a-a9a7-4307-9644-20451312c344",
   "metadata": {},
   "source": [
    "We now have a .NET 6 application _and_ a full `Program` class."
   ]
  },
  {
   "cell_type": "markdown",
   "id": "299f549c-d110-4989-9c6e-7baf8279c7c5",
   "metadata": {},
   "source": [
    "#### Read the XML document path from the command line."
   ]
  },
  {
   "cell_type": "markdown",
   "id": "bb88389b-1b87-4ece-a861-2ab939834d7d",
   "metadata": {},
   "source": [
    "To make this tool realistic, the path to the XML document will be taken from the command line. Hard-coded paths are a pain for users.\n",
    "\n",
    "Parameters passed on the command line are available as the `args` parameter passed to the `Program` class' `Main` method."
   ]
  },
  {
   "cell_type": "markdown",
   "id": "29f934a2-ae0f-4c2b-af6b-c6523ee2d78b",
   "metadata": {},
   "source": [
    "When the application is run in Visual Studio (i.e. during development) this command line paramater will need to be passed to our application. We can specify this using the project's property editor.\n",
    "\n",
    "Go to the property editor's **Debug | General** tab. Click on the **Open debug launch profiles UI** link. In the **Command line arguments** text box, enter\n",
    "\n",
    "```\n",
    "C:\\Course\\510D\\Data\\epl_2020_2021.xml\n",
    "```"
   ]
  },
  {
   "cell_type": "markdown",
   "id": "25a4b6d8-d20b-430f-862d-02777a5497c4",
   "metadata": {},
   "source": [
    "Confirm that only one argument was specified via the command line. If this _isn't_ the case, display a message to the user and exit the application.\n",
    "\n",
    "You can use `Application.Exit(1);` to exit the application with error code 1."
   ]
  },
  {
   "cell_type": "markdown",
   "id": "3276f629-c06a-4dec-8a26-ff162ae27c7b",
   "metadata": {},
   "source": [
    "#### Answer..."
   ]
  },
  {
   "cell_type": "code",
   "execution_count": null,
   "id": "099becb2-e5f0-467e-8425-55cf03d2eff1",
   "metadata": {
    "jupyter": {
     "source_hidden": true
    },
    "tags": []
   },
   "outputs": [],
   "source": [
    "if (args.Length != 1)\n",
    "{\n",
    "    Console.WriteLine(\"Usage: <XML document path>\");\n",
    "\n",
    "    Environment.Exit(1);\n",
    "}"
   ]
  },
  {
   "cell_type": "markdown",
   "id": "d5635676-0029-4c2f-a515-372e370e1075",
   "metadata": {},
   "source": [
    "#### Create a match model class."
   ]
  },
  {
   "cell_type": "markdown",
   "id": "7cf946ed-ee26-446e-89fd-cb5791a4bd04",
   "metadata": {},
   "source": [
    "The XML document will be deserialized to list of .NET objects---a list of `Match` objects.\n",
    "    \n",
    "Create a `Match` object with properties for all the data provided by the XML document.\n",
    "\n",
    "It will look something like\n",
    "\n",
    "```C#\n",
    "public class Match\n",
    "{\n",
    "    public int Id { get; set; }\n",
    "    public DateTime Kickoff { get; set; }\n",
    "    public string HomeTeam { get; set; } = string.Empty;\n",
    "    public string AwayTeam { get; set; } = string.Empty;\n",
    "    public Score Score { get; set; } = new();\n",
    "    public Score HalfTimeScore { get; set; } = new();\n",
    "    public Prices Prices { get; set; } = new();\n",
    "}\n",
    "```\n",
    "\n",
    "The nested structure of the XML document has been \"flattened\". This isn't necessary, but it makes the code simpler. \n",
    "\n",
    "It's also realistic as it's an easier format to use if you want to injest it into tablular analysis tools, such as spreadsheets and databases."
   ]
  },
  {
   "cell_type": "markdown",
   "id": "f11eea2e-223d-487f-a836-25a6462f1bca",
   "metadata": {},
   "source": [
    "#### Write a function to import a list of `Matches` from the XML document."
   ]
  },
  {
   "cell_type": "markdown",
   "id": "da5ae5ed-b0b0-49fe-9894-f1346769f0e3",
   "metadata": {},
   "source": [
    "Scaffold a `private static` `ImportMatchesFromXml` that takes the path to the XML document and returns `IEnumerable<Match>`."
   ]
  },
  {
   "cell_type": "markdown",
   "id": "6ea549f8-3f4d-4457-89ee-f226ed98b2b8",
   "metadata": {},
   "source": [
    "#### Answer..."
   ]
  },
  {
   "cell_type": "code",
   "execution_count": null,
   "id": "a122d29e-fae6-4153-b299-5b8839c26983",
   "metadata": {
    "jupyter": {
     "source_hidden": true
    },
    "tags": []
   },
   "outputs": [],
   "source": [
    "private static IEnumerable<Match> ImportMatchesFromXml(string documentPath)\n",
    "{\n",
    "}"
   ]
  },
  {
   "cell_type": "markdown",
   "id": "bf844b36-c148-49b5-9dc9-1abeea84cc90",
   "metadata": {
    "tags": []
   },
   "source": [
    "In `ImportMatchesFromXml`, read the XML document using XML to LINQ. The code to do this will look like\n",
    "\n",
    "```C#\n",
    "XDocument document = XDocument.Load(documentPath);\n",
    "```"
   ]
  },
  {
   "cell_type": "markdown",
   "id": "ae3a7dae-5510-42fa-a7c7-c54bfe31a06c",
   "metadata": {},
   "source": [
    "Create an empty `matches` collection to hold the `Match` objects that will be generated. It will look like this\n",
    "    \n",
    "```C#\n",
    "ICollection<Match> matches = new List<Match>();\n",
    "```"
   ]
  },
  {
   "cell_type": "markdown",
   "id": "20ddab6c-7323-45df-9fff-b9f734066098",
   "metadata": {},
   "source": [
    "The top-level `<Match />` elements are in `document.Root`.\n",
    "\n",
    "A list of the match `XElement`s can be obtained using `document.Root!.Elements()`. The use of the null-forgiving operator (`!`) is justified here as XML documents usually adhere to a strict schema definition---and are pre-validated.\n",
    "\n",
    "Scaffold a `foreach` loop that iterates over the match `XElement`s."
   ]
  },
  {
   "cell_type": "markdown",
   "id": "0da7a389-d6f7-4d0d-be19-c9dafd592a9f",
   "metadata": {},
   "source": [
    "#### Answer..."
   ]
  },
  {
   "cell_type": "code",
   "execution_count": null,
   "id": "0315750e-f24f-4589-adef-722d86113d6a",
   "metadata": {
    "jupyter": {
     "source_hidden": true
    },
    "tags": []
   },
   "outputs": [],
   "source": [
    "foreach (XElement matchElement in document.Root!.Elements())\n",
    "{\n",
    "}"
   ]
  },
  {
   "cell_type": "markdown",
   "id": "13b56dad-014e-44bb-ad14-bb35367f479f",
   "metadata": {},
   "source": [
    "Inside the `foreach` loop create a new `Match` object. Assign its `Id` property using the `id` attribute from the `<Match />` element.\n",
    "\n",
    "The code will look like\n",
    "\n",
    "```C#\n",
    "var match = new Match\n",
    "{\n",
    "    Id = (int)matchElement.Attribute(\"id\")!\n",
    "}\n",
    "```\n",
    "\n",
    "Note the use of the null-forgiving (`!`) operator again."
   ]
  },
  {
   "cell_type": "markdown",
   "id": "7d99fe7e-c9d8-409e-8b0c-eec5009694e5",
   "metadata": {},
   "source": [
    "Initialize the rest of the properties in the same way. The complete statement should look similar to\n",
    "\n",
    "```C#\n",
    "var match = new Match\n",
    "{\n",
    "    Id = (int)matchElement.Attribute(\"id\")!,\n",
    "    Kickoff = DateTime.Parse((string)matchElement.Element(\"Kickoff\")!),\n",
    "    HomeTeam = (string)matchElement.Element(\"HomeTeam\")!,\n",
    "    AwayTeam = (string)matchElement.Element(\"AwayTeam\")!,\n",
    "    HomeTeamGoals = (int)matchElement.Element(\"Score\")!.Element(\"FullTime\")!.Element(\"Home\")!,\n",
    "    AwayTeamGoals = (int)matchElement.Element(\"Score\")!.Element(\"FullTime\")!.Element(\"Away\")!,\n",
    "    HalfTimeHomeTeamGoals = (int)matchElement.Element(\"Score\")!.Element(\"HalfTime\")!.Element(\"Home\")!,\n",
    "    HalfTimeAwayTeamGoals = (int)matchElement.Element(\"Score\")!.Element(\"HalfTime\")!.Element(\"Away\")!,\n",
    "    HomeWinPrice = (decimal)matchElement.Element(\"Prices\")!.Element(\"Home\")!,\n",
    "    DrawPrice = (decimal)matchElement.Element(\"Prices\")!.Element(\"Draw\")!,\n",
    "    AwayWinPrice = (decimal)matchElement.Element(\"Prices\")!.Element(\"Away\")!,\n",
    "};\n",
    "```"
   ]
  },
  {
   "cell_type": "markdown",
   "id": "f46a3db5-f4cc-40f5-877a-113b772e593e",
   "metadata": {},
   "source": [
    "Add the new `match` to the list of `matches`."
   ]
  },
  {
   "cell_type": "markdown",
   "id": "a35a71e0-5631-4870-9268-6fa301b02c86",
   "metadata": {},
   "source": [
    "#### Answer..."
   ]
  },
  {
   "cell_type": "code",
   "execution_count": null,
   "id": "4770b1e5-764c-4f59-b5a2-3afac1828bff",
   "metadata": {
    "jupyter": {
     "source_hidden": true
    },
    "tags": []
   },
   "outputs": [],
   "source": [
    "matches.Add(match);"
   ]
  },
  {
   "cell_type": "markdown",
   "id": "a92a747a-3d01-418a-99e0-d2ca00ff051e",
   "metadata": {},
   "source": [
    "Return the list of `matches` at the end of the `ImportMatchesFromXml` function."
   ]
  },
  {
   "cell_type": "markdown",
   "id": "c270cb56-4ca5-49f2-adf8-64e550d0c922",
   "metadata": {},
   "source": [
    "Do a build to check all is well."
   ]
  },
  {
   "cell_type": "markdown",
   "id": "f365f14f-04f1-4dca-96de-cd7bb254ffad",
   "metadata": {},
   "source": [
    "In the `Main` function, call `ImportMatchesFromXml` with the first command line argument and store it's return value in `matches`."
   ]
  },
  {
   "cell_type": "markdown",
   "id": "f68f6890-8a48-4d0c-8539-3189ef481e34",
   "metadata": {},
   "source": [
    "#### Answer..."
   ]
  },
  {
   "cell_type": "code",
   "execution_count": null,
   "id": "c31e6cd1-00c9-4bde-bfd0-7d148d4e7b22",
   "metadata": {
    "jupyter": {
     "source_hidden": true
    },
    "tags": []
   },
   "outputs": [],
   "source": [
    "IEnumerable<Match> matches = ImportMatchesFromXml(args[0]).ToList();"
   ]
  },
  {
   "cell_type": "markdown",
   "id": "fda1c94e-6914-4894-a603-97ba53078a9f",
   "metadata": {},
   "source": [
    "Output the length of the matches list using `Console.WriteLine($\"There are {matches.Count()} matches.\");`.\n",
    "\n",
    "How many matches are there in the document?"
   ]
  },
  {
   "cell_type": "markdown",
   "id": "072d153a-9a7c-4e90-9700-974240803a59",
   "metadata": {},
   "source": [
    "#### Answer..."
   ]
  },
  {
   "cell_type": "markdown",
   "id": "ce906766-bec4-47be-a755-7cb59c03979c",
   "metadata": {
    "jupyter": {
     "source_hidden": true
    },
    "tags": []
   },
   "source": [
    "380 (20 teams playing each other---twice)."
   ]
  },
  {
   "cell_type": "markdown",
   "id": "77383692-5c32-40d3-9fc6-007c428e5975",
   "metadata": {},
   "source": [
    "#### Output the list of matches as JSON."
   ]
  },
  {
   "cell_type": "markdown",
   "id": "7172d102-80f2-4fd2-ac31-c807d98afdac",
   "metadata": {},
   "source": [
    "Scaffold an `ExportMatchesToJson` function that takes the `IEnumerable<Match>` containing the matches.\n",
    "\n",
    "It should like like this\n",
    "\n",
    "```C#\n",
    "private static void ExportMatchesToJson(IEnumerable<Match> matches)\n",
    "{\n",
    "}\n",
    "```"
   ]
  },
  {
   "cell_type": "markdown",
   "id": "94140ff7-86db-4e1b-9c3e-01713f1d7333",
   "metadata": {},
   "source": [
    "Most JSON documents use camel-cased properties (e.g. `homeTeam`) and, as this document will be reviewed, it should have a \"pretty\" layout.\n",
    "\n",
    "Inside `ExportMatchesToJson` create a `JsonSerializerOptions` object that specifies camel-cased property naming and indentation. The code will look like\n",
    "\n",
    "```C#\n",
    "var serializerOptions = new JsonSerializerOptions\n",
    "{\n",
    "    PropertyNamingPolicy = JsonNamingPolicy.CamelCase,\n",
    "    WriteIndented = true\n",
    "};\n",
    "```"
   ]
  },
  {
   "cell_type": "markdown",
   "id": "6348f274-1cb2-483f-b48f-fafefe376a5c",
   "metadata": {
    "tags": []
   },
   "source": [
    "Using the `serializerOptions`, serialize the `matches` to a JSON string (`json`)."
   ]
  },
  {
   "cell_type": "markdown",
   "id": "a1cd33d0-2afb-449a-9b71-778a049ceee7",
   "metadata": {},
   "source": [
    "#### Answer..."
   ]
  },
  {
   "cell_type": "code",
   "execution_count": null,
   "id": "76b4fbb7-a11a-4e03-9b8b-e7519e8ea4af",
   "metadata": {
    "jupyter": {
     "source_hidden": true
    },
    "tags": []
   },
   "outputs": [],
   "source": [
    "string json = JsonSerializer.Serialize(matches, serializerOptions);"
   ]
  },
  {
   "cell_type": "markdown",
   "id": "2f0c7b65-fdff-4fa2-8f68-3470984b9eb3",
   "metadata": {},
   "source": [
    "Write the JSON string out to the console."
   ]
  },
  {
   "cell_type": "markdown",
   "id": "54c0998c-1c83-4170-b837-d1e6da330246",
   "metadata": {},
   "source": [
    "#### Answer..."
   ]
  },
  {
   "cell_type": "code",
   "execution_count": null,
   "id": "1950c99c-fc17-4df6-a781-2ad0b5aff7e7",
   "metadata": {
    "jupyter": {
     "source_hidden": true
    },
    "tags": []
   },
   "outputs": [],
   "source": [
    "Console.Write(json);"
   ]
  },
  {
   "cell_type": "markdown",
   "id": "482f9a0c-f5bb-45b3-9997-7dcd1649cdc7",
   "metadata": {},
   "source": [
    "Another option would be to write the JSON to a file using `File.WriteAllText(json);`. However, writing to the console makes it easy to confirm the output looks sensible, and we can easily redirect the output to a file using `>` in the terminal."
   ]
  },
  {
   "cell_type": "markdown",
   "id": "1638ce91-6a39-4144-9fb6-38fbffbeeb60",
   "metadata": {},
   "source": [
    "Return to the `Main` method and remove the `Console.WriteLine` statement that displays the number of matches."
   ]
  },
  {
   "cell_type": "markdown",
   "id": "37113a83-0d27-4cf6-90cc-fe3c77f78d14",
   "metadata": {},
   "source": [
    "Call `ExportMatchesToJson`, passing it the `matches` returned from `ImportMatchesFromXml`.\n",
    "\n",
    "The code should look like\n",
    "\n",
    "```C#\n",
    "ExportMatchesToJson(matches);\n",
    "```"
   ]
  },
  {
   "cell_type": "markdown",
   "id": "4cbf6e98-1ca0-4f6a-a5c9-1615a86920d0",
   "metadata": {},
   "source": [
    "Run and test the application."
   ]
  },
  {
   "cell_type": "markdown",
   "id": "47a90127-fb57-4dab-aa2e-3663e6acff9e",
   "metadata": {},
   "source": [
    "## Congratulations! You have successfully completed the exercise. Continue to the bonus if you have more time."
   ]
  },
  {
   "cell_type": "markdown",
   "id": "34b7c70a-fdc6-47ef-8510-ccdbbe998d3a",
   "metadata": {},
   "source": [
    "# Bonus (Optional)"
   ]
  },
  {
   "cell_type": "markdown",
   "id": "c5619e7b-afc4-4c54-95a9-736e983135be",
   "metadata": {},
   "source": [
    "The JSON document the application generates uses a \"flat\" structure (no nested objects). Create sub-objects to store scores and prices."
   ]
  },
  {
   "cell_type": "markdown",
   "id": "21333716-f0d2-47a8-9f2d-30fab68f490f",
   "metadata": {},
   "source": [
    "#### Create new model classes."
   ]
  },
  {
   "cell_type": "markdown",
   "id": "809407b9-dead-4041-82f7-2ea7fa42a89c",
   "metadata": {},
   "source": [
    "Create a `Score` class with `HomeTeamGoals` and `AwayTeamGoals` properties."
   ]
  },
  {
   "cell_type": "markdown",
   "id": "09e979ec-1f1e-409a-b639-26a4822714d1",
   "metadata": {},
   "source": [
    "#### Answer..."
   ]
  },
  {
   "cell_type": "code",
   "execution_count": null,
   "id": "556599fe-7fcb-45f8-bcb4-85d159f5c8f4",
   "metadata": {
    "jupyter": {
     "source_hidden": true
    },
    "tags": []
   },
   "outputs": [],
   "source": [
    "public class Score\n",
    "{\n",
    "    public int HomeTeamGoals { get; set; }\n",
    "    public int AwayTeamGoals { get; set; }\n",
    "}"
   ]
  },
  {
   "cell_type": "markdown",
   "id": "9c09ea3e-337c-4097-b261-523ad1783e99",
   "metadata": {},
   "source": [
    "Create a `Prices` class with `HomeWin`, `Draw` and `AwayWin` properties (all `decimal`)."
   ]
  },
  {
   "cell_type": "markdown",
   "id": "07077c9d-52d1-4322-996c-2f8e24671e37",
   "metadata": {},
   "source": [
    "#### Answer..."
   ]
  },
  {
   "cell_type": "code",
   "execution_count": null,
   "id": "af3ed1aa-a7a3-4c97-89f9-f55a807faca6",
   "metadata": {
    "jupyter": {
     "source_hidden": true
    },
    "tags": []
   },
   "outputs": [],
   "source": [
    "public class Prices\n",
    "{\n",
    "    public decimal HomeWin { get; set; }\n",
    "    public decimal Draw { get; set; }\n",
    "    public decimal AwayWin { get; set; }\n",
    "}"
   ]
  },
  {
   "cell_type": "markdown",
   "id": "c62bd2b3-aa27-438c-a5ef-61aa0901d3f8",
   "metadata": {},
   "source": [
    "Refactor the `Match` class to use these new classes.\n",
    "\n",
    "The new `Match` class should look like\n",
    "\n",
    "```C#\n",
    "public class Match\n",
    "{\n",
    "    public int Id { get; set; }\n",
    "    public DateTime Kickoff { get; set; }\n",
    "    public string HomeTeam { get; set; } = string.Empty;\n",
    "    public string AwayTeam { get; set; } = string.Empty;\n",
    "    public Score Score { get; set; } = new();\n",
    "    public Score HalfTimeScore { get; set; } = new();\n",
    "    public Prices Prices { get; set; } = new();\n",
    "}\n",
    "```"
   ]
  },
  {
   "cell_type": "markdown",
   "id": "f85cb106-0ce5-4f91-a9c4-9ee1fe7d4dea",
   "metadata": {},
   "source": [
    "Go to the `ImportMatchesFromXml` function. When creating the `match`, serialize the goals and prices into the new properties.\n",
    "    \n",
    "The new statement should look like\n",
    "\n",
    "```C#\n",
    "var match = new Match\n",
    "{\n",
    "    Id = (int)matchElement.Attribute(\"id\")!,\n",
    "    Kickoff = DateTime.Parse((string)matchElement.Element(\"Kickoff\")!),\n",
    "    HomeTeam = (string)matchElement.Element(\"HomeTeam\")!,\n",
    "    AwayTeam = (string)matchElement.Element(\"AwayTeam\")!,\n",
    "    Score = new Score\n",
    "    {\n",
    "        HomeTeamGoals = (int)matchElement.Element(\"Score\")!.Element(\"FullTime\")!.Element(\"Home\")!,\n",
    "        AwayTeamGoals = (int)matchElement.Element(\"Score\")!.Element(\"FullTime\")!.Element(\"Away\")!\n",
    "    },\n",
    "    HalfTimeScore = new Score\n",
    "    {\n",
    "        HomeTeamGoals = (int)matchElement.Element(\"Score\")!.Element(\"HalfTime\")!.Element(\"Home\")!,\n",
    "        AwayTeamGoals = (int)matchElement.Element(\"Score\")!.Element(\"HalfTime\")!.Element(\"Away\")!,\n",
    "    },\n",
    "    Prices = new Prices\n",
    "    {\n",
    "        HomeWin = (decimal)matchElement.Element(\"Prices\")!.Element(\"Home\")!,\n",
    "        Draw = (decimal)matchElement.Element(\"Prices\")!.Element(\"Draw\")!,\n",
    "        AwayWin = (decimal)matchElement.Element(\"Prices\")!.Element(\"Away\")!,\n",
    "    }\n",
    "};\n",
    "```"
   ]
  },
  {
   "cell_type": "markdown",
   "id": "dfc0628b-3e3c-4baf-a87d-1552aaf32bd3",
   "metadata": {},
   "source": [
    "Run and test the application. Review some of the match objects in the JSON to see how the goals and prices are now represented.\n",
    "    \n",
    "The first match should look like\n",
    "\n",
    "```JSON\n",
    "{\n",
    "  \"id\": 0,\n",
    "  \"kickoff\": \"2020-09-12T12:30:00+01:00\",\n",
    "  \"homeTeam\": \"Fulham\",\n",
    "  \"awayTeam\": \"Arsenal\",\n",
    "  \"score\": {\n",
    "    \"homeTeamGoals\": 0,\n",
    "    \"awayTeamGoals\": 3\n",
    "  },\n",
    "  \"halfTimeScore\": {\n",
    "    \"homeTeamGoals\": 0,\n",
    "    \"awayTeamGoals\": 1\n",
    "  },\n",
    "  \"prices\": {\n",
    "    \"homeWin\": 6.16,\n",
    "    \"draw\": 4.51,\n",
    "    \"awayWin\": 1.56\n",
    "  }\n",
    "}\n",
    "```"
   ]
  },
  {
   "cell_type": "markdown",
   "id": "e3c1dfa6-5192-486c-abf9-32e5a8dde13e",
   "metadata": {},
   "source": [
    "Note that it wasn't necessary to touch the JSON serialization code. It was able to reflect on the new definitions and serialize accordingly."
   ]
  },
  {
   "cell_type": "markdown",
   "id": "9362ff7f-7422-44d0-853f-c71a79cda08b",
   "metadata": {},
   "source": [
    "## Congratulations! You have completed the bonus."
   ]
  }
 ],
 "metadata": {
  "kernelspec": {
   "display_name": ".NET (C#)",
   "language": "C#",
   "name": ".net-csharp"
  },
  "language_info": {
   "file_extension": ".cs",
   "mimetype": "text/x-csharp",
   "name": "C#",
   "pygments_lexer": "csharp",
   "version": "9.0"
  }
 },
 "nbformat": 4,
 "nbformat_minor": 5
}

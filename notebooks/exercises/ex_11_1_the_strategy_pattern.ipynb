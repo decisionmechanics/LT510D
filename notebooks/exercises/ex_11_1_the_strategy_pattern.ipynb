{
 "cells": [
  {
   "cell_type": "markdown",
   "id": "99d2cb03-5af4-49bf-b24f-075089d33396",
   "metadata": {
    "tags": []
   },
   "source": [
    "# Hands-On Exercise 11.1: The Strategy Pattern"
   ]
  },
  {
   "cell_type": "markdown",
   "id": "c7cb3203-b4cb-4cf2-96be-66b1038fb4da",
   "metadata": {},
   "source": [
    "## Objective"
   ]
  },
  {
   "cell_type": "markdown",
   "id": "8d15b3a4-cf60-49e0-9331-8a6d6171fe71",
   "metadata": {},
   "source": [
    "In this exercise, you will use the Strategy pattern. The Strategy pattern allows the developer to encapsulate algorithms in an object under a standard interface. Once implemented, it will allow the details of the algorithm to be replaced without change to the objects that use it.\n",
    "\n",
    "This exercise continues using the Blackjack simulation. It includes all changes made in the bonus from the previous exercise. You have been asked to make modifications to code which is not yours---a typical chore for a programmer. The automated unit tests should help you feel comfortable making changes and hence, you should experience what the benefits of TDD feel like.\n",
    "\n",
    "Specifically, the task is to allow multiple different strategies for shuffling a deck of cards. This is to make it more difficult for cheats to synchronize with the random number generation applied to a single shuffle algorithm."
   ]
  },
  {
   "cell_type": "markdown",
   "id": "13dd1968-6bf6-4151-885e-5affa81b8480",
   "metadata": {},
   "source": [
    "#### Run the simulation and examine the existing code in the application."
   ]
  },
  {
   "cell_type": "markdown",
   "id": "548d59d0-2c11-468b-8430-121bff2c4136",
   "metadata": {},
   "source": [
    "Start Visual Studio and open the solution `C:\\Course\\510D\\Exercises\\Ex111\\Blackjack.sln`."
   ]
  },
  {
   "cell_type": "markdown",
   "id": "cbf71361-0163-491a-876e-8f577957e58a",
   "metadata": {},
   "source": [
    "If necessary, select Test Explorer on the left side and then make sure everything is working correctly by running all tests. You should get all green lights."
   ]
  },
  {
   "cell_type": "markdown",
   "id": "63761681-903b-473f-a723-df7560549f32",
   "metadata": {},
   "source": [
    "Run the game and play a few hands just to see how it works.\n",
    "\n",
    "<font color=\"red\">**Don't get sidetracked here. Limit yourself to just a few minutes...dollars...**</font>"
   ]
  },
  {
   "cell_type": "markdown",
   "id": "2fcd79a4-e6e0-4888-a551-991d9460dcfe",
   "metadata": {},
   "source": [
    "Open `CardLib.CardDeck.cs` for editing and move to the `Shuffle()` method. Briefly review what it does.\n",
    "\n",
    "This is a classic \"Simple Knuth Shuffler\" that loops through the deck swapping two cards at a time."
   ]
  },
  {
   "cell_type": "markdown",
   "id": "a29e6110-2f95-4355-9cc1-0fec8b8570cf",
   "metadata": {},
   "source": [
    "Exit the game."
   ]
  },
  {
   "cell_type": "markdown",
   "id": "be77f943-7c55-4412-8753-769cde81b551",
   "metadata": {},
   "source": [
    "#### Implement the Strategy pattern."
   ]
  },
  {
   "cell_type": "markdown",
   "id": "8d94eca9-1c03-449e-bb60-679724b6ac53",
   "metadata": {},
   "source": [
    "In this section, you will implement the Strategy pattern by moving the shuffle algorithm into a separate class. This strategy class will implement an interface so that alternative strategies can be supported later."
   ]
  },
  {
   "cell_type": "markdown",
   "id": "10c018a0-e71a-4394-b67a-76f8e31c13d5",
   "metadata": {},
   "source": [
    "Add a new class to the `CardLib` project by right-clicking the project, selecting **Add | New Item...**, and picking **Class**. Type the name ``KnuthShuffler`."
   ]
  },
  {
   "cell_type": "markdown",
   "id": "4e56f348-85b2-4e39-a03a-e7c759f05e05",
   "metadata": {},
   "source": [
    "Change the class declaration to `public`."
   ]
  },
  {
   "cell_type": "markdown",
   "id": "64178a03-f021-4cd9-9fe7-928c1bae9b1a",
   "metadata": {},
   "source": [
    "Highlight and copy the entire `Shuffle()` method from `CardDeck`. Paste it into the `KnuthShuffler` class."
   ]
  },
  {
   "cell_type": "markdown",
   "id": "4a2d2cd8-f7b6-45ee-97e3-b86cc005a039",
   "metadata": {},
   "source": [
    "Change its return type to `void` and delete the statement `return this;`."
   ]
  },
  {
   "cell_type": "markdown",
   "id": "efb24ceb-b2ef-470c-bd1a-7fcac00a30f1",
   "metadata": {},
   "source": [
    "Modify the method to accept as a parameter a `List<PlayingCard>` called `deck`."
   ]
  },
  {
   "cell_type": "markdown",
   "id": "9f073451-d37f-47ec-af31-290131e7877e",
   "metadata": {},
   "source": [
    "At this point your KnuthShuffler class should look like:\n",
    "\n",
    "```C#\n",
    "namespace CardLib\n",
    "{\n",
    "    public class KnuthShuffler\n",
    "    {\n",
    "        public void Shuffle(List<PlayingCard> deck)\n",
    "        {\n",
    "            for (int i = 0; i < deck.Count; i++)\n",
    "            {\n",
    "                int swapIndex = RandomNumber.Next(0, deck.Count);\n",
    "                PlayingCard temp = deck[swapIndex];\n",
    "                deck[swapIndex] = deck[i];\n",
    "                deck[i] = temp;\n",
    "            }\n",
    "        }\n",
    "    }\n",
    "}\n",
    "```"
   ]
  },
  {
   "cell_type": "markdown",
   "id": "d48025d6-cb79-4e9a-b019-2b839e2e5e32",
   "metadata": {},
   "source": [
    "Run all tests to get green lights."
   ]
  },
  {
   "cell_type": "markdown",
   "id": "e2380cb0-d816-40bb-b26f-af143d5c0356",
   "metadata": {},
   "source": [
    "Single-click the `KnuthShuffler` class name and select **Extract Interface** from the light bulb drop down list on the left side. Name the interface `IShuffler` and make sure the `Shuffle(...)` method is checked. Click **OK**.\n",
    "\n",
    "Note that the interface file has been added to the `CardLib` project and the `KnuthShuffler` specification indicates it implements this interface."
   ]
  },
  {
   "cell_type": "markdown",
   "id": "453d298a-e50f-4538-9a3a-b93db1bf58a7",
   "metadata": {},
   "source": [
    "Return to editing `CardLib.CardDeck` and before the existing `Shuffle()` method, add an overload that accepts an `IShuffler` as a parameter. Call it `shuffler`."
   ]
  },
  {
   "cell_type": "markdown",
   "id": "9d4e93d7-3b4f-4848-8a02-fb5c5c33974b",
   "metadata": {},
   "source": [
    "Within this method call `Shuffler.Shuffle(deck);` and then `return this;`;\n",
    "\n",
    "Your code should look something like:\n",
    "\n",
    "```C#\n",
    "public CardDeck Shuffle(IShuffler shuffler)\n",
    "{\n",
    "    shuffler.Shuffle(deck);     \n",
    "    return this;\n",
    "}\n",
    "```"
   ]
  },
  {
   "cell_type": "markdown",
   "id": "1bd95414-7746-4eb6-9f33-013454e3cc0a",
   "metadata": {},
   "source": [
    "Get a clean compile."
   ]
  },
  {
   "cell_type": "markdown",
   "id": "ecccfd61-88e2-4e6b-a112-dbafdaa6b739",
   "metadata": {},
   "source": [
    "#### Add a test to ensure the KnuthShuffler strategy is working."
   ]
  },
  {
   "cell_type": "markdown",
   "id": "0507acb6-72f7-442c-a33c-a8345e973ba6",
   "metadata": {
    "tags": []
   },
   "source": [
    "Open `BlackjackTests.CardDeckTests.cs` and find the method `ShuffleTest()`."
   ]
  },
  {
   "cell_type": "markdown",
   "id": "76aed8e0-c227-4646-a450-5b16f09dc1a9",
   "metadata": {},
   "source": [
    "Highlight and copy the entirety of this method and paste it back into the `CardDeckTests` class. Change its name to `ShuffleStrategyTest()`."
   ]
  },
  {
   "cell_type": "markdown",
   "id": "bc1ad813-9f9c-470b-a095-658c9ca7243c",
   "metadata": {},
   "source": [
    "Within this test find the line that calls `deck.Shuffle()` and change it to be `deck.Shuffle(new KnuthShuffler());`."
   ]
  },
  {
   "cell_type": "markdown",
   "id": "a0f68cec-8bcd-40ca-bfc6-8b3d66c80fb6",
   "metadata": {},
   "source": [
    "Run all tests and ensure you get green lights that indicate the shuffle strategy is working."
   ]
  },
  {
   "cell_type": "markdown",
   "id": "d374462f-fb84-4463-9381-f36edeb38bb2",
   "metadata": {},
   "source": [
    "#### Add a second shuffler to demonstrate that we can change the strategy as needed."
   ]
  },
  {
   "cell_type": "markdown",
   "id": "b4720629-2357-429d-b3bc-c57ba9482ca2",
   "metadata": {},
   "source": [
    "Open `KnuthShuffler.cs` for editing. Highlight and copy the entirety of the `KnuthShuffler` class. Paste it into the same file, and change its name to `ModifiedKnuthShuffler`."
   ]
  },
  {
   "cell_type": "markdown",
   "id": "bee1dc0c-39ef-4240-80d8-e2717b09a0f4",
   "metadata": {},
   "source": [
    "Change the call to `RandomNumber.Next(0...` to be `RandomNumber.Next(i...`. This is the only difference between the two algorithms."
   ]
  },
  {
   "cell_type": "markdown",
   "id": "4a03d08a-651d-4102-8822-db7e97e5dee5",
   "metadata": {},
   "source": [
    "Get a clean compile."
   ]
  },
  {
   "cell_type": "markdown",
   "id": "6c97cc2b-348d-4b22-b0b1-2505de6fd800",
   "metadata": {},
   "source": [
    "Repeat the process you followed when adding `ShuffleStrategyTest` above, but this time name the method `ModifiedShuffleStrategyTest()` and pass in an instance of the `ModifiedKnuthShuffler` for the call to `Shuffle(...)`."
   ]
  },
  {
   "cell_type": "markdown",
   "id": "34244da7-e276-4e2d-b676-f3ffa856a2d7",
   "metadata": {},
   "source": [
    "Get all green lights to ensure your second shuffle strategy is working.\n",
    "\n",
    "At this point there are now two copies of the Knuth shuffle logic, one in the `KnuthShuffler` class and one still in the `CardDeck` class."
   ]
  },
  {
   "cell_type": "markdown",
   "id": "0f72b9f8-6e79-4e61-8b4d-31cf725dfb25",
   "metadata": {},
   "source": [
    "#### Refactor the `CardDeck` to call the `KnuthShuffler` for its default `Shuffle()` method."
   ]
  },
  {
   "cell_type": "markdown",
   "id": "7ab26387-cf32-4fa6-a995-7d46d4fc8a17",
   "metadata": {},
   "source": [
    "<font color=\"red\">**Do not violate the Open/Close principle while doing this.**</font>"
   ]
  },
  {
   "cell_type": "markdown",
   "id": "c45e64f0-7802-4fea-a539-615ff31cfe86",
   "metadata": {},
   "source": [
    "Open `CardDeck` for editing and add a private field called `currentShuffler`. In its declaration instantiate and assign a `KnuthShuffler` to it.\n",
    "\n",
    "Your field should be something like this (the lines before and after are shown).\n",
    "\n",
    "```C#\n",
    "private List<PlayingCard> deck = new List<PlayingCard>();\n",
    "\n",
    "private IShuffler currentShuffler = new KnuthShuffler();\n",
    "\n",
    "public int Count { \n",
    "    get \n",
    "    { \n",
    "        return deck.Count; \n",
    "    } \n",
    "}\n",
    "```"
   ]
  },
  {
   "cell_type": "markdown",
   "id": "73f3a49a-75d2-4a82-9174-06f81f727749",
   "metadata": {},
   "source": [
    "Move to the default `Shuffle()` method and replace the logic with a call to `currentShuffler.Shuffle(deck)`;\n",
    "\n",
    "Your `Shuffle()` method should now look like...\n",
    "\n",
    "```C#\n",
    "public CardDeck Shuffle()\n",
    "{\n",
    "    currentShuffler.Shuffle(deck); \n",
    "    return this;\n",
    "}\n",
    "```"
   ]
  },
  {
   "cell_type": "markdown",
   "id": "601e8330-71d8-4ef4-8a4c-2c385069eae4",
   "metadata": {},
   "source": [
    "This is a good time to run all tests and be sure you get all green lights."
   ]
  },
  {
   "cell_type": "markdown",
   "id": "76e093df-02ce-4aa8-a41e-872a7d1c022e",
   "metadata": {},
   "source": [
    "## Congratulations! You have implemented the Strategy pattern in this application. Proceed to the Bonus if you have more time."
   ]
  },
  {
   "cell_type": "markdown",
   "id": "80deefc0-17ba-4fcd-bf30-bc59d327f76f",
   "metadata": {
    "tags": []
   },
   "source": [
    "# Bonus (Optional)"
   ]
  },
  {
   "cell_type": "markdown",
   "id": "25576593-da48-4652-bc97-4b6729870f2b",
   "metadata": {},
   "source": [
    "Modify the `CardDeck` class and the user interface to allow the shuffler to be changed while playing the game."
   ]
  },
  {
   "cell_type": "markdown",
   "id": "1e68c4e0-fe64-4df6-b863-57e2566da960",
   "metadata": {},
   "source": [
    "Open `CardDeck` for editing and just before the `Shuffle(...)` methods, add a method called `ChangeShuffler(IShuffler shuffler)`. This method should assign `currentShuffler = shuffler`.\n",
    "\n",
    "Your `ChangeShuffler(...)` method should look something like:\n",
    "\n",
    "```C#\n",
    "currentShuffler = shuffler;\n",
    "```"
   ]
  },
  {
   "cell_type": "markdown",
   "id": "92741955-5f6a-48e3-b417-7b11a385b906",
   "metadata": {},
   "source": [
    "Run all tests to ensure nothing has been broken."
   ]
  },
  {
   "cell_type": "markdown",
   "id": "beaabdb8-9c18-4456-851d-795a3ce45049",
   "metadata": {},
   "source": [
    "In the `Blackjack` project, double-click the `OtherPreferencesDialog` form to open it in the design view."
   ]
  },
  {
   "cell_type": "markdown",
   "id": "f5956044-363f-4a8b-bcad-9d754180d77b",
   "metadata": {},
   "source": [
    "Right-click the form and select **View Code**."
   ]
  },
  {
   "cell_type": "markdown",
   "id": "6c18020b-4f86-4a7f-9736-6ebef375b7a4",
   "metadata": {},
   "source": [
    "In the form load event, initialize the shuffler choices using``ddlSelectItem.Items.Add(\"Knuth Shuffler\");` after the line that checks if the deck is null. Repeat for the Modified Knuth Shuffler.\n",
    "\n",
    "Your method should look like this...\n",
    "\n",
    "```C#\n",
    "private void Form1_Load(object sender, EventArgs e)\n",
    "{\n",
    "   if (deck == null) \n",
    "       return; \n",
    "    \n",
    "   ddlSelectItem.Items.Add(\"Knuth Shuffler\"); \n",
    "   ddlSelectItem.Items.Add(\"Modified Knuth Shuffler\");\n",
    "}\n",
    "```"
   ]
  },
  {
   "cell_type": "markdown",
   "id": "39cfc7e1-469c-431c-960c-1b7ba893e2a0",
   "metadata": {},
   "source": [
    "In the `btnSelect_Click(...)` method, add a switch statement to check the `.SelectedIndex` property to see which shuffler was selected. Make a call to `deck.ChangeShuffler(...)` passing in a new instance of the selected shuffler as appropriate.\n",
    "\n",
    "Your C# code might look like this:\n",
    "  \n",
    "```C#\n",
    "private void btnSelect_Click(object sender, EventArgs e)\n",
    "{\n",
    "    switch (ddlSelectShuffler.SelectedIndex)\n",
    "    {\n",
    "        case 0: \n",
    "            { \n",
    "                deck.ChangeShuffler(new KnuthShuffler()); \n",
    "                break; \n",
    "            }\n",
    "        \n",
    "        case 1: \n",
    "            {\n",
    "                deck.ChangeShuffler(new ModifiedKnuthShuffler()); \n",
    "                break; \n",
    "            }\n",
    "    }\n",
    "    \n",
    "    this.Dispose();\n",
    "}\n",
    "```"
   ]
  },
  {
   "cell_type": "markdown",
   "id": "7a3dbc3d-df7b-42b6-ad5b-945038acfffb",
   "metadata": {},
   "source": [
    "Run all tests, then play the game. Choose each of the different shufflers and play a few hands."
   ]
  },
  {
   "cell_type": "markdown",
   "id": "7bc00805-b73e-4fa9-8c87-c82c01c67db8",
   "metadata": {},
   "source": [
    "#### Do some final refactoring to clean up the text in the `OtherPreferencesDialog` and the menu in the `MainGameTable.cs` form."
   ]
  },
  {
   "cell_type": "markdown",
   "id": "2ba76f3c-4a68-4629-9f87-ba9400c1664e",
   "metadata": {},
   "source": [
    "Do whatever you think is necessary. Keep running all tests and executing the game to ensure the refactoring did not break anything."
   ]
  },
  {
   "cell_type": "markdown",
   "id": "c12e7b4f-1fc6-4a7d-b97a-5248e680edbe",
   "metadata": {},
   "source": [
    "Before finishing:\n",
    "\n",
    "- Run all tests and verify all lights are green\n",
    "- Run the simulation and ensure it is still working (select different shufflers)"
   ]
  },
  {
   "cell_type": "markdown",
   "id": "a3d29dfd-6a61-4118-b936-3656bd5b2169",
   "metadata": {},
   "source": [
    "## Congratulations! You have finished the bonus."
   ]
  }
 ],
 "metadata": {
  "kernelspec": {
   "display_name": ".NET (C#)",
   "language": "C#",
   "name": ".net-csharp"
  },
  "language_info": {
   "file_extension": ".cs",
   "mimetype": "text/x-csharp",
   "name": "C#",
   "pygments_lexer": "csharp",
   "version": "9.0"
  }
 },
 "nbformat": 4,
 "nbformat_minor": 5
}

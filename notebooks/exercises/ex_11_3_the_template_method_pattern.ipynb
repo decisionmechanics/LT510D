{
 "cells": [
  {
   "cell_type": "markdown",
   "id": "463d510e-9f26-4f82-9124-0d9bb9113e45",
   "metadata": {},
   "source": [
    "![BAE logo](images/bae_logo.png)"
   ]
  },
  {
   "cell_type": "markdown",
   "id": "fdd69db5-3eb7-4a41-8520-b51a8ccf7e61",
   "metadata": {
    "tags": []
   },
   "source": [
    "# Hands-On Exercise 11.3: The Template Method Pattern"
   ]
  },
  {
   "cell_type": "markdown",
   "id": "483af1ad-c0c8-405a-8c92-93d66d6aca41",
   "metadata": {},
   "source": [
    "## Objective"
   ]
  },
  {
   "cell_type": "markdown",
   "id": "822c794b-0587-43a4-94ec-d9a351ab467c",
   "metadata": {},
   "source": [
    "In this exercise, you will use the Template Method pattern to reduce code duplication in an algorithm; specifically, the `KnuthShuffler` and the `ModifiedKnuthShuffler` are almost the same."
   ]
  },
  {
   "cell_type": "markdown",
   "id": "593a8aef-1035-4a73-a4f0-e1f574737086",
   "metadata": {
    "tags": []
   },
   "source": [
    "#### Review the two similar shufflers."
   ]
  },
  {
   "cell_type": "markdown",
   "id": "0e994148-786c-4b6d-a1d7-e1b58f362741",
   "metadata": {},
   "source": [
    "Open the solution `C:\\Course\\510D\\Exercises\\Ex113\\Blackjack.sln`.\n",
    "\n",
    "This exercise starts with the completed bonus from the previous exercise."
   ]
  },
  {
   "cell_type": "markdown",
   "id": "f2486189-cb8a-4b30-b84e-d52f37c56d42",
   "metadata": {},
   "source": [
    "Run all tests to ensure everything is working before modifications are made.\n",
    "\n",
    "Since the changes to be made are a refactoring, no new tests will be required."
   ]
  },
  {
   "cell_type": "markdown",
   "id": "d0d61071-cfbb-401f-a5ba-9f359ff0458c",
   "metadata": {},
   "source": [
    "In the `CardLib` project, open `KnuthShuffler.cs` for editing."
   ]
  },
  {
   "cell_type": "markdown",
   "id": "c81ed341-312a-4e60-99c9-2c4abc3d43d4",
   "metadata": {},
   "source": [
    "Insert the layout for a new public abstract class called `KnuthShuffleLogic` that implements the interface `IShuffler`."
   ]
  },
  {
   "cell_type": "markdown",
   "id": "fb3d9537-3509-4ead-8238-6986448f3dc6",
   "metadata": {},
   "source": [
    "Cut the entire `Shuffle(...)` method from `KnuthShuffler` and paste it into `KnuthShuffleLogic`.\n",
    "\n",
    "|<font color=\"red\">**Make sure you cut, not copy the method.**</font>\n",
    "\n",
    "The `Shuffle(...)` method in `KnuthShuffleLogic` will be the base invariant algorithm."
   ]
  },
  {
   "cell_type": "markdown",
   "id": "198aa1b0-37ce-4850-a70f-a23ad9b7b444",
   "metadata": {},
   "source": [
    "Modify the `KnuthShuffler` class to inherit from `KnuthShuffleLogic` rather than implement the interface `IShuffler`."
   ]
  },
  {
   "cell_type": "markdown",
   "id": "456b8e0b-4ee3-4db9-bd7f-ff02f2a4f4d9",
   "metadata": {},
   "source": [
    "You can run all tests for green lights, since at this point the `KnuthShuffleLogic` is the same as it was in the `KnuthShuffler`."
   ]
  },
  {
   "cell_type": "markdown",
   "id": "37ff0a96-4cbd-4f2f-845c-0ba8bb10aa3d",
   "metadata": {},
   "source": [
    "Move to the `ModifiedKnuthShuffler` class and delete the `Shuffle()` method entirely."
   ]
  },
  {
   "cell_type": "markdown",
   "id": "72caa389-8f80-4049-bb2c-91f0f340acd6",
   "metadata": {},
   "source": [
    "Indicate that it inherits `KnuthShuffleLogic` rather than implements `IShuffler`.\n",
    "\n",
    "Your C# code might look something like this:\n",
    "\n",
    "```C#\n",
    "public abstract class KnuthShuffleLogic : IShuffler\n",
    "{\n",
    "    public void Shuffle(List<PlayingCard> deck)\n",
    "    {\n",
    "        for (int i = 0; i < deck.Count; i++)\n",
    "        {\n",
    "            int swapIndex = RandomNumber.Next(0, deck.Count);\n",
    "            PlayingCard temp = deck[swapIndex]; \n",
    "            deck[swapIndex] = deck[i]; \n",
    "            deck[i] = temp;\n",
    "        }\n",
    "    }\n",
    "}\n",
    "\n",
    "public class KnuthShuffler : KnuthShuffleLogic\n",
    "{\n",
    "}\n",
    "\n",
    "public class ModifiedKnuthShuffler : KnuthShuffleLogic\n",
    "{\n",
    "}\n",
    "```"
   ]
  },
  {
   "cell_type": "markdown",
   "id": "f6504d2d-069f-40fe-b8f7-a9ee67383df0",
   "metadata": {},
   "source": [
    "Run all tests. They will give green lights; but that will be misleading since both the `KnuthShuffler` and the `ModifiedKnuthShuffler` are using the same algorithm."
   ]
  },
  {
   "cell_type": "markdown",
   "id": "01c3f8f6-0e0d-4131-9f36-b66116c5ebef",
   "metadata": {},
   "source": [
    "#### Apply the Template Methods pattern to restore different algorithms for the two shufflers."
   ]
  },
  {
   "cell_type": "markdown",
   "id": "a1a8c8a0-9e56-4708-a887-cef640a219c4",
   "metadata": {},
   "source": [
    "Into the `KnuthShufflerLogic` class, add a protected abstract method with the specification `int Swix(int i)`. Swix is short for Swap Index.\n",
    "\n",
    "Your C# code might look something like this:\n",
    "\n",
    "```C#\n",
    "protected abstract int Swix(int i);\n",
    "```"
   ]
  },
  {
   "cell_type": "markdown",
   "id": "e5b86c49-2129-410e-9f70-8b4c1896ea27",
   "metadata": {},
   "source": [
    "Change the statement `RandomNumber.Next(0, deck.Count);` to be `RandomNumber.Next(Swix(i), deck.Count);`.\n",
    "\n",
    "Note this is using the Hollywood principle. \"Don't call us. We'll call you.\"."
   ]
  },
  {
   "cell_type": "markdown",
   "id": "cb878a93-56dd-43ef-bf9d-b76265ba605b",
   "metadata": {},
   "source": [
    "Override `Swix(...)` in the `KnuthShuffler` class to return the fixed value `0`."
   ]
  },
  {
   "cell_type": "markdown",
   "id": "2d3bdba1-15cd-4fab-801d-a7d2ec96557f",
   "metadata": {},
   "source": [
    "Override `Swix(i)` in the `ModifiedKnuthShuffler`, but return `i` not `0`.\n",
    "\n",
    "Your C# code might look something like this:\n",
    "\n",
    "```C#\n",
    "public class KnuthShuffler : KnuthShuffleLogic\n",
    "{\n",
    "    protected override int Swix(int i)\n",
    "    {\n",
    "        return 0;\n",
    "    }\n",
    "}\n",
    "\n",
    "public class ModifiedKnuthShuffler : KnuthShuffleLogic\n",
    "{\n",
    "    protected override int Swix(int i)\n",
    "    {\n",
    "        return i;\n",
    "    }\n",
    "}\n",
    "```"
   ]
  },
  {
   "cell_type": "markdown",
   "id": "cf5c6a33-ab85-4247-a509-a8653000282a",
   "metadata": {},
   "source": [
    "Run all tests to get green lights.\n",
    "\n",
    "Our refactoring has reduced code duplication but did not cause the externally visible result to change."
   ]
  },
  {
   "cell_type": "markdown",
   "id": "6db3f801-f09f-4116-a434-ba58e90cb792",
   "metadata": {},
   "source": [
    "Now would be a good time to run all tests and the application."
   ]
  },
  {
   "cell_type": "markdown",
   "id": "3a3f6abe-56e2-4c49-a29a-2b57ee33e835",
   "metadata": {},
   "source": [
    "## Congratulations! You have used a Template Method to reduce code duplication. Carry on to the bonus if you have more time."
   ]
  },
  {
   "cell_type": "markdown",
   "id": "c6efbcef-7d71-4d5a-9336-89fc6abe2ad5",
   "metadata": {
    "tags": []
   },
   "source": [
    "# Bonus (Optional)"
   ]
  },
  {
   "cell_type": "markdown",
   "id": "7f0c3c54-ac9f-4119-ada9-103755ed185e",
   "metadata": {},
   "source": [
    "Add support for the shuffler strategy to accept a shuffle method delegate in addition to an `IShuffler` object."
   ]
  },
  {
   "cell_type": "markdown",
   "id": "cfd98f43-8b85-4b0b-9db0-90d0586b16e4",
   "metadata": {},
   "source": [
    "By convention, Microsoft allows both an interface and a delegate when it implements a strategy. For example, the `Sort()` method of a list accepts both an `IComparer<T>` and a `Comparer` delegate."
   ]
  },
  {
   "cell_type": "markdown",
   "id": "e198ecb1-ecd9-408e-81f4-56340c251b40",
   "metadata": {},
   "source": [
    "#### Modify the card deck internally to use a delegate."
   ]
  },
  {
   "cell_type": "markdown",
   "id": "1b0b1571-98db-4f75-b27a-8ef4b1ee8a38",
   "metadata": {},
   "source": [
    "Open `CardDeck.cs` for editing and before the class declaration, but inside the namespace, add a public delegate specification called `ShuffleMethod`. It should accept a `List<PlayingCard>` as a parameter and return `void`.\n",
    "    \n",
    "Note we are using a full delegate specification rather than a generic `Func<T,R>`. This is because `Func<T,R>` does not support a return type of `void`.\n",
    "\n",
    "You delegate should look like...\n",
    "\n",
    "```C#\n",
    "public delegate void ShufflerMethod(List<PlayingCard> deck);\n",
    "```"
   ]
  },
  {
   "cell_type": "markdown",
   "id": "b4036db6-cf9f-4c55-898e-55c3b2a409c9",
   "metadata": {},
   "source": [
    "Comment out the line of code that declares the field `currentShuffler`. Replace it with a field called `CurrentShufflerMethod` of type `ShufflerMethod`. Internally, the `CardDeck` class will now use the delegate.\n",
    "\n",
    "Your code should look something like...\n",
    "\n",
    "```C#\n",
    "// private IShuffler currentShuffler = new KnuthShuffler();\n",
    "private ShufflerMethod CurrentShufflerMethod;\n",
    "```"
   ]
  },
  {
   "cell_type": "markdown",
   "id": "ab11b9e8-49e4-4746-ac04-115fb973d16a",
   "metadata": {},
   "source": [
    "Scroll to the default `Shuffle()` method. Fix the error by making a call to `CurrentShufflerMethod(deck);`."
   ]
  },
  {
   "cell_type": "markdown",
   "id": "aaa1d5a8-aba8-459c-bf32-5cae8c2e77c8",
   "metadata": {},
   "source": [
    "Move to the `ChangeShuffler(...)` method and modify it to assign `CurrentShufflerMethod = shuffler.Shuffle;`."
   ]
  },
  {
   "cell_type": "markdown",
   "id": "6a1dd396-4a59-42a6-8044-3c347451b35b",
   "metadata": {},
   "source": [
    "Run all tests.\n",
    "\n",
    "There will be lots of red lights because the CurrentShuffleMethod is not properly initialized."
   ]
  },
  {
   "cell_type": "markdown",
   "id": "e322e063-4a3c-450d-94a1-2ee06bdf63ed",
   "metadata": {},
   "source": [
    "Modify the `CardDeck()` constructor to initialize the `CurrentShufflerMethod` delegate. To do this:\n",
    "\n",
    "- Construct an instance of a `KnuthShuffler`\n",
    "- Assign its `Shuffle` method to the `CurrentShufflerMethod` field\n",
    "\n",
    "Your code should look like...\n",
    "\n",
    "```C#\n",
    "IShuffler shuffler = new KnuthShuffler(); CurrentShufflerMethod = shuffler.Shuffle;\n",
    "```"
   ]
  },
  {
   "cell_type": "markdown",
   "id": "0c483e39-1ae7-4cf5-8c28-10ca3b5587fc",
   "metadata": {},
   "source": [
    "Run all tests. You should get all green lights."
   ]
  },
  {
   "cell_type": "markdown",
   "id": "90c2171f-a47e-459a-8b77-3390bf2ee63a",
   "metadata": {},
   "source": [
    "#### Add support for directly passing in a delegated shuffler method when changing shufflers."
   ]
  },
  {
   "cell_type": "markdown",
   "id": "9ee70632-9121-433f-820d-8c5c735f96da",
   "metadata": {},
   "source": [
    "Find the method `ChangeShufflers(IShuffler shuffler)` just before it adds an overload `ChangeShuffler(ShufflerMethod method)`."
   ]
  },
  {
   "cell_type": "markdown",
   "id": "6762a795-8140-4531-b1fa-7dafdeecf57d",
   "metadata": {},
   "source": [
    "Inside this method assign method to CurrentShufflerMethod\n",
    "\n",
    "Your new method should look like...\n",
    "\n",
    "```C#\n",
    "public void ChangeShuffler(ShufflerMethod method)\n",
    "{\n",
    "    CurrentShufflerMethod = method;\n",
    "}\n",
    "```"
   ]
  },
  {
   "cell_type": "markdown",
   "id": "45c0d264-3748-442c-91a7-6df9ae78ba4a",
   "metadata": {},
   "source": [
    "In a similar fashion, add an overload for `Shuffle(ShufflerMethod method)`. Do not assign the method to the `CurrentShufflerMethod`, rather, just call `method(deck)` to do the shuffling.\n",
    "\n",
    "Your overload should look like...\n",
    "\n",
    "```C#\n",
    "public CardDeck Shuffle(ShufflerMethod method)\n",
    "{\n",
    "    method(deck); \n",
    "    return this;\n",
    "}\n",
    "```"
   ]
  },
  {
   "cell_type": "markdown",
   "id": "1ce28e40-6aab-4774-9858-92a048e12af7",
   "metadata": {},
   "source": [
    "Run all tests and get green lights.\n",
    "\n",
    "Note though there are no tests for changing shufflers by delegate. Add some tests now."
   ]
  },
  {
   "cell_type": "markdown",
   "id": "1060d730-1fe6-490d-88a1-ee412d8475be",
   "metadata": {},
   "source": [
    "Open `CardDeckTests.cs` for editing and find the `ShuffleStrategyTest()`. Highlight and copy this method."
   ]
  },
  {
   "cell_type": "markdown",
   "id": "5312ca8c-36bd-4f87-8817-bb578bae827b",
   "metadata": {},
   "source": [
    "Paste it back into the `CardDeckTests` class and rename it `ShuffleDelegateStrategyTests`."
   ]
  },
  {
   "cell_type": "markdown",
   "id": "648545dc-24bb-476f-b2d8-1e1ed72aa801",
   "metadata": {},
   "source": [
    "Inside this method, create an instance of a `KnuthShuffler` and assign it to an `IShuffler` variable called `shuffler`."
   ]
  },
  {
   "cell_type": "markdown",
   "id": "a3cf6cb6-4d6b-4b89-9df4-dd00e0d90cc2",
   "metadata": {},
   "source": [
    "In the call to `deck.Shuffle(new KnuthShuffler())` replace it with `deck.Shuffle(shuffler.Shuffle)`.\n",
    "\n",
    "Your code should look like...\n",
    "\n",
    "```C#\n",
    "IShuffler shuffler = new KnuthShuffler();\n",
    "deck.Shuffle(shuffler.Shuffle);\n",
    "```"
   ]
  },
  {
   "cell_type": "markdown",
   "id": "490c4ac7-ce9e-4f67-b8a1-01f7e4abf1ef",
   "metadata": {},
   "source": [
    "Run all tests to get green lights."
   ]
  },
  {
   "cell_type": "markdown",
   "id": "7bfa69d3-f4b4-4c7b-bf4a-deebf5566083",
   "metadata": {},
   "source": [
    "Play the game a bit to ensure all appears correct. Try changing shufflers too.\n",
    "\n",
    "Your delegate-based strategy is now working and tested."
   ]
  },
  {
   "cell_type": "markdown",
   "id": "627b94c6-de01-4a25-b921-222d2ac1db2b",
   "metadata": {},
   "source": [
    "## Congratulations! You have completed the bonus."
   ]
  }
 ],
 "metadata": {
  "kernelspec": {
   "display_name": ".NET (C#)",
   "language": "C#",
   "name": ".net-csharp"
  },
  "language_info": {
   "file_extension": ".cs",
   "mimetype": "text/x-csharp",
   "name": "C#",
   "pygments_lexer": "csharp",
   "version": "9.0"
  }
 },
 "nbformat": 4,
 "nbformat_minor": 5
}

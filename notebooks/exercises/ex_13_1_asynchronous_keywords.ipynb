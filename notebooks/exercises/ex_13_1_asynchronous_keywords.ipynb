{
 "cells": [
  {
   "cell_type": "markdown",
   "id": "de1c950f-99ec-4125-a005-ac82ad46b462",
   "metadata": {
    "tags": []
   },
   "source": [
    "# Hands-On Exercise 13.1: Asynchronous Keywords"
   ]
  },
  {
   "cell_type": "markdown",
   "id": "8896b7bc-8a27-4ab9-8856-b2f00fa29cff",
   "metadata": {},
   "source": [
    "## Objective"
   ]
  },
  {
   "cell_type": "markdown",
   "id": "dbee4079-4810-43ad-b175-e3fbdf20296d",
   "metadata": {},
   "source": [
    "The goal of this exercise is to become familiar with using the asynchronous keywords in C# and to fix compute-bound thread that locks and blocks the user interface.\n",
    "\n",
    "This exercise returns to the Blackjack simulation we used earlier in the course. There is a problem. Using Monte Carlo techniques to test certain game features requires many samples for the statistical result to be accurate. This unfortunately causes the user interface to hang."
   ]
  },
  {
   "cell_type": "markdown",
   "id": "cd03227f-d233-42ce-91c8-c3729fc79880",
   "metadata": {},
   "source": [
    "#### Open the starting point for this exercise."
   ]
  },
  {
   "cell_type": "markdown",
   "id": "4f0fa47c-6d8c-4e5c-a84c-a49d498ecf48",
   "metadata": {},
   "source": [
    "Close the previous solution if you have not already done so."
   ]
  },
  {
   "cell_type": "markdown",
   "id": "944a77cf-481b-4f87-a4ef-7c3b448bf0d6",
   "metadata": {},
   "source": [
    "Open the solution Blackjack located in the directory `C:\\Course\\510D\\Exercises\\Ex131` and test the behavior.\n",
    "    \n",
    "A \"deal tester\" is used to check that the card deck shuffling is accurate."
   ]
  },
  {
   "cell_type": "markdown",
   "id": "fc46b2c7-7d1e-4ed7-9bf5-24ec422ed76d",
   "metadata": {},
   "source": [
    "Open `DealTester.cs` (in the `CardLib` project) for editing and review it to see what it does.\n",
    "    \n",
    "If the deck's shuffling method is working correctly and we have enough statistical samples, what average should be returned to prove that it is working correctly?\n",
    "\n",
    "For display to the user, the average will be multiplied by 4 to get an overall percentage of accuracy for all suits."
   ]
  },
  {
   "cell_type": "markdown",
   "id": "2a378c17-cbc1-478a-8235-d42b857c4994",
   "metadata": {},
   "source": [
    "#### Answer..."
   ]
  },
  {
   "cell_type": "markdown",
   "id": "42c95922-1da7-4afd-a496-051625f2bc59",
   "metadata": {
    "jupyter": {
     "source_hidden": true
    },
    "tags": []
   },
   "source": [
    "Hearts should be drawn 25% of the time (so 100% once it's multiplied by 4)."
   ]
  },
  {
   "cell_type": "markdown",
   "id": "45bb6ed2-888d-42b2-99ac-93432327bc2e",
   "metadata": {},
   "source": [
    "Execute the program. Select the **Simulation | Test Card Dealing** menu item.\n",
    "\n",
    "The system will hang waiting for the test to execute—5,000,000 shuffle/ deal loops. It will take about 15 seconds to complete.\n",
    "\n",
    "Eventually an average of 100% should be shown in the status bar at the bottom of the game's display.\n",
    "\n",
    "To get statistical accuracy, many cards must be dealt. However, this compute-bound code has adverse effects on the overall application. It tends to lock it up—it cannot even exit. Fixing this is a job for threading!"
   ]
  },
  {
   "cell_type": "markdown",
   "id": "e6c5fa76-7145-40d4-b7ef-a8633f38f425",
   "metadata": {},
   "source": [
    "#### Change the `dealTestingToolStripMenuItem_click(...)` method to be asynchronous."
   ]
  },
  {
   "cell_type": "markdown",
   "id": "bd60beb4-ab82-4f8e-be9d-18351947b643",
   "metadata": {},
   "source": [
    "Open the file `MainGameTable.cs` for editing and at the top, confirm the statement `using System.Threading;` is there."
   ]
  },
  {
   "cell_type": "markdown",
   "id": "88c16e3c-85af-4643-9267-e31aae9bc5f3",
   "metadata": {},
   "source": [
    "After it add `using.Threading.Tasks`."
   ]
  },
  {
   "cell_type": "markdown",
   "id": "d7a96192-7e68-4417-8cd3-5a24c214827e",
   "metadata": {},
   "source": [
    "Find the method `dealTestingToolStripMenuItem_click(...)` and add the keyword `async` to its declaration.\n",
    "\n",
    "You can use:\n",
    "\n",
    "```C#\n",
    "private async void dealTestingToolStripMenuItem_Click(object sender, EventArgs e)\n",
    "```"
   ]
  },
  {
   "cell_type": "markdown",
   "id": "ceebe68c-19b7-494a-b641-cbb4ebb9ea02",
   "metadata": {},
   "source": [
    "Add a line to report that the test was started. Make this the first line of code in the method.\n",
    "\n",
    "```C#\n",
    "StatusLabel.Text = \"Deal tester started.\";\n",
    "```"
   ]
  },
  {
   "cell_type": "markdown",
   "id": "936e9a60-9e2d-4897-9527-2495734fc9f0",
   "metadata": {},
   "source": [
    "Continue editing within this method. After the line of code that creates the `DealTester` object, create an `Action` called `deal` that takes `tester.Deal` as its delegated method.\n",
    "\n",
    "You can use:\n",
    "\n",
    "```C#\n",
    "Action deal = new Action(tester.Deal);\n",
    "```"
   ]
  },
  {
   "cell_type": "markdown",
   "id": "9535d1a2-c035-4d15-8c58-aa2c9bd129cd",
   "metadata": {},
   "source": [
    "In the next line, start the deal testing by calling `Task.Run(deal)`. Add the keyword to make this asynchronous.\n",
    "\n",
    "You can use:\n",
    "\n",
    "```C#\n",
    "await Task.Run(deal);\n",
    "```"
   ]
  },
  {
   "cell_type": "markdown",
   "id": "c7db528e-8695-48d0-a829-0cfb237c987b",
   "metadata": {},
   "source": [
    "Comment out the line of code that contains `tester.Deal();` since this has been replaced with the asynchronous call."
   ]
  },
  {
   "cell_type": "markdown",
   "id": "394173d9-fd3a-4161-b14a-d8f80643de5c",
   "metadata": {},
   "source": [
    "Run the program.\n",
    "    \n",
    "Confirm that you can deal cards while the deal tester is running 5 million times. Also check that the tester reports 100% after about 15 seconds or so.\n",
    "\n",
    "Whenever asynchronous operations are done, it is important to prevent race conditions. The user can start multiple deal testers at the same time. This should be prevented."
   ]
  },
  {
   "cell_type": "markdown",
   "id": "ea91a4bd-b733-4f8a-9361-ad4b487c1488",
   "metadata": {},
   "source": [
    "#### Prevent multiple invocations of deal tester."
   ]
  },
  {
   "cell_type": "markdown",
   "id": "9c7b0056-9bc9-4808-804e-3889dddbdcf9",
   "metadata": {},
   "source": [
    "Set the deal tester menu item to disabled before the asynchronous operation and re-enable it after the asynchronous operation has finished."
   ]
  },
  {
   "cell_type": "markdown",
   "id": "b7c236b5-0bbf-43e7-9f02-76d7307696b1",
   "metadata": {},
   "source": [
    "Disable the deal tester menu adding `dealTestingToolStripMenuItem.Enabled = false;` and insert it to be the first line of code in the method."
   ]
  },
  {
   "cell_type": "markdown",
   "id": "7711ed3d-467d-47ae-859d-a32411771ec0",
   "metadata": {},
   "source": [
    "Set the menu back to enabled once the deal testing is finished. Make it the last line of code in the method.\n",
    "\n",
    "You can use:\n",
    "\n",
    "```C#\n",
    "dealTestingToolStripMenuItem.Enabled = true;\n",
    "```"
   ]
  },
  {
   "cell_type": "markdown",
   "id": "06743208-fdcb-42c4-a4a0-2f26912cd458",
   "metadata": {},
   "source": [
    "Compile and test. Ensure that the Test Card Dealing menu item is disabled while the test is running. Test multiple threads at once by:\n",
    "\n",
    "- Start the deal tester\n",
    "- Change the color of the screen\n",
    "- Play the game\n",
    "\n",
    "The game should no longer hang when deal testing is being done."
   ]
  },
  {
   "cell_type": "markdown",
   "id": "ce802c1d-e634-48b1-9745-07525a9210fa",
   "metadata": {},
   "source": [
    "Run all tests to ensure we have not broken anything."
   ]
  },
  {
   "cell_type": "markdown",
   "id": "445eedcf-0558-48be-8e2f-282611955b91",
   "metadata": {},
   "source": [
    "## Congratulations! You have successfully completed the exercise. User interface responsiveness has been improved. Continue to the bonus, if you have more time."
   ]
  },
  {
   "cell_type": "markdown",
   "id": "856362ca-9820-4f57-bfea-b3cd59bebb58",
   "metadata": {
    "tags": []
   },
   "source": [
    "# Bonus (Optional)"
   ]
  },
  {
   "cell_type": "markdown",
   "id": "1080b81f-0bd8-4410-9b07-3db4ee063500",
   "metadata": {},
   "source": [
    "Add a timer to monitor and report on the status of the dealing test thread.\n",
    "\n",
    "In the application as currently written, the user cannot tell if the dealing test has failed or is just taking a long time to finish. Let's add a timer to monitor the dealing test thread and output a \"thermometer\" while it is running!"
   ]
  },
  {
   "cell_type": "markdown",
   "id": "cba49a68-2306-4dee-963a-53d252d7e5e4",
   "metadata": {},
   "source": [
    "#### Add a timer to the form."
   ]
  },
  {
   "cell_type": "markdown",
   "id": "062d1e11-1156-405c-b2cc-056e208972dd",
   "metadata": {},
   "source": [
    "Open `MainGameTable.cs` in designer mode. Drag and drop a timer control to the form. It should appear at the bottom of the designer window as `timer1`` In the timer's property sheet, set its interval to be 500 milliseconds."
   ]
  },
  {
   "cell_type": "markdown",
   "id": "2d7b1c16-3551-4cfb-9dc0-622ec1d668dc",
   "metadata": {},
   "source": [
    "Get a clean compile."
   ]
  },
  {
   "cell_type": "markdown",
   "id": "f797dbdd-c2bb-4907-8537-f36b966137df",
   "metadata": {},
   "source": [
    "#### Start and stop the progress timer (timer1), and set the progress bar to be visible as appropriate when the dealing test starts and stops."
   ]
  },
  {
   "cell_type": "markdown",
   "id": "d4c39f6a-e73c-40e1-9eaf-61afe06849b3",
   "metadata": {},
   "source": [
    "Return to editing `MainGameTable.cs` and, in the `dealTestingToolStripMenuItem_Click` method after the line of code that reports the deal tester started, add logic to:\n",
    "\n",
    "- Set `ProgressBar` to visible\n",
    "- Set the progress bar's maximum to be the number of loops that the test will run (`5000000`)\n",
    "- Set the progress bar's minimum to `0`\n",
    "- Set the progress bar's value to be `0`\n",
    "- Start the timer (`timer1`)"
   ]
  },
  {
   "cell_type": "markdown",
   "id": "57eb8edc-72b3-4a32-8163-03d4effa7e11",
   "metadata": {},
   "source": [
    "Move to before the line of code that reports the average and add the logic to stop the timer (`timer1`) and set the progress bar to not visible."
   ]
  },
  {
   "cell_type": "markdown",
   "id": "a865d700-274d-4ed2-b018-33662f254fb2",
   "metadata": {},
   "source": [
    "Compile and test. The progress bar should appear when the deal testing is started and disappear when finished. It will not yet show the progress changing."
   ]
  },
  {
   "cell_type": "markdown",
   "id": "f0056946-1dbe-43e6-91c6-5960a6cc7b53",
   "metadata": {},
   "source": [
    "#### Implement the timer's event method."
   ]
  },
  {
   "cell_type": "markdown",
   "id": "a0e490b7-d19d-4ccf-95c8-d1d97eef189d",
   "metadata": {},
   "source": [
    "View `MainGameTable` in designer mode and double-click `timer1` to create its event method."
   ]
  },
  {
   "cell_type": "markdown",
   "id": "a6defab1-4fdb-4570-a3bc-53cd1a4ec8cc",
   "metadata": {},
   "source": [
    "In the body of `timer1_Tick`, set the value of the progress bar to the number of loops executed. The code should look something like:\n",
    "\n",
    "```C#\n",
    "ProgressBar.Value = tester.LoopsCompleted;\n",
    "```"
   ]
  },
  {
   "cell_type": "markdown",
   "id": "19f9be93-45cd-4997-85e1-84e5a3732d50",
   "metadata": {},
   "source": [
    "Compile and test. The \"thermometer\" should now show the status of the dealing test. Note that you can continue to play the game. Try fading (changing) the background color preferences at the same time—two timers at once."
   ]
  },
  {
   "cell_type": "markdown",
   "id": "c26caa48-db4d-44ff-94a7-0b39897d21c5",
   "metadata": {},
   "source": [
    "Run all tests to ensure you still have green lights."
   ]
  },
  {
   "cell_type": "markdown",
   "id": "7abaf949-b214-435c-af5c-64049a1ad13f",
   "metadata": {},
   "source": [
    "## Congratulations! You have completed the bonus."
   ]
  }
 ],
 "metadata": {
  "kernelspec": {
   "display_name": ".NET (C#)",
   "language": "C#",
   "name": ".net-csharp"
  },
  "language_info": {
   "file_extension": ".cs",
   "mimetype": "text/x-csharp",
   "name": "C#",
   "pygments_lexer": "csharp",
   "version": "9.0"
  }
 },
 "nbformat": 4,
 "nbformat_minor": 5
}

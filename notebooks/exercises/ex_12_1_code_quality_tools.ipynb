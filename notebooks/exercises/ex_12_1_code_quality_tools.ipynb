{
 "cells": [
  {
   "cell_type": "markdown",
   "id": "0cdfdacc-cb73-436a-9fe5-7a5d2571fdab",
   "metadata": {
    "tags": []
   },
   "source": [
    "# Hands-On Exercise 12.1: Code Quality Tools"
   ]
  },
  {
   "cell_type": "markdown",
   "id": "6a8b3572-2143-4649-8a83-65a68a7d37d8",
   "metadata": {},
   "source": [
    "## Objective"
   ]
  },
  {
   "cell_type": "markdown",
   "id": "a805c4b5-f386-41e6-98c8-ddfffd26dd89",
   "metadata": {},
   "source": [
    "In this exercise, you will use some code quality tools to examine an existing application.\n",
    "\n",
    "Specifically, you will be working on a supermarket \"Shop and Go\" program to find out if there are improvements that can or should be made. It was written with TDD and attempts to demonstrate good practices throughout. Before doing any more work going forward, it is a good idea to profile it and gain some insights to the existing code quality. If necessary, do some refactoring to clean it up.\n",
    "\n",
    "The Shop and Go system is designed for supermarkets. Shoppers will no longer need to go to the register to pay for their goods. Instead they:\n",
    "\n",
    "- Tap a Shop and Go store issued smart card on the scanner\n",
    "- Drop items into the cart/bag\n",
    "- Leave the store\n",
    "\n",
    "The system ties into the store's existing legacy stock control system---a Microsoft SQL Server file database, accessed using Entity Framework."
   ]
  },
  {
   "cell_type": "markdown",
   "id": "dcacc5b9-ddcb-4c6e-aca7-d75cf69f9292",
   "metadata": {},
   "source": [
    "#### Open the starting point for this exercise and obtain the code metrics for this application."
   ]
  },
  {
   "cell_type": "markdown",
   "id": "f790ed99-85d4-4b71-8855-f4a7a54f4e66",
   "metadata": {},
   "source": [
    "Open the solution file, `C:\\Course\\510D\\Exercises\\Ex121\\StockConntrol\\StockControl.sln`."
   ]
  },
  {
   "cell_type": "markdown",
   "id": "00f30e11-7442-4e08-8c95-d9024795e5b8",
   "metadata": {},
   "source": [
    "Run all tests to confirm you have green lights."
   ]
  },
  {
   "cell_type": "markdown",
   "id": "1a343406-5f89-4d6c-a9c1-5ad6a1ad0160",
   "metadata": {},
   "source": [
    "From the Visual Studio menu bar, select **Analyze | Calculate Code Metrics | For Solution**."
   ]
  },
  {
   "cell_type": "markdown",
   "id": "94081203-523a-46c2-baa3-d3b0e2ace43f",
   "metadata": {},
   "source": [
    "Drill down and look at the metrics for some of the subcomponents.\n",
    "\n",
    "The maintainability shows green lights for all modules---that is a good sign!"
   ]
  },
  {
   "cell_type": "markdown",
   "id": "190905dc-f5f1-4642-ae9d-7338ec62816f",
   "metadata": {},
   "source": [
    "#### Perform code analysis on the full solution."
   ]
  },
  {
   "cell_type": "markdown",
   "id": "e7f11198-6133-4a68-8640-5131b884db0b",
   "metadata": {},
   "source": [
    "In Visual Studio's Solution Explorer, right-click the `StockControl.Data` project and select **Properties**. On the left-hand side, click the **Code Analysis | .NET analyzers** tab. You can configure the analysis to your requirements. Leave the defaults for now."
   ]
  },
  {
   "cell_type": "markdown",
   "id": "c72766a9-32f6-4d3d-83ba-f44fb0765d16",
   "metadata": {},
   "source": [
    "From the Visual Studio menu bar, select **Analyze | Run Code Analysis | On Solution**. If the analysis report is not showing after it finishes, select from the Visual Studio menu bar **View | Error List** and then in it, click the info tab.\n",
    "\n",
    "There should be three information messages which might help us improve our code."
   ]
  },
  {
   "cell_type": "markdown",
   "id": "3087e2ec-f6cb-49eb-a014-63e3c45e1283",
   "metadata": {},
   "source": [
    "#### Refactor."
   ]
  },
  {
   "cell_type": "markdown",
   "id": "698c6345-9ec8-43b5-912e-d1ad06fe81c8",
   "metadata": {},
   "source": [
    "Double-click the IDE0044 message and fix the code by adding `readonly`.\n",
    "\n",
    "The IDE0044 message should have disappeared."
   ]
  },
  {
   "cell_type": "markdown",
   "id": "6f5ea619-c558-4bf4-8b59-9e223b76a26f",
   "metadata": {},
   "source": [
    "Run all tests to insure we still have green lights."
   ]
  },
  {
   "cell_type": "markdown",
   "id": "eea39f47-c5d7-4100-8eb5-5d6004e99159",
   "metadata": {},
   "source": [
    "Double-click the IDE1005 message.\n",
    "\n",
    "What has caused this message?"
   ]
  },
  {
   "cell_type": "markdown",
   "id": "279567a5-ff22-4c35-8e21-f0c3b87557b4",
   "metadata": {},
   "source": [
    "#### Answer..."
   ]
  },
  {
   "cell_type": "markdown",
   "id": "9942a7c1-687d-4c2b-b676-b77480afb0ee",
   "metadata": {
    "jupyter": {
     "source_hidden": true
    },
    "tags": []
   },
   "source": [
    "The logic we are using can be simplified."
   ]
  },
  {
   "cell_type": "markdown",
   "id": "de247d7b-4b61-4793-81df-570e0796907a",
   "metadata": {},
   "source": [
    "Change the Publisher class to use the recommended pattern. Replace the statement to dispatch the delegate with `StateChanged?.Invoke(this, EventArgs.Empty);`.\n",
    "\n",
    "The message should have gone away."
   ]
  },
  {
   "cell_type": "markdown",
   "id": "a7be707d-41c6-4d42-8268-fc1575c51678",
   "metadata": {},
   "source": [
    "Run all tests to confirm green lights."
   ]
  },
  {
   "cell_type": "markdown",
   "id": "88af098b-0fac-4bef-8486-11d4fe776974",
   "metadata": {},
   "source": [
    "There's one message remaining. Double-click the CA1822 message."
   ]
  },
  {
   "cell_type": "markdown",
   "id": "eff4e6fb-f554-4bab-8190-d7e987c3fcb8",
   "metadata": {},
   "source": [
    "The ``Invalid()`` method doesn't access any instance data, so can be static. Change its declaration to the following:\n",
    "\n",
    "```C#\n",
    "protected void Invalid() { \n",
    "    throw new InvalidOperationException(); \n",
    "}\n",
    "```\n",
    "\n",
    "_All_ the messages should now have disappeared."
   ]
  },
  {
   "cell_type": "markdown",
   "id": "ac3b2502-c3dc-4aa1-b9d9-c176b22d3abc",
   "metadata": {},
   "source": [
    "Run all tests to confirm green lights."
   ]
  },
  {
   "cell_type": "markdown",
   "id": "d8a8df57-cc26-4d82-baaf-8ff02e42048b",
   "metadata": {},
   "source": [
    "## Congratulations! You have completed the exercise."
   ]
  },
  {
   "cell_type": "markdown",
   "id": "a7d91a85-bfe8-44a7-ab77-c5502e85fb80",
   "metadata": {
    "tags": []
   },
   "source": [
    "# Bonus (Optional)"
   ]
  },
  {
   "cell_type": "markdown",
   "id": "04aeee8c-9235-4304-92c9-216aea1945b6",
   "metadata": {},
   "source": [
    "If you still have more time, try running the analysis on `C:\\Course\\510D\\Samples\\Blackjack\\Blackjack.sln`.\n",
    "\n",
    "Refactor any issues are follows:\n",
    "\n",
    "- Run analysis\n",
    "- Fix issue\n",
    "- Run tests\n",
    "- Rinse and repeat"
   ]
  },
  {
   "cell_type": "markdown",
   "id": "0a0abdaa-dbbd-4ab4-ad07-d9f2f8053984",
   "metadata": {},
   "source": [
    "## Congratulations! You have completed the bonus."
   ]
  }
 ],
 "metadata": {
  "kernelspec": {
   "display_name": ".NET (C#)",
   "language": "C#",
   "name": ".net-csharp"
  },
  "language_info": {
   "file_extension": ".cs",
   "mimetype": "text/x-csharp",
   "name": "C#",
   "pygments_lexer": "csharp",
   "version": "9.0"
  }
 },
 "nbformat": 4,
 "nbformat_minor": 5
}

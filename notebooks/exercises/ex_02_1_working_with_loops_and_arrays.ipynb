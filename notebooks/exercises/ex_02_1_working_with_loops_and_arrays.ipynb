{
 "cells": [
  {
   "cell_type": "markdown",
   "id": "fc1aba29-9175-4e63-9dcf-d5b4636484bf",
   "metadata": {
    "tags": []
   },
   "source": [
    "# Hands-On Exercise 2.1: Working With Loops and Arrays"
   ]
  },
  {
   "cell_type": "markdown",
   "id": "6f2d6afe-536a-4b66-91e8-e12372c7af4d",
   "metadata": {},
   "source": [
    "## Objective"
   ]
  },
  {
   "cell_type": "markdown",
   "id": "b0d22935-9648-42da-a9f5-b0eac7ecb6be",
   "metadata": {},
   "source": [
    "Become familiar with using namespace directives, methods, and overloading."
   ]
  },
  {
   "cell_type": "markdown",
   "id": "92b0bace-7871-4e44-94e0-c55d94bc4b5f",
   "metadata": {},
   "source": [
    "## Modifying the application"
   ]
  },
  {
   "cell_type": "markdown",
   "id": "fe9edeb4-59b4-457d-aff3-b38b6c3f3142",
   "metadata": {},
   "source": [
    "#### Return to Visual Studio and close any open project solutions."
   ]
  },
  {
   "cell_type": "markdown",
   "id": "a700a51b-f616-4735-a98d-3239e09a7dd6",
   "metadata": {},
   "source": [
    "From the Visual Studio menu bar, select **File | Close Solution**."
   ]
  },
  {
   "cell_type": "markdown",
   "id": "76e7a3e0-a4e7-4397-8c05-5a137f5638f7",
   "metadata": {},
   "source": [
    "#### Open the existing solution: `C:\\Course\\419\\Exercises\\Ex021\\CurrencyConverter.sln`."
   ]
  },
  {
   "cell_type": "markdown",
   "id": "d92ee723-7513-4934-99e9-ddfe8ab2a8a7",
   "metadata": {},
   "source": [
    "From the Visual Studio menu bar, select **File | Open Project/Solution...** and, when the File dialog appears, go to `C:\\Course\\510D\\Exercises\\Ex021` and double-click the solution file `CurrencyConverter.sln`."
   ]
  },
  {
   "cell_type": "markdown",
   "id": "486a73b1-c7a3-4b79-b6b8-35bdd009eacb",
   "metadata": {},
   "source": [
    "If the Solution Explorer window is not visible, select **View | Solution Explorer** from the menu bar."
   ]
  },
  {
   "cell_type": "markdown",
   "id": "a126ccb8-9ec9-4a9b-a37f-f62361ce947e",
   "metadata": {},
   "source": [
    "Open `Program.cs` in the edit area by double-clicking its icon in the Solution Explorer."
   ]
  },
  {
   "cell_type": "markdown",
   "id": "1cbb4ec2-4918-4021-b1a9-6274a8064a42",
   "metadata": {},
   "source": [
    "Compile and test to ensure that everything is working. Select from the menu bar **Debug | Start Without Debugging**, or just press `<Ctrl><F5>`."
   ]
  },
  {
   "cell_type": "markdown",
   "id": "44bc9744-396a-4b06-aa9b-fcb52117bfd8",
   "metadata": {},
   "source": [
    "Edit the `Main` program to use different input and output currencies.\n",
    "\n",
    "You should have to change only one line of code to achieve this for each currency...\n",
    "\n",
    "Try modifying the declaration of `inCur` to be something like `string inCur = \"JPY\";` and/or the declaration of `outCur` to be something like `string outCur = \"CAD\";`."
   ]
  },
  {
   "cell_type": "markdown",
   "id": "68954991-75cf-481b-963e-dd4d89bc2de9",
   "metadata": {},
   "source": [
    "Compile and test a few times, trying different currency codes like:\n",
    "\n",
    "- SEK for Swedish kronen\n",
    "- GBP for Great Britain pounds\n",
    "- CAD for Canadian dollars\n",
    "- JPY for Japanese yen"
   ]
  },
  {
   "cell_type": "markdown",
   "id": "247001c9-484e-4b5b-aecc-fd442ded169c",
   "metadata": {},
   "source": [
    "#### Modify the program to loop through a number of different conversion amounts."
   ]
  },
  {
   "cell_type": "markdown",
   "id": "197b7f9f-2b1a-4339-be3e-285f54b7758a",
   "metadata": {},
   "source": [
    "Comment out the line of code that begins with `inAmt = GetAmount( ... );`."
   ]
  },
  {
   "cell_type": "markdown",
   "id": "b33fc0cc-182e-49f4-8cb2-778e22683c00",
   "metadata": {},
   "source": [
    "Create an array of integers called nums initialized with 3 or 4 values in it. Place it after the line of code you just commented out.\n",
    "\n",
    "You can use this syntax...\n",
    "\n",
    "```C#\n",
    "int [] nums = { ... put values here separated by a comma ...};\n",
    "```\n",
    "\n",
    "The complete statement is...\n",
    "\n",
    "```C#\n",
    "int [] nums = { 100, 256, 500, 1281};\n",
    "```"
   ]
  },
  {
   "cell_type": "markdown",
   "id": "730d66d3-44d5-40f7-b374-ca1f7c44d32e",
   "metadata": {},
   "source": [
    "After this enter the logic to use a `foreach` to loop through every integer `n` in `nums`."
   ]
  },
  {
   "cell_type": "markdown",
   "id": "c9eebf51-20f3-49db-9755-44182706c132",
   "metadata": {},
   "source": [
    "Scope the `foreach` loop so that the three remaining statements are in its body; i.e., put the `}` after the last statement in the `Main( ... )` method."
   ]
  },
  {
   "cell_type": "markdown",
   "id": "a4060786-9dfb-46f6-97a1-bcf18c9d8ade",
   "metadata": {},
   "source": [
    "Inside the loop assign `n` to `inAmt`.\n",
    "\n",
    "The completed logic should look like:\n",
    "\n",
    "```C#\n",
    "int[] nums = { 100, 256, 500, 1281 };\n",
    "\n",
    "foreach (int n in nums)\n",
    "{\n",
    "    inAmt = n;\n",
    "    outAmt = Convert(inCur, outCur, inAmt); Console.Write(\"{0}{1:N2} {2} is \",\n",
    "    EuroTable.SymbolFor(inCur), inAmt, inCur); Console.WriteLine(\"{0}{1:N2} {2} \",\n",
    "    EuroTable.SymbolFor(outCur), outAmt, outCur);\n",
    "}\n",
    "```"
   ]
  },
  {
   "cell_type": "markdown",
   "id": "43e327ac-c75b-4b3e-ae75-cd1dbf502414",
   "metadata": {
    "tags": []
   },
   "source": [
    "Compile and test. Use **Debug | Start without debugging** or `<Ctrl><F5>`."
   ]
  },
  {
   "cell_type": "markdown",
   "id": "e93991e5-b205-4659-b96e-14491bbf3885",
   "metadata": {},
   "source": [
    "#### Close the solution"
   ]
  },
  {
   "cell_type": "markdown",
   "id": "a2665280-0c8b-463f-af7d-f3e59955252d",
   "metadata": {},
   "source": [
    "From the Visual Studio menu bar, select **File | Close Solution**."
   ]
  },
  {
   "cell_type": "markdown",
   "id": "ed8690f7-7ab5-4857-adab-229fd7404cb1",
   "metadata": {
    "tags": []
   },
   "source": [
    "## Congratulations! You have completed the exercise. If you have more time, please continue to the bonus."
   ]
  },
  {
   "cell_type": "markdown",
   "id": "900d046c-2d13-4c7b-bca2-13e728cb95cf",
   "metadata": {},
   "source": [
    "# Bonus (Optional)"
   ]
  },
  {
   "cell_type": "markdown",
   "id": "019dbdcd-b93f-420f-a512-8f82100c5297",
   "metadata": {
    "tags": []
   },
   "source": [
    "If you have _more time_, try the following bonus exercises."
   ]
  },
  {
   "cell_type": "markdown",
   "id": "19bb32a0-4eac-471c-8e45-2cf1e53cf866",
   "metadata": {
    "jp-MarkdownHeadingCollapsed": true,
    "tags": []
   },
   "source": [
    "Open the existing solution: `C:\\Course\\419\\Exercises\\Ex021\\CurrencyConverter.sln`."
   ]
  },
  {
   "cell_type": "markdown",
   "id": "ba56325f-0e16-4230-bae1-12e1e0ddf3f3",
   "metadata": {},
   "source": [
    "#### Store a number of different input currencies in an array of strings. Then, use a nested loop to do the conversion for all of the different numbers and the different input currencies."
   ]
  },
  {
   "cell_type": "markdown",
   "id": "199261db-dd15-4020-8174-70726bfb31dc",
   "metadata": {},
   "source": [
    "Modify the output currency statement to be `string outCur = \"EUR\";`."
   ]
  },
  {
   "cell_type": "markdown",
   "id": "182e3482-723d-4116-935d-afbb79a324ac",
   "metadata": {},
   "source": [
    "After the line of code that creates the array of integers, create an array of strings called `inCurs` (plural) with the currencies\n",
    "`{ \"JPY\" , \"CAD\" , \"USD\" , \" SEK\" , \"GBP \" }`."
   ]
  },
  {
   "cell_type": "markdown",
   "id": "00d8cc66-7e2b-4bb7-9e47-945d09499f88",
   "metadata": {},
   "source": [
    "Nest the existing  `foreach` within a new  `foreach` that loops through all the input currencies. Call the loop variable `s`."
   ]
  },
  {
   "cell_type": "markdown",
   "id": "442d0c24-23b2-442f-9e69-272d93bfd2da",
   "metadata": {},
   "source": [
    "As the first line of code within the new `foreach`  loop, add `inCur = s`."
   ]
  },
  {
   "cell_type": "markdown",
   "id": "c402e227-f0a0-4610-bcd7-7a9acbf1fb93",
   "metadata": {},
   "source": [
    "Try to do the specific code yourself, but if you get stuck..."
   ]
  },
  {
   "cell_type": "markdown",
   "id": "e54d8e1a-fbe5-406e-88cd-99c8d2bdf320",
   "metadata": {},
   "source": [
    "#### Answer..."
   ]
  },
  {
   "cell_type": "code",
   "execution_count": null,
   "id": "50cdb324-34fe-4ecc-84fb-353f4a32d253",
   "metadata": {
    "jupyter": {
     "source_hidden": true
    },
    "tags": []
   },
   "outputs": [],
   "source": [
    "int[] nums = { 100, 256, 500, 1281 };\n",
    "string[] inCurs = { \"JPY\", \"CAD\", \"USD\", \"SEK\", \"GBP\" };\n",
    "\n",
    "foreach (string s in inCurs)\n",
    "{\n",
    "    inCur = s;\n",
    "    \n",
    "    foreach (int n in nums)\n",
    "    {\n",
    "        inAmt = n;\n",
    "        outAmt = Convert(inCur, outCur, inAmt); Console.Write(\"{0}{1:N2} {2} is \",\n",
    "        EuroTable.SymbolFor(inCur), inAmt, inCur); Console.WriteLine(\"{0}{1:N2} {2} \",\n",
    "        EuroTable.SymbolFor(outCur), outAmt, outCur);\n",
    "    }\n",
    "}"
   ]
  },
  {
   "cell_type": "markdown",
   "id": "4018e790-779a-4bff-b429-2444b72ed115",
   "metadata": {},
   "source": [
    "Compile and test. Use **Debug | Start without debugging** or `<Ctrl><F5>`."
   ]
  },
  {
   "cell_type": "markdown",
   "id": "7b2ea216-2c57-41b9-a877-458d614e323b",
   "metadata": {},
   "source": [
    "Close the solution"
   ]
  },
  {
   "cell_type": "markdown",
   "id": "c464ff30-916e-444d-9023-98ddd3a289a2",
   "metadata": {},
   "source": [
    "## Congratulations! You have completed the bonus."
   ]
  }
 ],
 "metadata": {
  "kernelspec": {
   "display_name": ".NET (C#)",
   "language": "C#",
   "name": ".net-csharp"
  },
  "language_info": {
   "file_extension": ".cs",
   "mimetype": "text/x-csharp",
   "name": "C#",
   "pygments_lexer": "csharp",
   "version": "9.0"
  }
 },
 "nbformat": 4,
 "nbformat_minor": 5
}

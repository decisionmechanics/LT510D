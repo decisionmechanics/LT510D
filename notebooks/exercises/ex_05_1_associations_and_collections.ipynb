{
 "cells": [
  {
   "cell_type": "markdown",
   "id": "e345f7fc-9932-4b44-88ef-1f4cc9b22f3a",
   "metadata": {
    "tags": []
   },
   "source": [
    "# Hands-On Exercise 5.1: Assocations and Collections"
   ]
  },
  {
   "cell_type": "markdown",
   "id": "dbe2175b-d79e-4e13-a911-df0255e7dffc",
   "metadata": {},
   "source": [
    "## Objective"
   ]
  },
  {
   "cell_type": "markdown",
   "id": "01cdaebc-1f4b-4cee-b316-681876173b8c",
   "metadata": {
    "tags": []
   },
   "source": [
    "Become familiar with using collection classes from the .NET library specifically to produce a deck of playing cards. A stack collection will most closely match the behavior of a card deck.\n",
    "\n",
    "At the end of the exercise, the `CardDeck` class will match this UML model:\n",
    "\n",
    "![UML diagram](images/ex051_objective.png)"
   ]
  },
  {
   "cell_type": "markdown",
   "id": "db0f2efc-1d43-4fc3-bba9-edaf30f81828",
   "metadata": {},
   "source": [
    "## Creating the Card Deck"
   ]
  },
  {
   "cell_type": "markdown",
   "id": "25e41695-32fe-4048-b575-cb04653bafb8",
   "metadata": {},
   "source": [
    "Close the previous solution if you have not already done so."
   ]
  },
  {
   "cell_type": "markdown",
   "id": "ded20a57-f1f9-40e4-a9c4-ab5c38129709",
   "metadata": {},
   "source": [
    "Open the solution `Tehi.sln` located in the directory `C:\\Course\\510D\\Exercises\\Ex051\\`.\n",
    "\n",
    "This exercise continues from the bonus of the previous exercise."
   ]
  },
  {
   "cell_type": "markdown",
   "id": "3c786764-ec98-4b52-a8cf-75dd5c831d62",
   "metadata": {},
   "source": [
    "#### In Solution Explorer, add a new class to `CardLib` called `CardDeck.cs`. Make its declaration `public`."
   ]
  },
  {
   "cell_type": "markdown",
   "id": "512d8be1-e9f8-47f6-859f-eeddfa53fe71",
   "metadata": {},
   "source": [
    "<font color=\"red\">**Make sure you add `CardDeck.cs` to the `CardLib` project, not the\n",
    "`Tehi` project. If you've forgotten how to add a class to a project, refer back to Hands-On Exercise 4.2.**</font>"
   ]
  },
  {
   "cell_type": "markdown",
   "id": "b48820ac-e58c-4a98-af94-096fb98ba52b",
   "metadata": {},
   "source": [
    "#### Add a field of type `Stack<PlayingCard>` to hold the cards."
   ]
  },
  {
   "cell_type": "markdown",
   "id": "e4262e0e-7cee-4622-a24d-9c19124e3ae4",
   "metadata": {},
   "source": [
    "Define a _private_ field called `cardStack` within the `CardDeck` class.\n",
    "\n",
    "It should be a generic stack instantiated to hold objects of type `PlayingCard`. You can use...\n",
    "\n",
    "```C#\n",
    "private Stack<PlayingCard> cardStack = new Stack<PlayingCard>();\n",
    "```"
   ]
  },
  {
   "cell_type": "markdown",
   "id": "32df272b-a6c4-47fd-9a70-2053c3a58e0d",
   "metadata": {},
   "source": [
    "Get an error-free compile at this point. Ignore any unused field warnings."
   ]
  },
  {
   "cell_type": "markdown",
   "id": "6740c199-cb10-47ad-94b4-d13b73c0695b",
   "metadata": {},
   "source": [
    "#### Copy and paste the constructor code—make sure you know what it is doing."
   ]
  },
  {
   "cell_type": "markdown",
   "id": "870ed039-4c03-45e5-8eee-4d5410ecdc71",
   "metadata": {},
   "source": [
    "Create a constructor that loops through the suits and ranks, creating the appropriate card class and adding each card to the deck.\n",
    "\n",
    "The code can be copied and pasted from the from the following code block. Copy and paste it into the inside of the `CardDeck` class at an appropriate spot and indent it properly. Review the code for a few minutes to make sure you know what it is doing.\n",
    "\n",
    "```C#\n",
    "public CardDeck()\n",
    "{\n",
    "    Array suitChoices = Enum.GetValues(typeof(CardSuit));\n",
    "    \n",
    "    foreach (CardSuit s in suitChoices)\n",
    "    {\n",
    "        for (int r = PlayingCard.Ace; r <= PlayingCard.King; r++)\n",
    "        {\n",
    "            PlayingCard card;\n",
    "            \n",
    "            if (r < PlayingCard.Jack) card = new PlayingCard(r, s);\n",
    "            else card = new FaceCard(r, s);\n",
    "\n",
    "            card.FaceUp = true;\n",
    "            \n",
    "            // ... put the code here to add the card to the stack ...\n",
    "        }\n",
    "    }\n",
    "}\n",
    "```\n",
    "\n",
    "The line of code that declares `Array suitChoices` is a technique that lets us obtain an array containing all the possible values for an `enum`. The `typeof` keyword is used to determine the type of the items."
   ]
  },
  {
   "cell_type": "markdown",
   "id": "1547aeee-f09c-44ce-8d3b-be09b4ec0d03",
   "metadata": {},
   "source": [
    "At the place indicated, insert the code to push the card onto the stack.\n",
    "\n",
    "You can use...\n",
    "\n",
    "```C#\n",
    "cardStack.Push(card);\n",
    "```"
   ]
  },
  {
   "cell_type": "markdown",
   "id": "e6f81ec2-0348-44d6-b285-db265aa566ca",
   "metadata": {},
   "source": [
    "Get a clean compile. Tidy up the code if you need to."
   ]
  },
  {
   "cell_type": "markdown",
   "id": "db9253b2-bd3b-40ff-abdb-bfd398b22cae",
   "metadata": {},
   "source": [
    "#### Create a `ToString` method for the `CardDeck` class."
   ]
  },
  {
   "cell_type": "markdown",
   "id": "72ee2f35-e62e-497a-b0bc-f232f60eb07d",
   "metadata": {},
   "source": [
    "Following the constructor, override the `ToString` method. Delete the call to `base`.\n",
    "\n",
    "If you don't remember from an earlier exercise how to have Visual Studio do this for you...\n",
    "\n",
    "Type `override` and press `<Spacebar>` to have Visual Studio do it for you."
   ]
  },
  {
   "cell_type": "markdown",
   "id": "616c9ca7-72ec-45c5-9977-bd86e1d3f3e4",
   "metadata": {},
   "source": [
    "In the body of `ToString`, create a string variable called `rep` (short for representation) and initialize it to an empty string.\n",
    "\n",
    "It should look like...\n",
    "    \n",
    "```C#\n",
    "string rep = string.Empty;\n",
    "```"
   ]
  },
  {
   "cell_type": "markdown",
   "id": "93cfbad9-a9aa-49f1-824d-32262c78d6e9",
   "metadata": {},
   "source": [
    "Create a `foreach` loop to go through each card in the deck.\n",
    "\n",
    "It should look like...\n",
    "\n",
    "```C#\n",
    "foreach (PlayingCard card in cardStack)\n",
    "{\n",
    "}\n",
    "```"
   ]
  },
  {
   "cell_type": "markdown",
   "id": "d0c569fe-48f7-4f1e-9337-8d2be29aec85",
   "metadata": {},
   "source": [
    "In the body of the `foreach` loop, concatenate the string representation of the playing card.\n",
    "\n",
    "Remember that each `PlayingCard` has its own `ToString`. You can use...\n",
    "\n",
    "```C#\n",
    "rep = rep + card + \" \";\n",
    "```"
   ]
  },
  {
   "cell_type": "markdown",
   "id": "8abd618e-f5f0-4c96-854b-09b3ae93002e",
   "metadata": {},
   "source": [
    "Add as the last line in the `ToString()` method `return rep.Trim();`.\n",
    "\n",
    "<font color=\"red\">**Make sure you place the return statement outside of the `foreach` loop.**</font>"
   ]
  },
  {
   "cell_type": "markdown",
   "id": "cc22eeea-7217-4028-8647-73300b68f733",
   "metadata": {},
   "source": [
    "Get a clean compile---use **Build | Rebuild Solution**."
   ]
  },
  {
   "cell_type": "markdown",
   "id": "7939fdd6-a37b-4329-8d48-b333b250944c",
   "metadata": {},
   "source": [
    "#### Modify the view to test the new `CardDeck` class."
   ]
  },
  {
   "cell_type": "markdown",
   "id": "67e9387c-c874-4244-b63c-556b42d81be5",
   "metadata": {},
   "source": [
    "Open `Form1.cs` for editing and add as a field `private CardDeck deck = new CardDeck();`."
   ]
  },
  {
   "cell_type": "markdown",
   "id": "4f5f9ce3-a800-4d6c-b956-59f8be685e98",
   "metadata": {},
   "source": [
    "Move to the `DealButton_Click` method and comment out all of the code except the line that clears the list box."
   ]
  },
  {
   "cell_type": "markdown",
   "id": "036e9f69-77a9-495c-bee8-4e73724bc167",
   "metadata": {},
   "source": [
    "After the line that clears the list box, add code to display the deck.\n",
    "\n",
    "It should look like...\n",
    "\n",
    "```C#\n",
    "LogListBox.Items.Add(deck.ToString());\n",
    "```"
   ]
  },
  {
   "cell_type": "markdown",
   "id": "6a9af424-ffc7-4441-917b-34aee659c387",
   "metadata": {},
   "source": [
    "Compile and test.\n",
    "\n",
    "You should see the deck displayed."
   ]
  },
  {
   "cell_type": "markdown",
   "id": "a7bec754-7e6e-4ddb-b34b-43c5941858a8",
   "metadata": {},
   "source": [
    "## Dealing Cards from the Deck"
   ]
  },
  {
   "cell_type": "markdown",
   "id": "5070233e-b1ad-4e8f-98bd-d65965e8cabb",
   "metadata": {},
   "source": [
    "#### Create a method to deal cards from the card deck."
   ]
  },
  {
   "cell_type": "markdown",
   "id": "a7af8e36-b021-4323-a0d6-c7b00c78b37c",
   "metadata": {},
   "source": [
    "Select `CardDeck.cs` for editing, and position the cursor on a new blank line before the `ToString()` method."
   ]
  },
  {
   "cell_type": "markdown",
   "id": "04ee86a7-6fa1-42ce-a43d-07e00c3793cc",
   "metadata": {},
   "source": [
    "Insert the layout for a method called `Deal` using the specification `public PlayingCard Deal()`.\n",
    "\n",
    "You can use...\n",
    "\n",
    "```C#\n",
    "public PlayingCard Deal()\n",
    "{\n",
    "}\n",
    "```"
   ]
  },
  {
   "cell_type": "markdown",
   "id": "68012f97-9f50-4de6-97bc-444d9efcba62",
   "metadata": {},
   "source": [
    "Return the top card to the caller face down by doing the following:\n",
    "\n",
    "1. Pop the card off the stack first (into a temporary variable).\n",
    "2. Set the popped card to be face down (FaceUp\t=\tf a l s e).\n",
    "3. Return the card to the caller.\n",
    "\n",
    "Use something like...\n",
    "\n",
    "```C#\n",
    "PlayingCard temp = cardStack.Pop();\n",
    "temp.FaceUp = false;\n",
    "return temp;\n",
    "```"
   ]
  },
  {
   "cell_type": "markdown",
   "id": "95a26945-159c-4f66-96ec-be173d489751",
   "metadata": {},
   "source": [
    "Get a clean compile."
   ]
  },
  {
   "cell_type": "markdown",
   "id": "e84ebebb-eff8-4754-b237-bbfc9b495f28",
   "metadata": {},
   "source": [
    "#### Modify the view to test the dealing of cards."
   ]
  },
  {
   "cell_type": "markdown",
   "id": "67aa3838-1480-4cf3-8c49-279ae64fa7ef",
   "metadata": {},
   "source": [
    "Select the `DealButton_Click` method in `Form1.cs`. After displaying the deck, add the code to deal one (and only one) card into a `PlayingCard` reference.\n",
    "\n",
    "Use something like...\n",
    "\n",
    "```C#\n",
    "PlayingCard card = deck.Deal();\n",
    "```"
   ]
  },
  {
   "cell_type": "markdown",
   "id": "59f1593f-5cc6-4a1d-90ca-ef768970a973",
   "metadata": {},
   "source": [
    "Remove the comment characters from the six lines of code that set the card to face-up and display information about it. Do not uncomment the line that creates the face card or the line that shows the eyes.\n",
    " \n",
    "When done, your deal method should look like this. Note which lines remain commented out...\n",
    "\n",
    "```C#\n",
    "LogListBox.Items.Clear();\n",
    "LogListBox.Items.Add(deck.ToString());\n",
    "PlayingCard card = deck.Deal();\n",
    "//FaceCard card = new FaceCard(FaceCard.Jack, CardSuit.Spades);\n",
    "card.FaceUp = true;\n",
    "LogListBox.Items.Add(\"Card: \" + card);\n",
    "LogListBox.Items.Add(\"Rank: \" + card.Rank);\n",
    "LogListBox.Items.Add(\"Suit: \" + card.Suit);\n",
    "LogListBox.Items.Add(\"Code: \" + card.Code);\n",
    "LogListBox.Items.Add(\"Index:\" + card.Index);\n",
    "//LogListBox.Items.Add(\"Eyes: \" + card.Eyes);\n",
    "//StatusLabel.Text = \"Deal button pressed\";\n",
    "```"
   ]
  },
  {
   "cell_type": "markdown",
   "id": "4ecc575e-f1b0-49a6-91f1-7cc2cb397426",
   "metadata": {},
   "source": [
    "Compile and test. Repeat many times (50+) to confirm that cards are being removed permanently from the deck, and that finally a stack empty exception will be thrown. Use **Debug | Stop Debugging** to recover from the exception."
   ]
  },
  {
   "cell_type": "markdown",
   "id": "4ef4f6ef-29ba-44a7-9ca7-2ef8260f95c1",
   "metadata": {},
   "source": [
    "#### Provide a method to allow cards to be added back into the deck."
   ]
  },
  {
   "cell_type": "markdown",
   "id": "81312125-3087-4b08-930c-c65898ce98a2",
   "metadata": {},
   "source": [
    "Just as in the real world, cards need to be returned to the deck."
   ]
  },
  {
   "cell_type": "markdown",
   "id": "5b0e9614-aacf-4594-89b8-023d5a0aca45",
   "metadata": {},
   "source": [
    "Select `CardDeck.cs` for editing, and position the cursor on a new blank line after the end of the `Deal` method."
   ]
  },
  {
   "cell_type": "markdown",
   "id": "f4c981a9-6af5-4c96-aa28-e40f9d64f838",
   "metadata": {},
   "source": [
    "Insert the overall layout for an additional method called Add `using public void Add(PlayingCard card)`.\n",
    "\n",
    "Use something like...\n",
    "\n",
    "```C#\n",
    "public void Add(PlayingCard card)\n",
    "{\n",
    "}\n",
    "```"
   ]
  },
  {
   "cell_type": "markdown",
   "id": "57fb37b3-a9f2-4051-8c99-e79b67930ce8",
   "metadata": {},
   "source": [
    "In the body of `Add`, set the card back to facing up, and then push it back on the stack.\n",
    "\n",
    "Use something like...\n",
    "\n",
    "```C#\n",
    "card.FaceUp = true; \n",
    "cardStack.Push(card);\n",
    "```"
   ]
  },
  {
   "cell_type": "markdown",
   "id": "a1a90fa4-7d18-467a-a1c4-01ed78b53662",
   "metadata": {},
   "source": [
    "Get a clean compile."
   ]
  },
  {
   "cell_type": "markdown",
   "id": "2579aa79-ffe2-40d4-a7c7-a811896fa165",
   "metadata": {},
   "source": [
    "#### Modify the view to test returning the cards to the deck."
   ]
  },
  {
   "cell_type": "markdown",
   "id": "f1031c37-ece2-4e08-aacc-ccd98c820a87",
   "metadata": {},
   "source": [
    "Select the `DealButton_Click` method in `Form1.cs` for editing and add a call to `deck.Add(card)`. Make it the last line of code in the method."
   ]
  },
  {
   "cell_type": "markdown",
   "id": "7fe6be18-1970-473d-9da1-2455bb2051b5",
   "metadata": {},
   "source": [
    "Compile and test. The same card should be repeatedly dealt, since we are always putting it back."
   ]
  },
  {
   "cell_type": "markdown",
   "id": "5b6487aa-bc66-4205-9e8c-d776fd3e4300",
   "metadata": {},
   "source": [
    "## Congratulations! You have successfully completed the exercise. Continue to the bonus if you have more time."
   ]
  },
  {
   "cell_type": "markdown",
   "id": "259b25fc-9f33-47f7-9055-2d3d29b44923",
   "metadata": {
    "tags": []
   },
   "source": [
    "# Bonus (Optional)"
   ]
  },
  {
   "cell_type": "markdown",
   "id": "6e4bedef-bde5-4124-b162-1a0dcab7a3ca",
   "metadata": {},
   "source": [
    "Add the ability to shuffle the card deck."
   ]
  },
  {
   "cell_type": "markdown",
   "id": "727b9a7b-7ab4-4d24-aa68-9d9dfd7c1f11",
   "metadata": {},
   "source": [
    "#### Provide a method to allow cards to be shuffled."
   ]
  },
  {
   "cell_type": "markdown",
   "id": "524d4d2e-e6fb-4174-965d-273a62a84174",
   "metadata": {},
   "source": [
    "Select `CardDeck.cs` for editing and add the field `private Random rnd = new Random()`. This is the .NET random number generator. It will seed from the time of day."
   ]
  },
  {
   "cell_type": "markdown",
   "id": "1ffd0c82-d66c-4035-af71-6aa47a62175c",
   "metadata": {},
   "source": [
    "Position the cursor _after_ the `Add` method, and insert the overall layout for an additional method using the specification:\n",
    "`public void Shuffle()`."
   ]
  },
  {
   "cell_type": "markdown",
   "id": "74d282b7-e7c9-4ee5-a19a-c36cab095a38",
   "metadata": {},
   "source": [
    "#### Add logic to shuffle the deck."
   ]
  },
  {
   "cell_type": "markdown",
   "id": "e91d0801-9094-4a49-9f52-c32cdd19677f",
   "metadata": {},
   "source": [
    "A good algorithm for shuffling is to loop through the deck one time, swapping each card with some randomly selected card. This is called the \"Simple Knuth Shuffle.\" Unfortunately, a stack collection doesn't support indexing, so we'll need to first convert it to an array. This will improve the performance, too."
   ]
  },
  {
   "cell_type": "markdown",
   "id": "589196ec-5e5d-4ab4-8bf4-11594cb02e5f",
   "metadata": {},
   "source": [
    "Convert the deck to an array, and then clear the cards from the deck.\n",
    "\n",
    "It should look like...\n",
    "\n",
    "```C#\n",
    "PlayingCard[] cardArray = cardStack.ToArray(); \n",
    "cardStack.Clear();\n",
    "```"
   ]
  },
  {
   "cell_type": "markdown",
   "id": "de5a5892-8899-452f-b968-67ed5202128a",
   "metadata": {},
   "source": [
    "Now, loop through the array using a `for` loop to select every card in the deck.\n",
    "\n",
    "It should look like...\n",
    "\n",
    "```C#\n",
    "for (int i = 0; i < cardArray.Length; i++)\n",
    "{\n",
    "}\n",
    "```"
   ]
  },
  {
   "cell_type": "markdown",
   "id": "39a9f4f8-f340-4012-9af6-a738584821a1",
   "metadata": {},
   "source": [
    "In the body of the `for` loop, add as the first statement the logic to obtain a random swap position between `0` and `cardArray.Length`. Save it in an integer called `swapIndex`.\n",
    "\n",
    "Use something like...\n",
    "\n",
    "```C#\n",
    "int swapIndex = rnd.Next(0, cardArray.Length);\n",
    "```\n",
    "\n",
    "This will return a random number within the array index range."
   ]
  },
  {
   "cell_type": "markdown",
   "id": "52214979-3231-4183-85a8-6ee8ca849709",
   "metadata": {},
   "source": [
    "Swap `cardArray[i]` with `cardArray[swapIndex]`. It is _not_ necessary to clone cards for this, but you will need a temporary playing card reference. This is the \"classic\" swap algorithm.\n",
    " \n",
    "Use something like...\n",
    "\n",
    "```C#\n",
    "PlayingCard temp = cardArray[swapIndex]; \n",
    "cardArray[swapIndex] = cardArray[i]; \n",
    "cardArray[i] = temp;\n",
    "```"
   ]
  },
  {
   "cell_type": "markdown",
   "id": "4be2998c-a29a-48a6-990d-16bc3506e500",
   "metadata": {},
   "source": [
    "After the `for` loop, use a `foreach` loop to push every card in the now-shuffled\n",
    "`cards` array back into the `deck` stack.\n",
    "\n",
    "You can use...\n",
    "\n",
    "```C#\n",
    "foreach (PlayingCard card in cardArray) \n",
    "    cardStack.Push(card);\n",
    "```"
   ]
  },
  {
   "cell_type": "markdown",
   "id": "63518d7a-3206-4a5b-b895-ddf759b97421",
   "metadata": {},
   "source": [
    "Get a clean compile."
   ]
  },
  {
   "cell_type": "markdown",
   "id": "e56ca827-9314-4fdf-ab30-89c380ce5a96",
   "metadata": {},
   "source": [
    "#### Modify the test program to call the `Shuffle` method before the deck is displayed or dealt."
   ]
  },
  {
   "cell_type": "markdown",
   "id": "b316f512-409c-43c5-bc31-8be8faaa862e",
   "metadata": {},
   "source": [
    "Select `Form1.cs` for editing, and after the code that clears the list box in `DealButton_Click`, call `deck.Shuffle();`."
   ]
  },
  {
   "cell_type": "markdown",
   "id": "7e5e4852-0cbe-4fe9-aff9-99598ac07c5f",
   "metadata": {},
   "source": [
    "Compile and test. Note that every click of the Deal button will change the order of the cards in the deck and a new card will be dealt."
   ]
  },
  {
   "cell_type": "markdown",
   "id": "800b685a-7517-44bd-902f-20312714a82d",
   "metadata": {},
   "source": [
    "## Congratulations! You have completed the bonus."
   ]
  }
 ],
 "metadata": {
  "kernelspec": {
   "display_name": ".NET (C#)",
   "language": "C#",
   "name": ".net-csharp"
  },
  "language_info": {
   "file_extension": ".cs",
   "mimetype": "text/x-csharp",
   "name": "C#",
   "pygments_lexer": "csharp",
   "version": "9.0"
  }
 },
 "nbformat": 4,
 "nbformat_minor": 5
}

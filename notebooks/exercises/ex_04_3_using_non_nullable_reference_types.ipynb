{
 "cells": [
  {
   "cell_type": "markdown",
   "id": "553f045d-d3ce-4643-a0bd-96b985120300",
   "metadata": {},
   "source": [
    "![BAE logo](images/bae_logo.png)"
   ]
  },
  {
   "cell_type": "markdown",
   "id": "d25eb53f-c436-4114-a5fd-8fd4fe699158",
   "metadata": {
    "tags": []
   },
   "source": [
    "# Hands-On Exercise 4.3: Using (Non-)Nullable Reference Types"
   ]
  },
  {
   "cell_type": "markdown",
   "id": "e36ffd7f-776e-45bb-af46-c9d3db00e7fc",
   "metadata": {},
   "source": [
    "## Objective"
   ]
  },
  {
   "cell_type": "markdown",
   "id": "70565f3c-4fa8-46df-977f-c9484668697b",
   "metadata": {},
   "source": [
    "Understand the benefits of (non-)nullable types and how to use them."
   ]
  },
  {
   "cell_type": "markdown",
   "id": "c739d807-9bc7-4379-a562-128c4e18c1be",
   "metadata": {},
   "source": [
    "## Review traditional null handling"
   ]
  },
  {
   "cell_type": "markdown",
   "id": "f6a34bb4-da59-4f13-9503-ea8d2e11a00d",
   "metadata": {},
   "source": [
    "Close the previous solution if you have not already done so."
   ]
  },
  {
   "cell_type": "markdown",
   "id": "6feb94ac-3211-4d96-95f1-bfeeda924fc5",
   "metadata": {
    "tags": []
   },
   "source": [
    "Open the solution `Nullable` located in the directory `C:\\Course\\510D\\Exercises\\Ex043\\`.\n",
    "\n",
    "This application contains a simple `Contact` class and some code that utilizes it."
   ]
  },
  {
   "cell_type": "markdown",
   "id": "bee568f6-ac89-47dd-b945-8f1c3f6ed5db",
   "metadata": {},
   "source": [
    "#### Open the solution `Nullable.sln` found in the directory `C:\\Course\\510D\\Exercises\\Ex043\\`."
   ]
  },
  {
   "cell_type": "markdown",
   "id": "0a840d86-7a56-43a9-b6e0-0d9b58bff1c3",
   "metadata": {},
   "source": [
    "Open the `Contact` class and review it. Contacts have\n",
    "\n",
    "- Last name\n",
    "- First name\n",
    "- Email address"
   ]
  },
  {
   "cell_type": "markdown",
   "id": "7bcc693a-6375-4d68-9919-dd65bd57fc47",
   "metadata": {},
   "source": [
    "#### Examine the null handling features."
   ]
  },
  {
   "cell_type": "markdown",
   "id": "9bda3194-60cf-40c2-9363-96d9d8f6646f",
   "metadata": {},
   "source": [
    "`LastName` is mandatory. This is enforced in the following places.\n",
    "\n",
    "- By being a required constructor parameter\n",
    "- Via the `LastName` setter\n",
    "- In the `Reset` method\n",
    "- In the `SetFullName` method\n",
    "\n",
    "A lot of work to avoid bad nulls!"
   ]
  },
  {
   "cell_type": "markdown",
   "id": "d3cf7580-bf55-408d-836b-876287723041",
   "metadata": {},
   "source": [
    "Open `Program.cs`. Note that there's no need to check that `LastName` isn't `null` before using it---as the design of the `Contact` class ensures it can't be.\n",
    "\n",
    "However, it would be easy to make a mistake and break that contract."
   ]
  },
  {
   "cell_type": "markdown",
   "id": "324635e6-1716-4c4c-922c-0b9624b16a08",
   "metadata": {},
   "source": [
    "Run the application and review the output."
   ]
  },
  {
   "cell_type": "markdown",
   "id": "b8877a03-f059-4ffe-a516-f0ae66bda7f1",
   "metadata": {},
   "source": [
    "## Use (non-)nullable reference types"
   ]
  },
  {
   "cell_type": "markdown",
   "id": "2ee758af-c2e0-4e9b-a8da-a28ea0797093",
   "metadata": {},
   "source": [
    "#### Change the project-wide **Nullable** setting."
   ]
  },
  {
   "cell_type": "markdown",
   "id": "08d7b63a-5882-4d44-aece-1f7593d5e279",
   "metadata": {},
   "source": [
    "Open the project properties and display the **Build | General** tab.\n",
    "\n",
    "Examine the **Nullable** setting. It's disabled. This means that reference types are nullable by default---the only option prior to C# 8.\n",
    "\n",
    "In .NET 6 templates, this option is _enabled_ by default. It was disabled explicitly for this exercise."
   ]
  },
  {
   "cell_type": "markdown",
   "id": "61440073-1501-452d-ac01-997329cce6d5",
   "metadata": {},
   "source": [
    "Enable nullable types."
   ]
  },
  {
   "cell_type": "markdown",
   "id": "184b12c7-1a83-4e2b-be67-d732eeaf9556",
   "metadata": {},
   "source": [
    "Build the application and return to the `Contact.cs`. \n",
    "\n",
    "Errors have now appeared."
   ]
  },
  {
   "cell_type": "markdown",
   "id": "ed1be33d-be79-4dd7-946d-f1acf11a91ee",
   "metadata": {},
   "source": [
    "Select **View | Error List** from the main Visual Studio menu. \n",
    "    \n",
    "The errors are all related to nulls."
   ]
  },
  {
   "cell_type": "markdown",
   "id": "ee80eee6-b572-44a0-be47-588b9da92e96",
   "metadata": {},
   "source": [
    "#### Refactor `LastName` to reflect its new non-nullable status."
   ]
  },
  {
   "cell_type": "markdown",
   "id": "a28e6df9-4550-4ffb-b0f7-7ada476e7c29",
   "metadata": {},
   "source": [
    "There's no need to check for nulls when setting `LastName`---as it's a non-nullable property.\n",
    "\n",
    "Simplify the definition of `LastName` as follows.\n",
    "\n",
    "```C#\n",
    "public string LastName { get; set; }\n",
    "```"
   ]
  },
  {
   "cell_type": "markdown",
   "id": "e631233a-6ff3-4dc6-a143-fb3b08d7e217",
   "metadata": {},
   "source": [
    "#### Restore `FirstName` and `Email` to be nullable."
   ]
  },
  {
   "cell_type": "markdown",
   "id": "b8e7eb5f-c9f5-4d15-9ec5-b4bde636a1cf",
   "metadata": {},
   "source": [
    "The original specification allowed for `FirstName` and `Email` to be null. Enabling **Nullable** breaks that contract."
   ]
  },
  {
   "cell_type": "markdown",
   "id": "3c48fbf7-781d-4e87-8ebc-15dfe753716f",
   "metadata": {},
   "source": [
    "Explicitly define `FirstName` and `Email` to be nullable. Their definitions should be as follows.\n",
    "    \n",
    "```C#\n",
    "    public string? FirstName { get; set; }\n",
    "    public string? Email { get; set; }\n",
    "```\n",
    "\n",
    "Note the subtle addition of the `?` operator."
   ]
  },
  {
   "cell_type": "markdown",
   "id": "a163f271-171c-4b62-8d25-7b386dd567ea",
   "metadata": {},
   "source": [
    "#### Refactor the constructor to use nullable types."
   ]
  },
  {
   "cell_type": "markdown",
   "id": "1b762a37-acb4-48ea-a23d-58bada386933",
   "metadata": {
    "tags": []
   },
   "source": [
    "Remove the exception \"guard\" from the constructor. Again, it's not longer required as `lastName` is now non-nullable.\n",
    "\n",
    "Tthe \"backing\" field (`_lastName`) can now be dispensed with and `LastName` initialized directly.\n",
    "    \n",
    "The constructor is now as follows.\n",
    "\n",
    "```C#\n",
    "public Contact(string lastName)\n",
    "{\n",
    "    LastName = lastName;\n",
    "}\n",
    "```"
   ]
  },
  {
   "cell_type": "markdown",
   "id": "aaace232-8c95-4248-9280-0d1747567c3e",
   "metadata": {},
   "source": [
    "#### Clean up the `Reset` method."
   ]
  },
  {
   "cell_type": "markdown",
   "id": "1cb9bd8d-c101-420e-8ec2-771af3232903",
   "metadata": {},
   "source": [
    "There's a redundant `null` check when assigning to `LastName` in the `Reset` method. Its `lastName` parameter is non-nullable, so can be assigned directly to the `LastName` property, as follows.\n",
    "\n",
    "```C#\n",
    "LastName = lastName;\n",
    "```"
   ]
  },
  {
   "cell_type": "markdown",
   "id": "6562b587-7041-4df6-b5d0-95e43afacd20",
   "metadata": {},
   "source": [
    "Get a clean compile."
   ]
  },
  {
   "cell_type": "markdown",
   "id": "a0a643c5-74e0-4ce5-b23a-2c72acc8ef65",
   "metadata": {},
   "source": [
    "#### Confirm that first name is not `null`."
   ]
  },
  {
   "cell_type": "markdown",
   "id": "4f4db8da-41f0-409d-bc35-24ca51bccc88",
   "metadata": {},
   "source": [
    "The `Contact` class now looks cleaner. There's less code, which is always good. The compiler can provide more assistance."
   ]
  },
  {
   "cell_type": "markdown",
   "id": "c69488e7-ee16-4300-a370-066da140e05b",
   "metadata": {},
   "source": [
    "There's a remaing issue in the `Program` class. The `ToUpper` method is being called on `FirstName` which is potentially null.\n",
    "\n",
    "The null-conditional (`?`) operator being used is recognition of this, but if it returns `null` it can't be assigned to our `firstName` non-nullable string variable."
   ]
  },
  {
   "cell_type": "markdown",
   "id": "18094ee2-9cf0-42e1-b5a2-19b78253d8ce",
   "metadata": {},
   "source": [
    "A review of the code shows that `FirstName` will be set to \"Jane\" at that point, but the logic is too complicated for the compiler to make that inference.\n",
    "\n",
    "Instuct the compiler that the `contact.FirstName` contains a value using the `!` operator. The assignment will now be as follows.\n",
    "\n",
    "```C#\n",
    "string firstName = contact.FirstName!.ToUpper();\n",
    "```"
   ]
  },
  {
   "cell_type": "markdown",
   "id": "e702bc29-7206-4d46-b1b6-84c7ce33bebc",
   "metadata": {},
   "source": [
    "Compile and run the application."
   ]
  },
  {
   "cell_type": "markdown",
   "id": "3399fe4d-b8ea-4822-a1ed-bb731454fec5",
   "metadata": {},
   "source": [
    "## Congratulations! You have successfully completed the exercise. If you have more time, please continue to the bonus."
   ]
  },
  {
   "cell_type": "markdown",
   "id": "41a71147-9abc-41d9-abab-ce3315b06869",
   "metadata": {
    "tags": []
   },
   "source": [
    "# Bonus (Optional)"
   ]
  },
  {
   "cell_type": "markdown",
   "id": "dc4d1ae8-81a3-420c-a1a9-08a4a69fe29c",
   "metadata": {},
   "source": [
    "Enable nullable types in the completed Ex2.1 Bonus and fix the resulting errors."
   ]
  },
  {
   "cell_type": "markdown",
   "id": "edef3c54-3600-4e07-baa3-f5e777220e5f",
   "metadata": {},
   "source": [
    "## Congratulations! You have completed the bonus."
   ]
  }
 ],
 "metadata": {
  "kernelspec": {
   "display_name": ".NET (C#)",
   "language": "C#",
   "name": ".net-csharp"
  },
  "language_info": {
   "file_extension": ".cs",
   "mimetype": "text/x-csharp",
   "name": "C#",
   "pygments_lexer": "csharp",
   "version": "9.0"
  }
 },
 "nbformat": 4,
 "nbformat_minor": 5
}

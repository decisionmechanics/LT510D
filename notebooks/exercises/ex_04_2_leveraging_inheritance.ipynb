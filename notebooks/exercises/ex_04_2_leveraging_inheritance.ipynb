{
 "cells": [
  {
   "cell_type": "markdown",
   "id": "57f45f2e-e7bf-4746-9b53-cd721bb19ea2",
   "metadata": {
    "tags": []
   },
   "source": [
    "# Hands-On Exercise 4.2: Leveraging Inheritance"
   ]
  },
  {
   "cell_type": "markdown",
   "id": "fe349703-17a2-4332-aa65-da8fd73717eb",
   "metadata": {},
   "source": [
    "## Objective"
   ]
  },
  {
   "cell_type": "markdown",
   "id": "65a4aaab-2ef8-476b-90d4-83a66de9d74c",
   "metadata": {
    "tags": []
   },
   "source": [
    "Use inheritance to create a derived class, called `FaceCard`, to track the number of eyes that a \"royal\" card has. Royal cards are also called \"court\" or \"face\" cards. The number of eyes is an example of the kinds of extensions a royal card might have. All face cards have two eyes, except the jack of hearts, the jack of spades, and the king of diamonds---they have only one. The number of eyes is actually determined by the direction the face is looking. Facing straight is two, looking to the side is a one-eye. See picture below:\n",
    "\n",
    "![Face cards](images/ex042_objective_1.jpg)\n",
    "\n",
    "At the end of the exercise, the PlayingCard class will match this UML model:\n",
    "\n",
    "![UML diagram](images/ex042_objective_2.jpg)"
   ]
  },
  {
   "cell_type": "markdown",
   "id": "e8289737-af1f-41a4-bdd2-a3e8509e9a56",
   "metadata": {},
   "source": [
    "Close the previous solution if you have not already done so."
   ]
  },
  {
   "cell_type": "markdown",
   "id": "2c5c7492-1c44-4f44-acdb-f87fc1f9b47f",
   "metadata": {
    "tags": []
   },
   "source": [
    "Open the solution `Tehi` located in the directory `C:\\Course\\510D\\Exercises\\Ex042\\`."
   ]
  },
  {
   "cell_type": "markdown",
   "id": "3fe3e3ed-b7a8-4c6a-8a01-e3cad5e99ef6",
   "metadata": {},
   "source": [
    "#### Add a new class to the `CardLib` project called `FaceCard.cs`."
   ]
  },
  {
   "cell_type": "markdown",
   "id": "7d4dbd33-c570-4b0d-a304-74835d9262a4",
   "metadata": {},
   "source": [
    "In the Solution Explorer, right-click the `CardLib` project and select **Add | Class**. In the dialog box's Name field, enter `FaceCard.cs` and click **Add**."
   ]
  },
  {
   "cell_type": "markdown",
   "id": "772bf807-9b01-4414-98e0-6a7f95061523",
   "metadata": {},
   "source": [
    "Open `FaceCard.cs` for editing (if it isn't open already)."
   ]
  },
  {
   "cell_type": "markdown",
   "id": "a029b9fa-82f5-479c-b3d3-47a059606f02",
   "metadata": {},
   "source": [
    "Make the class declaration `public` and add the code to indicate that `FaceCard` inherits from `PlayingCard`.\n",
    "\n",
    "You can use...\n",
    "\n",
    "```C#\n",
    "public class FaceCard : PlayingCard\n",
    "```"
   ]
  },
  {
   "cell_type": "markdown",
   "id": "6e44d311-1882-44ae-9f94-0804e33db9f0",
   "metadata": {},
   "source": [
    "#### Add an auto-implemented property to track the number of eyes."
   ]
  },
  {
   "cell_type": "markdown",
   "id": "95847201-f722-40af-9918-77e1262576cd",
   "metadata": {},
   "source": [
    "Define a `public` auto-implemented integer property called `Eyes` that has a `get` with a `private set`.\n",
    "\n",
    "You can use...\n",
    "\n",
    "```C#\n",
    "public int Eyes { get; private set; }\n",
    "```"
   ]
  },
  {
   "cell_type": "markdown",
   "id": "4d422bb0-d4b6-48c6-ba61-f71d3980c2ba",
   "metadata": {},
   "source": [
    "Attempt to get a clean compile.\n",
    "\n",
    "Why does the program not compile?"
   ]
  },
  {
   "cell_type": "markdown",
   "id": "b176d834-71ad-4009-a707-c10f7c5428a1",
   "metadata": {},
   "source": [
    "#### Answer..."
   ]
  },
  {
   "cell_type": "markdown",
   "id": "3eac0160-a717-45e3-accc-fdb6bef8e073",
   "metadata": {
    "jupyter": {
     "source_hidden": true
    },
    "tags": []
   },
   "source": [
    "The `PlayingCard` class requires that it be provided the rank and the suit when it is constructed. Since we are inheriting from the\n",
    "`PlayingCard` class, we must provide those arguments, meaning `FaceCard` must have a similar constructor."
   ]
  },
  {
   "cell_type": "markdown",
   "id": "5caeaf47-c242-4b3c-a4c9-f7b8568e8fe4",
   "metadata": {},
   "source": [
    "#### Add a constructor to force a face card to be initialized when it is created."
   ]
  },
  {
   "cell_type": "markdown",
   "id": "7da6fa66-91dc-46fc-b72b-4a591d95d22a",
   "metadata": {},
   "source": [
    "Continue editing `FaceCard.cs` and add a constructor. Type `ctor<Tab><Tab>` to generate the method stub, then change the specification to: `public FaceCard(int rank, CardSuit suit)`. "
   ]
  },
  {
   "cell_type": "markdown",
   "id": "9745a911-552c-4968-ad19-2a28a13f14b1",
   "metadata": {},
   "source": [
    "Add a call to `base` at the appropriate position to call the base-class constructor. Pass `rank` and `suit` to the base class. Watch out—there is no semicolon after the call to `base`."
   ]
  },
  {
   "cell_type": "markdown",
   "id": "11974cdf-c200-440c-81ae-9fd663d1d5ed",
   "metadata": {},
   "source": [
    "Move to the body of the constructor and set `Eyes` to 2.\n",
    "\n",
    "The `FaceCard` constructor so far should look something like...\n",
    "\n",
    "```C#\n",
    "public FaceCard(int rank, CardSuit suit): base(rank, suit)\n",
    "{\n",
    "    Eyes = 2;\n",
    "}\n",
    "```"
   ]
  },
  {
   "cell_type": "markdown",
   "id": "bde88ed4-773e-45e3-81c9-cf14bb3d7c71",
   "metadata": {},
   "source": [
    "Get a clean compile—use **Build | Rebuild Solution**."
   ]
  },
  {
   "cell_type": "markdown",
   "id": "a4f47b3b-5fa0-45ba-842c-bc883e634b05",
   "metadata": {},
   "source": [
    "#### Modify the `DealButton_Click` method in the view to create a `FaceCard` instead of a playing card."
   ]
  },
  {
   "cell_type": "markdown",
   "id": "7bb01705-42c5-49c2-9eb4-b7f4395f6558",
   "metadata": {},
   "source": [
    "Move to `DealButton_Click` in `Form1.cs` and find the code `PlayingCard card = new PlayingCard()`. Change _all_ occurrences of `PlayingCard` in that line to `FaceCard`."
   ]
  },
  {
   "cell_type": "markdown",
   "id": "025b1a2c-45a8-4c1a-8a3c-66677c920bbf",
   "metadata": {},
   "source": [
    "Compile and test.\n",
    "\n",
    "How does the program behave now, the same as before or differently?"
   ]
  },
  {
   "cell_type": "markdown",
   "id": "1cc6bf9e-ab45-4b20-af59-f910fbcf4098",
   "metadata": {},
   "source": [
    "#### Answer..."
   ]
  },
  {
   "cell_type": "markdown",
   "id": "66e71754-5aa9-483c-835a-71a69524825a",
   "metadata": {
    "jupyter": {
     "source_hidden": true
    },
    "tags": []
   },
   "source": [
    "The behavior should be the same. We have not yet done anything to make the behavior of a face card any different than a playing card, so it does just what a playing card did."
   ]
  },
  {
   "cell_type": "markdown",
   "id": "6632a718-ed3f-4a69-b7e6-ac9a21569a0d",
   "metadata": {},
   "source": [
    "#### Add logic to determine the number of eyes."
   ]
  },
  {
   "cell_type": "markdown",
   "id": "123be8a2-f0e7-4c39-a795-0b17bb169ae0",
   "metadata": {},
   "source": [
    "Edit `FaceCard.cs` and move to the constructor. After the line that sets the number of eyes to 2, add the code to change the number of eyes to 1 if the card is any of the following: Jack of Hearts, Jack of Spades, or King of Diamonds.\n",
    "\n",
    "It is not necessary or desirable that this be done in one complicated if statement. Use three simple if statements...\n",
    "\n",
    "```C#\n",
    "if ((rank == Jack) && (suit == CardSuit.Hearts))\n",
    "{\n",
    "    Eyes = 1;\n",
    "}\n",
    "\n",
    "if ((rank == Jack) && (suit == CardSuit.Spades))\n",
    "{\n",
    "    Eyes = 1;\n",
    "}\n",
    "\n",
    "if ((rank == King) && (suit == CardSuit.Diamonds))\n",
    "{\n",
    "    Eyes = 1;\n",
    "}\n",
    "```"
   ]
  },
  {
   "cell_type": "markdown",
   "id": "10f2e929-a0e6-41a5-a2cf-2d44aa2f6507",
   "metadata": {},
   "source": [
    "#### Override `ToString` to report the number of eyes for a face card."
   ]
  },
  {
   "cell_type": "markdown",
   "id": "42980f4c-0a67-4d29-acb3-4a26e0bed7ba",
   "metadata": {},
   "source": [
    "Following the constructor, type the word `override`, followed by one press of the `<Spacebar>`, and select `ToString` from the list. This will produce the framework for the `ToString` method."
   ]
  },
  {
   "cell_type": "markdown",
   "id": "03046156-09fe-4187-bc62-0d5aa7848d34",
   "metadata": {},
   "source": [
    "In the body, if the card is not face-up, return the base class implementation of `ToString`; otherwise, return the base class implementation of `ToString` and concatenate the number of eyes.\n",
    "\n",
    "You can use something like...\n",
    "\n",
    "```C#\n",
    "if(!FaceUp) return base.ToString(); \n",
    "return base.ToString() + Eyes;\n",
    "```"
   ]
  },
  {
   "cell_type": "markdown",
   "id": "00c88eb7-3b45-4916-90fd-f713f389ce13",
   "metadata": {},
   "source": [
    "Compile and execute.\n",
    "\n",
    "What is different now?"
   ]
  },
  {
   "cell_type": "markdown",
   "id": "82a4a38e-f8de-4186-911c-7dfebccdf68d",
   "metadata": {},
   "source": [
    "#### Answer..."
   ]
  },
  {
   "cell_type": "markdown",
   "id": "4e1bdc43-4744-4d2b-b24f-8c4ae803b699",
   "metadata": {
    "jupyter": {
     "source_hidden": true
    },
    "tags": []
   },
   "source": [
    "The number of eyes should be appended to the card's two-digit code."
   ]
  },
  {
   "cell_type": "markdown",
   "id": "08e1019c-a00c-4686-8056-284189e1c643",
   "metadata": {},
   "source": [
    "### Test with a one-eyed card."
   ]
  },
  {
   "cell_type": "markdown",
   "id": "d6701ada-53d6-440b-b03a-af9cd1bb0138",
   "metadata": {},
   "source": [
    "Open `Form1.cs` for editing and move to the `DealButton_Click` method. Change the card constructed to be the Jack of Spades.\n",
    "\n",
    "Since it is a one-eye card, a 1 should be appended to the card's two-digit code."
   ]
  },
  {
   "cell_type": "markdown",
   "id": "a9266f5b-4789-4096-ae98-0d983b0c8219",
   "metadata": {},
   "source": [
    "Try setting the card to be face-down. It should just show **XX**."
   ]
  },
  {
   "cell_type": "markdown",
   "id": "5a72cf61-75fb-495d-8757-86940e4de381",
   "metadata": {},
   "source": [
    "Set the card back to being face-up."
   ]
  },
  {
   "cell_type": "markdown",
   "id": "8ac3f435-0bf0-4df2-80a1-7c947b76bb50",
   "metadata": {},
   "source": [
    "Add the code to display the number of eyes via the `Eyes` property (as opposed to via `ToString()`).\n",
    "\n",
    "You can use something like...\n",
    "\n",
    "```C#\n",
    "LogListBox.Items.Add(\"Eyes: \" + card.Eyes);\n",
    "```"
   ]
  },
  {
   "cell_type": "markdown",
   "id": "16059c1e-0e7f-495d-ab66-97c47c0752b9",
   "metadata": {},
   "source": [
    "Compile and test."
   ]
  },
  {
   "cell_type": "markdown",
   "id": "18642e2f-00b9-483b-b99e-1f9f91b419ee",
   "metadata": {},
   "source": [
    "## Congratulations! You have completed the exercise. Continue to the bonus if you have more time."
   ]
  },
  {
   "cell_type": "markdown",
   "id": "a29c3c79-5fdc-480a-9163-1b6d773ba5f2",
   "metadata": {},
   "source": [
    "# Bonus (Optional)"
   ]
  },
  {
   "cell_type": "markdown",
   "id": "e2873530-217c-4b48-b9e6-fcb26e63f8ea",
   "metadata": {},
   "source": [
    "Improve the protection of the face card's data."
   ]
  },
  {
   "cell_type": "markdown",
   "id": "d80fce4e-d5a9-4d56-9a69-40b0a5b4027b",
   "metadata": {},
   "source": [
    "#### Add logic in the constructor to validate that the rank is a valid rank for a face card."
   ]
  },
  {
   "cell_type": "markdown",
   "id": "dd3b721b-9651-49d2-ad6f-7409b0979c8f",
   "metadata": {},
   "source": [
    "Return to `FaceCard.cs`, and before the line `Eyes = 2;`, add a call to check that the card's rank is appropriate for a face card.\n",
    "\n",
    "Type the following (IntelliSense will not work here)...\n",
    "\n",
    "```C#\n",
    "ValidateRange(rank, Jack, King);\n",
    "```"
   ]
  },
  {
   "cell_type": "markdown",
   "id": "7beba181-91fa-4024-b261-527f028570e7",
   "metadata": {},
   "source": [
    "Try to compile.\n",
    "\n",
    "What happens?"
   ]
  },
  {
   "cell_type": "markdown",
   "id": "8465c6df-9f69-4da2-9812-b09316a87fd7",
   "metadata": {},
   "source": [
    "#### Answer..."
   ]
  },
  {
   "cell_type": "markdown",
   "id": "1b3c674e-fc46-4796-88bf-c6cfc8b9d9a3",
   "metadata": {
    "jupyter": {
     "source_hidden": true
    },
    "tags": []
   },
   "source": [
    "The program will not compile because there is no definition for `ValidateRange()`. It is `private` in the `PlayingCard` class."
   ]
  },
  {
   "cell_type": "markdown",
   "id": "0e345d5b-80f2-46fd-8d50-8c2c7f3862ed",
   "metadata": {},
   "source": [
    "Change `ValidateRange` to be accessible to the derived class.\n",
    "    \n",
    "To allow a member of a base class to be accessed by a derived class, but not to an outside client class, we can use `protected` encapsulation."
   ]
  },
  {
   "cell_type": "markdown",
   "id": "f7059f51-5e11-43c8-b6e5-cf3ecbfaf7fc",
   "metadata": {},
   "source": [
    "Edit `PlayingCard.cs` and change the `ValidateRange` function to be `protected`."
   ]
  },
  {
   "cell_type": "markdown",
   "id": "fc02d291-e62c-46a9-9aae-7ebfbc7c554f",
   "metadata": {},
   "source": [
    "Compile and run. The program should behave as before. Try testing with a bad rank value. Restore it to a good value when done."
   ]
  },
  {
   "cell_type": "markdown",
   "id": "3cdceebb-94f4-44e3-9d0f-f916d4e3def3",
   "metadata": {},
   "source": [
    "## Congratulations! You have completed the bonus."
   ]
  }
 ],
 "metadata": {
  "kernelspec": {
   "display_name": ".NET (C#)",
   "language": "C#",
   "name": ".net-csharp"
  },
  "language_info": {
   "file_extension": ".cs",
   "mimetype": "text/x-csharp",
   "name": "C#",
   "pygments_lexer": "csharp",
   "version": "9.0"
  }
 },
 "nbformat": 4,
 "nbformat_minor": 5
}

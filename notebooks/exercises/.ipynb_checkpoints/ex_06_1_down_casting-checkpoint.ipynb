{
 "cells": [
  {
   "cell_type": "markdown",
   "id": "9b463ed7-fd49-4ac6-8a89-7db3ec93d194",
   "metadata": {
    "tags": []
   },
   "source": [
    "# Hands-On Exercise 6.1: Down-Casting"
   ]
  },
  {
   "cell_type": "markdown",
   "id": "f5615568-888c-4ff9-91a3-5061b8b943bb",
   "metadata": {},
   "source": [
    "## Objective"
   ]
  },
  {
   "cell_type": "markdown",
   "id": "e3213b53-8ea0-4fd0-8a65-6682f8f3ecba",
   "metadata": {
    "tags": []
   },
   "source": [
    "Become familiar with casting up and down inheritance hierarchies. Specifically, we will create a control class to encapsulate the game logic for Tehi. If you are not familiar with how Tehi is played, your instructor will explain. \n",
    "\n",
    "There are two parts to implementing the `TehiGame` class---manipulating the cards and then evaluating the hand."
   ]
  },
  {
   "cell_type": "markdown",
   "id": "0814d75c-397d-4163-89f7-aaa6ed6b20d0",
   "metadata": {},
   "source": [
    "## Manipulating Cards (Dealing) in the `TehiGame` Class"
   ]
  },
  {
   "cell_type": "markdown",
   "id": "917c3ed0-ac04-4488-81b4-1635a0bce046",
   "metadata": {},
   "source": [
    "Close the previous solution if you have not already done so."
   ]
  },
  {
   "cell_type": "markdown",
   "id": "b8d59aa6-0527-403f-8690-3638e1830b06",
   "metadata": {},
   "source": [
    "Open the solution `Tehi.sln` located in the directory `C:\\Course\\510D\\Exercises\\Ex061\\`.\n",
    "\n",
    "This project contains the solution files from the previous exercise. We will use copy-and-paste code to expedite the development of the\n",
    "`TehiGame` class since much of it is very similar to the other classes we have previously implemented."
   ]
  },
  {
   "cell_type": "markdown",
   "id": "ed71ab95-ef56-4e48-87b4-24dd83d31f25",
   "metadata": {},
   "source": [
    "#### Add a new class called `TehiGame` to the `CardLib` project and make its declaration `public`."
   ]
  },
  {
   "cell_type": "markdown",
   "id": "a877bd67-af6b-4a83-8a77-5b29728a2e76",
   "metadata": {},
   "source": [
    "Hint...\n",
    " \n",
    "If you have forgotten how to do this, see the instructions in Exercise 4.2."
   ]
  },
  {
   "cell_type": "markdown",
   "id": "5c6c47c1-19c9-4557-87d1-c3cbbcc8c420",
   "metadata": {},
   "source": [
    "#### Add the fields to hold the card deck and the game hand."
   ]
  },
  {
   "cell_type": "markdown",
   "id": "04ffadef-26da-4c59-b4c1-73b938b4dc5d",
   "metadata": {},
   "source": [
    "Within the `TehiGame` class, declare a private field for the card deck using `private CardDeck deck = new CardDeck();`."
   ]
  },
  {
   "cell_type": "markdown",
   "id": "99bd5b48-7ba7-461a-959b-f3db9235580b",
   "metadata": {},
   "source": [
    "Add a private field called `hand` that is a generic `List`. It should be declared and instantiated to hold objects of type `PlayingCard`:\n",
    "\n",
    "```C#\n",
    "List<PlayingCard> hand = new List<PlayingCard>();\n",
    "```"
   ]
  },
  {
   "cell_type": "markdown",
   "id": "586b71e0-24f3-4c7f-9ec5-4995f4bf9437",
   "metadata": {},
   "source": [
    "Get a clean compile. Ignore any unused field warnings."
   ]
  },
  {
   "cell_type": "markdown",
   "id": "90a241dc-0746-4103-8b5e-361619bef61b",
   "metadata": {},
   "source": [
    "#### Add a method to deal cards into the hand."
   ]
  },
  {
   "cell_type": "markdown",
   "id": "9796ebd7-79fe-46eb-8b87-5ef6a03453d4",
   "metadata": {},
   "source": [
    "Create the framework for a method with the specification `public void Deal()`. This method will be called each time the player clicks the **Deal** button. This method should:\n",
    "\n",
    "- Return any cards already in the hand back to the deck\n",
    "- Clear the hand\n",
    "- Shuffle the deck\n",
    "- Loop five times in for a loop\n",
    "- Deal a card from the deck into a temporary variable\n",
    "- Set the card face up\n",
    "- Put the card into the hand list\n",
    "\n",
    "To save time, copy and paste the code below.\n",
    "\n",
    "```C#\n",
    "foreach (PlayingCard card in hand) \n",
    "    deck.Add(card); \n",
    "\n",
    "hand.Clear();\n",
    "deck.Shuffle();\n",
    "\n",
    "for (int i = 0; i < 5; i++)\n",
    "{\n",
    "    PlayingCard card = deck.Deal(); \n",
    "    card.FaceUp = true; \n",
    "    hand.Add(card);\n",
    "}\n",
    "```"
   ]
  },
  {
   "cell_type": "markdown",
   "id": "cc8d47d8-f836-4eef-952f-40df68f108d9",
   "metadata": {},
   "source": [
    "Get a clean compile."
   ]
  },
  {
   "cell_type": "markdown",
   "id": "76002a2c-17fd-4377-b9ac-15c8a4d47e09",
   "metadata": {},
   "source": [
    "Add a `ToString()` method that lists all the cards in the hand.\n",
    "\n",
    "Copy and paste the code below.\n",
    "\n",
    "```C#\n",
    "public override string ToString()\n",
    "{\n",
    "    string rep = string.Empty;\n",
    "    \n",
    "    foreach (PlayingCard card in hand)\n",
    "        rep = rep + card + \" \";\n",
    "    \n",
    "    return rep.Trim();\n",
    "}\n",
    "```\n",
    "\n",
    "This is the same as the `ToString()` in CardDeck except it displays the hand, not the `cardStack`."
   ]
  },
  {
   "cell_type": "markdown",
   "id": "865f3819-0122-4f2f-9f66-d0990bb2efa6",
   "metadata": {},
   "source": [
    "Get a clean compile."
   ]
  },
  {
   "cell_type": "markdown",
   "id": "86a314f9-0a00-4116-b22a-1948ffc9030d",
   "metadata": {},
   "source": [
    "Open `Form1.cs` for editing and replace the `deck` field with a private `game` field.\n",
    "\n",
    "It should look like...\n",
    "\n",
    "```C#\n",
    "private TehiGame game = new TehiGame();\n",
    "```"
   ]
  },
  {
   "cell_type": "markdown",
   "id": "91ac4c4d-3dd2-41aa-983b-42d440589208",
   "metadata": {},
   "source": [
    "Move to the `DealButton_Click` method and delete all of the code except for the line that clears the list box. After it, add:\n",
    "\n",
    "```C#\n",
    "game.Deal();\n",
    "ShowOutput();\n",
    "```"
   ]
  },
  {
   "cell_type": "markdown",
   "id": "15f1ba89-993d-40a8-bd85-552018cd0b25",
   "metadata": {},
   "source": [
    "Click the word `ShowOutput()` and a \"light bulb\" will appear on the left near the line number. Click its drop-down list and select **Generate Method**. In the new `ShowOutput()` method that has been generated, delete the exception code so the method is empty."
   ]
  },
  {
   "cell_type": "markdown",
   "id": "cfe4c07a-e7c1-4f03-a6a4-e50a25681be0",
   "metadata": {},
   "source": [
    "Cut the line of code to clear the list box from `DealButton_Click` and paste it into `ShowOutput`."
   ]
  },
  {
   "cell_type": "markdown",
   "id": "9cd95bef-6b83-48b0-80eb-eef28b495ca2",
   "metadata": {},
   "source": [
    "After the line that clears the list box, display the game.\n",
    "\n",
    "It should look like...\n",
    "\n",
    "```C#\n",
    "LogListBox.Items.Add(game.ToString());\n",
    "```"
   ]
  },
  {
   "cell_type": "markdown",
   "id": "586c6b83-f597-4304-af9b-75cc4e9edba3",
   "metadata": {},
   "source": [
    "Compile and test. You should see different hands being dealt."
   ]
  },
  {
   "cell_type": "markdown",
   "id": "55f0e842-d15d-4246-bf2f-c70d57d7cc05",
   "metadata": {},
   "source": [
    "## Evaluating the Hand"
   ]
  },
  {
   "cell_type": "markdown",
   "id": "f81e2cfe-85b4-4939-938d-42533a1ae3bd",
   "metadata": {},
   "source": [
    "Now that we have cards being dealt into a hand, we need to evaluate the score and keep the running total. Evaluating a hand in Tehi is simple. Basically, multiply the total eyes on all face cards by the total rank of the non-face cards. For example, a hand that has the cards 2D, 7S, 9C, and KC showing would be ( 2 + 7 + 9 ) * 2 = 36. Note that the score of a hand with no face cards or no non-face cards would be 0."
   ]
  },
  {
   "cell_type": "markdown",
   "id": "86e05ed8-a82b-4faf-a8fc-ac48b0da002b",
   "metadata": {},
   "source": [
    "#### Add the scoring code to the game hand."
   ]
  },
  {
   "cell_type": "markdown",
   "id": "b02d522b-970c-457a-a380-8234585eb291",
   "metadata": {},
   "source": [
    "Select `TehiGame.cs` for editing and move the cursor to after the fields."
   ]
  },
  {
   "cell_type": "markdown",
   "id": "e5e085d6-34b5-486b-b2b7-7a14a36089fe",
   "metadata": {},
   "source": [
    "Add the framework for a Score property.\n",
    "\n",
    "It should look like...\n",
    "\n",
    "```C#\n",
    "public int Score\n",
    "{\n",
    "    get\n",
    "    {\n",
    "    }\n",
    "}\n",
    "```"
   ]
  },
  {
   "cell_type": "markdown",
   "id": "d28aa8a4-7b26-48d9-9c35-d61080465969",
   "metadata": {},
   "source": [
    "Insert into the `get` of the `Score` property the logic to evaluate the hand.\n",
    " \n",
    "Copy and paste the following code:\n",
    "\n",
    "```C#\n",
    "int totalEyes = 0; \n",
    "int totalRank = 0;\n",
    "\n",
    "foreach (PlayingCard card in hand)\n",
    "{\n",
    "    // Determine if it is a FaceCard by checking its type, not its rank ...\n",
    "    // If so, cast it as a FaceCard and add the number of eyes to totalEyes ...\n",
    "    // If not, add the rank to the totalRank ...\n",
    "}\n",
    "\n",
    "return totalRank * totalEyes;\n",
    "```\n",
    "\n",
    "Score logic is...\n",
    "\n",
    "```C#\n",
    "if (card is FaceCard)\n",
    "{\n",
    "    FaceCard face = (FaceCard)card; \n",
    "    totalEyes += face.Eyes;\n",
    "}\n",
    "else \n",
    "    totalRank += card.Rank;\n",
    "```"
   ]
  },
  {
   "cell_type": "markdown",
   "id": "b9f0fb48-69af-42dd-b664-e4706729c5f0",
   "metadata": {},
   "source": [
    "Get a clean compile."
   ]
  },
  {
   "cell_type": "markdown",
   "id": "677c8d00-a977-4015-b7dd-3750904580e9",
   "metadata": {},
   "source": [
    "#### Report the evaluation of the hand to the user."
   ]
  },
  {
   "cell_type": "markdown",
   "id": "9f59f1c9-faab-48fe-8baf-7a168a1cb76f",
   "metadata": {},
   "source": [
    "Open `Form1.cs` for editing again and move to the `ShowOutput` method."
   ]
  },
  {
   "cell_type": "markdown",
   "id": "021d18c1-f8a6-43cb-83bf-aae7fd1c9adf",
   "metadata": {},
   "source": [
    "Add the code to show the game score in the `LogListBox` with some appropriate message. Make it the last line of code in the method.\n",
    "\n",
    "Use something like...\n",
    "\n",
    "```C#\n",
    "LogListBox.Items.Add(\"Score: \" + game.Score);\n",
    "```"
   ]
  },
  {
   "cell_type": "markdown",
   "id": "80d659c1-8f89-453a-83a9-e46d1efd2912",
   "metadata": {},
   "source": [
    "Compile and test. Double-check the calculations."
   ]
  },
  {
   "cell_type": "markdown",
   "id": "88410bdc-b08f-4b91-a848-8c40a3767300",
   "metadata": {},
   "source": [
    "## Congratulations! You have successfully completed the exercise. Continue to the bonus if you have more time."
   ]
  },
  {
   "cell_type": "markdown",
   "id": "43bba874-fb24-408f-8aa0-dfbd0950e2ff",
   "metadata": {
    "tags": []
   },
   "source": [
    "# Bonus (Optional)"
   ]
  },
  {
   "cell_type": "markdown",
   "id": "d553c526-977f-4269-a94b-5f7758f80695",
   "metadata": {},
   "source": [
    "Add support for tracking the number of games played (hands dealt) and the best score on an individual hand."
   ]
  },
  {
   "cell_type": "markdown",
   "id": "3c75d6ba-bad2-466c-b5dd-a57a6ac54b54",
   "metadata": {},
   "source": [
    "#### Add the logic to track the total hands dealt and the best hand score."
   ]
  },
  {
   "cell_type": "markdown",
   "id": "01af4288-9d21-4c36-a1a2-07b4f0edf117",
   "metadata": {},
   "source": [
    "Open `TehiGame.cs` for editing, and as the first line of code within the class, add two properties---one called `HandsDealt` and one called ```BestHandScore```.\n",
    "\n",
    "They should both be declared `public`, return an integer, and have a `private set`.\n",
    "\n",
    "Use something like...\n",
    "\n",
    "```C#\n",
    "public int HandsDealt { get; private set; } \n",
    "public int BestHandScore { get; private set; }\n",
    "```"
   ]
  },
  {
   "cell_type": "markdown",
   "id": "44ba1b4c-ad48-4228-baa2-0bbff6b4acb5",
   "metadata": {},
   "source": [
    "Move to the `Deal(...)` method, and after the end of the loop (outside of the loop), add the logic to:\n",
    "\n",
    "- Count the `HandsDealt`\n",
    "- Determine if this score is the best score and, if so, record it\n",
    "\n",
    "Use something like...\n",
    "\n",
    "```C#\n",
    "HandsDealt++;\n",
    "if (Score > BestHandScore) \n",
    "    BestHandScore = Score;\n",
    "```"
   ]
  },
  {
   "cell_type": "markdown",
   "id": "4965cb6b-1b0e-4100-a645-94d521a50ba1",
   "metadata": {},
   "source": [
    "Get a clean compile."
   ]
  },
  {
   "cell_type": "markdown",
   "id": "6102f7de-0a54-43ac-948a-3cf1ec0e6038",
   "metadata": {},
   "source": [
    "#### Display the total hands played and the best hand scored."
   ]
  },
  {
   "cell_type": "markdown",
   "id": "0243b803-8f8a-4391-b71b-80ede9221e5b",
   "metadata": {},
   "source": [
    "Open `Form1.cs` for editing, and in the `ShowOutput` method, display with an appropriate message the total hands played and the best hand scored in the status label.\n",
    "\n",
    "Use something like...\n",
    "\n",
    "```C#\n",
    "LogListBox.Items.Add(\"Best Hand Score: \" + game.BestHandScore);\n",
    "LogListBox.Items.Add(\"Hands Dealt: \" + game.HandsDealt);\n",
    "```"
   ]
  },
  {
   "cell_type": "markdown",
   "id": "b61b5323-b6b5-4e1e-a2a9-97c4c13ffe0b",
   "metadata": {},
   "source": [
    "Compile and test."
   ]
  },
  {
   "cell_type": "markdown",
   "id": "22afed52-e15f-4159-949e-f5356ae3e87a",
   "metadata": {},
   "source": [
    "#### Construct a new game when a new game is requested by the user."
   ]
  },
  {
   "cell_type": "markdown",
   "id": "461f7cbe-0f61-4cb7-989b-e12c580ee5a0",
   "metadata": {},
   "source": [
    "What happens to the best hand scored (and total hands played) when you start a new game via the menu?"
   ]
  },
  {
   "cell_type": "markdown",
   "id": "130649ce-ed82-4435-910a-204dd79869e5",
   "metadata": {},
   "source": [
    "#### Answer..."
   ]
  },
  {
   "cell_type": "markdown",
   "id": "a513f172-d552-49f7-be5c-b2a6a86109e6",
   "metadata": {
    "jupyter": {
     "source_hidden": true
    },
    "tags": []
   },
   "source": [
    "Nothing. The old game remains because it is not being reset. Let's do this now."
   ]
  },
  {
   "cell_type": "markdown",
   "id": "08b03159-02ac-4a4e-8435-fe28462e07b6",
   "metadata": {},
   "source": [
    "Open `Form1.cs` in design mode and double-click the **New** menu item. This will take you to its event method."
   ]
  },
  {
   "cell_type": "markdown",
   "id": "158fc6c7-9ae2-476c-8e23-3359741e7956",
   "metadata": {},
   "source": [
    "Add the code to create a new game instance.\n",
    "\n",
    "You can use something like...\n",
    "\n",
    "```C#\n",
    "game = new TehiGame();\n",
    "```"
   ]
  },
  {
   "cell_type": "markdown",
   "id": "3365cc9d-e14c-41da-b752-a92df182d803",
   "metadata": {},
   "source": [
    "Compile and test. Ensure that your best score is restarted for each new game (its starting value will be the first score you achieve)."
   ]
  },
  {
   "cell_type": "markdown",
   "id": "53c16f63-9bf5-49a9-a1da-7a90b10bce86",
   "metadata": {},
   "source": [
    "## Congratulations! You have completed the bonus."
   ]
  }
 ],
 "metadata": {
  "kernelspec": {
   "display_name": ".NET (C#)",
   "language": "C#",
   "name": ".net-csharp"
  },
  "language_info": {
   "file_extension": ".cs",
   "mimetype": "text/x-csharp",
   "name": "C#",
   "pygments_lexer": "csharp",
   "version": "9.0"
  }
 },
 "nbformat": 4,
 "nbformat_minor": 5
}

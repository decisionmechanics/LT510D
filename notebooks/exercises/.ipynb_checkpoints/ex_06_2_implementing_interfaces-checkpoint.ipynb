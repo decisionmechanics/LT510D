{
 "cells": [
  {
   "cell_type": "markdown",
   "id": "23549a1a-cc98-439c-886d-ba2218b4593f",
   "metadata": {
    "tags": []
   },
   "source": [
    "# Hands-On Exercise 6.2: Implementing Interfaces"
   ]
  },
  {
   "cell_type": "markdown",
   "id": "7197f75c-e887-4a27-ba03-0b9954a0e8ae",
   "metadata": {},
   "source": [
    "## Objective"
   ]
  },
  {
   "cell_type": "markdown",
   "id": "ad27ff1f-dcec-48a9-bb9c-e05b7ff3a6af",
   "metadata": {
    "tags": []
   },
   "source": [
    "Although the `ToString()` method allows us to display a game hand, the application will need to be able to loop through and obtain individual playing cards in order to display them graphically. We can support looping through the cards\n",
    "by realizing `IEnumerable<PlayingCard>` in the `TehiGame` class. We need this capability if we want to display individual playing card images."
   ]
  },
  {
   "cell_type": "markdown",
   "id": "4c1575b4-7429-46d5-ae73-4de9c7f14a0a",
   "metadata": {},
   "source": [
    "## Making the Tehi game enumerable"
   ]
  },
  {
   "cell_type": "markdown",
   "id": "7163480a-2785-46d5-b7ce-f6e22cb676ee",
   "metadata": {},
   "source": [
    "Close the previous solution if you have not already done so."
   ]
  },
  {
   "cell_type": "markdown",
   "id": "058b4eaa-86ab-4003-94f4-8d03729e58d9",
   "metadata": {},
   "source": [
    "Open the solution `Tehi.sln` located in the directory `C:\\Course\\510D\\Exercises\\Ex062\\`.\n",
    "\n",
    "This project contains the solution files from the bonus of the previous exercise."
   ]
  },
  {
   "cell_type": "markdown",
   "id": "9aa51864-7df7-4af5-805f-e00a5dd93a52",
   "metadata": {},
   "source": [
    "#### Implement the `IEnumerable<PlayingCard>` interface in the `TehiGame` controller."
   ]
  },
  {
   "cell_type": "markdown",
   "id": "ea873c1c-22d0-47e9-a5a2-a4ec16ff5823",
   "metadata": {},
   "source": [
    "Open the file `TehiGame.cs` into the edit area."
   ]
  },
  {
   "cell_type": "markdown",
   "id": "577fe65e-3d39-46a7-a65e-7ead0cb97f3b",
   "metadata": {},
   "source": [
    "Move to the class declaration and add the specification that `TehiGame` implements `IEnumerable<PlayingCard>`."
   ]
  },
  {
   "cell_type": "markdown",
   "id": "1da3faa1-9f91-4be6-9cd1-45ab42d1923d",
   "metadata": {},
   "source": [
    "Click the word `IEnumerable`, and the light bulb will appear on the left near the line numbers. Click the drop-down menu to the right of the light bulb and select **Implement interface**."
   ]
  },
  {
   "cell_type": "markdown",
   "id": "f172b337-e761-49b3-8fac-df8322e974ba",
   "metadata": {},
   "source": [
    "Scroll to the end of the class and find the newly added methods.\n",
    "\n",
    "It is very convenient that the `TehiGame` controller uses a `List<PlayingCard>` internally to hold the cards in the hand. It already has an enumerator that we can return."
   ]
  },
  {
   "cell_type": "markdown",
   "id": "617be163-c9a5-4c79-88fd-0df0a029f994",
   "metadata": {},
   "source": [
    "Replace the automatically generated throw code in each `GetEnumerator()` with `return hand.GetEnumerator();`."
   ]
  },
  {
   "cell_type": "markdown",
   "id": "814bb609-a754-4d3e-8d10-3cbd6011a914",
   "metadata": {},
   "source": [
    "Get a clean compile."
   ]
  },
  {
   "cell_type": "markdown",
   "id": "a1962be0-ce55-4f18-be45-8cd518c4f40a",
   "metadata": {},
   "source": [
    "#### Test our enumerator via the user interface."
   ]
  },
  {
   "cell_type": "markdown",
   "id": "045214fb-bc8b-4a16-b598-101013c76b2a",
   "metadata": {},
   "source": [
    "Open `Form1.cs` for editing and move to the `ShowOutput` method."
   ]
  },
  {
   "cell_type": "markdown",
   "id": "7483e8f1-2e9c-489b-846d-6c513763f21e",
   "metadata": {},
   "source": [
    "Before the line that shows the `game.ToString()`, add a `foreach` loop to go through each playing card in the game, and display it individually in the list box."
   ]
  },
  {
   "cell_type": "markdown",
   "id": "da9ac646-f0b0-496a-bd92-a218fb0aaa2c",
   "metadata": {},
   "source": [
    "Compile and test. You can resize the form as necessary to see all of the cards.\n",
    "\n",
    "Note that the individual cards are shown in the same order as in the game controller."
   ]
  },
  {
   "cell_type": "markdown",
   "id": "bbcadea6-4855-40b5-b72e-ec63d7a72051",
   "metadata": {},
   "source": [
    "## Adding graphic images for the playing cards."
   ]
  },
  {
   "cell_type": "markdown",
   "id": "47141bf0-d215-4ad5-a651-4df8ffac810c",
   "metadata": {},
   "source": [
    "Open `Form1.cs` in the Forms Designer."
   ]
  },
  {
   "cell_type": "markdown",
   "id": "b9dbbaba-f16b-4390-8601-b77b34dd3932",
   "metadata": {},
   "source": [
    "Drag a `PictureBox` control to the position where you want the first card image. In its property sheet, set:\n",
    "\n",
    "- `Anchor` to the bottom only\n",
    "- `Size: Height` to `96`\n",
    "- `Size: Width` to `69`\n",
    "- `Visible` to `false`\n",
    "\n",
    "Adjust its position so that it looks correct. Resize the list box if necessary to make room for the card image."
   ]
  },
  {
   "cell_type": "markdown",
   "id": "b6200a83-1bcb-4de9-a2ce-06dcaf1e70ac",
   "metadata": {},
   "source": [
    "Copy this picture box and paste it in four more times. Position the picture boxes so that they look right.\n",
    "\n",
    "It should look something like the following screenshot. The card images will show in green.\n",
    "    \n",
    "![Screenshot](images/ex062_14.png)"
   ]
  },
  {
   "cell_type": "markdown",
   "id": "5d956b85-654e-434e-92ee-e1dd24f1dc8f",
   "metadata": {},
   "source": [
    "Compile and execute the program.\n",
    "\n",
    "The card images should not yet appear."
   ]
  },
  {
   "cell_type": "markdown",
   "id": "8ddb00ab-ff37-4e13-9f29-4a9331e3b439",
   "metadata": {},
   "source": [
    "#### Modify our game-table form to display card images in the picture boxes."
   ]
  },
  {
   "cell_type": "markdown",
   "id": "9b4e4ffb-43db-4dfa-ac14-af77cb28acb7",
   "metadata": {},
   "source": [
    "Our business logic is in the `PlayingCard` class. We need to pull the appropriate data from it to display the correct picture box image. Each image in the image list is accessible by an index value: 0 will provide the face-down image; 1 to 52 will provide the appropriate playing card face. The `PlayingCard` class has an `Index` property that conveniently yields those exact values."
   ]
  },
  {
   "cell_type": "markdown",
   "id": "3ee52667-7b3d-4014-b877-f5e0c566aa3e",
   "metadata": {},
   "source": [
    "Open `Form1.cs` for editing and move to after the end of the `ShowOutput()` method. Add a method to paint the cards on the display. It should have the specification `private void PaintCard(PictureBox image, PlayingCard card)`. \n",
    "\n",
    "The logic should:\n",
    "\n",
    "- Set the image visibility to `true`\n",
    "- Get the card index using `card.Index`;\n",
    "- Get the image from the `PlayingCardImageList`\n",
    "\n",
    "Alternatively, you can copy and paste the following code to paint a card:\n",
    "\n",
    "```C#\n",
    "private void PaintCard(PictureBox image, PlayingCard card)\n",
    "{\n",
    "    image.Visible = true; \n",
    "    int ix = card.Index;\n",
    "    image.Image = PlayingCardImageList.Images[ix];\n",
    "}\n",
    "```"
   ]
  },
  {
   "cell_type": "markdown",
   "id": "d3897287-76e6-46cc-b7e6-b4246ddfdc22",
   "metadata": {},
   "source": [
    "Get a clean compile. Use **Build | Rebuild Solution**."
   ]
  },
  {
   "cell_type": "markdown",
   "id": "c45774a2-8e08-4a50-8b6b-3df9916faa8a",
   "metadata": {},
   "source": [
    "#### Obtain the images from the `PlayingCardImageList` and display them in the picture boxes."
   ]
  },
  {
   "cell_type": "markdown",
   "id": "10722794-5631-4e5f-bb52-0fcae7e3f04b",
   "metadata": {},
   "source": [
    "Move to the `ShowOutput()` method, and after the end of the `foreach` loop, add the code to create an array of `PictureBoxes`.\n",
    "\n",
    "You can use...\n",
    "\n",
    "```C#\n",
    "PictureBox[] images = { pictureBox1, pictureBox2, pictureBox3, pictureBox4, pictureBox5 };\n",
    "```"
   ]
  },
  {
   "cell_type": "markdown",
   "id": "8237cba8-a2c0-4479-95f8-bd1656af8d9f",
   "metadata": {},
   "source": [
    "Create a `for` loop to display the cards.\n",
    "\n",
    "Because `IEnumerable<PlayingCard>` has been implemented in the `TehiGame` class, various extension methods are available to us. In particular, `Count()` will tell us how many cards are in the game hand and `ElementAt()` will let us access a specific card. We do not have to write these methods.\n",
    "\n",
    "You can use...\n",
    "    \n",
    "```C#\n",
    "for (int i = 0; i < game.Count(); i++)\n",
    "{\n",
    "    PaintCard(images[i], game.ElementAt(i));\n",
    "}\n",
    "```"
   ]
  },
  {
   "cell_type": "markdown",
   "id": "4bb0bd22-f90c-434f-8b35-fa5b72bfca7e",
   "metadata": {},
   "source": [
    "Compile and test. The card images should now show. After dealing a few hands, click the **New** menu item.\n",
    "\n",
    "Note that the card images were not cleared."
   ]
  },
  {
   "cell_type": "markdown",
   "id": "8557601c-206e-49f4-acc1-517680595266",
   "metadata": {},
   "source": [
    "#### Modify the **Game | New** menu option to clear the cards."
   ]
  },
  {
   "cell_type": "markdown",
   "id": "8771a5b7-83d2-4ed4-8fdd-a8f40723e61a",
   "metadata": {},
   "source": [
    "Move to the event method for the new game menu item and, before the copde that creates a new game, create an array of five `PictureBox` components called `images`. Initialize it to `pictureBox1`, `pictureBox2` and so on.\n",
    "\n",
    "Use something like...\n",
    "\n",
    "```C#\n",
    "PictureBox[] images = {pictureBox1, pictureBox2, pictureBox3, pictureBox4, pictureBox5};\n",
    "```"
   ]
  },
  {
   "cell_type": "markdown",
   "id": "0d696db0-483d-499e-83d9-5c50a705ec2b",
   "metadata": {},
   "source": [
    "In the next line, loop through all the images and set their `Visible` property to `false`.\n",
    "\n",
    "Use something like...\n",
    "\n",
    "```C#\n",
    "foreach (PictureBox box in images)\n",
    "{\n",
    "    box.Visible = false;\n",
    "}\n",
    "```"
   ]
  },
  {
   "cell_type": "markdown",
   "id": "8a744ee4-c0af-401b-b681-c309512b77d9",
   "metadata": {},
   "source": [
    "Compile and test. Try starting a new game.\n",
    "\n",
    "The card images should disappear when **New** is selected."
   ]
  },
  {
   "cell_type": "markdown",
   "id": "c14750b6-180a-4668-92f8-a524d9dbd97a",
   "metadata": {},
   "source": [
    "## Congratulations! You have successfully completed the exercise. Continue to the bonus if you have more time."
   ]
  },
  {
   "cell_type": "markdown",
   "id": "9a4f72e2-81fa-412f-b7f9-90b1fff92398",
   "metadata": {
    "tags": []
   },
   "source": [
    "# Bonus (Optional)"
   ]
  },
  {
   "cell_type": "markdown",
   "id": "73a8c6c7-e855-46e2-8440-0c21b937ae25",
   "metadata": {},
   "source": [
    "Finish the game logic by adding support for swapping cards.\n",
    "\n",
    "The game logic is not complete. When playing, the user can optionally swap a single card after each hand is dealt to improve the score. Let's implement this now."
   ]
  },
  {
   "cell_type": "markdown",
   "id": "c5b072ad-f082-4b0b-bf43-a66f2dc9160c",
   "metadata": {},
   "source": [
    "Open `TehiGame.cs` for editing, and after the `BestHandScore` property, add an auto-implemented `bool` property called `CanSwapCards`. This is to track if swapping is allowed or not. The `set` clause of the property should be `private`."
   ]
  },
  {
   "cell_type": "markdown",
   "id": "4a3da438-9c8b-4303-b7aa-53a8d4d9a6ca",
   "metadata": {},
   "source": [
    "Move to the `Deal()` method, and at the end, set `CanSwapCards` to `true`. Cards can only be swapped after dealing."
   ]
  },
  {
   "cell_type": "markdown",
   "id": "3b91ba20-853e-4e4f-8330-7b6d447f7747",
   "metadata": {},
   "source": [
    "After the end of the `Deal()` method, add the framework for a new method:\n",
    "`public void SwapCard(int cardIndex)`."
   ]
  },
  {
   "cell_type": "markdown",
   "id": "6abae5e4-65f4-4a7d-9d50-a5c3403c402a",
   "metadata": {},
   "source": [
    "In this method, add the code to swap the card. The logic path you can follow is:\n",
    "\n",
    "- Add `hand[cardIndex]` back into the deck\n",
    "- Shuffle the deck\n",
    "- Deal a card back into `hand[cardIndex]`\n",
    "- Set `hand[cardIndex].FaceUp = true;`\n",
    "- Record if this new hand produces the best hand score (copy the line of code from the `Deal()` method)\n",
    "- Set `CanSwapCards` to `false` (no more swapping until the next deal operation)\n",
    "\n",
    "Alternatively, you can copy and paste the following:\n",
    "\n",
    "```C#\n",
    "deck.Add(hand[cardIndex]); \n",
    "deck.Shuffle(); \n",
    "hand[cardIndex] = deck.Deal(); \n",
    "hand[cardIndex].FaceUp = true;\n",
    "if (Score > BestHandScore) \n",
    "    BestHandScore = Score; \n",
    "CanSwapCards = false;\n",
    "```"
   ]
  },
  {
   "cell_type": "markdown",
   "id": "dc7f8db2-b8b9-472d-9557-c5ecc9e8bc8c",
   "metadata": {},
   "source": [
    "Get a clean compile."
   ]
  },
  {
   "cell_type": "markdown",
   "id": "71a69cc9-9bd8-43eb-9d6e-4827e9a93fa7",
   "metadata": {},
   "source": [
    "#### Modify the user interface to support card swapping."
   ]
  },
  {
   "cell_type": "markdown",
   "id": "148019aa-6988-4bf9-b717-2619b6331847",
   "metadata": {},
   "source": [
    "Open `Form1.cs` for editing and move to the `ShowOutput()` method. After the line that creates the array of picture boxes, create an array of buttons with each swap button in it.\n",
    "\n",
    "You can use...\n",
    "\n",
    "```C#\n",
    "Button[] swapButtons = { SwapButton0, SwapButton1, SwapButton2, SwapButton3, SwapButton4 };\n",
    "```"
   ]
  },
  {
   "cell_type": "markdown",
   "id": "831fc6eb-860e-44e5-b709-7fc0ba3bf2b3",
   "metadata": {},
   "source": [
    "Insert the logic to enable/disable the Swap buttons based on whether the game can swap cards.\n",
    "\n",
    "The buttons are `button1` through `button5`.\n",
    "\n",
    "You can use something like...\n",
    "\n",
    "```C#\n",
    "button1.Enabled = game.CanSwapCards;\n",
    "```"
   ]
  },
  {
   "cell_type": "markdown",
   "id": "ba5206d1-28b7-4322-b55f-93d0d949466a",
   "metadata": {},
   "source": [
    "Inside the `for` loop, add the logic to enable or disable the buttons using the `CanSwapCards` property."
   ]
  },
  {
   "cell_type": "markdown",
   "id": "2556a2a8-eaa5-4be7-a554-99edbfc3fcb3",
   "metadata": {},
   "source": [
    "Open `Form1.cs` in design mode, and set each **Swap** button's `Enabled` property to `false`."
   ]
  },
  {
   "cell_type": "markdown",
   "id": "92a1d089-0990-4017-85bf-37f6015197b4",
   "metadata": {},
   "source": [
    "Compile and test. The buttons should be disabled until the **Deal** button is clicked."
   ]
  },
  {
   "cell_type": "markdown",
   "id": "75b589dc-101a-4b93-99c5-9c6b0f2478a5",
   "metadata": {},
   "source": [
    "#### Add event processing for the **Swap** buttons."
   ]
  },
  {
   "cell_type": "markdown",
   "id": "aac9ef28-9000-4014-961d-5be9fe05df46",
   "metadata": {},
   "source": [
    "Open `Form1.cs` in edit mode and move to the `SwapCard(...)` method."
   ]
  },
  {
   "cell_type": "markdown",
   "id": "4a10e737-fd86-413e-bd63-8644c900759e",
   "metadata": {},
   "source": [
    "In this event method, insert the statements:\n",
    "\n",
    "```C#\n",
    "game.SwapCard(ix); \n",
    "ShowOutput();\n",
    "```"
   ]
  },
  {
   "cell_type": "markdown",
   "id": "a98bdd10-9ad5-4161-960c-2ae957df3bca",
   "metadata": {},
   "source": [
    "Compile and test. Confirm that the corresponding card in the output is being changed each time you click a **Swap** button."
   ]
  },
  {
   "cell_type": "markdown",
   "id": "8b304c59-f780-4152-a992-b74bd16be1fe",
   "metadata": {},
   "source": [
    "#### Clean up the new game logic."
   ]
  },
  {
   "cell_type": "markdown",
   "id": "018f2898-3e34-43e1-85e5-cd21bed56409",
   "metadata": {},
   "source": [
    "Move to the new game event method and add logic to disable all of the **Swap** buttons."
   ]
  },
  {
   "cell_type": "markdown",
   "id": "ac25d04f-d040-40eb-8cea-8d1f4fe5d53a",
   "metadata": {},
   "source": [
    "Compile and test. Ensure the **Swap** buttons are disabled when you select **New**."
   ]
  },
  {
   "cell_type": "markdown",
   "id": "54812a67-5192-4c0f-8dd9-253a9911d87e",
   "metadata": {},
   "source": [
    "## Congratulations! You have completed the bonus."
   ]
  }
 ],
 "metadata": {
  "kernelspec": {
   "display_name": ".NET (C#)",
   "language": "C#",
   "name": ".net-csharp"
  },
  "language_info": {
   "file_extension": ".cs",
   "mimetype": "text/x-csharp",
   "name": "C#",
   "pygments_lexer": "csharp",
   "version": "9.0"
  }
 },
 "nbformat": 4,
 "nbformat_minor": 5
}

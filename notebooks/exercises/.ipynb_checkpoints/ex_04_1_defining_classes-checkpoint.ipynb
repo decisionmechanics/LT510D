{
 "cells": [
  {
   "cell_type": "markdown",
   "id": "5531c51f-3bf1-403d-a488-183125639401",
   "metadata": {
    "tags": []
   },
   "source": [
    "# Hands-On Exercise 4.1: Defining Classes"
   ]
  },
  {
   "cell_type": "markdown",
   "id": "546096d4-ff52-44e6-b7a9-9d36273795ab",
   "metadata": {},
   "source": [
    "## Objective"
   ]
  },
  {
   "cell_type": "markdown",
   "id": "18e4453a-40cc-48d0-94a7-ba6714793741",
   "metadata": {
    "tags": []
   },
   "source": [
    "Become familiar with creating classes by producing abstractions of standard playing cards. A standard deck of 52 playing cards is a common basis for many popular and entertaining games, including Poker, Bridge, Hearts, Euchre, Blackjack, Cribbage, Crazy Eights, Fish---or even your favorite! If you were to program any of these games in C#, creating a `PlayingCard` class would be a good place to start. This abstraction of playing cards will form the basis of the business logic for our game, \"The Eyes Have It.\"\n",
    "\n",
    "At the end of the exercise, the PlayingCard class will match this UML model:\n",
    "\n",
    "![UML diagram](images/ex041_objective.jpg)"
   ]
  },
  {
   "cell_type": "markdown",
   "id": "72f1b327-0b57-47f3-8f66-3b2bfc772e28",
   "metadata": {},
   "source": [
    "Close the previous solution if you have not already done so."
   ]
  },
  {
   "cell_type": "markdown",
   "id": "318e81f7-644c-4b31-89d9-abda7c44683d",
   "metadata": {
    "tags": []
   },
   "source": [
    "#### Open the solution `Tehi.sln` found in the directory `C:\\Course\\510D\\Exercises\\Ex041\\`."
   ]
  },
  {
   "cell_type": "markdown",
   "id": "cc505da4-4d7d-457c-ab77-11f4f0546af0",
   "metadata": {},
   "source": [
    "This exercise continues from the bonus solution of the previous exercise."
   ]
  },
  {
   "cell_type": "markdown",
   "id": "4cc66a67-444d-496c-a2d4-ab568c726011",
   "metadata": {},
   "source": [
    "#### Create a new class library for the playing card-related classes."
   ]
  },
  {
   "cell_type": "markdown",
   "id": "183e500e-7d85-44a8-a61d-06e2b8152c2a",
   "metadata": {},
   "source": [
    "If it is not already visible, open the Solution Explorer by selecting **View | Solution Explorer** from the Visual Studio menu bar."
   ]
  },
  {
   "cell_type": "markdown",
   "id": "5a1c0cb2-614c-48b9-adfa-c04e2003dc90",
   "metadata": {},
   "source": [
    "Right-click the solution **Tehi** (_not_ the project) and select **Add | New Project...**. In the dialog wizard that pops up, search for a a project type of **Class Library**. Make sure the one you choose is for C# and targets .NET Standard, or .NET Core (i.e. not the old .NET Framework).\n",
    "\n",
    "Enter the following values as you complete the wizard:\n",
    "\n",
    "- Project name: `CardLib`\n",
    "- Location: `C:\\Course\\510D\\Exercises\\Ex041\\`\n",
    "- Framework: `.NET 6.0`\n",
    "\n",
    "Click **Create**.\n",
    "\n",
    "A new project will be created for you with a single class in it called `Class1.cs`."
   ]
  },
  {
   "cell_type": "markdown",
   "id": "e3156ea8-f757-4fbf-89e6-36f048830ba7",
   "metadata": {},
   "source": [
    "In the Solution Explorer window, right-click `Class1.cs` and rename it to `PlayingCard.cs`. When a dialog appears asking if other references should be renamed, select **Yes**."
   ]
  },
  {
   "cell_type": "markdown",
   "id": "da4d9369-0859-46d0-8d17-497cb07fac66",
   "metadata": {},
   "source": [
    "Get a clean compile."
   ]
  },
  {
   "cell_type": "markdown",
   "id": "a26fa683-0705-4c89-aede-ce42f74cd9f5",
   "metadata": {},
   "source": [
    "#### Add the basic fields and properties for a playing card."
   ]
  },
  {
   "cell_type": "markdown",
   "id": "6caa9285-a881-4762-8d01-6095a2db2973",
   "metadata": {},
   "source": [
    "For a playing card, there will be one field and two properties:\n",
    "\n",
    "- `faceUp` is a private `bool` field that determines if the card is displayed with its back or face showinga.\n",
    "- `Rank` is a get-only property that will be used to indicate if the card is an ace through to a king. It will be implemented as an integer because it will be used numerically throughout the application.\n",
    "- `Suit` is also a get-only property and will be used to indicate if the card is a club, diamond, heart, or spade. You will first declare an `enum` to define these non-numeric values."
   ]
  },
  {
   "cell_type": "markdown",
   "id": "3b94cb59-9d5d-4779-ae95-c7e03774261e",
   "metadata": {},
   "source": [
    "In `PlayingCard.cs` move to before the class declaration, and add a\n",
    "public enumeration (`enum`) called `CardSuit`. The elements should be `Clubs`, `Diamonds`, `Hearts` and `Spades`.\n",
    "\n",
    "You can use...\n",
    "\n",
    "```C#\n",
    "public enum CardSuit { Clubs, Diamonds, Hearts, Spades }\n",
    "```"
   ]
  },
  {
   "cell_type": "markdown",
   "id": "6ee50434-b4d6-4bb0-9e27-d446e164775b",
   "metadata": {},
   "source": [
    "Move to the first line _inside_ of the `PlayingCard` class and insert a `private bool` field called called `faceUp` to track if the front or the back of the card is showing. If the card is face up, then the front face will be showing.\n",
    "\n",
    "Note that by convention, fields start with a lowercase letter.\n",
    "\n",
    "You can use something like...\n",
    "\n",
    "```C#\n",
    "private bool faceUp;\n",
    "```"
   ]
  },
  {
   "cell_type": "markdown",
   "id": "82dc0c99-4059-4c39-9d12-e4809cbb3e14",
   "metadata": {},
   "source": [
    "After the `faceUp` field, add a `public int` property called `Rank`. It should have a `private set`.\n",
    "\n",
    "Note that by convention, properties begin with an uppercase letter.\n",
    "\n",
    "You can use...\n",
    "\n",
    "```C#\n",
    "public int Rank { get; private set; }\n",
    "```"
   ]
  },
  {
   "cell_type": "markdown",
   "id": "0c9abd5d-29ff-4a8e-a09b-1685f3ad1638",
   "metadata": {},
   "source": [
    "Repeat for the `Suit` property, but its type should be `CardSuit` not `int`.\n",
    "\n",
    "You can use...\n",
    "\n",
    "```C#\n",
    "public CardSuit Suit { get; private set; }\n",
    "```"
   ]
  },
  {
   "cell_type": "markdown",
   "id": "f4e76583-261a-42d3-b8bf-bba88e06d682",
   "metadata": {},
   "source": [
    "Why is it a good practice to make the set operation for `Rank` and `Suit` private?"
   ]
  },
  {
   "cell_type": "markdown",
   "id": "1254d7c4-fe63-41af-bb3c-87c85246d451",
   "metadata": {},
   "source": [
    "#### Answer..."
   ]
  },
  {
   "cell_type": "markdown",
   "id": "c314f814-ced6-47ea-9dcb-cb14e578f43e",
   "metadata": {
    "jupyter": {
     "source_hidden": true
    },
    "tags": []
   },
   "source": [
    "In the real world, once the rank and suit of a playing card are established, they cannot be changed from client logic."
   ]
  },
  {
   "cell_type": "markdown",
   "id": "c4019110-4d1e-48c3-bd69-94f5d8796165",
   "metadata": {},
   "source": [
    "Get a clean compile---ignore any \"not used\" warnings."
   ]
  },
  {
   "cell_type": "markdown",
   "id": "7d54d811-1e88-490d-bb84-9ca77a6a8e58",
   "metadata": {},
   "source": [
    "#### Add a constructor to force a playing card to be initialized when it is created."
   ]
  },
  {
   "cell_type": "markdown",
   "id": "154518f5-05a5-40b7-b23a-0cced856e16d",
   "metadata": {},
   "source": [
    "After the field definitions, add the framework for a constructor with the signature:\n",
    "\n",
    "```C#\n",
    "public PlayingCard(int rank, CardSuit suit)\n",
    "{\n",
    "}\n",
    "```"
   ]
  },
  {
   "cell_type": "markdown",
   "id": "bd1cbec9-b548-4c87-81b4-95d5a3491398",
   "metadata": {},
   "source": [
    "In the body of the constructor, add the code to assign the `rank` parameter to the `Rank` property."
   ]
  },
  {
   "cell_type": "markdown",
   "id": "a54345b4-9e78-443a-b9a2-2046b6bf84f6",
   "metadata": {},
   "source": [
    "Repeat for the suit parameter/property pair."
   ]
  },
  {
   "cell_type": "markdown",
   "id": "fbd9c128-6169-4413-8985-47cbcecea5a8",
   "metadata": {},
   "source": [
    "You can use...\n",
    "\n",
    "```C#\n",
    "Rank = rank;\n",
    "Suit = suit;\n",
    "```"
   ]
  },
  {
   "cell_type": "markdown",
   "id": "ce7dba93-ddd8-4aa5-8fe1-aecd90938021",
   "metadata": {},
   "source": [
    "In the next line of code, initialize `faceUp` to be `false`."
   ]
  },
  {
   "cell_type": "markdown",
   "id": "50476f4a-0b81-4e27-a24f-b3e3de02e60a",
   "metadata": {},
   "source": [
    "Get a clean compile---ignore any \"not used\" warnings."
   ]
  },
  {
   "cell_type": "markdown",
   "id": "4f9413a9-a1cc-40eb-8467-ffc5d0a4ec3f",
   "metadata": {},
   "source": [
    "#### Add the logic for flipping cards to change them from face up to face down and vice versa."
   ]
  },
  {
   "cell_type": "markdown",
   "id": "0b5a1a7e-c8a4-41cb-86d8-f5c294394696",
   "metadata": {},
   "source": [
    "Add the method `public void Flip()`. It should flip the state of the `faceUp` field. If `faceUp` is `false` it should become ```true``` and vice versa.\n",
    "\n",
    "This can be done in a single line of code without any `if/else` statements...using the `!` (negation) operator.\n",
    "\n",
    "```C#\n",
    "public void Flip()\n",
    "{\n",
    "    faceUp = !faceUp;\n",
    "}\n",
    "```"
   ]
  },
  {
   "cell_type": "markdown",
   "id": "d4597f26-3efc-4583-ad93-b90d910e6d8d",
   "metadata": {},
   "source": [
    "Get a clean compile—ignore any \"not used\" warnings."
   ]
  },
  {
   "cell_type": "markdown",
   "id": "e5b45843-860d-467f-9bfa-2268fa1edd3d",
   "metadata": {},
   "source": [
    "#### Add `ToString` to provide a convenient output format."
   ]
  },
  {
   "cell_type": "markdown",
   "id": "e884a4db-1fa3-41d8-a585-7e8d0e24c635",
   "metadata": {},
   "source": [
    "<font color=\"red\">**Warning! Note that `ToString` should not do any output; it should only return a `string` representation of the card.**</font>"
   ]
  },
  {
   "cell_type": "markdown",
   "id": "f8ddd258-ccbf-4cb9-aba2-1078832eb8e7",
   "metadata": {},
   "source": [
    "Move to the line after the `Flip()` method. Enter the word `override` and press the `<Spacebar>`. Select `ToString()` from the drop-down list and the method's framework will be implemented for you."
   ]
  },
  {
   "cell_type": "markdown",
   "id": "398aa216-b570-4c55-b6bc-414cfe4ed46e",
   "metadata": {},
   "source": [
    "Delete all of the code inside this method."
   ]
  },
  {
   "cell_type": "markdown",
   "id": "43da4903-2457-4fb4-ba42-54d7ef204e5a",
   "metadata": {},
   "source": [
    "Add the logic to detect whether the card is face-up or face-down. If it is face- up, return the rank and the suit; if not, return the string **XX**, indicating the card is hidden.\n",
    "\n",
    "You can use something like...\n",
    "\n",
    "```C#\n",
    "if (!this.faceUp) return \"XX\"; \n",
    "\n",
    "return Rank + \" \" + Suit;\n",
    "```"
   ]
  },
  {
   "cell_type": "markdown",
   "id": "5aae1cf0-3968-47db-a6fa-b63766686ef8",
   "metadata": {},
   "source": [
    "Get a clean compile.\n",
    "\n",
    "We are now ready to test our playing card abstraction."
   ]
  },
  {
   "cell_type": "markdown",
   "id": "1a52dfce-6170-4b6f-b1d6-116c470f4308",
   "metadata": {},
   "source": [
    "#### Add a reference in the `Tehi` project to the `CardLib` project."
   ]
  },
  {
   "cell_type": "markdown",
   "id": "c387c6c5-7edd-4c0e-a8af-515f9cb4e592",
   "metadata": {},
   "source": [
    "In Solution Explorer right-click the **Dependencies** folder under the **Tehi** project (not Solution) and select **Add Project Reference...**. In the dialog box, click the **Solutions** tab (under Projects) and select `CardLib` by selecting the checkbox. Click **OK**."
   ]
  },
  {
   "cell_type": "markdown",
   "id": "7de87bd2-a771-4159-a05e-0bb8fa5b2aa9",
   "metadata": {},
   "source": [
    "#### Modify the `DealButton_Click` method to test the creation and use of our playing cards."
   ]
  },
  {
   "cell_type": "markdown",
   "id": "84a26e49-4ce9-403e-bf00-569b30af0a0d",
   "metadata": {},
   "source": [
    "Right-click `Form1.cs` in Solution Explorer and select **View Code**."
   ]
  },
  {
   "cell_type": "markdown",
   "id": "76692930-1391-4d9b-838a-19e868eed653",
   "metadata": {},
   "source": [
    "Add `using CardLib;` at the appropriate place."
   ]
  },
  {
   "cell_type": "markdown",
   "id": "734975a3-60ac-4841-967b-5ed6f89067cb",
   "metadata": {},
   "source": [
    "Move to the `DealButton_Click` method and _delete_ the line that displays the spade symbol."
   ]
  },
  {
   "cell_type": "markdown",
   "id": "873a12d1-f590-4ba1-8080-dbee8b677509",
   "metadata": {},
   "source": [
    "After the line that clears the list box, create an instance of a playing card. Call its reference `card`. Use a rank value of **5** and a suit of **clubs**.\n",
    "\n",
    "To specify clubs, use `CardSuit.Clubs`...\n",
    "\n",
    "```C#\n",
    "PlayingCard card = new PlayingCard(5,CardSuit.Clubs);\n",
    "```"
   ]
  },
  {
   "cell_type": "markdown",
   "id": "aa23276b-edbc-4712-8221-3d455e28a82d",
   "metadata": {},
   "source": [
    "Next, display the card's information in the listbox.\n",
    "\n",
    "Remember, the `PlayingCard` class has a `ToString()` method so you do not need to examine each individual property in order to display it.\n",
    "\n",
    "You can use...\n",
    "\n",
    "```C#\n",
    "LogListBox.Items.Add(\"Card: \" + card);\n",
    "```\n"
   ]
  },
  {
   "cell_type": "markdown",
   "id": "e3c67f5f-8d0d-40a5-90d8-39e32d3e83ed",
   "metadata": {},
   "source": [
    "Compile (use `<F5>`) and test by clicking the **Deal** button.\n",
    "\n",
    "What was displayed and why?"
   ]
  },
  {
   "cell_type": "markdown",
   "id": "4724170b-b124-4341-b9c7-72d9223d4ad7",
   "metadata": {},
   "source": [
    "#### Answer..."
   ]
  },
  {
   "cell_type": "markdown",
   "id": "585590b2-b78e-4ab6-b383-f3e689f7bae1",
   "metadata": {
    "jupyter": {
     "source_hidden": true
    },
    "tags": []
   },
   "source": [
    "You should see **XX** because the card is face down."
   ]
  },
  {
   "cell_type": "markdown",
   "id": "e3bbe142-240b-449a-b65e-4198b2a10681",
   "metadata": {},
   "source": [
    "Before the card is displayed in the list box, add `card.Flip();`."
   ]
  },
  {
   "cell_type": "markdown",
   "id": "39426c0d-1d61-4362-9ca2-ab72be656e22",
   "metadata": {},
   "source": [
    "Compile and test.\n",
    "\n",
    "The rank and suit should be displayed.\n",
    "\n",
    "How did the `ToString()` method get called?"
   ]
  },
  {
   "cell_type": "markdown",
   "id": "166b7c56-d277-4efa-948c-2e8cce2dc2bf",
   "metadata": {},
   "source": [
    "#### Answer..."
   ]
  },
  {
   "cell_type": "markdown",
   "id": "b5279754-eea9-4ec9-a140-9595cee68789",
   "metadata": {
    "jupyter": {
     "source_hidden": true
    },
    "tags": []
   },
   "source": [
    "`ToString()` is called implicitly. Since the compiler knows that the result must be a string, it automatically adds the call to `ToString()` if we do not explicitly use it.\n",
    "\n",
    "The rank should be displayed as an integer and the suit as text."
   ]
  },
  {
   "cell_type": "markdown",
   "id": "2687cf8e-b624-44f9-b947-040c69a7cf31",
   "metadata": {},
   "source": [
    "#### Modify the `ToString()` method in the `PlayingCard` class to use standard two-digit card codes."
   ]
  },
  {
   "cell_type": "markdown",
   "id": "65d32683-6539-4788-a267-194e9980dde0",
   "metadata": {},
   "source": [
    "It is more typical to use a symbol for a playing card's suit and use a two- digit format. Let's implement this now!\n",
    "\n",
    "One approach to doing this would be to use `if/else logic`, but it's easier to look up the appropriate values using string indexing."
   ]
  },
  {
   "cell_type": "markdown",
   "id": "a98b423a-c5e6-44d7-9e02-755be75e1527",
   "metadata": {},
   "source": [
    "Open `PlayingCard.cs`, move to the `ToString()` method, and add definitions for two strings with the appropriate Unicode characters for the card suits.\n",
    "\n",
    "You can use something like...\n",
    "\n",
    "```C#\n",
    "if (!faceUp) return \"XX\";\n",
    "string suits = \"\\u2663\\u2666\\u2665\\u2660\"; \n",
    "string ranks = \" A23456789TJQK\";\n",
    "```\n",
    "\n",
    "<font color=\"red\">**Watch out! The `rank` string must begin with a space character.**</font>"
   ]
  },
  {
   "cell_type": "markdown",
   "id": "23fc187d-f597-46ae-a40d-607410480364",
   "metadata": {},
   "source": [
    "Replace the return statement with the Indexing logic.\n",
    "\n",
    "Note that `Suit` must be cast as an `int` to use it as an index.\n",
    "\n",
    "You can use...\n",
    "\n",
    "```C#\n",
    "return \"\" + ranks[Rank] + suits[(int)Suit];\n",
    "```"
   ]
  },
  {
   "cell_type": "markdown",
   "id": "11fc9635-67be-4266-878b-7ead62854a68",
   "metadata": {},
   "source": [
    "Get a clean compile and test. Ensure that you got the correct two-digit code for the 5 of clubs."
   ]
  },
  {
   "cell_type": "markdown",
   "id": "b4e09524-5de6-41c0-9ed7-4d1844fe7674",
   "metadata": {},
   "source": [
    "#### Add constant values in the playing card class for the named ranks."
   ]
  },
  {
   "cell_type": "markdown",
   "id": "f7b4d7e5-67e5-4143-8a20-bb389e4cac82",
   "metadata": {},
   "source": [
    "It would be more convenient for users of the playing card class if some constant values were defined for the \"named ranks.\" It can be confusing to remember that, for example, 12 is a queen. We will start by defining constants for the special rank values (ace, jack, queen, and king). This is not necessary for the suit since it is an enumeration.\n",
    "\n",
    "Although it is tempting to try to make `rank` an `enum`, too, this turns out to be very inconvenient later. Rank is used almost exclusively as an integer value, so we will leave it that way. At the end of the course, if you like, you can try making `rank` an `enum` to see the problems that it causes."
   ]
  },
  {
   "cell_type": "markdown",
   "id": "b53ff95c-8582-44cb-881d-c55a5ab22e98",
   "metadata": {},
   "source": [
    "Move to the top of the `PlayingCard` class and, _before_ the fields, insert constants for Ace, Jack, Queen, and King. Jack is 11; King is 13. Use something like:\n",
    "\n",
    "```C#\n",
    "public const int Ace = 1;\n",
    "```"
   ]
  },
  {
   "cell_type": "markdown",
   "id": "4828e1cf-7e57-4027-a8fc-e3dde3b9be28",
   "metadata": {},
   "source": [
    "Get a clean compile."
   ]
  },
  {
   "cell_type": "markdown",
   "id": "6cd28a78-6088-46b7-85d7-b0765038996d",
   "metadata": {},
   "source": [
    "In the preceding statements, `const` means the value is constant and known at compile time. By definition, `const` values are static so the `static` keyword is not required. The Microsoft coding style is to use\n",
    "initial-cap format, not the all-uppercase convention followed in some other languages."
   ]
  },
  {
   "cell_type": "markdown",
   "id": "2bfe4347-1db3-4a88-851b-68473a831ced",
   "metadata": {},
   "source": [
    "#### Select `Form1.cs` and modify the `DealButton_Click` method to use the constants."
   ]
  },
  {
   "cell_type": "markdown",
   "id": "33500550-9850-4349-bb11-ce04847d29cc",
   "metadata": {},
   "source": [
    "Select `Form1.cs` for editing and, in the Dea l Bu tt on_C li c k method, modify the call to the constructor to create a queen of clubs. Use `PlayingCard.Queen`.\n",
    "\n",
    "You can use something like...\n",
    "\n",
    "```C#\n",
    "PlayingCard card = new PlayingCard(PlayingCard.Queen, CardSuit.Clubs);\n",
    "```"
   ]
  },
  {
   "cell_type": "markdown",
   "id": "00cc66a8-8c06-4337-bede-b7f1156e3d4f",
   "metadata": {},
   "source": [
    "Compile and test. Ensure that you got the two-digit code for the queen of clubs."
   ]
  },
  {
   "cell_type": "markdown",
   "id": "a7bc484a-a33d-4ad0-8792-3afc475fe3bb",
   "metadata": {},
   "source": [
    "#### Use the properties to explicitly display the rank and suit."
   ]
  },
  {
   "cell_type": "markdown",
   "id": "2e2a9126-a2e3-443e-8927-46101e0d1323",
   "metadata": {},
   "source": [
    "In `Form1.cs`, after the logic that displays the card in the list box, add an explicit display of the rank using:\n",
    "\n",
    "```C#\n",
    "LogListBox.Items.Add( \"Rank \" + card.Rank);\n",
    "```"
   ]
  },
  {
   "cell_type": "markdown",
   "id": "1f55a038-ad2b-4137-ad6e-a04fd10fda3e",
   "metadata": {},
   "source": [
    "Repeat for the suit, then compile and test.\n",
    "\n",
    "Rank should still be displayed as an integer (12 for the Queen) and suit should be displayed as text."
   ]
  },
  {
   "cell_type": "markdown",
   "id": "04c25583-1aab-4059-9682-7b70e28cf7d6",
   "metadata": {},
   "source": [
    "## Congratulations! You have successfully completed the exercise. If you have more time, please continue to the bonus."
   ]
  },
  {
   "cell_type": "markdown",
   "id": "5f2134ca-9bc9-4f7a-a2ac-4243ba10c543",
   "metadata": {},
   "source": [
    "# Bonus (Optional)"
   ]
  },
  {
   "cell_type": "markdown",
   "id": "1f2468d1-cd19-4ab8-b3f7-805e56fb21c9",
   "metadata": {},
   "source": [
    "Make the following improvements to the `PlayingCard` class."
   ]
  },
  {
   "cell_type": "markdown",
   "id": "31926fdb-27c8-4bff-ae93-df221e25936c",
   "metadata": {},
   "source": [
    "#### Modify the constructor of `PlayingCard` to validate the range of the rank being provided."
   ]
  },
  {
   "cell_type": "markdown",
   "id": "b4de6f28-515e-4edd-8bb2-adc18639a922",
   "metadata": {},
   "source": [
    "When writing a class, it is usually a good idea to protect the fields from being set to an invalid value. Right now, the constructor of a playing card will accept any integer value for the rank. It should be limited to between 1 and 13. Let's fix this now."
   ]
  },
  {
   "cell_type": "markdown",
   "id": "f1779464-d4ca-4706-a1dd-60af290120da",
   "metadata": {},
   "source": [
    "Add a `private` method to the `PlayingCard` class to validate the range of an integer. Call it `ValidateRange(int min, int max, int val)`. If `val` is outside of the range, throw a `new ArgumentException( ... )`; otherwise, just return.\n",
    "\n",
    "You can use something like...\n",
    "\n",
    "```C#\n",
    "private void ValidateRange(int val, int min, int max)\n",
    "{\n",
    "    if ((val < min) || (val > max))\n",
    "    {\n",
    "        throw new ArgumentException(\"Value of \" + val + \" is not between \" + min + \" and \" + max);\n",
    "    }\n",
    "}\n",
    "```\n",
    "\n",
    "<font color=\"red\">**Warning! Make sure you add this to the `PlayingCard` class and not to `Form1.cs`, the main test program. Do not write any `try/catch` code!**</font>"
   ]
  },
  {
   "cell_type": "markdown",
   "id": "ae8e387e-eeb7-4154-b04d-1eba3a1ac8ec",
   "metadata": {},
   "source": [
    "Modify the constructor and call `ValidateRange` to check that the `rank` is between `Ace` and `King`. It should be the first line of code in the constructor.\n",
    "\n",
    "You can use...\n",
    "\n",
    "```C#\n",
    "ValidateRange(rank, Ace, King);\n",
    "```"
   ]
  },
  {
   "cell_type": "markdown",
   "id": "e54ecb0e-7470-450c-9ea8-2d4d8136e08e",
   "metadata": {},
   "source": [
    "Compile and test. The program should work as before."
   ]
  },
  {
   "cell_type": "markdown",
   "id": "746eb477-0c79-4db7-9d23-cca5abf968b4",
   "metadata": {},
   "source": [
    "Modify the `DealButton_Click` method in the view and attempt to construct a playing card with an invalid value. Try a rank of 15."
   ]
  },
  {
   "cell_type": "markdown",
   "id": "988823e1-1296-4413-b96b-bf8b444fc2d9",
   "metadata": {},
   "source": [
    "Compile and test. The program should throw an exception. Select from the Visual Studio menu bar **Debug | Stop Debugging**."
   ]
  },
  {
   "cell_type": "markdown",
   "id": "9fa0978e-76e2-497c-8432-bab360603c52",
   "metadata": {},
   "source": [
    "Restore the program back to the queen so that it works again."
   ]
  },
  {
   "cell_type": "markdown",
   "id": "e3f734be-189d-4b5e-bd17-b99c24b2757a",
   "metadata": {},
   "source": [
    "Compile and test to ensure that it is working again."
   ]
  },
  {
   "cell_type": "markdown",
   "id": "5a886c26-8526-471b-9a09-114aa549774e",
   "metadata": {},
   "source": [
    "#### Change the `faceUp` field to be a property called `FaceUp` with both get and set."
   ]
  },
  {
   "cell_type": "markdown",
   "id": "c3cb3173-9ae2-4734-93cf-ee167f098351",
   "metadata": {},
   "source": [
    "Needing to flip a card to display it is probably too inconvenient—it would have been better to make it a property.."
   ]
  },
  {
   "cell_type": "markdown",
   "id": "39ba80f5-a0fb-40e1-8e75-4734849c3d6d",
   "metadata": {},
   "source": [
    "Replace the line `private bool faceUp` with `public bool FaceUp { get; set; }`.\n",
    "\n",
    "<font color=\"red\">**In the foregoing, make sure the property starts with a capital F.**</font>"
   ]
  },
  {
   "cell_type": "markdown",
   "id": "45d9b06c-17a7-4879-bd68-20e2f71d0a4e",
   "metadata": {},
   "source": [
    "In the `PlayingCard` class, modify all references to `faceUp` to be `FaceUp` and get a clean compile."
   ]
  },
  {
   "cell_type": "markdown",
   "id": "7a8bdcb1-7f55-472a-b1d7-34b338d88c49",
   "metadata": {},
   "source": [
    "Go to `Form1.cs`, and in the `DealButton_Click` method, replace the line with the call to `Flip()` to set the card's `FaceUp` property to `true`."
   ]
  },
  {
   "cell_type": "markdown",
   "id": "ab1fc408-0bce-4848-861f-bb0dc127b882",
   "metadata": {},
   "source": [
    "Compile and test. The program should behave as before."
   ]
  },
  {
   "cell_type": "markdown",
   "id": "552f26ff-cc41-4f7b-ad53-1a8eadab67d8",
   "metadata": {},
   "source": [
    "#### Add a manually implemented unique code property to the playing card class."
   ]
  },
  {
   "cell_type": "markdown",
   "id": "6c3e40da-843c-4ba4-a06e-c912f53f62e7",
   "metadata": {},
   "source": [
    "A unique code property is very similar to `ToString()`, except it is a property and gives only a two-digit ASCII result. You will find this convenient later in the course when adding images to the user interface."
   ]
  },
  {
   "cell_type": "markdown",
   "id": "36dc6a88-8514-48ff-b391-ef69e93feb42",
   "metadata": {},
   "source": [
    "Continue editing `PlayingCard.cs` and move to before the `ToString()` method."
   ]
  },
  {
   "cell_type": "markdown",
   "id": "8d9213b2-4929-46ec-8503-aca316809479",
   "metadata": {},
   "source": [
    "Insert the scaffolding for a `string` property called `Code`.\n",
    "    \n",
    "You can use...\n",
    "\n",
    "```C#    \n",
    "public string Code\n",
    "{\n",
    "    get\n",
    "    {\n",
    "    }\n",
    "}\n",
    "```"
   ]
  },
  {
   "cell_type": "markdown",
   "id": "00a97403-4ed9-4f8c-88bd-5deb32fa5dbf",
   "metadata": {},
   "source": [
    "Copy the entire body of the `ToString()` method and paste it into the body of the `get` of `Code`."
   ]
  },
  {
   "cell_type": "markdown",
   "id": "93c43539-f8c9-4528-9114-8015dc4f5755",
   "metadata": {},
   "source": [
    "Change the suit string to plain ASCII: **\"CDHS\"**.\n",
    "\n",
    "You can use...\n",
    "\n",
    "```C#\n",
    "public string Code\n",
    "{\n",
    "    get\n",
    "    {\n",
    "        if (!FaceUp) return \"XX\"; \n",
    "        string suits = \"CDHS\";\n",
    "        string ranks = \" A23456789TJQK\"; // Begins with a space\n",
    "        return \"\" + ranks[Rank] + suits[(int)Suit];\n",
    "    }\n",
    "}\n",
    "```"
   ]
  },
  {
   "cell_type": "markdown",
   "id": "ef84f036-862c-4590-b040-331f0b90de09",
   "metadata": {},
   "source": [
    "Get a clean compile."
   ]
  },
  {
   "cell_type": "markdown",
   "id": "3ed777b9-0da0-466c-813b-baa4958115c3",
   "metadata": {},
   "source": [
    "#### Add a manually implemented unique-index property to the playing card class."
   ]
  },
  {
   "cell_type": "markdown",
   "id": "ab8dd36c-4139-47a2-aaa6-8ea0ff08ccc3",
   "metadata": {},
   "source": [
    "A unique-index property returns a unique integer value for each card. If the card is face-down, the index is 0. You will find this useful later in the course when adding images to the user interface."
   ]
  },
  {
   "cell_type": "markdown",
   "id": "b454797b-b42c-45ba-aadc-e7e92034153d",
   "metadata": {},
   "source": [
    "Insert before the `Code` an `Index` property. If the card is face-up, return `(int)suit * 13 + rank`, or else return `0`.\n",
    "\n",
    "You can use...\n",
    "\n",
    "```C#\n",
    "public int Index\n",
    "{\n",
    "    get\n",
    "    {\n",
    "        if (!FaceUp) return 0;\n",
    "        return (int)Suit * 13 + Rank;\n",
    "    }\n",
    "}\n",
    "```"
   ]
  },
  {
   "cell_type": "markdown",
   "id": "5a6efde3-15df-495f-86b7-2d466efdedb3",
   "metadata": {},
   "source": [
    "Get a clean compile."
   ]
  },
  {
   "cell_type": "markdown",
   "id": "3f3e69bc-bdbf-41c1-802b-042d005ee49b",
   "metadata": {},
   "source": [
    "#### Test the `Code` and `Index` properties in the user interface."
   ]
  },
  {
   "cell_type": "markdown",
   "id": "0106d30f-7d3c-4d8f-b342-c7ea1e59cb6c",
   "metadata": {},
   "source": [
    "Open `Form1.cs` for editing and move to the `DealButton_Click (...)` method. After the line that reports the suit, add lines to display the card's code and index:\n",
    "\n",
    "You can use...\n",
    "\n",
    "```C#\n",
    "LogListBox.Items.Add(\"Code:\" + card.Code); \n",
    "LogListBox.Items.Add(\"Index:\" + card.Index);\n",
    "```"
   ]
  },
  {
   "cell_type": "markdown",
   "id": "7a5cf652-08ea-4ba1-996e-24df18de67bf",
   "metadata": {},
   "source": [
    "Compile and test. The unique index should be 12 for the Queen of Clubs."
   ]
  },
  {
   "cell_type": "markdown",
   "id": "51af038d-d965-4eda-b9bb-b9c27284c090",
   "metadata": {},
   "source": [
    "## Congratulations! You have completed the bonus."
   ]
  }
 ],
 "metadata": {
  "kernelspec": {
   "display_name": ".NET (C#)",
   "language": "C#",
   "name": ".net-csharp"
  },
  "language_info": {
   "file_extension": ".cs",
   "mimetype": "text/x-csharp",
   "name": "C#",
   "pygments_lexer": "csharp",
   "version": "9.0"
  }
 },
 "nbformat": 4,
 "nbformat_minor": 5
}

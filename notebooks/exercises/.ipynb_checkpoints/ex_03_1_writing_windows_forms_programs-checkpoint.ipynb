{
 "cells": [
  {
   "cell_type": "markdown",
   "id": "46e9af63-0dec-43eb-9d68-eea24d5e7c1b",
   "metadata": {
    "tags": []
   },
   "source": [
    "# Hands-On Exercise 3.1: Writing Windows Forms Programs"
   ]
  },
  {
   "cell_type": "markdown",
   "id": "26a9f284-da4d-4a31-b298-878a98e47407",
   "metadata": {},
   "source": [
    "## Objective"
   ]
  },
  {
   "cell_type": "markdown",
   "id": "08e7074b-6c99-4ab2-88fb-09202168ab04",
   "metadata": {},
   "source": [
    "Become familiar with writing Windows Forms programs. During the course, we will be developing a card game known as \"The Eyes Have It,\" or \"Tehi.\" To start, we will begin with the user-interface tier. Specifically, we will use .NET controls and implement event-handling in a Windows Form to implement a \"game table.\" A \"Deal\" button will be used to deal cards and display them. Initially, this will be text only, but later in the course, we will add playing card images and other truly graphical features. For this exercise, we will use a `ListBox` as an area to display the results. When done, the game table should look something like the following:"
   ]
  },
  {
   "cell_type": "markdown",
   "id": "1b8ed5bf-a1c7-4189-8b3d-66e44017fdde",
   "metadata": {},
   "source": [
    "Close the previous solution if you have not already done so."
   ]
  },
  {
   "cell_type": "markdown",
   "id": "34faffbe-6a99-46ff-9d1e-64e2a967a968",
   "metadata": {},
   "source": [
    "## Design the UI"
   ]
  },
  {
   "cell_type": "markdown",
   "id": "f4d76849-a778-4ed2-84be-43d61ec1afd5",
   "metadata": {
    "tags": []
   },
   "source": [
    "#### Create a new Windows application using the .NET Windows framework."
   ]
  },
  {
   "cell_type": "markdown",
   "id": "208e8311-9926-4053-a986-3342f8234876",
   "metadata": {},
   "source": [
    "From the Visual Studio menu bar, select **File | New | Project**.\n",
    "\n",
    "Wait for a New Project dialog box to appear."
   ]
  },
  {
   "cell_type": "markdown",
   "id": "d140eccc-83f9-415d-a47e-306df235846d",
   "metadata": {},
   "source": [
    "In the dialog box:\n",
    "\n",
    "- In the search box at the top-right enter `Windows Forms App`\n",
    "- Look for an item titled **Windows Forms App**---_don't_ use the Windows Forms App (.NET Framework) one. Select it.\n",
    "- Click **Next** to go to the **Configure your new project\" page in the dialog\n",
    "- In the **Project name** text box, enter `Tehi`\n",
    "- Enter `C:\\Course\\510D\\Exercises\\` into the Location text box.\n",
    "- Make sure the \"Place solution and project in the same directory\" checkbox is cleared\n",
    "- Check the **Solution name** text box contains `Tehi`\n",
    "- Click **Next** to go to the **Additional information** page in the dialog\n",
    "- Select .NET 6.0 in the **Framework** list.\n",
    "\n",
    "Click **Create**.\n",
    "\n",
    "After a few seconds, the project will be created and the Forms design window should appear.\n",
    "\n",
    "<font color=\"red\">**Warning! If you are not sure what a Forms design window is, please ask your instructor.**</font>"
   ]
  },
  {
   "cell_type": "markdown",
   "id": "4d25777f-3ec5-47b2-8038-edfb5d3ba910",
   "metadata": {},
   "source": [
    "#### Resize the form to be about as twice as wide as it is high, and set its properties as appropriate for a card game."
   ]
  },
  {
   "cell_type": "markdown",
   "id": "222742e2-654b-49ce-a17c-19face95acec",
   "metadata": {},
   "source": [
    "Click the form and move the cursor to the grip at the right edge of the form. A cursor that looks like `<->` will appear so that you can visualize the resizing."
   ]
  },
  {
   "cell_type": "markdown",
   "id": "fbe62bf7-deb7-4180-aba5-3adbbabc5495",
   "metadata": {},
   "source": [
    "Drag the right edge so that the form is about as twice as wide as it is high."
   ]
  },
  {
   "cell_type": "markdown",
   "id": "51378a9a-90ed-43d4-bf17-8bdf1de286f6",
   "metadata": {},
   "source": [
    "Right-click within the body of the form. From the pop-up menu that appears, select Properties.\n",
    "\n",
    "A properties sheet should appear on the right side if it is not already there."
   ]
  },
  {
   "cell_type": "markdown",
   "id": "d9bbd39e-349d-4f16-8660-e77471aa94ff",
   "metadata": {},
   "source": [
    "Select the property called **Text** and modify its entry to read `The Eyes Have It!`"
   ]
  },
  {
   "cell_type": "markdown",
   "id": "5a38f321-937f-4388-9a30-13ec36e70418",
   "metadata": {},
   "source": [
    "#### Hint... "
   ]
  },
  {
   "cell_type": "markdown",
   "id": "6c1c3529-01ec-4787-8ae0-32e90f2ba52f",
   "metadata": {
    "tags": []
   },
   "source": [
    "If it is not already alphabetical, click the A–Z button at the top of the property sheet to make them easier to find."
   ]
  },
  {
   "cell_type": "markdown",
   "id": "cde2757b-44f6-4c33-be79-f9436195aa60",
   "metadata": {},
   "source": [
    "Click the property called **BackColor** and click the color selection combo box next to it. Since most card tables have a green or a blue felt surface, click the **Web** tab, and select a green or a dark blue color that suits your fancy. If the color dialog box does not show up (depends on configuration), pick the color from the list that does."
   ]
  },
  {
   "cell_type": "markdown",
   "id": "127b163d-3da6-432d-b896-e231f43ac0f0",
   "metadata": {},
   "source": [
    "Set the following properties:\n",
    "\n",
    "- `StartPosition` to `CenterScreen`\n",
    "- `Size` to `665,420`"
   ]
  },
  {
   "cell_type": "markdown",
   "id": "1a03694d-961f-4329-be1f-4490764fdb8b",
   "metadata": {},
   "source": [
    "#### Configure Visual Studio with a Windows layout."
   ]
  },
  {
   "cell_type": "markdown",
   "id": "89398b52-a221-4481-ad57-19fc0f9f6f45",
   "metadata": {},
   "source": [
    "Click the **Toolbox** icon at the far left side of the screen (in the left bar) and click the \"thumbtack\" icon at the top of the window---that will hold it in place. If the Toolbox icon is not visible, select the menu choice **View | Toolbox**."
   ]
  },
  {
   "cell_type": "markdown",
   "id": "a6d00644-20e6-4221-b486-bdc2e914857e",
   "metadata": {},
   "source": [
    "If it is not already selected, click to open the **All Windows Forms** tab in the Toolbox window."
   ]
  },
  {
   "cell_type": "markdown",
   "id": "9e885f01-a550-4c59-88a4-e002b14ecbf8",
   "metadata": {
    "tags": []
   },
   "source": [
    "#### Add a list box to the form and set its properties."
   ]
  },
  {
   "cell_type": "markdown",
   "id": "e9e2b85b-5c9b-48ad-8fb9-aef913a66334",
   "metadata": {},
   "source": [
    "Click the **ListBox** control. Move the cursor to the form and drag the outline of where you want the list box to appear.\n",
    "\n",
    "See the screenshot at the start of this exercise for the look of the **ListBox** control."
   ]
  },
  {
   "cell_type": "markdown",
   "id": "802bad3f-3240-4145-914a-18682b04208d",
   "metadata": {},
   "source": [
    "Click the **ListBox** control so that its property sheet appears. Set its font property to `Lucida Sans Unicode` with a size of `10` points.\n",
    "\n",
    "<font color=\"red\">**Warning! Make sure to set this specific font---it supports Unicode. Not all fonts do.**</font>"
   ]
  },
  {
   "cell_type": "markdown",
   "id": "9334a5b9-1c2e-4afa-a984-a1d51ec1be44",
   "metadata": {},
   "source": [
    "Also set the following properties as indicated:\n",
    "\n",
    "- `(Name)` property to `LogListBox`\n",
    "- `Anchor` to `all (top, bottom, left, and right)`\n",
    "- `HorizontalScrollbar` to `true`"
   ]
  },
  {
   "cell_type": "markdown",
   "id": "4b9e73c8-3790-42ee-ae9f-b4dc5d7872be",
   "metadata": {},
   "source": [
    "#### Add a status strip to the form."
   ]
  },
  {
   "cell_type": "markdown",
   "id": "53bd735e-839a-4b83-96cd-ca66cdef525e",
   "metadata": {},
   "source": [
    "Drag and drop a **StatusStrip** control from the toolbox to the form. It should snap to the bottom docked position on the form."
   ]
  },
  {
   "cell_type": "markdown",
   "id": "f495a3d9-1e1c-421b-89da-5a5ffbe6482d",
   "metadata": {},
   "source": [
    "Click directly on the **StatusStrip** control (which you just added at the bottom of the form), and a drop-down menu will appear. From the drop-down menu, select `StatusLabel`.\n",
    "    \n",
    "A label should appear on the status strip on the left side."
   ]
  },
  {
   "cell_type": "markdown",
   "id": "a2c0cf9e-f8b3-4cc6-a5ee-a166a441a8dd",
   "metadata": {},
   "source": [
    "Click the label StatusLabel (not StatusStrip) and, in its Properties window on the right, set the following:\n",
    "\n",
    "- `(Name)` property to be `StatusLabel` (the `(Name)` property is located near the top of the property list)\n",
    "- `BackColor` to `System | Control`\n",
    "- `Font` property a little bigger—`10` is good\n",
    "- `Text` property to be blank"
   ]
  },
  {
   "cell_type": "markdown",
   "id": "eab2d18b-2b08-4e89-b19d-2bcd5d5899c9",
   "metadata": {},
   "source": [
    "#### Add a button to the form to be the Deal button."
   ]
  },
  {
   "cell_type": "markdown",
   "id": "186cb24d-82df-4e36-a570-a3cda41dfd31",
   "metadata": {},
   "source": [
    "Click the **Button** control in the toolbox. Move the cursor to the form and drag the outline of where you want the Deal button.\n",
    "\n",
    "See screenshot at start of this exercise to determine the button position."
   ]
  },
  {
   "cell_type": "markdown",
   "id": "8ddcf00c-a6d7-4460-86c4-b35357bad4a5",
   "metadata": {},
   "source": [
    "In its property sheet, set:\n",
    "\n",
    "- `(Name)` to `DealButton`\n",
    "- Anchor only to the bottom\n",
    "- Font size to `12` (click the triangle icon next to the font property to display the subproperties)\n",
    "- `Size` to `96,32`\n",
    "- `Text` to `Deal`"
   ]
  },
  {
   "cell_type": "markdown",
   "id": "b25e613d-67d8-4516-b061-de9254f57512",
   "metadata": {},
   "source": [
    "Execute the program by pressing the run button button on the toolbar, or pressing `<F5>`. `<Ctrl><F5>` is no longer needed because this is not a console application where we want to hold the output before the program exits. \n",
    "\n",
    "Resize the window to ensure the controls are anchored correctly.\n",
    "\n",
    "As you resize, the Deal button should stay centered near the bottom. The list box, however, should stretch to fill the middle."
   ]
  },
  {
   "cell_type": "markdown",
   "id": "2d9aa7d5-6288-4183-b8cb-d9899a8ad346",
   "metadata": {},
   "source": [
    "Exit the program by clicking the **X** in the upper right corner.\n",
    "\n",
    "<font color=\"red\">**In the future, you should always exit from the program before returning to Visual Studio, even if the instructions do not explicitly say to do so.**</font>"
   ]
  },
  {
   "cell_type": "markdown",
   "id": "6a2bd320-4c1b-4a67-b284-a6f438e83ed2",
   "metadata": {},
   "source": [
    "## Adding Event Handling"
   ]
  },
  {
   "cell_type": "markdown",
   "id": "6fd14bd7-da61-4453-bdc0-905773fe11c8",
   "metadata": {},
   "source": [
    "#### Create the event-handling method for the button."
   ]
  },
  {
   "cell_type": "markdown",
   "id": "a8161e98-163f-4b4a-8467-aa185219f065",
   "metadata": {},
   "source": [
    "In the form design window, double-click the **Deal** button.\n",
    "\n",
    "This opens the source-code window and positions the cursor at the button's event-handling method called ``ealButton_Click(...)`."
   ]
  },
  {
   "cell_type": "markdown",
   "id": "de0f8a05-6a22-478c-83fd-edbe330a3532",
   "metadata": {},
   "source": [
    "Position the cursor within the event method, and add the logic to clear the list box called `LogListBox`.\n",
    "\n",
    "You can use something like...\n",
    "\n",
    "```C#\n",
    "LogListBox.Items.Clear();\n",
    "```"
   ]
  },
  {
   "cell_type": "markdown",
   "id": "590b9155-c452-4eff-af6e-55304c336a5c",
   "metadata": {},
   "source": [
    "Add another instruction within the event method that outputs a message to the `LogListBox` indicating what the Unicode spade symbol is.\n",
    "\n",
    "You can use something like...\n",
    "\n",
    "```C#\n",
    "LogListBox.Items.Add(\"The spade symbol is \\u2660\");\n",
    "```"
   ]
  },
  {
   "cell_type": "markdown",
   "id": "36cc84c7-6613-4ced-827c-65476f790d4b",
   "metadata": {},
   "source": [
    "Display a status message in the status label indicating that the deal button has been pressed.\n",
    "\n",
    "You can use something like...\n",
    "\n",
    "```C#\n",
    "StatusLabel.Text = \"Deal button pressed\";\n",
    "```"
   ]
  },
  {
   "cell_type": "markdown",
   "id": "02a2906e-572d-4172-a6ee-dd220cc306e8",
   "metadata": {},
   "source": [
    "Press `<F5>` to compile and test."
   ]
  },
  {
   "cell_type": "markdown",
   "id": "dd4baa3f-9b45-42a7-99db-ef02089bb30f",
   "metadata": {},
   "source": [
    "Click the **Deal** button.\n",
    "\n",
    "When you click **Deal**, you should see the spade symbol indicating that a proper Unicode font is enabled in the list box. Also, the **Deal** message should be in the status bar."
   ]
  },
  {
   "cell_type": "markdown",
   "id": "7d5aa68a-cf3b-47b4-81d5-570c9f50cbd9",
   "metadata": {},
   "source": [
    "## Congratulations! You have successfully completed the exercise. Continue to the bonus if you have more time."
   ]
  },
  {
   "cell_type": "markdown",
   "id": "95e23445-1c1e-4336-b58a-3b799950783e",
   "metadata": {},
   "source": [
    "# Bonus (Optional)"
   ]
  },
  {
   "cell_type": "markdown",
   "id": "f2ec9a0d-8497-4e1b-bf55-5750767281d0",
   "metadata": {},
   "source": [
    "If you have more time, add additional controls and menus that we will require in the future for various actions of the game."
   ]
  },
  {
   "cell_type": "markdown",
   "id": "9f48da26-8d6c-47ec-93eb-b2e0d74cadb4",
   "metadata": {},
   "source": [
    "#### Drag a menu strip to the form and populate its menu and menu-item choices."
   ]
  },
  {
   "cell_type": "markdown",
   "id": "675c428b-67b1-43c7-8c7a-0b76c2c10811",
   "metadata": {},
   "source": [
    "In the toolbox, drag a **MenuStrip** to the form. It should snap to the top of the form. Move your list box down, if necessary, to make room for the menu strip."
   ]
  },
  {
   "cell_type": "markdown",
   "id": "7a76d3fb-9819-45b2-951d-e80f7100e131",
   "metadata": {},
   "source": [
    "Edit the menu and menu-item choices to be laid out as indicated below:\n",
    "\n",
    "![Menu](images/ex031_29.jpg)"
   ]
  },
  {
   "cell_type": "markdown",
   "id": "e0a129a6-9452-492e-9a1b-ae4ebe2e5549",
   "metadata": {},
   "source": [
    "#### Hint..."
   ]
  },
  {
   "cell_type": "markdown",
   "id": "70775b90-f415-47f7-a28b-7d2fe1707f92",
   "metadata": {
    "tags": []
   },
   "source": [
    "For each menu and menu item, enable `<Alt>` selection by placing an `&` character at the appropriate place. For example: `&Game`."
   ]
  },
  {
   "cell_type": "markdown",
   "id": "d117dc5f-1a5c-4a02-80c8-6373ff1ed4b4",
   "metadata": {},
   "source": [
    "Compile and test.\n",
    "\n",
    "The menus should select but won't do anything after the selection (we'll do that later). Check that you can select them using something like `<Alt><G><X>` to exit the game. Note that this `<Alt>` sequence is done in three distinct key strokes—you do not need to hold the `<Alt>` key down while you press the `G` or the `X`."
   ]
  },
  {
   "cell_type": "markdown",
   "id": "42b6298b-5f6a-48de-afcf-c0de8dd9033e",
   "metadata": {},
   "source": [
    "#### Add event handling for the menu items."
   ]
  },
  {
   "cell_type": "markdown",
   "id": "f74356b3-843f-4d4e-950c-7b31b316fd71",
   "metadata": {},
   "source": [
    "Double-click each menu item. In their respective event methods, add:"
   ]
  },
  {
   "cell_type": "markdown",
   "id": "f3cbafdf-5be9-4462-8767-91a3a266726c",
   "metadata": {},
   "source": [
    "For **Game | New**, clear the list box by using `LogListBox.Items.Clear()`. Also, clear the status label text by assigning `string.Empty` to it."
   ]
  },
  {
   "cell_type": "markdown",
   "id": "b25df3b6-1d0f-418c-ad01-f2a1a46ef2ff",
   "metadata": {},
   "source": [
    "For **Game | Top 10**, display in the status label that top 10 was chosen."
   ]
  },
  {
   "cell_type": "markdown",
   "id": "5f0af663-7cbe-4633-8a3f-74757ca29590",
   "metadata": {},
   "source": [
    "For **Game | Exit**, use the `Application` class to exit."
   ]
  },
  {
   "cell_type": "markdown",
   "id": "aa6117c0-7d94-4fe0-900b-d3db5dfcad88",
   "metadata": {},
   "source": [
    "For **Help | About**, show information using a `MessageBox` indicating who wrote the game.\n",
    "\n",
    "Don't worry about the color preferences just yet."
   ]
  },
  {
   "cell_type": "markdown",
   "id": "6ccd646d-8ac9-4db5-a21b-d07a66aaf289",
   "metadata": {},
   "source": [
    "Compile and test. Ensure the menus do the expected functions."
   ]
  },
  {
   "cell_type": "markdown",
   "id": "b380391c-181d-4cd8-8b3e-02b425d0083a",
   "metadata": {},
   "source": [
    "#### Modify the form's display icon to be specific to the Tehi program."
   ]
  },
  {
   "cell_type": "markdown",
   "id": "b7eec48a-82c4-490b-8f05-0d8caa817d74",
   "metadata": {},
   "source": [
    "In Solution Explorer, right-click the **Tehi** project (not the solution) and select **Add | Existing Item**."
   ]
  },
  {
   "cell_type": "markdown",
   "id": "80dce0c8-2df7-4438-a93c-71fb8f20e567",
   "metadata": {},
   "source": [
    "In the dialog Filename field, enter `*.ico` and press `<Enter>`. This will cause only icon files to show."
   ]
  },
  {
   "cell_type": "markdown",
   "id": "9d185a5e-1e44-47be-9ddc-b2e4e404064c",
   "metadata": {},
   "source": [
    "Navigate to `C:\\Course\\510D\\Graphics\\Icons\\` and select an icon that suits your fancy. Click **Add**.\n",
    "\n",
    "In Solution Explorer, the selected icon file should have been added to the **Tehi** project."
   ]
  },
  {
   "cell_type": "markdown",
   "id": "73c97c7f-7120-442c-83f4-7d37515a2879",
   "metadata": {},
   "source": [
    "Right-click this new icon file and rename it `App.ico`."
   ]
  },
  {
   "cell_type": "markdown",
   "id": "326da6c5-9f00-4caf-9773-a91042704cb0",
   "metadata": {},
   "source": [
    "In Solution Explorer, right-click the **Tehi** project (not the solution). Select `Properties`."
   ]
  },
  {
   "cell_type": "markdown",
   "id": "a11d96f8-f2f1-4dd5-8610-05ebf9cbedb3",
   "metadata": {},
   "source": [
    "In the properties page, select the **Application | Win32 Resources** tab, and then browse to, and select, `App.ico`.\n",
    "\n",
    "This will cause the file `Tehi.exe` to show in Windows with the icon you selected."
   ]
  },
  {
   "cell_type": "markdown",
   "id": "505dd301-e950-435e-8e0f-d80583ce367a",
   "metadata": {},
   "source": [
    "Get a clean compile."
   ]
  },
  {
   "cell_type": "markdown",
   "id": "fce54a4d-4483-4e80-ad7c-548a1d8598e1",
   "metadata": {},
   "source": [
    "In the designer, click the form and then, from its property sheet, select the **Icon** property. Click the `[...]` button so that an icon selection dialog box appears. Navigate to `C:\\Course\\510D\\Exercises\\Ex31\\Tehi\\Tehi\\` and select the `App.ico` file."
   ]
  },
  {
   "cell_type": "markdown",
   "id": "c4a6e531-0b68-4d0c-805f-57adf40f6c6f",
   "metadata": {},
   "source": [
    "Compile and run.\n",
    "\n",
    "The icon you selected should now be showing on the left side of the title bar."
   ]
  },
  {
   "cell_type": "markdown",
   "id": "1fbbc990-04fc-4175-a9ac-94da747e3917",
   "metadata": {},
   "source": [
    "#### Add a user name text box and a login button to the form."
   ]
  },
  {
   "cell_type": "markdown",
   "id": "2910baf6-a18c-4654-a2af-97260d6c9d43",
   "metadata": {},
   "source": [
    "Open `Form1.cs` in design mode and click the **TextBox** control in the toolbox. Move the cursor to the form, and place the text box at the position shown (the login button will not be there yet).\n",
    "\n",
    "![NameTextBox](images/ex031_47.jpg)"
   ]
  },
  {
   "cell_type": "markdown",
   "id": "6b80559a-c87d-4a01-9650-876c0dadf8d6",
   "metadata": {},
   "source": [
    "Set its properties to:\n",
    "\n",
    "- `(Name)` property to `NameTextBox`\n",
    "- Anchor to the bottom only\n",
    "- `Font Size` to `12`\n",
    "- `Size` to `96,29`\n",
    "- `Text` to blank"
   ]
  },
  {
   "cell_type": "markdown",
   "id": "4e0f284a-4e8d-4ae7-b6fa-9ffac769be46",
   "metadata": {},
   "source": [
    "Right-click the **Deal** button. Select **Copy** from the pop-up menu."
   ]
  },
  {
   "cell_type": "markdown",
   "id": "5371931a-1851-475a-9fd8-3f2328ea7b2c",
   "metadata": {},
   "source": [
    "Right-click the form (not on any control) and select **Paste** from the pop-up menu. Drag the new button to the position for the Login button (see the screenshot above)."
   ]
  },
  {
   "cell_type": "markdown",
   "id": "3bf355ad-f7b4-4dcb-ad91-eb095734bfbc",
   "metadata": {},
   "source": [
    "Change the properties as follows:\n",
    "\n",
    "- `(Name)` to `LoginButton`\n",
    "- ``Text` to `Login`"
   ]
  },
  {
   "cell_type": "markdown",
   "id": "c1a3a38f-8484-4c75-8e0f-4a822fb3c9e9",
   "metadata": {},
   "source": [
    "Double-click the **Login** button to go to its event method. Display in the status label that the Login button was pressed."
   ]
  },
  {
   "cell_type": "markdown",
   "id": "e78f7b52-09fb-472a-9264-32b35dcc7b70",
   "metadata": {},
   "source": [
    "Compile and test. Go back and forth between the **Deal** button and the **Login** button."
   ]
  },
  {
   "cell_type": "markdown",
   "id": "e1f817ab-cea9-4219-94db-9ae2f2fc8ff7",
   "metadata": {},
   "source": [
    "#### Use copy-and-paste to add the Swap buttons."
   ]
  },
  {
   "cell_type": "markdown",
   "id": "a7d25fcc-5048-4ed8-b865-7055046a5a8a",
   "metadata": {},
   "source": [
    "Open `Form1.cs` for editing and add the method:\n",
    "\n",
    "```C#\n",
    "private void SwapCard(int ix)\n",
    "{\n",
    "    StatusLabel.Text = \"Swap button \" + ix + \" pressed.\" ;\n",
    "}\n",
    "```"
   ]
  },
  {
   "cell_type": "markdown",
   "id": "ec4e9d03-08ed-4e66-8451-a62aa503caa2",
   "metadata": {},
   "source": [
    "Return to the design view and copy-and-paste the **Deal** button again. Drag this button to the appropriate place for the first **Swap** button (see the screenshot).\n",
    "\n",
    "![NameTextBox](images/ex031_55.png)"
   ]
  },
  {
   "cell_type": "markdown",
   "id": "fe0a3c64-fc0b-4e51-a1bb-4951b583a323",
   "metadata": {},
   "source": [
    "Change its properties as follows:\n",
    "\n",
    "- `(Name)` to `SwapButton0`\n",
    "- `Text` to `Swap`"
   ]
  },
  {
   "cell_type": "markdown",
   "id": "fe582638-6a19-44a6-b1f8-8f2ba991dde0",
   "metadata": {},
   "source": [
    "Right-click this new **Swap** button and select **Copy**."
   ]
  },
  {
   "cell_type": "markdown",
   "id": "5f2df88d-d5d9-4024-9bf2-9d36173829fa",
   "metadata": {},
   "source": [
    "Right-click the form and select **Paste**. Drag this button to the position for the next **Swap** button and set its `(Name)` to the next button number: `SwapButton1`, `SwapButton2`, and so on."
   ]
  },
  {
   "cell_type": "markdown",
   "id": "3cb58b6b-a20c-436a-8e78-d09e0ab0f66f",
   "metadata": {},
   "source": [
    "Repeat the previous step for the remaining three **Swap** buttons."
   ]
  },
  {
   "cell_type": "markdown",
   "id": "97321450-1f91-4516-b66f-bb969a586a93",
   "metadata": {},
   "source": [
    "In design view, double-click the first **Swap** button. In its event method, call `SwapCard(0)`."
   ]
  },
  {
   "cell_type": "markdown",
   "id": "6cab9f2d-76bb-4262-aec5-e89b516fb8be",
   "metadata": {},
   "source": [
    "Repeat the previous step for the remaining **Swap** buttons. Increment the reported button number by one each time."
   ]
  },
  {
   "cell_type": "markdown",
   "id": "b0d245a9-50d0-4c46-9fce-90585afcc626",
   "metadata": {},
   "source": [
    "Compile and test. Click all buttons to ensure they are working."
   ]
  },
  {
   "cell_type": "markdown",
   "id": "7fb12904-c64d-4bd0-a55f-349429ccd906",
   "metadata": {},
   "source": [
    "#### Add support for changing the table color."
   ]
  },
  {
   "cell_type": "markdown",
   "id": "b58f1bde-6842-4b14-bd69-ccd091e9549d",
   "metadata": {},
   "source": [
    "Drag and drop a **ColorDialog** control to your form and ensure it appears in the non-attached list at the bottom of the design window."
   ]
  },
  {
   "cell_type": "markdown",
   "id": "29018012-f957-4b4f-9a6e-6224424d554e",
   "metadata": {},
   "source": [
    "In the designer window, double-click the **Preferences | Table Color...** menu item and position the cursor in its event method."
   ]
  },
  {
   "cell_type": "markdown",
   "id": "a05c4819-eef1-4509-933d-b7b251045888",
   "metadata": {},
   "source": [
    "In the event method, add the code to display `colorDialog1` and capture its `DialogResult`.\n",
    "\n",
    "This is much like displaying a `MessageBox`, but the `ShowDialog()` method is used instead...\n",
    "\n",
    "```C#\n",
    "DialogResult result = colorDialog1.ShowDialog(this);\n",
    "```"
   ]
  },
  {
   "cell_type": "markdown",
   "id": "886b0640-1813-47bb-8ed8-3123fb6f96e6",
   "metadata": {},
   "source": [
    "Next, add the code to check if `DialogResult.Cancel` is returned. If it is, then just return from the event method without doing any further processing."
   ]
  },
  {
   "cell_type": "markdown",
   "id": "39a17c5c-2f6b-4ce3-bb3e-3953e453c537",
   "metadata": {},
   "source": [
    "If the user did not cancel the color dialog, set the background color of the game table using something like this:\n",
    "\n",
    "```C#\n",
    "BackColor = colorDialog1.Color;\n",
    "```\n",
    "\n",
    "The color selection logic should look something like...\n",
    "\n",
    "```C#\n",
    "DialogResult result = colorDialog1.ShowDialog();\n",
    "if (result == DialogResult.Cancel) return; \n",
    "BackColor = colorDialog1.Color;\n",
    "```"
   ]
  },
  {
   "cell_type": "markdown",
   "id": "b1c3fe30-5b2a-4419-ad26-31cc05823d3b",
   "metadata": {},
   "source": [
    "In the designer window, add a **Reset Default Color** menu item under the **Preferences** menu."
   ]
  },
  {
   "cell_type": "markdown",
   "id": "65360626-6616-4111-b7ef-440f031487d2",
   "metadata": {},
   "source": [
    "Double-click the **Preferences | Reset Default Color** menu item to go to its event method."
   ]
  },
  {
   "cell_type": "markdown",
   "id": "5decf5d9-40d2-4edb-826a-7519ea497e31",
   "metadata": {},
   "source": [
    "In the event method, set `BackColor = Color.Green;`."
   ]
  },
  {
   "cell_type": "markdown",
   "id": "39b47850-d97c-4491-8516-3d4c25a113d0",
   "metadata": {},
   "source": [
    "Compile and test. Try selecting a few different colors."
   ]
  },
  {
   "cell_type": "markdown",
   "id": "3ac6784c-1b29-4ce2-90e8-4d0f37911fce",
   "metadata": {},
   "source": [
    "#### Obtain a playing card image list for our game-table form."
   ]
  },
  {
   "cell_type": "markdown",
   "id": "e2442a21-a0f1-4246-b66d-2ac80dc862b9",
   "metadata": {},
   "source": [
    "An image-list component has been pre-populated with playing card images. Copy and paste this onto your game-table form."
   ]
  },
  {
   "cell_type": "markdown",
   "id": "fe0a12f5-d717-4936-ae67-5205db560944",
   "metadata": {},
   "source": [
    "Launch a second instance of Visual Studio and open the solution in\n",
    "\n",
    "```\n",
    "C:\\Course\\510D\\Tools\\PlayingCardImageListForm\\\n",
    "```\n",
    "\n",
    "Then, open `PlayingCardImageListForm.cs` in design mode."
   ]
  },
  {
   "cell_type": "markdown",
   "id": "c955d2b0-5f1a-4003-9e2e-2014e4fb951b",
   "metadata": {},
   "source": [
    "At the bottom of the design pane, find the `PlayingCardImageList` control in the component bar at the bottom. Right-click it and select **Copy**."
   ]
  },
  {
   "cell_type": "markdown",
   "id": "ec5b8d69-bcda-44bc-9c06-bd5a5ce41b7a",
   "metadata": {},
   "source": [
    "Return to `Form1.cs` in design mode in the first instance of Visual Studio. Right- click the component bar at the bottom and select **Paste**."
   ]
  },
  {
   "cell_type": "markdown",
   "id": "90782a53-0257-4563-ac63-feac20e90b64",
   "metadata": {},
   "source": [
    "Close the second instance of Visual Studio."
   ]
  },
  {
   "cell_type": "markdown",
   "id": "e8fc1d39-2563-4495-a66c-3d0c08172565",
   "metadata": {},
   "source": [
    "Compile and test."
   ]
  },
  {
   "cell_type": "markdown",
   "id": "59e2f560-1487-40b6-8fd2-b1fcf80695b0",
   "metadata": {},
   "source": [
    "The images aren't used yet, but will feature in later exercises."
   ]
  },
  {
   "cell_type": "markdown",
   "id": "5e3c3598-7e19-406c-80c5-ae1e8938abb3",
   "metadata": {},
   "source": [
    "## Congratulations! You have completed the bonus."
   ]
  }
 ],
 "metadata": {
  "kernelspec": {
   "display_name": ".NET (C#)",
   "language": "C#",
   "name": ".net-csharp"
  },
  "language_info": {
   "file_extension": ".cs",
   "mimetype": "text/x-csharp",
   "name": "C#",
   "pygments_lexer": "csharp",
   "version": "9.0"
  }
 },
 "nbformat": 4,
 "nbformat_minor": 5
}

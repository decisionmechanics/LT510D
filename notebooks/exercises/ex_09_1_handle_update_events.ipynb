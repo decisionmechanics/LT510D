{
 "cells": [
  {
   "cell_type": "markdown",
   "id": "1d4e1d90-35fd-404d-8f04-259e6e89baf5",
   "metadata": {},
   "source": [
    "![BAE logo](images/bae_logo.png)"
   ]
  },
  {
   "cell_type": "markdown",
   "id": "11d9dc1f-c197-452f-92e1-8af1f9b03b0f",
   "metadata": {},
   "source": [
    "# Hands-On Exercise 9.1: Handle Update Events"
   ]
  },
  {
   "cell_type": "markdown",
   "id": "d23fb1e7-8de3-446c-86f5-3c47bc613380",
   "metadata": {
    "tags": []
   },
   "source": [
    "## Objective"
   ]
  },
  {
   "cell_type": "markdown",
   "id": "e1518bf0-26f0-4df6-8c03-54124db5e64e",
   "metadata": {},
   "source": [
    "Update a Hi-Lo game to send event notifications when scores change."
   ]
  },
  {
   "cell_type": "markdown",
   "id": "33bad02c-7f7d-4540-b556-86a09c1aae3d",
   "metadata": {},
   "source": [
    "Close the previous solution if you have not already done so."
   ]
  },
  {
   "cell_type": "markdown",
   "id": "ec2f123b-207c-48a7-bb9f-367219fde865",
   "metadata": {
    "tags": []
   },
   "source": [
    "#### Open the solution `HiLoGame.sln` found in the directory `C:\\Course\\510D\\Exercises\\Ex091\\`."
   ]
  },
  {
   "cell_type": "markdown",
   "id": "49c7a311-cd9f-4661-ad86-3a98e173189a",
   "metadata": {},
   "source": [
    "The solution contains a simple WinForms version of the **Hi-Lo** number-guessing game."
   ]
  },
  {
   "cell_type": "markdown",
   "id": "b4c3013f-afe2-4276-958d-d4e5ea7c598a",
   "metadata": {},
   "source": [
    "Launch the application and open **View | Attempts...**. This displays a window that keeps track of the average number of attempts that were required to guess the secret number. It will update on a correct guess."
   ]
  },
  {
   "cell_type": "markdown",
   "id": "e40c7d51-e4c4-4f7b-96e7-3712313e2ce2",
   "metadata": {},
   "source": [
    "Play a couple of games to understand how the application operates."
   ]
  },
  {
   "cell_type": "markdown",
   "id": "f1825687-3bce-4d3e-98a6-db42dcf8b554",
   "metadata": {},
   "source": [
    "Review the code in `Game.cs`. The `MakeGuess` method is where the majority of the work is performed."
   ]
  },
  {
   "cell_type": "markdown",
   "id": "692af8a7-3338-4548-8703-ca3b53a4b238",
   "metadata": {},
   "source": [
    "Right-click on `MainForm.cs` in the **Solution Explorer** and select **View Code**."
   ]
  },
  {
   "cell_type": "markdown",
   "id": "3e7960df-b5bc-4cd0-918e-0aa592e2d122",
   "metadata": {},
   "source": [
    "Look at the `guessButton_Click` handler. When a guess is made, this triggers updates to\n",
    "\n",
    "- `messageLabel`\n",
    "- `attemptsLabel`\n",
    "- `_scoreForm` (on a _successful_ guess)\n",
    "\n",
    "`MainForm` can do this becauses it's making assumptions about how the `Game` class' logic works. This doesn't feel like a very good separation of concerns. \n",
    "\n",
    "What if, for example, `Game` is changed to penalized tardy users with an additional attempt? `MainForm` would then fail to display the correct number of attempts taken.\n",
    "\n",
    "In addition, `MainForm` is taking responsibility for updating the attempts history window. It's doing too much."
   ]
  },
  {
   "cell_type": "markdown",
   "id": "9b6687c3-f18f-45ec-af79-6b893aa63ddf",
   "metadata": {},
   "source": [
    "#### Have the `Game` class notify observers when number of attempts change."
   ]
  },
  {
   "cell_type": "markdown",
   "id": "1e72b0d9-7e2a-4c31-9bc2-fa4856451ab8",
   "metadata": {},
   "source": [
    "Add a `GuessMade` event to the `Game` class. This should look something like\n",
    "\n",
    "```C#\n",
    "public event EventHandler? GuessMade;\n",
    "```"
   ]
  },
  {
   "cell_type": "markdown",
   "id": "4e98a6ed-441d-4eda-b850-627f6e7b437a",
   "metadata": {},
   "source": [
    "In the `MakeGuess` method, add the following code, just before the `return` statement.\n",
    "\n",
    "```C#\n",
    "GuessMade?.Invoke(this, EventArgs.Empty);\n",
    "```\n",
    "\n",
    "We need the `?` operator to make sure that there's at least one observer before we send the notifications."
   ]
  },
  {
   "cell_type": "markdown",
   "id": "f87145f6-8471-41dd-ad9e-7a2929471d88",
   "metadata": {},
   "source": [
    "Get a clean build."
   ]
  },
  {
   "cell_type": "markdown",
   "id": "184e6a97-ab2e-4716-bd03-44f29e85d5a6",
   "metadata": {},
   "source": [
    "#### Listen for `GuessMade` events in `MainForm`."
   ]
  },
  {
   "cell_type": "markdown",
   "id": "49919d89-536b-46f2-8136-fd49598f2b2f",
   "metadata": {},
   "source": [
    "Open `MainForm` in the code view."
   ]
  },
  {
   "cell_type": "markdown",
   "id": "8b088165-5794-44b2-a9e1-ae8a159d7ee4",
   "metadata": {},
   "source": [
    "Add an event handler called `UpdateAttempts` that will update `attemptsLabel` when a `GuessMade` notification is received.\n",
    "\n",
    "The code will look like\n",
    "\n",
    "```C#\n",
    "private void UpdateAttempts(object? sender, EventArgs e)\n",
    "{\n",
    "    attemptsLabel.Text = $\"{_game.CurrentAttempts} attempt(s)\";\n",
    "}\n",
    "```\n",
    "\n",
    "Note the parameters of this method. They must match the definition of the event handler."
   ]
  },
  {
   "cell_type": "markdown",
   "id": "98cf4452-3fa3-4f12-be83-c79b95857214",
   "metadata": {},
   "source": [
    "In `MainForm_Load` register this handler with the event as follows.\n",
    "\n",
    "```C#\n",
    "attemptsLabel.Text = $\"{_game.CurrentAttempts} attempt(s)\";\n",
    "```"
   ]
  },
  {
   "cell_type": "markdown",
   "id": "ef4edc04-742e-4aa6-a121-12a77aaba157",
   "metadata": {},
   "source": [
    "We can remove the following statement from the `guessButton_Click` event handler.\n",
    "    \n",
    "```C#\n",
    "attemptsLabel.Text = $\"{_game.CurrentAttempts} attempt(s)\";\n",
    "```\n",
    "\n",
    "Now, if the `Game` class surprises `MainForm` with a change to the scoring, it'll be handled appropriately."
   ]
  },
  {
   "cell_type": "markdown",
   "id": "6badf1b5-30de-43b5-867d-99c74e1a5569",
   "metadata": {},
   "source": [
    "Run and test the application."
   ]
  },
  {
   "cell_type": "markdown",
   "id": "97ff3a2a-09dc-4d1e-998a-5b41ccd312c5",
   "metadata": {
    "tags": []
   },
   "source": [
    "## Congratulations! You have completed the exercise. If you have more time, please continue to the bonus."
   ]
  },
  {
   "cell_type": "markdown",
   "id": "789e3559-886a-4d9f-b289-b302f75cbfbf",
   "metadata": {},
   "source": [
    "# Bonus (Optional)"
   ]
  },
  {
   "cell_type": "markdown",
   "id": "6350679a-1471-4e41-a36b-87eb9df557ce",
   "metadata": {
    "tags": []
   },
   "source": [
    "Add an event to notify listeners of _successful_ guesses and use them to update `ScoreForm`'s history."
   ]
  },
  {
   "cell_type": "markdown",
   "id": "506fa306-aa31-4c92-9d4f-13b6e5f88236",
   "metadata": {},
   "source": [
    "#### Create a successful guess event in `Game`."
   ]
  },
  {
   "cell_type": "markdown",
   "id": "26850f91-8def-401c-9140-67d6e0fd846b",
   "metadata": {},
   "source": [
    "Add a `SuccessfulGuessMade` event to `Game`. The code will look like\n",
    "\n",
    "```C#\n",
    "public event EventHandler? SuccessfulGuessMade;\n",
    "```"
   ]
  },
  {
   "cell_type": "markdown",
   "id": "ab2d9195-3d16-4070-ae60-8edba261c5a9",
   "metadata": {},
   "source": [
    "Invoke the event just before the end of the `MakeGuess` method. The code should be similar to the following.\n",
    "    \n",
    "```C#\n",
    "if (guessStatus == GuessStatus.Correct)\n",
    "{\n",
    "    SuccessfulGuessMade?.Invoke(this, EventArgs.Empty);\n",
    "}\n",
    "```"
   ]
  },
  {
   "cell_type": "markdown",
   "id": "904c89e6-9c09-4591-9efc-b39cf695b982",
   "metadata": {},
   "source": [
    "Get a clean build."
   ]
  },
  {
   "cell_type": "markdown",
   "id": "7ad0e9ba-0cc0-4f74-9ed0-5732172603fa",
   "metadata": {},
   "source": [
    "#### Register a `SuccessfulGuessMade` handler in `ScoreForm`."
   ]
  },
  {
   "cell_type": "markdown",
   "id": "bed23dfa-8a6c-4fcb-a6f5-97f4985201dd",
   "metadata": {},
   "source": [
    "Create an update handler (replacing the existing `Update` method). It should look like\n",
    "\n",
    "```C#\n",
    "private void Update(object? sender, EventArgs e)\n",
    "{\n",
    "    scoresListBox.Items.Insert(\n",
    "        0, \n",
    "        $\"At {DateTime.Now.ToShortTimeString()} the average # of attempts was {_game!.AverageAttempts:N2}\"\n",
    "    );\n",
    "}\n",
    "```"
   ]
  },
  {
   "cell_type": "markdown",
   "id": "5d2fa504-ab89-4024-8f1a-8ed12985dfca",
   "metadata": {},
   "source": [
    "Create a `public Initialize` method that will received a `Game` object (from `MainForm`).\n",
    "\n",
    "Store it in a `private` field (so the # of attempts can be retrieved later) and register the event handler.\n",
    "\n",
    "The new code should look like\n",
    "\n",
    "```C#\n",
    "private Game? _game;\n",
    "\n",
    "public void Initialize(Game game)\n",
    "{\n",
    "    _game = game;\n",
    "\n",
    "    game.SuccessfulGuessMade += Update;\n",
    "}\n",
    "```"
   ]
  },
  {
   "cell_type": "markdown",
   "id": "69a1ab2f-710c-4047-8ede-4908a648edd4",
   "metadata": {},
   "source": [
    "Get a clean build."
   ]
  },
  {
   "cell_type": "markdown",
   "id": "d15a901f-d2a6-41e5-98b4-2e6f93a9d23a",
   "metadata": {},
   "source": [
    "#### Initialize `ScoreForm` from `MainForm`."
   ]
  },
  {
   "cell_type": "markdown",
   "id": "df9fe2a2-e70a-4a54-b1fe-06f9031df39f",
   "metadata": {},
   "source": [
    "Open `MainView` in code view."
   ]
  },
  {
   "cell_type": "markdown",
   "id": "990991b1-a520-4fc1-a128-133e71917a6f",
   "metadata": {},
   "source": [
    "In `MainForm_Load` pass the `_game` to `_scoreForm` via it's `Initialize` method. The statement should be similar to    \n",
    "\n",
    "```C#\n",
    "_scoreForm.Initialize(_game);\n",
    "```"
   ]
  },
  {
   "cell_type": "markdown",
   "id": "3bbddca0-dc8f-49c3-8402-7660f3d6647b",
   "metadata": {},
   "source": [
    "Run and test the application."
   ]
  },
  {
   "cell_type": "markdown",
   "id": "e6c32e11-1eb5-4ad0-a8ad-823b47e1685c",
   "metadata": {},
   "source": [
    "## Congratulations! You have completed the bonus."
   ]
  }
 ],
 "metadata": {
  "kernelspec": {
   "display_name": ".NET (C#)",
   "language": "C#",
   "name": ".net-csharp"
  },
  "language_info": {
   "file_extension": ".cs",
   "mimetype": "text/x-csharp",
   "name": "C#",
   "pygments_lexer": "csharp",
   "version": "9.0"
  }
 },
 "nbformat": 4,
 "nbformat_minor": 5
}

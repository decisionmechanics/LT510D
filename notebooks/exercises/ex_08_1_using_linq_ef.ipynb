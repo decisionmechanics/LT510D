{
 "cells": [
  {
   "cell_type": "markdown",
   "id": "09a67b17-33a9-473e-bbc1-2f24ba2431b3",
   "metadata": {},
   "source": [
    "![BAE logo](images/bae_logo.png)"
   ]
  },
  {
   "cell_type": "markdown",
   "id": "68fc4951-d56f-42d4-ae69-4fd62c02cc76",
   "metadata": {
    "tags": []
   },
   "source": [
    "# Hands-On Exercise 8.1: Using LINQ/EF"
   ]
  },
  {
   "cell_type": "markdown",
   "id": "5db42944-105f-4522-a32d-8aa0b928bc9c",
   "metadata": {},
   "source": [
    "## Objective"
   ]
  },
  {
   "cell_type": "markdown",
   "id": "2773a4c7-699c-49aa-b665-afffafc07a49",
   "metadata": {},
   "source": [
    "Implement the logic to display the top 10 players listed by their best game scores in the fewest number of hands played.\n",
    "    \n",
    "A SQL Server database called `Tehi.mdf` has been populated with player scores. LINQ/EF will be used to provide access to this database by coupling it to a `Player` entity class."
   ]
  },
  {
   "cell_type": "markdown",
   "id": "ac4fc9b2-6523-4ce1-9422-093e948ca61a",
   "metadata": {
    "tags": []
   },
   "source": [
    "Close the previous solution if you have not already done so."
   ]
  },
  {
   "cell_type": "markdown",
   "id": "ad888aaf-6150-41e5-b270-8d9e289e3b62",
   "metadata": {},
   "source": [
    "Open the solution `Tehi` located in the directory `C:\\Course\\510D\\Exercises\\Ex081\\`.\n",
    "\n",
    "This project contains the solution files from the bonus of the previous exercise."
   ]
  },
  {
   "cell_type": "markdown",
   "id": "618c268a-0e3c-41eb-afb8-fabdbc8ba5a6",
   "metadata": {},
   "source": [
    "#### Add a connection to the Tehi player database."
   ]
  },
  {
   "cell_type": "markdown",
   "id": "9e2a3f75-111c-4fbf-8c77-94f8522eee26",
   "metadata": {},
   "source": [
    "If it is not already visible, from the main menu bar, select **View | Server Explorer**. This window should appear on the left side."
   ]
  },
  {
   "cell_type": "markdown",
   "id": "dc37f8d7-3d15-4289-a8d9-7ef18f9c6c8e",
   "metadata": {},
   "source": [
    "In the Server Explorer window, right-click **Data Connections** and select **Add Connection...**."
   ]
  },
  {
   "cell_type": "markdown",
   "id": "821d6863-b860-433f-8ec1-fdf5cbf21760",
   "metadata": {},
   "source": [
    "When the Add Connection dialog appears, click the **Change...** button to the right of the data source text box."
   ]
  },
  {
   "cell_type": "markdown",
   "id": "cf7cc804-28f0-4bd0-b199-0765543bca9b",
   "metadata": {},
   "source": [
    "In the Change Data Source dialog, click `Microsoft SQL Server Database File`, and from the drop-down list, select `.NET Framework Data Provider for SQL Server`. Click **OK**."
   ]
  },
  {
   "cell_type": "markdown",
   "id": "617d8004-0550-4fb8-a9fe-b6ae41560978",
   "metadata": {},
   "source": [
    "In the Add Connection dialog click the **Browse...** button and select the file `C:\\Course\\510D\\Data\\Tehi.mdf`. Click **Open**."
   ]
  },
  {
   "cell_type": "markdown",
   "id": "ad637338-d2e1-4680-9055-ff3d172822c0",
   "metadata": {},
   "source": [
    "Click the **Test Connection** button to make sure everything is working, then click **OK** to add the connection.\n",
    "\n",
    "Be patient---the first time accessing the database might take 30 seconds or more."
   ]
  },
  {
   "cell_type": "markdown",
   "id": "07f2971e-a304-4a78-80cc-c5988cb60b6e",
   "metadata": {},
   "source": [
    "#### Add Entity Framework packages."
   ]
  },
  {
   "cell_type": "markdown",
   "id": "065ba6f1-20ae-48c0-b94a-2b59e5519312",
   "metadata": {},
   "source": [
    "The data model will be added to the desktop project. It could be placed in a separate tier (project) if desired."
   ]
  },
  {
   "cell_type": "markdown",
   "id": "21f3dfae-7a7d-4ea7-8289-efcaf4bb081e",
   "metadata": {},
   "source": [
    "Two Entity Framework packages are required to generate entities from a Microsoft SQL Server database.\n",
    "\n",
    "- Microsoft.EntityFrameworkCore.Tools\n",
    "- Microsoft.EntityFrameworkCore.SqlServer"
   ]
  },
  {
   "cell_type": "markdown",
   "id": "bd07d9ab-2ba4-4e60-97c5-98ec955de658",
   "metadata": {},
   "source": [
    "Open the NuGet package manager console via **Tools | NuGet Package Manager | Package Manager Console** from the main menu.\n",
    "\n",
    "<font color=\"red\">**Make sure that **Tehi** is selected as the **Default project** in the dropdown list at the top of the console window.**</font>"
   ]
  },
  {
   "cell_type": "markdown",
   "id": "99699069-d0ce-4781-9099-428e92a58509",
   "metadata": {},
   "source": [
    "Install the Microsoft.EntityFrameworkCore.Tools package using\n",
    "\n",
    "```\n",
    "Install-Package Microsoft.EntityFrameworkCore.Tools\n",
    "```"
   ]
  },
  {
   "cell_type": "markdown",
   "id": "dc81f2b8-0d9e-4371-935c-b1b4ce1e80e0",
   "metadata": {},
   "source": [
    "Install the Microsoft.EntityFrameworkCore.SqlServer package using\n",
    "\n",
    "```\n",
    "Install-Package Microsoft.EntityFrameworkCore.SqlServer\n",
    "```"
   ]
  },
  {
   "cell_type": "markdown",
   "id": "2ef3eb3f-3e43-4484-9ed1-213babd03378",
   "metadata": {},
   "source": [
    "#### Add Entity Framework 6 entities to access the player information."
   ]
  },
  {
   "cell_type": "markdown",
   "id": "92be0d02-9841-4037-989c-67ff7972e7a4",
   "metadata": {},
   "source": [
    "The Entity Framework tools allow entity classes to be scaffolded (generated) automatically from the database schema. This is done using the package manager console.\n",
    "\n",
    "Cut and paste the following command into the console.\n",
    "\n",
    "```\n",
    "Scaffold-DbContext \"Data Source=(LocalDB)\\MSSQLLocalDB;AttachDbFilename=C:\\Course\\510D\\Data\\Tehi.mdf;Integrated Security=True;\" Microsoft.EntityFrameworkCore.SqlServer -OutputDir TehiEntities\n",
    "```\n",
    "\n",
    "The `-OutputDir` parameter specifies the project folder that will be created to hold the entity classes."
   ]
  },
  {
   "cell_type": "markdown",
   "id": "f096f275-6503-41d8-b9f6-17cc3855ef4e",
   "metadata": {},
   "source": [
    "Once the entities have been scaffolded, open the **TehiEntities** folder in Solution Explorer.\n",
    "\n",
    "There are two new classes. `Player` is an entity class representing a row of the `Player` table in the database. The `CCOURSE510DDATATEHIMDFContext` class is an Entity Framework context---basically a connection to the database."
   ]
  },
  {
   "cell_type": "markdown",
   "id": "2f83ca34-5d43-4c08-9934-2baf09a0323d",
   "metadata": {},
   "source": [
    "From the main menu, select **Build | Rebuild Solution** to check everything still works."
   ]
  },
  {
   "cell_type": "markdown",
   "id": "a47f6c90-b569-446f-92b7-442cb78fcfae",
   "metadata": {},
   "source": [
    "Rename the `CCOURSE510DDATATEHIMDFContext.cs` file to `TehiEntitiesContext.cs`. Click **Yes** if prompted to rename all references at the same time.\n",
    "\n",
    "This isn't essential, but the generated name is awful."
   ]
  },
  {
   "cell_type": "markdown",
   "id": "c21790f0-6c90-44d5-9983-e38e011b6b6e",
   "metadata": {},
   "source": [
    "Review the `Player` entity class. It has three properties:\n",
    "\n",
    "- `Name` (`string`)\n",
    "- `BestHandScore` (`int`)\n",
    "- `HandsDealt` (`int`)"
   ]
  },
  {
   "cell_type": "markdown",
   "id": "b7d47160-0b35-4066-87bf-75a2e9bd8697",
   "metadata": {},
   "source": [
    "In the Server Explorer window, expand the Data Connections tree menu to find the **Player** table, right-click it, and select **Show Table Data**. Briefly review the players in the table and notice the column names. You can see they are identifical the the names of the properties in the `Player` entity class.\n",
    "\n",
    "Close the table view when done by clicking the **[x]** in its tab.\n",
    "\n",
    "Now that our entity data model has been constructed by Entity Framework, we can use it as a provider so that LINQ can be used to query the database."
   ]
  },
  {
   "cell_type": "markdown",
   "id": "c8f77ef9-cb40-483f-9355-32b9199d63f2",
   "metadata": {},
   "source": [
    "Review the `TehiEntitiesContext` class. There is a `#warning` pragma next to the connection string details as a reminder that this may leak important security information (e.g. passwords) and should eventually be moved to a configuration file. \n",
    "\n",
    "As the Tehi application is using a local database, there's no security issue here, but it's a good idea to keep connection details as configuration generally.\n",
    "\n",
    "Connection details are often stored as environment variables, which reduces the risk of sensitive information being push to a source control repositiory."
   ]
  },
  {
   "cell_type": "markdown",
   "id": "12adab2e-5d5a-4007-9b6c-c5f43ca7f17f",
   "metadata": {},
   "source": [
    "#### Add a data accessor class to load the player data from the database."
   ]
  },
  {
   "cell_type": "markdown",
   "id": "2022db8e-d3e2-46f6-bf65-9bca579c95df",
   "metadata": {},
   "source": [
    "In Solution Explorer, right-click the **Tehi** project and add a class called `DataAccessor.cs`. Ensure its definition is `public`."
   ]
  },
  {
   "cell_type": "markdown",
   "id": "3c6000d4-f230-46e2-8eca-b4ff5d9ce17b",
   "metadata": {},
   "source": [
    "In the newly created `DataAccessor` class, add as a field a `private TehiEntitiesContext` object called `db`.\n",
    "\n",
    "Construct a new `TehiEntitiesContext` object in its declaration, as in...\n",
    "\n",
    "```C#\n",
    "private TehiEntitiesContext db = new TehiEntitiesContext();\n",
    "```\n",
    "\n",
    "Remember to add a `using TehiEntities;` statement at the top."
   ]
  },
  {
   "cell_type": "markdown",
   "id": "aeceef65-72c3-43af-b052-d93735706b43",
   "metadata": {},
   "source": [
    "Add the scaffold for a get-only property to access the `Top10Players`.\n",
    "\n",
    "It should look something like...\n",
    "\n",
    "```C#\n",
    "public List<Player> Top10Players\n",
    "{\n",
    "    get\n",
    "    {\n",
    "    }\n",
    "}\n",
    "```\n",
    "\n",
    "We will first obtain all the player records unsorted. Later, we will return and modify the query to select the top 10."
   ]
  },
  {
   "cell_type": "markdown",
   "id": "e6ab3748-0e11-41ba-80da-4394acace4c3",
   "metadata": {},
   "source": [
    "In its `get` block of `Top10Players`, create a query to simply obtain all the players. Use something like the following, but replace the `???` as appropriate.\n",
    "\n",
    "```C#\n",
    "IEnumerable<???> result = from p in db.??? select p;\n",
    "```"
   ]
  },
  {
   "cell_type": "markdown",
   "id": "8617ea13-5df3-4d35-8e3f-2e8c711fc572",
   "metadata": {},
   "source": [
    "Finish with a statement that returns the result converted to a list.\n",
    "\n",
    "You can use something like...\n",
    "\n",
    "```C#\n",
    "return result.ToList();\n",
    "```\n",
    "\n",
    "This will return all of the players in no particular order. We'll improve on this later, but let's first see what we have."
   ]
  },
  {
   "cell_type": "markdown",
   "id": "37342f96-d07c-45c2-b7c0-79dde505ad8f",
   "metadata": {},
   "source": [
    "Get a clean compile."
   ]
  },
  {
   "cell_type": "markdown",
   "id": "0c001808-f171-41aa-904a-2c93a3f48bab",
   "metadata": {},
   "source": [
    "#### Add the logic to display the players in the user interface."
   ]
  },
  {
   "cell_type": "markdown",
   "id": "2cfb444c-0fd1-4412-9da7-0aa676c41d3e",
   "metadata": {},
   "source": [
    "In design mode, double-click the Top 10 menu and in its event method, loop through all players and display them. Use something like:\n",
    "\n",
    "```C#\n",
    "LogListBox.Items.Clear(); \n",
    "\n",
    "DataAccessor da = new DataAccessor(); \n",
    "\n",
    "foreach (Player p in da.Top10Players)\n",
    "{\n",
    "    LogListBox.Items.Add($\"{p.Name} {p.BestHandScore} {p.HandsDealt}\");\n",
    "}\n",
    "```"
   ]
  },
  {
   "cell_type": "markdown",
   "id": "8975fafe-c17c-460c-a758-f43628dd9e1a",
   "metadata": {},
   "source": [
    "Compile and test. Select Top 10 to display the players. Do not click the Deal button by mistake. That doesn't test what we want.\n",
    "\n",
    "All players and their scores should be listed, unsorted."
   ]
  },
  {
   "cell_type": "markdown",
   "id": "1bff1404-182a-452e-9f90-876fb6fdf730",
   "metadata": {},
   "source": [
    "#### Modify the top-10 query to filter and sort the result."
   ]
  },
  {
   "cell_type": "markdown",
   "id": "8b435576-9f7c-46e2-9625-8cc032d2bb13",
   "metadata": {},
   "source": [
    "Open `DataAccessor.cs` for editing and return to the top-10 query. Add a where clause to remove any players whose best hand score is 0; i.e., we want all players whose score is not 0.\n",
    "\n",
    "Use something like\n",
    "\n",
    "```C#\n",
    "where p.BestHandScore != 0\n",
    "```"
   ]
  },
  {
   "cell_type": "markdown",
   "id": "04e07f2e-0239-4470-bc00-e6d2835c52a7",
   "metadata": {},
   "source": [
    "Compile and test.\n",
    "\n",
    "Players with scores of 0 should have been eliminated.\n",
    "\n",
    "The \"best\" player is determined by who has the highest best hand achieved in the fewest number of hands dealt."
   ]
  },
  {
   "cell_type": "markdown",
   "id": "f470fb9f-5f2e-450d-bfdd-e853eee6efd0",
   "metadata": {},
   "source": [
    "Add an `orderby` clause to the query to first sort by best hand score in descending order, then by the number of hands dealt.\n",
    "\n",
    "An `orderby` clause can have multiple terms separated by a comma, as in `orderby <first term>, <second term>`. Remember, too, that you can use the LINQ keyword `descending` after an ordered term...\n",
    "\n",
    "```C#\n",
    "orderby p.BestHandScore descending, p.HandsDealt\n",
    "```"
   ]
  },
  {
   "cell_type": "markdown",
   "id": "d266acc3-9386-4d28-98ec-23e9e00e5cde",
   "metadata": {},
   "source": [
    "Compile and test.\n",
    "\n",
    "Ensure that the listing is sorted; see Bill and Charles."
   ]
  },
  {
   "cell_type": "markdown",
   "id": "a3bf8cfe-a7f6-4fae-8118-17f8024a60b4",
   "metadata": {},
   "source": [
    "Now, use the `Take(...)` query method to limit the number of players to 10. Insert it into the `return` statement before the call to `ToList()`.\n",
    "\n",
    "It should look something like...\n",
    "\n",
    "```C#\n",
    "return result.Take(10).ToList();\n",
    "```"
   ]
  },
  {
   "cell_type": "markdown",
   "id": "3988f637-f238-4aaf-b0cd-d882cf0b2df4",
   "metadata": {},
   "source": [
    "Compile and test.\n",
    "\n",
    "Now just the top 10 players should be shown. Your data should look something like this (probably with different values):\n",
    "\n",
    "![Top 10 players](images/ex071_30.png)"
   ]
  },
  {
   "cell_type": "markdown",
   "id": "9754ed2d-a72c-4d7e-9300-acebdfe00129",
   "metadata": {},
   "source": [
    "## Congratulations! You have successfully completed the exercise. Continue to the bonus if you have more time."
   ]
  },
  {
   "cell_type": "markdown",
   "id": "177f4068-7f87-4d8a-a8b8-156d84b116a3",
   "metadata": {},
   "source": [
    "# Bonus (Optional)"
   ]
  },
  {
   "cell_type": "markdown",
   "id": "16f4002d-8b7c-4f93-8ed7-6858b470379c",
   "metadata": {},
   "source": [
    "Use a `partial` class to add object-oriented logic to the generated `Player` entity class.\n",
    "\n",
    "Earlier in this exercise, the player's information was displayed by composing the output using `$\"{p.Name} {p.BestHandScore} {p.HandsDealt}\"`.\n",
    "\n",
    "This is not very object-oriented; providing a `ToString()` would be better. We can put it in another partial segment to the `Player` class."
   ]
  },
  {
   "cell_type": "markdown",
   "id": "c5917d9b-51b9-47d8-9d7c-1ed54d7d97cd",
   "metadata": {},
   "source": [
    "#### Add a `ToString()` method to the `Player` class by using a second partial segment."
   ]
  },
  {
   "cell_type": "markdown",
   "id": "ce45db2f-fc94-4087-9015-0eb16d0d743d",
   "metadata": {},
   "source": [
    "Add a new class in a file called `PlayerAdditions.cs` to the **Tehi** project's _**TechEntites** folder_. Make its declaration `public` and `partial`, and change the class name to just `Player`."
   ]
  },
  {
   "cell_type": "markdown",
   "id": "5e537d6e-0e17-4671-9eb8-c2695ec105b5",
   "metadata": {},
   "source": [
    "Get a clean compile using **Build | Rebuild Solution**."
   ]
  },
  {
   "cell_type": "markdown",
   "id": "e8623c6a-225e-43c0-911d-fe162b83a1c6",
   "metadata": {},
   "source": [
    "Add the method:\n",
    "\n",
    "```C#\n",
    "public override string ToString()\n",
    "{\n",
    "    return $\"{Name} {BestHandScore} {HandsDealt}\";\n",
    "}\n",
    "```"
   ]
  },
  {
   "cell_type": "markdown",
   "id": "adc08e0b-240c-4db0-aa3a-480a4386c2eb",
   "metadata": {},
   "source": [
    "Return to `Form1.cs`, and, in the method that displays the top 10 players, change the display line to: \n",
    "\n",
    "```C#\n",
    "LogListBox.Items.Add(p.ToString()); \n",
    "```"
   ]
  },
  {
   "cell_type": "markdown",
   "id": "a4080348-dfb6-41df-a412-6657d7d147b5",
   "metadata": {},
   "source": [
    "Compile and test; the output should be the same."
   ]
  },
  {
   "cell_type": "markdown",
   "id": "4adc5358-dd07-4edc-ab1b-c82720509be2",
   "metadata": {},
   "source": [
    "## Congratulations! You have completed the bonus. Carry on to the _super_ bonus if you still have more time."
   ]
  },
  {
   "cell_type": "markdown",
   "id": "ea275999-bcf3-416f-a185-b19775bffc66",
   "metadata": {
    "tags": []
   },
   "source": [
    "# Super Bonus (Optional)"
   ]
  },
  {
   "cell_type": "markdown",
   "id": "b280e98d-984c-46c3-abb9-1e8d14b1d749",
   "metadata": {},
   "source": [
    "Add support for tracking players by logging in and updating their best scores automatically in the database.\n",
    "    \n",
    "<font color=\"red\">**This super bonus is quite long and recommended for after the course. In most cases, there will not be sufficient time to complete it during the regular course hours.**</font>\n",
    "\n",
    "As each game is played, the best hand score and the number of hands dealt are tracked. If this score is better than the one previously recorded in the database, the database should be updated. This is very easy with LINQ/EF!"
   ]
  },
  {
   "cell_type": "markdown",
   "id": "f14c4545-12a1-495a-b3c7-67d401fd2576",
   "metadata": {},
   "source": [
    "#### Add logic in the data accessor to look up and add players in the database."
   ]
  },
  {
   "cell_type": "markdown",
   "id": "3846fc02-f44a-4c6d-9a06-0701b42e174c",
   "metadata": {},
   "source": [
    "Open `DataAccessor.cs` and add a method to look up a player by name. It should look like the following. Complete the `...where...` logic.\n",
    "\n",
    "```C#\n",
    "public Player? LookupPlayer(string name)\n",
    "{\n",
    "    IEnumerable<Player> result = from p in db.Players\n",
    "                                 ...where... \n",
    "                                 select p;\n",
    "\n",
    "    return result.FirstOrDefault();\n",
    "}\n",
    "```"
   ]
  },
  {
   "cell_type": "markdown",
   "id": "c4536ac3-09be-4c94-aeba-a8f25e6fc1f5",
   "metadata": {},
   "source": [
    "#### Answer..."
   ]
  },
  {
   "cell_type": "markdown",
   "id": "c56f9b4a-08c6-4728-ac47-37b49e64b5b6",
   "metadata": {
    "jupyter": {
     "source_hidden": true
    },
    "tags": []
   },
   "source": [
    "You can use this for the `where` clause...\n",
    "\n",
    "```C#\n",
    "where (p.Name.Trim().ToUpper() == name.Trim().ToUpper())\n",
    "```"
   ]
  },
  {
   "cell_type": "markdown",
   "id": "c792168a-575a-4067-8869-7931dfa87a4c",
   "metadata": {},
   "source": [
    "Next, add a method to add a new player to the database. It should have the specification `public void Add(Player player)`.\n",
    "\n",
    "It should look like...\n",
    "\n",
    "```C#\n",
    "public void Add(Player player)\n",
    "{\n",
    "    db.Players.Add(player);\n",
    "}\n",
    "```"
   ]
  },
  {
   "cell_type": "markdown",
   "id": "e06618a8-a029-459f-b7d4-c45fe051adb6",
   "metadata": {},
   "source": [
    "Add a method called `SaveChanges` to save all changes.\n",
    "\n",
    "It should look like...\n",
    "    \n",
    "```C#\n",
    "public void SaveChanges()\n",
    "{\n",
    "    db.SaveChanges();\n",
    "}\n",
    "```"
   ]
  },
  {
   "cell_type": "markdown",
   "id": "6f2c7d3a-b270-4014-b88d-68dcd4344c09",
   "metadata": {},
   "source": [
    "Get a clean compile."
   ]
  },
  {
   "cell_type": "markdown",
   "id": "0ccc8b8c-6dc5-49e3-b4bd-c859c834c348",
   "metadata": {},
   "source": [
    "#### Refactor the Tehi game controller and prepare it for adding the login functionality."
   ]
  },
  {
   "cell_type": "markdown",
   "id": "0b7a1885-d18a-4e4b-bbb6-46885696184f",
   "metadata": {},
   "source": [
    "Open `TehiGame.cs` for editing and find the `HandsDealt` property. Right-click on the name and select **Rename...** from the menu. Rename the property to `HandsDealtInThisGame` and click **Apply** in the dialog. All referenced uses of this property will be updated."
   ]
  },
  {
   "cell_type": "markdown",
   "id": "11234088-7e0e-4d15-9e35-2b4923e03c15",
   "metadata": {},
   "source": [
    "Following the same procedure in the previous step, rename `BestHandScore` to `BestHandScoreInThisGame`."
   ]
  },
  {
   "cell_type": "markdown",
   "id": "7d63bc91-37d4-4be6-86ad-a3aad3e5c611",
   "metadata": {},
   "source": [
    "Get a clean compile."
   ]
  },
  {
   "cell_type": "markdown",
   "id": "09e07501-f45f-420a-b327-6a3ca3950054",
   "metadata": {},
   "source": [
    "#### Create a new project called `Tehi.Data` within the solution to separate data into its own tier. This is necessary to prevent circular references from `CardLib` when trying to access data."
   ]
  },
  {
   "cell_type": "markdown",
   "id": "0c9fa44c-43fb-4ef7-9d9b-fe4e23d22036",
   "metadata": {},
   "source": [
    "Right-click the **Tehi** solution (not project) and add a new class library project. Call it `Tehi.Data`."
   ]
  },
  {
   "cell_type": "markdown",
   "id": "0de29a6c-b4ab-4093-b9cb-8f602b5c4937",
   "metadata": {
    "tags": []
   },
   "source": [
    "Delete the default `Class1.cs` that gets added."
   ]
  },
  {
   "cell_type": "markdown",
   "id": "1ddf6202-d5ca-41c4-b0f4-93b36beafa77",
   "metadata": {},
   "source": [
    "Add a reference to **Tehi.Data** in both the **Tehi** and **CardLib** projects. Then add in `Form1.cs` the following using statements.\n",
    "\n",
    "```C#\n",
    "using Tehi.Data;\n",
    "using Tehi.Data.TehiEntities;\n",
    "```\n",
    "\n",
    "Remove the existing `using TehiEntities;` statement."
   ]
  },
  {
   "cell_type": "markdown",
   "id": "7de6df98-3d38-4784-b874-bcb2ad8d2e3b",
   "metadata": {},
   "source": [
    "Repeat the steps used earlier to create the Tehi entities from the database, but this time target the **Tehi.Data** project in the NuGet package manager console."
   ]
  },
  {
   "cell_type": "markdown",
   "id": "9cc7d959-56c7-4bb7-a189-d0135c4cd6af",
   "metadata": {},
   "source": [
    "Cut the `DataAccessor.cs` and `PlayerAdditions.cs` files out of the **Tehi** project and paste them into the **Tehi.Data** project. In each of them, change the namespace to be `Tehi.Data` and `Tehi.Data.TehiEntities`, respectively."
   ]
  },
  {
   "cell_type": "markdown",
   "id": "f297e306-d97f-4fa2-bade-45a46891a9e2",
   "metadata": {},
   "source": [
    "In Solution Explorer, right-click the `TehiEntities` folder and delete it."
   ]
  },
  {
   "cell_type": "markdown",
   "id": "30e4fade-39e7-466b-9e8f-9d7d6487c247",
   "metadata": {},
   "source": [
    "Right-click the **Tehi.Data** project and select Rebuild to ensure everything has been recreated properly."
   ]
  },
  {
   "cell_type": "markdown",
   "id": "9328880a-126b-4d50-8a8c-a5fc0fc9c20a",
   "metadata": {},
   "source": [
    "Rebuild the program and run it to ensure everything is working as it did before. Check `Top10Players`."
   ]
  },
  {
   "cell_type": "markdown",
   "id": "b075cc98-5ddb-45ee-9e0f-f0ce3de6fedf",
   "metadata": {},
   "source": [
    "#### Add support for enabling/disabling dealing and logging in."
   ]
  },
  {
   "cell_type": "markdown",
   "id": "ed81905d-4d0a-46ed-97d0-f6dec596ccb6",
   "metadata": {},
   "source": [
    "To update a player's best score in the database, we need to know who they are. `TehiGame.cs` needs to support a login function. A player can no longer play without first logging in."
   ]
  },
  {
   "cell_type": "markdown",
   "id": "2afa80cf-3316-4de1-9401-c325a23124f2",
   "metadata": {},
   "source": [
    "In the `TehiGame` class, add a `using Tehi.Data` statement."
   ]
  },
  {
   "cell_type": "markdown",
   "id": "85301e40-6809-4a1d-bb52-8a3956f11b63",
   "metadata": {},
   "source": [
    "After the `CanSwapCards` property, add three new auto-implemented properties:\n",
    "\n",
    "- `bool CanDeal` \n",
    "- `bool CanLogin`\n",
    "- `string Message` \n",
    "\n",
    "All should have a `private set`."
   ]
  },
  {
   "cell_type": "markdown",
   "id": "38eefbbd-cc3d-4794-a17c-a80ee5452f12",
   "metadata": {},
   "source": [
    "Add a constructor. Type `ctor<Tab><Tab>`, and in the body, set the `CanLogin` property to `true` and the message to `\"Enter your game name and click login\"```."
   ]
  },
  {
   "cell_type": "markdown",
   "id": "4cbfb134-0820-4533-9ad5-22d252d0c0d2",
   "metadata": {},
   "source": [
    "Get a clean compile."
   ]
  },
  {
   "cell_type": "markdown",
   "id": "cfb852c7-cf1e-4173-b1ad-40c8d58cc6a9",
   "metadata": {},
   "source": [
    "Open `Form1.cs` for editing and move to the `ShowOutput()` method."
   ]
  },
  {
   "cell_type": "markdown",
   "id": "c5cf45ca-52b3-4e11-aa80-20554bb13c25",
   "metadata": {},
   "source": [
    "Modify the text messages reported in the list box to `\"Hands in this game: \"` and `\"Best score in this game: \"`."
   ]
  },
  {
   "cell_type": "markdown",
   "id": "5e50d90f-ce7d-4b42-86e2-bed64d84c1ff",
   "metadata": {},
   "source": [
    "Add at the last line in the `ShowOutput()` method: \n",
    "\n",
    "```C#\n",
    "StatusLabel.Text = game.Message;\n",
    "```"
   ]
  },
  {
   "cell_type": "markdown",
   "id": "5aac1cff-05ad-4f21-b647-641bd104f97e",
   "metadata": {},
   "source": [
    "Move to the new game event method (`newToolStripMenuItem_Click`) and delete the line that writes to the status label."
   ]
  },
  {
   "cell_type": "markdown",
   "id": "a303ad57-b4a2-4cb3-b183-4caa50304f6e",
   "metadata": {},
   "source": [
    "Compile and test. The messages will not yet be correct."
   ]
  },
  {
   "cell_type": "markdown",
   "id": "0083c27b-83ff-4b52-aaeb-8a65f0fb4267",
   "metadata": {},
   "source": [
    "Continue editing `ShowOutput ()` and, after the line that clears the list box, add \n",
    "\n",
    "```C#\n",
    "DealButton.Enabled = game.CanDeal;\n",
    "```"
   ]
  },
  {
   "cell_type": "markdown",
   "id": "8e19b01f-6d13-4d16-9d48-cad7a9d2b7a7",
   "metadata": {},
   "source": [
    "Move to the``FormLoad(...)` method, and add at the last line a call to `ShowOutput()`."
   ]
  },
  {
   "cell_type": "markdown",
   "id": "1603ac9d-dde0-49fe-aba2-6ab4d64affb9",
   "metadata": {},
   "source": [
    "Compile and test. You should no longer be able to deal."
   ]
  },
  {
   "cell_type": "markdown",
   "id": "45659f59-e041-43f6-bbfd-f191bf79f27b",
   "metadata": {},
   "source": [
    "#### Add support in the Tehi game controller for logging in."
   ]
  },
  {
   "cell_type": "markdown",
   "id": "ef61f8d6-4004-4541-a8cf-4b05ff126e9c",
   "metadata": {},
   "source": [
    "Open `TehiGame.cs` and add the following fields:\n",
    "\n",
    "```C#\n",
    "private DataAccessor tda = new DataAccessor(); \n",
    "private Player? player;\n",
    "```"
   ]
  },
  {
   "cell_type": "markdown",
   "id": "c8173f1b-ce85-4698-b7e5-d64d7c5f7219",
   "metadata": {},
   "source": [
    "Move to after the `SwapCard()` method. Add the `Login(...)` method by cutting and pasting the following code.\n",
    "\n",
    "```C#\n",
    "public void Login(string name)\n",
    "{\n",
    "    if (name.Length < 3)\n",
    "    {\n",
    "        Message = \"Game name must be 3 or more characters.\";\n",
    "        \n",
    "        return;\n",
    "    }\n",
    "    \n",
    "    CanDeal = true; \n",
    "    CanLogin = false;\n",
    "    \n",
    "    player = tda.LookupPlayer(name); \n",
    "    \n",
    "    if (player != null)\n",
    "    {\n",
    "        Message = $\"Player found. Overall best score is {player.BestHandScore} in {player.HandsDealt}.\";\n",
    "\n",
    "        return;\n",
    "    }\n",
    "  \n",
    "    player = new Player(); \n",
    "    player.Name = name; \n",
    "    \n",
    "    tda.Add(player); \n",
    "    \n",
    "    tda.SaveChanges();\n",
    "    \n",
    "    Message = $\"New player {name} added to database.\";\n",
    "}\n",
    "```"
   ]
  },
  {
   "cell_type": "markdown",
   "id": "808f45c8-8ad3-4820-bc36-d8bc029985b9",
   "metadata": {},
   "source": [
    "Get a clean compile."
   ]
  },
  {
   "cell_type": "markdown",
   "id": "8b8114fe-c553-4adb-b516-274edc191c86",
   "metadata": {},
   "source": [
    "#### Add support for the login control in the view."
   ]
  },
  {
   "cell_type": "markdown",
   "id": "56e41ee9-e9d1-4dd5-bd12-aaa64e6ba1c7",
   "metadata": {},
   "source": [
    "Open `Form1.cs` in design mode."
   ]
  },
  {
   "cell_type": "markdown",
   "id": "f85eadbb-bfde-4abf-b02d-95681e5bd7e2",
   "metadata": {},
   "source": [
    "Double-click the **Login** button to go to its event method. Delete all existing code and add:\n",
    "\n",
    "```C#\n",
    "game.Login(NameTextBox.Text);\n",
    "ShowOutput();\n",
    "```"
   ]
  },
  {
   "cell_type": "markdown",
   "id": "6b01e27e-b7d8-4b98-9553-eb6b2788c9de",
   "metadata": {},
   "source": [
    "Move to the `ShowOutput()` method, and after the `DealButton` is enabled/ disabled, add:\n",
    "\n",
    "```C#\n",
    "LoginButton.Visible = game.CanLogin;\n",
    "```"
   ]
  },
  {
   "cell_type": "markdown",
   "id": "2999dcc0-005d-455d-b9f4-98702933817a",
   "metadata": {},
   "source": [
    "Remove any superfluous calls to `StatusLabel.Text = ...` in the various event methods. Leave only the one in `ShowOutput()`."
   ]
  },
  {
   "cell_type": "markdown",
   "id": "3de475ad-8002-4dee-bc4b-61a023d3fe47",
   "metadata": {},
   "source": [
    "Compile and test. You should be able to log in and play the game again. Start a new game to log in again if necessary."
   ]
  },
  {
   "cell_type": "markdown",
   "id": "c802ff77-88db-4daf-b893-6465da055ccc",
   "metadata": {},
   "source": [
    "#### Track and update the players' all-time highest scores in the database if they get a better score in the current game."
   ]
  },
  {
   "cell_type": "markdown",
   "id": "ba818750-9841-4370-a9e8-452f09b34e7d",
   "metadata": {},
   "source": [
    "The best all-time would be:\n",
    "\n",
    "- Any `BestScoreInThisGame` higher than the `BestScore` recorded in the database\n",
    "- Any `BestScoreInThisGame` equal to the `BestScore` in the database if the number of hands played is less\n",
    "\n",
    "Let's add support for this."
   ]
  },
  {
   "cell_type": "markdown",
   "id": "a308fb16-143f-462c-9cd1-8ace3b154d5b",
   "metadata": {},
   "source": [
    "Open `TehiGame.cs` for editing, and before the `ToString` method, add a new function called `ScoreUpdate` using the code below:\n",
    "\n",
    "```C#\n",
    "private void ScoreUpdate()\n",
    "{\n",
    "    if (Score > BestHandScoreInThisGame)\n",
    "    {\n",
    "        BestHandScoreInThisGame = Score;\n",
    "    }\n",
    "\n",
    "    if ((Score > player!.BestHandScore) ||\n",
    "       ((Score == player.BestHandScore) && (HandsDealtInThisGame < player.HandsDealt)))\n",
    "    {\n",
    "        player.BestHandScore = Score;\n",
    "        player.HandsDealt = HandsDealtInThisGame;\n",
    "        tda.SaveChanges();\n",
    "        Message = \"New all-time best score \" + Score + \" in \" + player.HandsDealt + \" hands\";\n",
    "    }\n",
    "    else \n",
    "    {\n",
    "        Message = \"...\";\n",
    "    }\n",
    "}\n",
    "```"
   ]
  },
  {
   "cell_type": "markdown",
   "id": "22511dfb-7376-48bb-a8eb-9d1ff37e5dfd",
   "metadata": {},
   "source": [
    "Get a clean compile."
   ]
  },
  {
   "cell_type": "markdown",
   "id": "360534de-46e2-4a43-9517-981d146cb172",
   "metadata": {},
   "source": [
    "Move to the `Deal()` method and replace the line of code that checks if the score has improved with a call to `ScoreUpdate()`."
   ]
  },
  {
   "cell_type": "markdown",
   "id": "ac3de841-50f4-47f2-94be-c40ebed96f8f",
   "metadata": {},
   "source": [
    "Repeat for the `SwapCard()` method."
   ]
  },
  {
   "cell_type": "markdown",
   "id": "786d7f30-0d42-4906-80ac-c9742094199f",
   "metadata": {},
   "source": [
    "Compile and test. Log in with a new game name (make one up).\n",
    "\n",
    "After one or more hands, a message that a new all-time score has been achieved will appear."
   ]
  },
  {
   "cell_type": "markdown",
   "id": "d569ef88-2f35-4d8b-af8e-a06a2aa02215",
   "metadata": {},
   "source": [
    "Play for a while. See if you can get on the high-mscores list."
   ]
  },
  {
   "cell_type": "markdown",
   "id": "60f6a93a-1693-4aa4-886e-3acdec80d322",
   "metadata": {},
   "source": [
    "## Congratulations! You have completed the _super_ bonus."
   ]
  }
 ],
 "metadata": {
  "kernelspec": {
   "display_name": ".NET (C#)",
   "language": "C#",
   "name": ".net-csharp"
  },
  "language_info": {
   "file_extension": ".cs",
   "mimetype": "text/x-csharp",
   "name": "C#",
   "pygments_lexer": "csharp",
   "version": "9.0"
  }
 },
 "nbformat": 4,
 "nbformat_minor": 5
}

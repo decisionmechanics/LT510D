{
 "cells": [
  {
   "cell_type": "markdown",
   "id": "a3650714-7742-49e6-9e4c-1500a35a9bd6",
   "metadata": {
    "tags": []
   },
   "source": [
    "# Hands-On Exercise 10.1: Automated Unit Testing"
   ]
  },
  {
   "cell_type": "markdown",
   "id": "dd76dde7-331f-4d07-a4ba-f003321a5f02",
   "metadata": {},
   "source": [
    "## Objective"
   ]
  },
  {
   "cell_type": "markdown",
   "id": "0fc36927-94e0-4598-9645-bd039d59331f",
   "metadata": {
    "tags": []
   },
   "source": [
    "In this exercise, you will use test driven development to produce a utility method to convert numbers to a text representation. Very useful for text to voice applications. For example:\n",
    "\n",
    "- 163 should return \"one hundred sixty-three\"\n",
    "- -5022 should return \"minus five thousand twenty-two\"\n",
    "- Up to a maximum of 999,999,999,999,999 which should return \"nine hundred ninety nine trillion, nine hundred ninety nine billion, nine hundred ninety nine million, nine hundred ninety nine thousand, nine hundred ninety nine\""
   ]
  },
  {
   "cell_type": "markdown",
   "id": "5051c536-87b1-425b-aa53-0701cb67c7af",
   "metadata": {},
   "source": [
    "#### Open the starting point for this exercise and add a class called `NumberExtensions`."
   ]
  },
  {
   "cell_type": "markdown",
   "id": "d113ec77-2dfb-45c9-841d-1cdd0e0fdba7",
   "metadata": {},
   "source": [
    "Start Visual Studio and open the solution `C:\\Course\\510D\\Exercises\\Ex101\\Util.sln`.\n",
    "    \n",
    "This utility library contains `Publisher.cs`, a base class for useby the observer pattern subjects (pub/sub pattern), plus a couple of useful extension method examples, one for encryption and one to display a modern date string. Converting numbers to text could be used in any program, so it is appropriate to add it to this utility library."
   ]
  },
  {
   "cell_type": "markdown",
   "id": "7de3ff7d-aa35-44e0-bd9c-cb379daf3ce4",
   "metadata": {},
   "source": [
    "In Solution Explorer, right-click the `Util` project and add a `NumberExtensions` class to the project. Change the declaration to be both `public` and `static`."
   ]
  },
  {
   "cell_type": "markdown",
   "id": "f5ae0ecb-3a51-4f6f-9070-e5d2f64292a8",
   "metadata": {},
   "source": [
    "Implement a stub for an extension method with the specification `public static string ToText(this int number)` and it should just return `string.Empty`.\n",
    "\n",
    "When used, this method will \"attach\" to any integer value, such as `int num = 123; Console.WriteLine(num.ToText());`."
   ]
  },
  {
   "cell_type": "markdown",
   "id": "1bccb61f-d1e9-4644-85a0-c07ddff5a3e5",
   "metadata": {},
   "source": [
    "Add an overload to `ToText(int...)` with `int` as a parameter. It should just call `ToText((long)...)`. This is to have the `ToText` functionality attach to both integers and long integers.\n",
    " \n",
    "At this point, your NumberExtensions class should look like:\n",
    "\n",
    "```C#\n",
    "namespace Util\n",
    "{\n",
    "    public static class NumberExtensions\n",
    "    {\n",
    "        public static string ToText(this int number)\n",
    "        {\n",
    "            return string.Empty;\n",
    "        }\n",
    "    }\n",
    "}\n",
    "```"
   ]
  },
  {
   "cell_type": "markdown",
   "id": "b4c929a4-a6f9-4e0c-865f-30b77671d440",
   "metadata": {},
   "source": [
    "Get a clean compile. The project is a class library; you cannot run it."
   ]
  },
  {
   "cell_type": "markdown",
   "id": "fefd849f-2c3d-48e7-a483-f6eb2b7d98a4",
   "metadata": {},
   "source": [
    "#### Add a separate project for the test code."
   ]
  },
  {
   "cell_type": "markdown",
   "id": "bfaeabe2-5de8-4b05-95d9-9a499a2b63a3",
   "metadata": {},
   "source": [
    "It is appropriate for your test code to be in a separate project. You would not normally expect to ship the testing code to your customers.\n",
    "\n",
    "<font color=\"red\">**Warning! In the next step, make sure you right-click the `Util` _solution_, not the `Util` library project.**</font>"
   ]
  },
  {
   "cell_type": "markdown",
   "id": "e5dd2387-fd5a-4ac6-8636-d2a9f6faa09c",
   "metadata": {},
   "source": [
    "In Solution Explorer, right-click the `Util` solution (not project) and select **Add | New Project...**."
   ]
  },
  {
   "cell_type": "markdown",
   "id": "3bf917ce-e683-4941-bf79-01a6f56690fe",
   "metadata": {},
   "source": [
    "In the \"Add a new project\" dialog, type `test c#` into the search text box and press return. Frameworks for various types of test projects should appear. Click **MSTest Test Project**, then click the **Next** button."
   ]
  },
  {
   "cell_type": "markdown",
   "id": "cfa8265b-9ba8-4c2a-ba1d-0683cdb7d780",
   "metadata": {},
   "source": [
    "In the \"Configure your new project\" dialog, name the project `UtilTests`. Make sure its location is `C:\\Course\\510D\\Exercises\\Ex101`. Click **Next**. Select **.NET 6.0** as the framework and click **Create** to generate the test project."
   ]
  },
  {
   "cell_type": "markdown",
   "id": "9f4f0f2b-6151-428e-a950-d9703b48274e",
   "metadata": {},
   "source": [
    "Still in Solution Explorer, right-click and rename the default `UnitTest1` file to be `NumberExtensionsTests`. When prompted to change all occurrences say yes."
   ]
  },
  {
   "cell_type": "markdown",
   "id": "8b67b580-56d2-4b20-bc0a-71bbbcbd494e",
   "metadata": {},
   "source": [
    "Right-click the `UtilTests` project _dependencies_ and select **Add Project Reference...**."
   ]
  },
  {
   "cell_type": "markdown",
   "id": "c7f41420-3907-429f-ae63-c6461f85c45a",
   "metadata": {},
   "source": [
    "In the **Projects | Solution** tab, select the checkbox beside **Util**, then click the **OK** button."
   ]
  },
  {
   "cell_type": "markdown",
   "id": "e58e68aa-19e7-41a7-827b-5e58c453cb6d",
   "metadata": {},
   "source": [
    "Open the class `NumberExtensionsTests` in the editing area, if it is not already there."
   ]
  },
  {
   "cell_type": "markdown",
   "id": "86ab6678-2970-420c-a79e-7f5bda784425",
   "metadata": {},
   "source": [
    "Add `using Util;` to make the namespace available.\n",
    "\n",
    "We are now ready to start developing the `ToText(...)` functionality using TDD. Proceed by:\n",
    "\n",
    "- Writing a test to test new functionality---run it---red lights\n",
    "- Implementing the new functionality until the tests show green lights\n",
    "- Refactoring as necessary"
   ]
  },
  {
   "cell_type": "markdown",
   "id": "13dd91ea-e3db-49c2-95ee-64724d4cb45f",
   "metadata": {},
   "source": [
    "#### A good place to start is at the beginning and 0 should return \"zero\"."
   ]
  },
  {
   "cell_type": "markdown",
   "id": "828c00d4-1011-437e-adbc-5bba347b19f1",
   "metadata": {},
   "source": [
    "Design item---zero is a special case. It must be processed first before any other number to avoid, for example, something like \"minus zero\" or \"zero thousand\"."
   ]
  },
  {
   "cell_type": "markdown",
   "id": "ce4bee41-22e3-4bf8-8257-7c9a3cf63cd6",
   "metadata": {},
   "source": [
    "In the `NumberExtensionsTests` class rename `TestMethod1` to be `ZeroTest`."
   ]
  },
  {
   "cell_type": "markdown",
   "id": "eced4188-f485-4fde-a1af-6a6cf1d2e5b6",
   "metadata": {},
   "source": [
    "Inside this method Assert call to ensure `0.ToText()` resulted in \"zero\".\n",
    "\n",
    "Your C# code might look like this:\n",
    "\n",
    "```C#\n",
    "[TestMethod]\n",
    "public void ZeroTest()\n",
    "{\n",
    "    Assert.AreEqual(\"zero\", 0.ToText());\n",
    "}\n",
    "```"
   ]
  },
  {
   "cell_type": "markdown",
   "id": "fc6b0139-bec4-49d1-bb49-956f338d426a",
   "metadata": {},
   "source": [
    "From the Visual Studio menu bar, select **Test | Run All Tests**.\n",
    "\n",
    "The test runner window should appear. The test will show red because the functionality has not yet been written."
   ]
  },
  {
   "cell_type": "markdown",
   "id": "d83972d3-7551-445c-8135-49df6db08623",
   "metadata": {},
   "source": [
    "Close the test runner window. Do this after every test run."
   ]
  },
  {
   "cell_type": "markdown",
   "id": "8782b6d3-41ae-4089-a63e-5328228a4f03",
   "metadata": {},
   "source": [
    "#### Add the functionality convert 0 to \"zero\"."
   ]
  },
  {
   "cell_type": "markdown",
   "id": "5851e19c-b1ee-4ba3-b7b5-c96978d78ead",
   "metadata": {},
   "source": [
    "Open `NumberExtensions.cs` for editing, and in the `ToText(int number)` method, add the conditional `if (number == 0) return \"zero\";`.\n",
    "\n",
    "Place it before the statement `return string.Empty;`."
   ]
  },
  {
   "cell_type": "markdown",
   "id": "32e266b6-2270-4aab-afaf-143bb56b24cf",
   "metadata": {},
   "source": [
    "From the Visual Studio menu bar, select **Test | Run All Tests** again.\n",
    "\n",
    "You should now see your first green lights."
   ]
  },
  {
   "cell_type": "markdown",
   "id": "72f04e73-5bf3-44d7-886e-1cad5d324929",
   "metadata": {},
   "source": [
    "#### Add functionality to convert numbers in the range 1 to 19 to text."
   ]
  },
  {
   "cell_type": "markdown",
   "id": "4c264b60-5e74-4f7b-9319-c9e49c920707",
   "metadata": {},
   "source": [
    "Design item---the first 19 numbers are a special case and do not have a pattern so these need to be handled explicitly. Larger numbers do have a pattern and can be composed from the first 19."
   ]
  },
  {
   "cell_type": "markdown",
   "id": "87c63973-78e8-4d18-8ec0-b74ff3ad8532",
   "metadata": {},
   "source": [
    "Add an empty test method called `OneToNineteenTest` to the `NumberExtensionsTests` class. Make sure to use the `[TestMethod]` attribute.\n",
    "\n",
    "Design item---a `for` loop and an array of strings can be used to test numbers 1 through 19, rather than individually line by line."
   ]
  },
  {
   "cell_type": "markdown",
   "id": "fce47f43-0ef1-4f09-8450-dc57e9eb9457",
   "metadata": {},
   "source": [
    "Into the test method enter, or copy and paste the statement:\n",
    "\n",
    "```C#\n",
    "string[] numbers = {\"zero\", \"one\", \"two\", \"three\", \"four\", \"five\", \"six\", \"seven\", \"eight\", \"nine\", \"ten\", \"eleven\", \"twelve\", \"thirteen\", \"fourteen\", \"fifteen\", \"sixteen\", \"seventeen\", \"eighteen\", \"nineteen\" };\n",
    "```"
   ]
  },
  {
   "cell_type": "markdown",
   "id": "5517b9a7-9400-44df-a724-6ccf3af45109",
   "metadata": {},
   "source": [
    "Following this string array statement, add a for loop from 1 to 19. Call the loop counter `n`."
   ]
  },
  {
   "cell_type": "markdown",
   "id": "4838e69b-57ef-4e57-b988-32e00cf9df74",
   "metadata": {
    "tags": []
   },
   "source": [
    "Inside of the for loop, assert that``numbers[n]` is equal to `n.ToText()`.\n",
    "    \n",
    "Your test should look something like this.\n",
    "    \n",
    "```C#\n",
    "for (int n = 1; n <= 19; n++)\n",
    "{\n",
    "    Assert.AreEqual(numbers[n], n.ToText());\n",
    "}\n",
    "```"
   ]
  },
  {
   "cell_type": "markdown",
   "id": "c6dbc00f-efe4-4a6a-a4ac-f7b6c4f12dba",
   "metadata": {},
   "source": [
    "Run all tests. You will have some red lights."
   ]
  },
  {
   "cell_type": "markdown",
   "id": "61fa14dd-3d1d-4667-944d-1fcf8511c713",
   "metadata": {},
   "source": [
    "#### Implement the business logic for 1 to 19."
   ]
  },
  {
   "cell_type": "markdown",
   "id": "08584a52-05bd-4a16-b568-93bb4417f820",
   "metadata": {},
   "source": [
    "Open `ToText()` for editing and after the check for 0, add a conditional to check if the number is than 20. Include the `{` and `}` parens."
   ]
  },
  {
   "cell_type": "markdown",
   "id": "f0a0aeda-0f51-4509-a6cd-cc01db287af6",
   "metadata": {},
   "source": [
    "Inside of this conditional, copy and paste the full numbers string array from the test class into it."
   ]
  },
  {
   "cell_type": "markdown",
   "id": "da4e9af1-6833-4394-a809-3a2beba65bdf",
   "metadata": {},
   "source": [
    "After this, add the statement `return numbers[number];`.\n",
    "\n",
    "Your business logic should look like:\n",
    "\n",
    "```C#\n",
    "public static string ToText(this int number)\n",
    "{\n",
    "    if (number == 0) return \"zero\"; \n",
    "    \n",
    "    if (number < 20)\n",
    "    {\n",
    "        string[] numbers = {\"zero\", \"one\", \"two\", \"three\", \"four\", \"five\", \"six\", \"seven\", \"eight\", \"nine\", \"ten\", \"eleven\", \"twelve\", \"thirteen\", \"fourteen\", \"fifteen\", \"sixteen\", \"seventeen\", \"eighteen\", \"nineteen\" };\n",
    "\n",
    "        return numbers[number];\n",
    "    }\n",
    "\n",
    "    return string.Empty;\n",
    "}\n",
    "```"
   ]
  },
  {
   "cell_type": "markdown",
   "id": "84034b8f-0818-4c1a-960c-11270626f3c3",
   "metadata": {},
   "source": [
    "Run all tests, you should get green lights; but if not, repeat the previous four steps until you do."
   ]
  },
  {
   "cell_type": "markdown",
   "id": "4e183208-03ac-4545-8e38-241d1e99d9b4",
   "metadata": {},
   "source": [
    "#### Now add support for negative numbers."
   ]
  },
  {
   "cell_type": "markdown",
   "id": "b2c07e52-d19c-49b0-a23b-4925fdd4017c",
   "metadata": {},
   "source": [
    "You will need to use recursion for minus, meaning `ToText(...)` will call `ToText(...)`.\n",
    "\n",
    "Design item---It is not necessary to check every number between -1 and -19, just the boundary cases (-1 and -19) and a couple of representative examples."
   ]
  },
  {
   "cell_type": "markdown",
   "id": "faa3ba77-ec50-45e5-b28a-dd504d48f8f0",
   "metadata": {},
   "source": [
    "Add a new test method called `MinusTest()`. Use something like `Assert.AreEqual(\"minus one\", (-1).ToText());`."
   ]
  },
  {
   "cell_type": "markdown",
   "id": "c0b20231-693a-4ff5-91b4-a45f2df0a89b",
   "metadata": {},
   "source": [
    "Add the test for -19 and a couple of negative values of your choice.\n",
    "\n",
    "Your test should look something like this.\n",
    "\n",
    "```C#\n",
    "[TestMethod]\n",
    "public void MinusTest()\n",
    "{\n",
    "    Assert.AreEqual(\"minus one\", (-1).ToText());\n",
    "    Assert.AreEqual(\"minus seven\", (-7).ToText());\n",
    "    Assert.AreEqual(\"minus twelve\", (-12).ToText());\n",
    "    Assert.AreEqual(\"minus nineteen\", (-19).ToText());\n",
    "}\n",
    "```"
   ]
  },
  {
   "cell_type": "markdown",
   "id": "f3a71733-cb31-43b6-a3b5-ca9e4af0c9b5",
   "metadata": {},
   "source": [
    "Run all tests to see red lights for the minus test."
   ]
  },
  {
   "cell_type": "markdown",
   "id": "3550378d-99cb-40d7-9d2d-92337c3d39f3",
   "metadata": {},
   "source": [
    "#### Add the business logic for negative numbers."
   ]
  },
  {
   "cell_type": "markdown",
   "id": "65fdc57f-458d-4578-8900-41c6e7ca39df",
   "metadata": {},
   "source": [
    "Return to editing `ToText(...)` and, after the conditional that checks for 0, add a conditional to check if the number is negative. Include the `{` and `}` parens."
   ]
  },
  {
   "cell_type": "markdown",
   "id": "470da1ed-647b-4de7-a734-9b9d72825bf1",
   "metadata": {},
   "source": [
    "Within this conditional, make the number positive, then `return \"minus\" + number.ToText();`.\n",
    "\n",
    "Your logic should look something like:\n",
    "\n",
    "```C#\n",
    "if (number < 0)\n",
    "{\n",
    "   number = -number;\n",
    "   \n",
    "    return \"minus \" + number.ToText();\n",
    "}\n",
    "```"
   ]
  },
  {
   "cell_type": "markdown",
   "id": "de7690aa-41a3-44ed-b90e-5cba6c30dcae",
   "metadata": {},
   "source": [
    "Run all tests to ensure your minus case is working."
   ]
  },
  {
   "cell_type": "markdown",
   "id": "65199a5f-cb1b-4874-aa33-cc13a55347db",
   "metadata": {},
   "source": [
    "## Congratulations! You have completed the exercise. Carry on to the bonus if you have more time."
   ]
  },
  {
   "cell_type": "markdown",
   "id": "83e532ae-fcfc-49a6-8d56-43176c373140",
   "metadata": {
    "tags": []
   },
   "source": [
    "# Bonus (Optional)"
   ]
  },
  {
   "cell_type": "markdown",
   "id": "21e02e47-3f52-4a80-a2fe-2d7ee360bb3f",
   "metadata": {},
   "source": [
    "Continue TDD to finish the `NumberExtensions` logic."
   ]
  },
  {
   "cell_type": "markdown",
   "id": "97dd76ac-52e5-4e64-a3f8-669dff6af47f",
   "metadata": {},
   "source": [
    "#### Add processing for values from 20 to 99."
   ]
  },
  {
   "cell_type": "markdown",
   "id": "2e61fb07-c494-4afc-a533-ee16398faf16",
   "metadata": {},
   "source": [
    "Design idea---for these values there is a pattern from 20 to 99. The decade plus the unit---so 35 would be \"thirty five\" etc."
   ]
  },
  {
   "cell_type": "markdown",
   "id": "8171bd9d-1431-469b-aa16-4f2422aca5a5",
   "metadata": {},
   "source": [
    "Add a test called `TwentyToNinetyNineTest()`. Test for numbers in that range. Include:\n",
    "\n",
    "- All of the even tens (20, 30 ... 90)\n",
    "- The boundary case 99\n",
    "- A few typical cases\n",
    "- A few negative cases\n",
    " \n",
    "Like the 1-99 tests, you can use an array of string containing the decades such as { \"twenty\", \"thirty\"...}. The specific logic is left up to you or you can use something like...\n",
    "\n",
    "```C#\n",
    "public void TwentyToNintyNineTest()\n",
    "{\n",
    "    string[] decades = { \"twenty\", \"thirty\", \"forty\", \"fifty\", \"sixty\", \"seventy\", \"eighty\", \"ninety\"};\n",
    "\n",
    "    for (int decade = 20; decade <= 90; decade += 10)\n",
    "    {\n",
    "        int dix = (decade - 20)/10; Assert.AreEqual(decades[dix], decade.ToText());\n",
    "    }\n",
    "\n",
    "    Assert.AreEqual(\"twenty one\", 21.ToText());\n",
    "    Assert.AreEqual(\"thirty five\", 35.ToText());\n",
    "    Assert.AreEqual(\"eighty two\", 82.ToText());\n",
    "    Assert.AreEqual(\"ninety nine\", 99.ToText());\n",
    "    Assert.AreEqual(\"minus seventy seven\", (-77).ToText());\n",
    "}\n",
    "```"
   ]
  },
  {
   "cell_type": "markdown",
   "id": "7f288ace-8834-44e4-b4b2-3727c9acc32b",
   "metadata": {},
   "source": [
    "Run all tests. You should get a red light for the newly added test."
   ]
  },
  {
   "cell_type": "markdown",
   "id": "1790bec9-c4a8-456f-8d42-544ccd5750c2",
   "metadata": {},
   "source": [
    "Edit `ToText(...)` and after the check for numbers less than 20, add a conditional for numbers less than 100. Include the `{` and `}` parens.\n",
    "\n",
    "The specific logic is left up to you or you can use this...\n",
    "\n",
    "```C#\n",
    "if (number < 100)\n",
    "{\n",
    "    string[] decades = { \"twenty\", \"thirty\", \"forty\", \"fifty\", \"sixty\", \"seventy\", \"eighty\", \"ninety\"};\n",
    "\n",
    "    int unit = number % 10;\n",
    "    int dix = (number - 20) / 10;\n",
    "    \n",
    "    if (unit == 0) \n",
    "    {\n",
    "        return decades[dix];\n",
    "    }\n",
    "    \n",
    "    return decades[dix] + \" \" + unit.ToText();\n",
    "}\n",
    "```"
   ]
  },
  {
   "cell_type": "markdown",
   "id": "256c8fd8-d50d-4d57-93b4-450427dbe307",
   "metadata": {},
   "source": [
    "Get green lights."
   ]
  },
  {
   "cell_type": "markdown",
   "id": "96ef8160-afcf-478f-b26f-c6e617ac9b23",
   "metadata": {},
   "source": [
    "## Congratulations! You have completed the bonus. Carry on to the _super_ bonus if you still have more time."
   ]
  },
  {
   "cell_type": "markdown",
   "id": "00abbab2-9494-4c85-af64-97e4f661c88b",
   "metadata": {
    "tags": []
   },
   "source": [
    "# Super Bonus (Optional)"
   ]
  },
  {
   "cell_type": "markdown",
   "id": "3b5645e2-22f3-47d3-81f1-41cb3c662bfd",
   "metadata": {},
   "source": [
    "Continue this super bonus if you still have more time.."
   ]
  },
  {
   "cell_type": "markdown",
   "id": "7435a329-7c9f-4b31-b40e-90eb1e019b62",
   "metadata": {},
   "source": [
    "#### Add support for numbers in the range >= 100 and < 1000 (i.e., the \"hundreds\")."
   ]
  },
  {
   "cell_type": "markdown",
   "id": "6b3b8627-65f1-49be-a222-5edb7beee798",
   "metadata": {},
   "source": [
    "Write tests that you think are appropriate for this number range---get red lights."
   ]
  },
  {
   "cell_type": "markdown",
   "id": "ddad0a6f-3aa4-43ce-8f9d-75033817f0ab",
   "metadata": {},
   "source": [
    "In `NumberExtensions` add support for numbers in the same range as the tests you just added.\n",
    "\n",
    "Use logic like that for 100 to < 1,000. Just do the range division to determine the units for hundreds. Also note that \"hundreds\" comes after the units in the text, not before it. You can use:\n",
    "\n",
    "```C#\n",
    "if (number < 1000)\n",
    "{\n",
    "    int hundredUnits = (int)number / 100; \n",
    "    int hundreds = hundredUnits * 100; \n",
    "    int tens = (int)number - hundreds;\n",
    "\n",
    "    string temp = hundredUnits.ToText() + \" hundred\";\n",
    "\n",
    "    if (tens == 0) \n",
    "    {\n",
    "        return temp;\n",
    "    }\n",
    "\n",
    "    return temp + \" \" + tens.ToText();\n",
    "}\n",
    "```"
   ]
  },
  {
   "cell_type": "markdown",
   "id": "b1d98d3f-6979-4821-ac31-d5544035f25a",
   "metadata": {},
   "source": [
    "Get green lights."
   ]
  },
  {
   "cell_type": "markdown",
   "id": "f1df3647-976a-41db-85a7-5ce28d883afa",
   "metadata": {},
   "source": [
    "#### Add support for numbers in the range >= 1000 and < 1000000."
   ]
  },
  {
   "cell_type": "markdown",
   "id": "3c87dd77-274e-4d66-bb0a-f4d0c50785ce",
   "metadata": {},
   "source": [
    "The logic will be virtually identical to the \"hundreds\" case except, that the divisor range will be different.\n",
    "\n",
    "Specific logic is left up to you"
   ]
  },
  {
   "cell_type": "markdown",
   "id": "b6c52444-b2f0-4443-96be-aeba484a3996",
   "metadata": {},
   "source": [
    "Get green lights."
   ]
  },
  {
   "cell_type": "markdown",
   "id": "9bb476f3-c654-4742-ad90-50a61ebff3fd",
   "metadata": {},
   "source": [
    "#### Refactor the logic to avoid essentially duplicate code."
   ]
  },
  {
   "cell_type": "markdown",
   "id": "00c1cee3-bc5d-4780-8555-f5e84a5f3c23",
   "metadata": {},
   "source": [
    "As the numbers get larger, you will need to add an overload for `long`, and might as well do `byte` and `short` too."
   ]
  },
  {
   "cell_type": "markdown",
   "id": "96df256b-8244-4bbb-9589-8b31d9fa2b15",
   "metadata": {},
   "source": [
    "Create a method with the specification `string Encode(long number, long divisor, string rangeName) { }`."
   ]
  },
  {
   "cell_type": "markdown",
   "id": "e5f7771d-78f1-467c-add3-e31cc0a49fc6",
   "metadata": {},
   "source": [
    "Copy the code from your \"thousands\" conditional and modify it to use the parameters passed into the method."
   ]
  },
  {
   "cell_type": "markdown",
   "id": "0f727254-b3d6-4c68-85fa-1d05cbbbebd9",
   "metadata": {},
   "source": [
    "Get a clean compile and run all tests for green lights at this point."
   ]
  },
  {
   "cell_type": "markdown",
   "id": "9603de0d-ef53-4421-baf1-417786d1b4b2",
   "metadata": {},
   "source": [
    "Modify both the \"hundreds\" and \"thousands\" conditionals to `return Encode(...)`. Comment out the old code."
   ]
  },
  {
   "cell_type": "markdown",
   "id": "bbc83fb0-221f-4219-8f7c-e650b89494d9",
   "metadata": {},
   "source": [
    "Run all tests. You should still get green lights."
   ]
  },
  {
   "cell_type": "markdown",
   "id": "59aeb672-3628-4505-afea-cbcd98f93477",
   "metadata": {},
   "source": [
    "#### Add support for all the remaining number ranges."
   ]
  },
  {
   "cell_type": "markdown",
   "id": "04525fd6-e657-4f6c-8765-b9efd88ff2ec",
   "metadata": {},
   "source": [
    "Implement the tests and logic for the ranges:\n",
    "\n",
    "- < 1000000000 (one million to less than a billion)\n",
    "- < 1000000000000 (one billion to less than a trillion)\n",
    "- < 1000000000000000 (one trillion to less than a quadrillion)\n",
    "\n",
    "You should feel confident at this point with fewer tests for each range. Boundary conditions and a few typical samples should work."
   ]
  },
  {
   "cell_type": "markdown",
   "id": "edf555bc-6858-406e-aeae-6d9b75e7e142",
   "metadata": {},
   "source": [
    "Do each range using the `Encode(...)` function, getting green lights for each before moving to the next."
   ]
  },
  {
   "cell_type": "markdown",
   "id": "894a74f6-e05d-457b-9366-6783909151c6",
   "metadata": {},
   "source": [
    "#### Add support for the full range of long integers."
   ]
  },
  {
   "cell_type": "markdown",
   "id": "6fcb9ded-3607-43de-b7d3-69c3a4304d80",
   "metadata": {},
   "source": [
    "Run all tests. Should still be green lights."
   ]
  },
  {
   "cell_type": "markdown",
   "id": "675a07cf-aa1e-4ef5-b540-0d3d8f06cd56",
   "metadata": {},
   "source": [
    "Add a test and logic for the range `<= long.MaxValue`.\n",
    "\n",
    "`long.MaxValue` encodes to \"nine quintillion, two hundred twenty-three quadrillion, three hundred seventy-two trillion, thirty-six billion, eight hundred fifty-four million, seven hundred seventy-five thousand, eight hundred seven\"."
   ]
  },
  {
   "cell_type": "markdown",
   "id": "7cb3c8da-8a03-4cca-b597-b686d4ce8021",
   "metadata": {},
   "source": [
    "Get green lights."
   ]
  },
  {
   "cell_type": "markdown",
   "id": "652b4299-3137-4806-932c-1e5ced8cd362",
   "metadata": {},
   "source": [
    "#### Add support for `long.MinValue`."
   ]
  },
  {
   "cell_type": "markdown",
   "id": "b92f7e93-b5ca-401b-bf21-73a9e8593a0c",
   "metadata": {},
   "source": [
    "Add a test for `long.MinValue + 1`. That will put it in the same range as `long.MaxValue`."
   ]
  },
  {
   "cell_type": "markdown",
   "id": "90f93d4a-8474-429d-a848-d8320e4e731b",
   "metadata": {},
   "source": [
    "Get green lights.\n",
    "\n",
    "Because of 2's compliment binary arithmetic, `long.MinValue` has a magnitude one more than `long.MaxValue`."
   ]
  },
  {
   "cell_type": "markdown",
   "id": "86e82b1d-4406-48fe-a5a7-6bf279ac83eb",
   "metadata": {},
   "source": [
    "Add a test for `long.MinValue`."
   ]
  },
  {
   "cell_type": "markdown",
   "id": "c282783e-1a71-4d11-8aef-95d01f5c3f50",
   "metadata": {},
   "source": [
    "In `NumberExtensions` you will have to special case this value. It cannot recurse to the positive case since the positive case has one less value in its range. The special case should be checked for in the minus conditional. If it is `= long.MinValue` return the full text description."
   ]
  },
  {
   "cell_type": "markdown",
   "id": "afe99d1a-1e7a-4b53-8860-fdd8d78e97b9",
   "metadata": {},
   "source": [
    "Run all tests. Get green lights."
   ]
  },
  {
   "cell_type": "markdown",
   "id": "17caaafe-b954-4650-bdef-b59589d61efc",
   "metadata": {},
   "source": [
    "#### Make further enhancements and refactorings to the NumberExtensionsTests class."
   ]
  },
  {
   "cell_type": "markdown",
   "id": "77ff5ed6-1858-4cb3-b08c-9df8632e93d8",
   "metadata": {},
   "source": [
    "Make the following changes:\n",
    "\n",
    "- Modify main algorithm to work with a `ulong` (vs just `long`)\n",
    "- Support overloads for `ToText` with `byte`, `short`, `ushort`, `int`, `uint`, and `long` (`long` should check the negative case and then all `ulong` cases)\n",
    "- Remove special handling of `long.MinValue`\n",
    "- Use `Math.Log` and `Math.Pow` to eliminate the need for if/else logic for ranges above \"thousand\"\n",
    "\n",
    "The specific logic is left up to you."
   ]
  },
  {
   "cell_type": "markdown",
   "id": "4d282903-4d2b-413c-a670-509ba8980feb",
   "metadata": {},
   "source": [
    "Add a test for `ulong.MaxValue`."
   ]
  },
  {
   "cell_type": "markdown",
   "id": "2e0b3b06-7cbb-442a-b67b-938fb570b814",
   "metadata": {
    "tags": []
   },
   "source": [
    "Run all tests for green lights."
   ]
  },
  {
   "cell_type": "markdown",
   "id": "f34aba22-30b8-4a5c-8749-35028d2f7828",
   "metadata": {},
   "source": [
    "## Congratulations! You have completed the _super_ bonus."
   ]
  }
 ],
 "metadata": {
  "kernelspec": {
   "display_name": ".NET (C#)",
   "language": "C#",
   "name": ".net-csharp"
  },
  "language_info": {
   "file_extension": ".cs",
   "mimetype": "text/x-csharp",
   "name": "C#",
   "pygments_lexer": "csharp",
   "version": "9.0"
  }
 },
 "nbformat": 4,
 "nbformat_minor": 5
}

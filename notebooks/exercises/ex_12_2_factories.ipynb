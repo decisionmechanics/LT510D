{
 "cells": [
  {
   "cell_type": "markdown",
   "id": "280c1a29-b2f3-42e1-b50c-3de8b04af6da",
   "metadata": {},
   "source": [
    "![BAE logo](images/bae_logo.png)"
   ]
  },
  {
   "cell_type": "markdown",
   "id": "0da604e8-a85d-491f-9479-0b02fa5986e7",
   "metadata": {
    "tags": []
   },
   "source": [
    "# Hands-On Exercise 12.2: Factories"
   ]
  },
  {
   "cell_type": "markdown",
   "id": "25fcd6f4-6d5d-475a-8855-0cc1396a6697",
   "metadata": {},
   "source": [
    "## Objective"
   ]
  },
  {
   "cell_type": "markdown",
   "id": "b334fb4d-ad02-4db4-a6c6-c0de563942b6",
   "metadata": {},
   "source": [
    "In this exercise, you will use a Factory to allow centralized decision making and control over the exact object type created. It also creates opportunities to provide dependency injection.\n",
    "\n",
    "The starting point continues from the bonus of the previous exercise. The bonus modifications were made to the user interface to determine which shuffler to use and then construct the appropriate shuffler object. This approach makes the user interface and the card library rigid. Adding shufflers requires that we make changes in both places, and we've been told there will be numerous additional shufflers to be added. Furthermore, if we ever want to use the card library for another game, it would be necessary to duplicate the shuffler creation. We need to break this dependency, a job for a Factory."
   ]
  },
  {
   "cell_type": "markdown",
   "id": "52b0791e-9810-4901-900e-4ab0bf66ef50",
   "metadata": {},
   "source": [
    "#### Examine the existing code in the application."
   ]
  },
  {
   "cell_type": "markdown",
   "id": "1e9f9c60-18fd-4e44-ae41-4feab9e2b9f5",
   "metadata": {},
   "source": [
    "Start Visual Studio and open the solution `C:\\Course\\510D\\Exercises\\Ex122\\Blackjack.sln`."
   ]
  },
  {
   "cell_type": "markdown",
   "id": "c0a447be-5d09-4cac-956c-a30ba4dd4e62",
   "metadata": {},
   "source": [
    "In the `Blackjack` project, right-click `SelectShufflerDialog` and pick **View Code**.\n",
    "\n",
    "Notice it is hard-coded to know all the shufflers and how to construct them."
   ]
  },
  {
   "cell_type": "markdown",
   "id": "94149097-d0a1-4535-8748-1e97ac821b61",
   "metadata": {},
   "source": [
    "#### Add the factory class."
   ]
  },
  {
   "cell_type": "markdown",
   "id": "30b25f3e-96a7-4d6c-86fa-abe05d8cbc6b",
   "metadata": {},
   "source": [
    "Right-click the `CardLib` project and add a new class called `ShufflerFactory`.\n",
    "\n",
    "<font color=\"red\">**Make sure you put the factory in the `CardLib` class, not in the `Blackjack` user interface project.**</font>"
   ]
  },
  {
   "cell_type": "markdown",
   "id": "58b2de6d-1da8-4342-bc6e-bc0f8acd4f60",
   "metadata": {},
   "source": [
    "Change the declaration of class `ShufflerFactory` to be `public static`."
   ]
  },
  {
   "cell_type": "markdown",
   "id": "db4d6e4e-9c89-4e2c-98de-e3ebe42fd2a3",
   "metadata": {},
   "source": [
    "Declare a `public static` method named `Create`. It should accept a `string` parameter called `shufflerText` and return an `IShuffler`. At this point, have it return `null` until we have some test logic."
   ]
  },
  {
   "cell_type": "markdown",
   "id": "6fad23e6-363d-43c9-989d-bfa3b507cdd7",
   "metadata": {},
   "source": [
    "#### Add the shuffler factory tests."
   ]
  },
  {
   "cell_type": "markdown",
   "id": "58fb9ca5-f4c7-4159-aece-3ca35ca4f6a6",
   "metadata": {},
   "source": [
    "Right-click the `BlackjackTests` project and select **Add | New Item...**. In the templates, click **Test** and choose **Basic Unit Test**. Name it `ShufflerFactoryTests`."
   ]
  },
  {
   "cell_type": "markdown",
   "id": "c9f793bd-84ac-4c37-91f1-1d17093c01fb",
   "metadata": {},
   "source": [
    "Add using `CardLib;` at the top."
   ]
  },
  {
   "cell_type": "markdown",
   "id": "c09a1718-1e0e-4d68-b8a3-f2cabf1ecb3c",
   "metadata": {},
   "source": [
    "Rename `TestMethod1` to be `ShufflerCreationTest`."
   ]
  },
  {
   "cell_type": "markdown",
   "id": "f46706b4-6999-447f-9596-f9d0b3a8c40b",
   "metadata": {},
   "source": [
    "In this method use `IShuffler shuffler = ShufflerFactory.Create(\"Knuth Shuffler\");`."
   ]
  },
  {
   "cell_type": "markdown",
   "id": "d201d109-e077-4cf8-b085-dda9de7e632c",
   "metadata": {},
   "source": [
    "In the next line add `Assert.IsNotNull(shuffler);`."
   ]
  },
  {
   "cell_type": "markdown",
   "id": "1c393754-f8be-4aa1-98d4-63037f9fd14b",
   "metadata": {},
   "source": [
    "Assert that the object created matches the one expected. Use `Assert.AreEqual(\"KnuthShuffler\", shuffler.GetType().Name);`."
   ]
  },
  {
   "cell_type": "markdown",
   "id": "5d89ffb8-9cd7-4730-8e9a-8f100ee01192",
   "metadata": {},
   "source": [
    "Repeat the previous three steps, except check for the Modified Knuth Shuffler."
   ]
  },
  {
   "cell_type": "markdown",
   "id": "c6ddbda3-d6c0-4669-b2bc-05fd3f999987",
   "metadata": {},
   "source": [
    "Add a test to confirm that the factory will return `null` for an unrecognized shuffler.\n",
    "\n",
    "Your test should look something like:\n",
    "\n",
    "```C#\n",
    "[TestMethod]\n",
    "public void ShufflerCreationTest()\n",
    "{\n",
    "    IShuffler shuffler = ShufflerFactory.Create(\"Knuth Shuffler\");\n",
    "    Assert.IsNotNull(shuffler); Assert.AreEqual(\"KnuthShuffler\", shuffler.GetType().Name);\n",
    "    \n",
    "    shuffler = ShufflerFactory.Create(\"Modified Knuth Shuffler\");\n",
    "    Assert.IsNotNull(shuffler); Assert.AreEqual(\"ModifiedKnuthShuffler\", shuffler.GetType().Name);\n",
    "    \n",
    "    shuffler = ShufflerFactory.Create(\"No Such Shuffler\"); \n",
    "    Assert.IsNull(shuffler);\n",
    "}\n",
    "```"
   ]
  },
  {
   "cell_type": "markdown",
   "id": "91fcafaf-e81b-44b1-8335-f6b096e4a23f",
   "metadata": {},
   "source": [
    "Run all tests. The `ShufflerCreationTest` should fail."
   ]
  },
  {
   "cell_type": "markdown",
   "id": "3d45c6da-d777-421b-b809-6c4aa21ec018",
   "metadata": {},
   "source": [
    "#### Complete the implementation of the `ShufflerFactory.Create(...)` method."
   ]
  },
  {
   "cell_type": "markdown",
   "id": "21bdb453-09bf-441f-826c-7a31c3d6fcf2",
   "metadata": {},
   "source": [
    "Add conditional logic to check if the `shufflerText` is `\"Knuth Shuffler\"` and if so, return a new `KnuthShuffler`."
   ]
  },
  {
   "cell_type": "markdown",
   "id": "f29fab8f-22a0-4a88-94bb-741b6cab1c8a",
   "metadata": {},
   "source": [
    "Repeat for the modified Knuth Shuffler.\n",
    "    \n",
    "Your C# code might look something like this:\n",
    "\n",
    "```C#\n",
    "public static IShuffler Create(string shufflerText)\n",
    "{\n",
    "    if (shufflerText == \"Knuth Shuffler\") \n",
    "        return new KnuthShuffler();\n",
    "\n",
    "    if (shufflerText == \"Modified Knuth Shuffler\") \n",
    "        return new ModifiedKnuthShuffler();\n",
    "\n",
    "    return null;\n",
    "}\n",
    "```"
   ]
  },
  {
   "cell_type": "markdown",
   "id": "7704b7c2-8698-4845-b353-f2cb23b397f9",
   "metadata": {},
   "source": [
    "Run all tests. Repeat fixing problems (if necessary) until you have green lights."
   ]
  },
  {
   "cell_type": "markdown",
   "id": "be9b666f-8f64-4666-b347-e75233019865",
   "metadata": {},
   "source": [
    "#### Modify the `SelectShufflerDialog` to use the factory."
   ]
  },
  {
   "cell_type": "markdown",
   "id": "ca5ad7e1-37ce-44a2-b552-f56ad26bda82",
   "metadata": {},
   "source": [
    "Open `SelectShufflerDialog` in code view."
   ]
  },
  {
   "cell_type": "markdown",
   "id": "9c21173c-90e9-42eb-b53d-6c66ab827895",
   "metadata": {},
   "source": [
    "In the `btnSelect_Click(...)` method, delete all the code except for the dispose statement."
   ]
  },
  {
   "cell_type": "markdown",
   "id": "64380ab7-58db-4933-9fcc-ad54a42301c4",
   "metadata": {},
   "source": [
    "Insert the code to make a shuffler instance using the factory. Use `IShuffler shuffler = ShufflerFactory.Create(ddlSelectShuffler.Text);`."
   ]
  },
  {
   "cell_type": "markdown",
   "id": "fdd466f0-d092-452a-8181-352adc5c16a0",
   "metadata": {},
   "source": [
    "In the next line, add a conditional to ensure the shuffler is not `null`. If it is not `null`, then call `deck.ChangeShuffler(shuffler)`.\n",
    "\n",
    "Your C# code might look something like this:\n",
    "\n",
    "```C#\n",
    "private void btnSelect_Click(object sender, EventArgs e)\n",
    "{\n",
    "    IShuffler shuffler = ShufflerFactory.Create(ddlSelectShuffler.Text);\n",
    "    if (shuffler != null) \n",
    "        deck.ChangeShuffler(shuffler);\n",
    "    this.Dispose();\n",
    "}\n",
    "```"
   ]
  },
  {
   "cell_type": "markdown",
   "id": "db1889cb-fa6b-4748-a64e-f12fc6234ae2",
   "metadata": {},
   "source": [
    "Run all tests for green lights, then run the game and confirm you can select different shufflers.\n",
    "\n",
    "This is better, but we are only part way there. Although the `SelectShufflerDialog` no longer must determine which shuffler to construct, it still has to know what they are. Time to inject the dependency to the `ShufflerFactory`."
   ]
  },
  {
   "cell_type": "markdown",
   "id": "facb7c30-6b44-47bc-b592-1ac59ce97f05",
   "metadata": {},
   "source": [
    "#### Modify the ShufflerFactory to provide a list of all the shuffler choices available."
   ]
  },
  {
   "cell_type": "markdown",
   "id": "1b5e328d-fd7d-4c96-8fc0-266c0e5ad65f",
   "metadata": {},
   "source": [
    "Open `ShufflerFactory.cs` for editing and add a public property called `Choices` that returns an array of strings. It should have a private set and be initialized with the text descriptions of the shufflers.\n",
    "\n",
    "You can use:\n",
    "\n",
    "```C#\n",
    "public static string[] Choices { get; private set; } = { \"Knuth Shuffler\", \"Modified Knuth Shuffler\" };\n",
    "```"
   ]
  },
  {
   "cell_type": "markdown",
   "id": "ac39a640-e636-45d6-becc-6b6e4bad970d",
   "metadata": {},
   "source": [
    "In the `Create` method, replace the explicit strings with `Choices[0]`, `Choices[1]`, etc.\n",
    "\n",
    "Making this change will mean the only place the description strings are defined is in the `Choices` array. They can be changed to anything and the Factory and everything else will still work properly.\n",
    "\n",
    "Your `ShufflerFactory` class should now look like:\n",
    "\n",
    "```C#\n",
    "public abstract class ShufflerFactory\n",
    "{\n",
    "    public static string[] Choices { get; private set; } = { \"Knuth Shuffler\", \"Modified Knuth Shuffler\" };\n",
    "\n",
    "    public static IShuffler Create(string shufflerText)\n",
    "    {\n",
    "        if (shufflerText == Choices[0])\n",
    "            return new KnuthShuffler();\n",
    "        if (shufflerText == Choices[1]) \n",
    "            return new ModifiedKnuthShuffler();\n",
    "        return null;\n",
    "    }\n",
    "}\n",
    "```"
   ]
  },
  {
   "cell_type": "markdown",
   "id": "07850a71-8158-437d-a5e9-78d7f025d1eb",
   "metadata": {},
   "source": [
    "Run all tests to ensure you still have green lights."
   ]
  },
  {
   "cell_type": "markdown",
   "id": "0420f4b5-b033-4bc9-ad28-572895b6d3e5",
   "metadata": {},
   "source": [
    "#### Edit the `SelectShufflerDialog` to inject the remaining dependencies to the `ShufflerFactory`."
   ]
  },
  {
   "cell_type": "markdown",
   "id": "ed854d0f-8647-4cdf-9a5a-f418c4b0df11",
   "metadata": {},
   "source": [
    "Back in code view for the `SelectShufflerDialog`, move to the `Form_Load(...)` event method. Replace the existing code by:\n",
    "\n",
    "- Looping through each of the choices provided by the `ShufflerFactory.Choices` array\n",
    "- Adding each to the `ddlSelectShuffler.Items` collection\n",
    " \n",
    "You can use:\n",
    "\n",
    "```C#\n",
    "private void Form1_Load(object sender, EventArgs e)\n",
    "{\n",
    "    foreach (string choice in ShufflerFactory.Choices)\n",
    "    {\n",
    "        ddlSelectShuffler.Items.Add(choice);\n",
    "    }\n",
    "}\n",
    "```\n",
    "\n",
    "Notice that there is no longer any knowledge in the dialog about what shufflers are available or how to construct them."
   ]
  },
  {
   "cell_type": "markdown",
   "id": "a7260625-3ec4-4980-83b1-2f22d3317d19",
   "metadata": {},
   "source": [
    "Run all tests for green lights, then run the program and confirm that different shufflers can still be selected.\n",
    "\n",
    "When adding shufflers in the future, it will not be necessary to touch the user interface to support it. All dependencies have been injected into the `ShufflerFactory`. All that will be needed is to add a new shuffler class, and then edit the `ShufflerFactory` to make it available."
   ]
  },
  {
   "cell_type": "markdown",
   "id": "027e7d6a-6d86-4eba-9686-0e10d404ad45",
   "metadata": {},
   "source": [
    "Change the text of the `\"Knuth Shuffler\"` in the `Choices` array to be `\"Simple Knuth Shuffler\"`."
   ]
  },
  {
   "cell_type": "markdown",
   "id": "0a40f700-6ee2-47be-b6db-9e56605da2ec",
   "metadata": {},
   "source": [
    "Modify the shuffler test and change `\"Knuth Shuffler\"` to `\"Simple Knuth Shuffler\"`. This is still explicit."
   ]
  },
  {
   "cell_type": "markdown",
   "id": "23ad580f-2bf5-4ecf-910b-5acb7b36967d",
   "metadata": {},
   "source": [
    "Run and test the selection choices.\n",
    "\n",
    "We needed to change the text in only one place. Notice that the selections and creation all still work correctly."
   ]
  },
  {
   "cell_type": "markdown",
   "id": "7f2bda0f-7451-4472-a553-9a63fa54192a",
   "metadata": {},
   "source": [
    "Now would be a good time to:\n",
    "\n",
    "- Do a **Build | Rebuild Solution**\n",
    "- Run all tests to get green lights\n",
    "- Execute the program to visually check if it is still working properly"
   ]
  },
  {
   "cell_type": "markdown",
   "id": "6cd2fdb2-5a6d-4d47-8bee-ae7dd28a7984",
   "metadata": {},
   "source": [
    "## Congratulations! You have implemented the Factory pattern in this application. Carry on to the bonus if you have more time."
   ]
  },
  {
   "cell_type": "markdown",
   "id": "7fc1b722-139e-43cb-a766-e7202085b2c5",
   "metadata": {
    "tags": []
   },
   "source": [
    "# Bonus (Optional)"
   ]
  },
  {
   "cell_type": "markdown",
   "id": "25ed1d12-cd55-4653-9332-35eae2b6c96e",
   "metadata": {},
   "source": [
    "Add an additional shuffler."
   ]
  },
  {
   "cell_type": "markdown",
   "id": "95f4cb9c-53be-4e00-9ad9-1c9c14e177fe",
   "metadata": {},
   "source": [
    "#### Add an additional test to ensure all choices can be created."
   ]
  },
  {
   "cell_type": "markdown",
   "id": "fa8c39ba-8c37-4e0c-8eb3-8772f595cdeb",
   "metadata": {},
   "source": [
    "Open `ShufflerFactoryTests.cs` for editing and add a new test method called `ShufflerAllChoicesTest()`."
   ]
  },
  {
   "cell_type": "markdown",
   "id": "c60e2a26-084f-460a-802d-00c0f3584c3a",
   "metadata": {},
   "source": [
    "In this method, add the logic to loop through all `ShufflerFactory.Choices` and call `ShufflerFactory.Create(...)` to create an instance for each choice. Inside the loop, confirm that the instance created is not `null`.\n",
    "\n",
    "Your test should look something like:\n",
    "\n",
    "```C#\n",
    "[TestMethod]\n",
    "public void ShufflerAllChoicesTest()\n",
    "{\n",
    "    foreach (string choice in ShufflerFactory.Choices)\n",
    "    {\n",
    "        IShuffler shuffler = ShufflerFactory.Create(choice);\n",
    "        Assert.IsNotNull(shuffler);\n",
    "    }\n",
    "}\n",
    "```\n",
    "\n",
    "This test will confirm that all shufflers including new ones can be created."
   ]
  },
  {
   "cell_type": "markdown",
   "id": "694ad05d-68db-49db-936b-e336c55377f4",
   "metadata": {},
   "source": [
    "Run all tests to get green lights."
   ]
  },
  {
   "cell_type": "markdown",
   "id": "0d3b58c9-0d15-4ddd-bf43-2e49288d1684",
   "metadata": {},
   "source": [
    "#### Add an additional shuffler; one has been pre-written for you."
   ]
  },
  {
   "cell_type": "markdown",
   "id": "e63219fe-d192-4799-a800-79a1e821f5e9",
   "metadata": {},
   "source": [
    "Right-click the `CardLib` project and select **Add | Existing Item...**. Navigate to and select `C:\\Course\\510D\\Code\\TwoEndedShuffler.cs`."
   ]
  },
  {
   "cell_type": "markdown",
   "id": "d14f963e-6a96-43d5-b7f1-a4c448e65909",
   "metadata": {},
   "source": [
    "Get a clean compile."
   ]
  },
  {
   "cell_type": "markdown",
   "id": "a176ad43-3697-4364-a9c4-d48d2441fa3f",
   "metadata": {},
   "source": [
    "Modify the `ShufflerFactory` to include the `TwoEndedShuffler`.\n",
    "\n",
    "Your shuffler factory should now look like:\n",
    "\n",
    "```C#\n",
    "public abstract class ShufflerFactory\n",
    "{\n",
    "    public static string[] Choices { get; private set; } = { \"Simple Knuth Shuffler\", \"Modified Knuth Shuffler\", \"Two Ended Shuffler\" };\n",
    "\n",
    "    public static IShuffler Create(string shufflerText)\n",
    "    {\n",
    "        if (shufflerText == Choices[0])\n",
    "            return new KnuthShuffler();\n",
    "        if (shufflerText == Choices[1]) \n",
    "            return new ModifiedKnuthShuffler();\n",
    "        if (shufflerText == Choices[2]) \n",
    "            return new TwoEndedShuffler();\n",
    "        return null;\n",
    "    }\n",
    "}\n",
    "```"
   ]
  },
  {
   "cell_type": "markdown",
   "id": "a61a61c7-2fca-4217-ad7a-c8c997268ed7",
   "metadata": {},
   "source": [
    "Run all tests to get green lights. This will confirm that our new shuffler is being properly created."
   ]
  },
  {
   "cell_type": "markdown",
   "id": "1bee9ce1-1dfe-4bb2-ab5b-0217e331c895",
   "metadata": {},
   "source": [
    "Run the application and go to shuffler selection and select Two Ended Shuffler.\n",
    "\n",
    "Note that the Two Ended Shuffler has been added to the view even though we did not make any modifications to the view to add this support."
   ]
  },
  {
   "cell_type": "markdown",
   "id": "dae2a778-c70c-45a3-853a-35234913c772",
   "metadata": {},
   "source": [
    "Now would be a good time to:\n",
    "\n",
    "- Do a **Build | Rebuild Solution**\n",
    "- Run all tests to get green lights\n",
    "- Execute the program to visually check if it is still working properly"
   ]
  },
  {
   "cell_type": "markdown",
   "id": "879030ac-d236-4acb-98a9-8af9a4b9ef88",
   "metadata": {},
   "source": [
    "## Congratulations! You have completed the bonus steps."
   ]
  }
 ],
 "metadata": {
  "kernelspec": {
   "display_name": ".NET (C#)",
   "language": "C#",
   "name": ".net-csharp"
  },
  "language_info": {
   "file_extension": ".cs",
   "mimetype": "text/x-csharp",
   "name": "C#",
   "pygments_lexer": "csharp",
   "version": "9.0"
  }
 },
 "nbformat": 4,
 "nbformat_minor": 5
}

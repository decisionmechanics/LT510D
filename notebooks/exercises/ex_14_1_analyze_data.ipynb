{
 "cells": [
  {
   "cell_type": "markdown",
   "id": "db23d1c9-f2fa-4695-b47a-2a5aee83ec5a",
   "metadata": {},
   "source": [
    "![BAE logo](images/bae_logo.png)"
   ]
  },
  {
   "cell_type": "markdown",
   "id": "f02163a5-c270-4d9c-8f27-d551685d6829",
   "metadata": {},
   "source": [
    "# Hands-On Exercise 14.1: Analyze Data"
   ]
  },
  {
   "cell_type": "markdown",
   "id": "5c1519d3-5916-4126-8157-df7fe217b353",
   "metadata": {
    "tags": []
   },
   "source": [
    "## Objective"
   ]
  },
  {
   "cell_type": "markdown",
   "id": "bf10b90b-5b86-4904-94aa-66bf38fa4f09",
   "metadata": {},
   "source": [
    "With LINQ to Objects, C# becomes a viable tool for data analytics---even if it can't quite rival Python, R or even (fellow .NET language) F# in this area.\n",
    "\n",
    "This exercises will demonstrate these capabilities by using C# to analyze a dataset of English premier league markets from the 2020/2021 season.\n",
    "\n",
    "The data source will be the (flattened) JSON document created in the earlier XML to JSON conversion exercise."
   ]
  },
  {
   "cell_type": "markdown",
   "id": "09e0f44e-e877-465f-860d-2d55f7b3b064",
   "metadata": {},
   "source": [
    "#### Create the new project."
   ]
  },
  {
   "cell_type": "markdown",
   "id": "0d5072f7-4437-4b72-8d82-0635b94b8b4b",
   "metadata": {},
   "source": [
    "Create a .NET 6.0 console project called `Football`. This will use the new template which starts with an empty file---i.e. without a `Program` class.\n",
    "\n",
    "This \"scripting\" approach is actually a pretty good fit for data analysis work, which tends to be more iterative and not as focused on creating maintainable code."
   ]
  },
  {
   "cell_type": "markdown",
   "id": "c3226631-8a57-4071-aaf0-52d42175cc0a",
   "metadata": {
    "tags": []
   },
   "source": [
    "#### Reference namespaces."
   ]
  },
  {
   "cell_type": "code",
   "execution_count": null,
   "id": "96e27af8-46e2-484f-ae1e-3d24fa80fe17",
   "metadata": {},
   "outputs": [],
   "source": [
    "using System.IO;\n",
    "using System.Linq;\n",
    "using System.Text.Json;"
   ]
  },
  {
   "cell_type": "markdown",
   "id": "2c512f97-2c7e-40f3-bc25-850251c7df44",
   "metadata": {
    "tags": []
   },
   "source": [
    "#### Load the dataset."
   ]
  },
  {
   "cell_type": "markdown",
   "id": "3f6ff105-9ab5-4f8a-9fac-acd1003b044b",
   "metadata": {},
   "source": [
    "Create a data model/class (`Match`) that represents a football match. This class was created in the earlier exercise and is defined as follows.\n",
    "\n",
    "<font color=\"red\">**Classes are defined at the _end_ of `Program.cs`**.</font>"
   ]
  },
  {
   "cell_type": "code",
   "execution_count": null,
   "id": "aea3a2bc-441b-4117-97e0-14cb0777423c",
   "metadata": {},
   "outputs": [],
   "source": [
    "public class Match\n",
    "{\n",
    "    public int Id { get; set; }\n",
    "    public DateTime Kickoff { get; set; }\n",
    "    public string HomeTeam { get; set; } = string.Empty;\n",
    "    public string AwayTeam { get; set; } = string.Empty;\n",
    "    public int HomeTeamGoals { get; set; }\n",
    "    public int AwayTeamGoals { get; set; }\n",
    "    public int HalfTimeHomeTeamGoals { get; set; }\n",
    "    public int HalfTimeAwayTeamGoals { get; set; }\n",
    "    public decimal HomeWinPrice { get; set; }\n",
    "    public decimal DrawPrice { get; set; }\n",
    "    public decimal AwayWinPrice { get; set; }\n",
    "}"
   ]
  },
  {
   "cell_type": "markdown",
   "id": "51662f0c-23e7-4f3b-970a-73548a815f7b",
   "metadata": {},
   "source": [
    "Load (deserialize) the `epl_2020_2021.json` JSON document (in `C:\\Course\\510D\\Data\\`) as a list of `Match` objects.\n",
    "\n",
    "Remember the property names in the JSON document are camel-cased. Consider using a null-forgiving operator to reassure the compiler that we definitely have matches in the document."
   ]
  },
  {
   "cell_type": "markdown",
   "id": "287242d8-448e-4693-89bb-4fa46cef3df1",
   "metadata": {
    "tags": []
   },
   "source": [
    "#### Answer..."
   ]
  },
  {
   "cell_type": "code",
   "execution_count": null,
   "id": "c7d4da4b-12b3-4f95-a1e5-4c261987b340",
   "metadata": {
    "jupyter": {
     "source_hidden": true
    },
    "tags": []
   },
   "outputs": [],
   "source": [
    "// Change to C:\\Course\\510D\\Data\\epl_2020_2021.json for exercise \n",
    "string json = File.ReadAllText(@\"data/epl_2020_2021.json\");\n",
    "\n",
    "var serializerOptions = new JsonSerializerOptions\n",
    "{\n",
    "    PropertyNamingPolicy = JsonNamingPolicy.CamelCase,\n",
    "};\n",
    "\n",
    "var matches = JsonSerializer.Deserialize<IEnumerable<Match>>(json, serializerOptions)!.ToList();"
   ]
  },
  {
   "cell_type": "markdown",
   "id": "548e1406-4f98-4a5b-9c59-cc00ac819006",
   "metadata": {},
   "source": [
    "#### Calculate the number of wins by team"
   ]
  },
  {
   "cell_type": "markdown",
   "id": "73e0f9b2-7fa3-4395-b414-987174f720f3",
   "metadata": {},
   "source": [
    "Find the five teams that had the most _home_ wins during the season. Order them in descending number of home wins. Store the result in `topHomeTeamWins`."
   ]
  },
  {
   "cell_type": "markdown",
   "id": "db65fa7a-e5c9-4726-b809-537f1b67ee64",
   "metadata": {
    "tags": []
   },
   "source": [
    "#### Answer..."
   ]
  },
  {
   "cell_type": "code",
   "execution_count": null,
   "id": "43dbd6d3-43d0-4ad0-a57c-a44a468aa611",
   "metadata": {
    "jupyter": {
     "source_hidden": true
    },
    "tags": []
   },
   "outputs": [],
   "source": [
    "var topHomeTeamWins = matches\n",
    "    .Where(x => x.HomeTeamGoals > x.AwayTeamGoals)\n",
    "    .GroupBy(x => x.HomeTeam)\n",
    "    .Select(g => new { Team = g.Key, Wins = g.Count() })\n",
    "    .OrderByDescending(x => x.Wins)\n",
    "    .Take(5)\n",
    "    .ToList();"
   ]
  },
  {
   "cell_type": "markdown",
   "id": "97bc87dc-d7d0-4189-a5d4-b12af53c5f2f",
   "metadata": {},
   "source": [
    "Display the top five teams by number of home wins."
   ]
  },
  {
   "cell_type": "markdown",
   "id": "7ec8fbe9-9fbc-4986-8006-f86083b2b914",
   "metadata": {
    "tags": []
   },
   "source": [
    "#### Answer..."
   ]
  },
  {
   "cell_type": "code",
   "execution_count": null,
   "id": "4d0cf648-06dc-4727-a4cd-2122b519c753",
   "metadata": {
    "jupyter": {
     "source_hidden": true
    },
    "tags": []
   },
   "outputs": [],
   "source": [
    "foreach (var x in topHomeTeamWins)\n",
    "{\n",
    "    Console.WriteLine($\"{x.Team} had {x.Wins} home wins\");\n",
    "}"
   ]
  },
  {
   "cell_type": "markdown",
   "id": "ad44f7e8-8513-4430-ac88-a862ca24e9df",
   "metadata": {},
   "source": [
    "Find the five teams that had the most _away_ wins during the season. Order them in descending number of home wins. Store the result in `topAwayTeamWins`."
   ]
  },
  {
   "cell_type": "markdown",
   "id": "0e4a5451-0dce-4a71-b215-28bda2503cb8",
   "metadata": {
    "tags": []
   },
   "source": [
    "#### Answer..."
   ]
  },
  {
   "cell_type": "code",
   "execution_count": null,
   "id": "849cbae2-d673-4cb9-808e-ac2f36e7cbed",
   "metadata": {
    "jupyter": {
     "source_hidden": true
    },
    "tags": []
   },
   "outputs": [],
   "source": [
    "var topAwayTeamWins = matches\n",
    "    .Where(x => x.HomeTeamGoals < x.AwayTeamGoals)\n",
    "    .GroupBy(x => x.AwayTeam)\n",
    "    .Select(g => new { Team = g.Key, Wins = g.Count() })\n",
    "    .OrderByDescending(x => x.Wins)\n",
    "    .Take(5)\n",
    "    .ToList();"
   ]
  },
  {
   "cell_type": "markdown",
   "id": "8348e37b-995d-4b90-93d7-e542a8f2830b",
   "metadata": {},
   "source": [
    "Display the top five teams by number of away wins."
   ]
  },
  {
   "cell_type": "markdown",
   "id": "7743284e-2e9c-4c18-b630-f7cc25d29f26",
   "metadata": {
    "tags": []
   },
   "source": [
    "#### Answer..."
   ]
  },
  {
   "cell_type": "code",
   "execution_count": null,
   "id": "c4ab9b98-b0cc-4b97-a964-bd82cfce9677",
   "metadata": {
    "jupyter": {
     "source_hidden": true
    },
    "tags": []
   },
   "outputs": [],
   "source": [
    "foreach (var x in topAwayTeamWins)\n",
    "{\n",
    "    Console.WriteLine($\"{x.Team} had {x.Wins} away wins\");\n",
    "}"
   ]
  },
  {
   "cell_type": "markdown",
   "id": "322929fc-9d42-46db-9e92-c62266fc89ca",
   "metadata": {},
   "source": [
    "Which teams are in `both` lists?|"
   ]
  },
  {
   "cell_type": "markdown",
   "id": "65e934f3-19ea-4097-8c7a-673b5b4799b4",
   "metadata": {
    "tags": []
   },
   "source": [
    "#### Answer..."
   ]
  },
  {
   "cell_type": "code",
   "execution_count": null,
   "id": "03f5535a-b1b2-4b04-aa80-8cfb423c4b64",
   "metadata": {
    "jupyter": {
     "source_hidden": true
    },
    "tags": []
   },
   "outputs": [],
   "source": [
    "foreach (string team in topHomeTeamWins.Select(h => h.Team).Intersect(topAwayTeamWins.Select(a => a.Team)))\n",
    "{\n",
    "    Console.WriteLine(team);\n",
    "}"
   ]
  },
  {
   "cell_type": "markdown",
   "id": "003fdb84-977e-4b82-8549-80e248ceaa02",
   "metadata": {},
   "source": [
    "Calculate how many _draws_ there were during the season?"
   ]
  },
  {
   "cell_type": "markdown",
   "id": "6cec81d9-ad80-4e90-8ad3-4dc2335eeca6",
   "metadata": {
    "tags": []
   },
   "source": [
    "#### Answer..."
   ]
  },
  {
   "cell_type": "code",
   "execution_count": null,
   "id": "884fd738-24b8-4ad8-a39d-3c5c4d75b7a7",
   "metadata": {
    "jupyter": {
     "source_hidden": true
    },
    "tags": []
   },
   "outputs": [],
   "source": [
    "int numberOfDraws = matches.Count(x => x.HomeTeamGoals == x.AwayTeamGoals);\n",
    "    \n",
    "Console.WriteLine($\"There were {numberOfDraws} draws\");"
   ]
  },
  {
   "cell_type": "markdown",
   "id": "b99966aa-001e-440d-bf30-e1eac85bfe88",
   "metadata": {},
   "source": [
    "#### Analyze the betting prices."
   ]
  },
  {
   "cell_type": "markdown",
   "id": "4a6e284c-4a4a-4542-b9fc-da561ad9adf1",
   "metadata": {},
   "source": [
    "Find the _away_ team (and opponent) that the betting markets considered _least_ likely to win the match during the season."
   ]
  },
  {
   "cell_type": "markdown",
   "id": "08fd03d0-b02b-4f4b-bb04-6fbc9d494352",
   "metadata": {
    "tags": []
   },
   "source": [
    "#### Answer..."
   ]
  },
  {
   "cell_type": "code",
   "execution_count": null,
   "id": "95d4ac7c-dcba-4639-9f3b-54ebe4481c12",
   "metadata": {
    "jupyter": {
     "source_hidden": true
    },
    "tags": []
   },
   "outputs": [],
   "source": [
    "var leastFavoredAway = matches\n",
    "    .OrderByDescending(x => x.AwayWinPrice)\n",
    "    .First();\n",
    " \n",
    "Console.WriteLine($\"{leastFavoredAway.AwayTeam} was very unfavored away against {leastFavoredAway.HomeTeam} @ {leastFavoredAway.AwayWinPrice}\");"
   ]
  },
  {
   "cell_type": "markdown",
   "id": "90d72e9e-db03-4c33-8279-189eb87ae830",
   "metadata": {},
   "source": [
    "Which match did the betting markets consider most likely to end in a draw during the season?"
   ]
  },
  {
   "cell_type": "markdown",
   "id": "0179371e-ab30-4601-89c8-70a7d855388b",
   "metadata": {
    "tags": []
   },
   "source": [
    "#### Answer..."
   ]
  },
  {
   "cell_type": "code",
   "execution_count": null,
   "id": "44ef2f6d-2631-4a59-b66c-581777c109a1",
   "metadata": {
    "jupyter": {
     "source_hidden": true
    },
    "tags": []
   },
   "outputs": [],
   "source": [
    "var mostLikelyDraw = matches\n",
    "    .OrderBy(x => x.DrawPrice)\n",
    "    .First();\n",
    "\n",
    "Console.WriteLine($\"{mostLikelyDraw.HomeTeam} vs {mostLikelyDraw.AwayTeam} was considered a likely draw @ {mostLikelyDraw.DrawPrice}\");"
   ]
  },
  {
   "cell_type": "markdown",
   "id": "bc122a7b-36f4-4c4e-854e-86d60b61171e",
   "metadata": {},
   "source": [
    "Where there any _away_ teams that were considered underdogs by the betting markets, but won the the match?\n",
    "\n",
    "Order them, if any, by descending order of price."
   ]
  },
  {
   "cell_type": "markdown",
   "id": "74efaeb2-705a-4676-83eb-5925bb082475",
   "metadata": {
    "tags": []
   },
   "source": [
    "#### Answer..."
   ]
  },
  {
   "cell_type": "code",
   "execution_count": null,
   "id": "73d39ad4-d125-4d5f-b342-d7ee9149f9a8",
   "metadata": {
    "jupyter": {
     "source_hidden": true
    },
    "tags": []
   },
   "outputs": [],
   "source": [
    "var underdogs = matches\n",
    "    .Where(x => x.AwayWinPrice > x.HomeWinPrice && x.AwayTeamGoals > x.HomeTeamGoals)\n",
    "    .OrderByDescending(x => x.AwayWinPrice)\n",
    "    .ToList();\n",
    "\n",
    "foreach (var underdog in underdogs) \n",
    "{\n",
    "    Console.WriteLine($\"{underdog.AwayTeam} unexpectedly beat {underdog.HomeTeam} despite being considered a {underdog.AwayWinPrice} underdog\");\n",
    "}"
   ]
  },
  {
   "cell_type": "markdown",
   "id": "1472a251-eea6-423c-9830-03b33db8ab9d",
   "metadata": {},
   "source": [
    "#### Recreate the final league table (i.e. point tally per team) for the season."
   ]
  },
  {
   "cell_type": "markdown",
   "id": "a88fc622-0595-4675-8ff1-9034a0bab3d1",
   "metadata": {},
   "source": [
    "Review the final [2020/2021 English Premier League final table](https://en.wikipedia.org/wiki/2020%E2%80%9321_Premier_League#League_table) on Wikipedia. The **Pts** column is the most important one---it determines the final positions."
   ]
  },
  {
   "cell_type": "markdown",
   "id": "61bd6989-8a72-44e9-bf71-69eadd61d5ef",
   "metadata": {},
   "source": [
    "Create a list of anonymous objects containing _home_ teams and the points they won in each match. Store the result in `homeTeamPoints`."
   ]
  },
  {
   "cell_type": "markdown",
   "id": "2ba38d08-f6d0-4a44-be0c-9e2b74e68e97",
   "metadata": {
    "tags": []
   },
   "source": [
    "#### Answer..."
   ]
  },
  {
   "cell_type": "code",
   "execution_count": null,
   "id": "8dabaed9-2693-4b29-b4b0-5d7837dc0d11",
   "metadata": {
    "jupyter": {
     "source_hidden": true
    },
    "tags": []
   },
   "outputs": [],
   "source": [
    "var homeTeamPoints =\n",
    "    (from x in matches\n",
    "    let points = x.HomeTeamGoals > x.AwayTeamGoals ? 3 : (x.HomeTeamGoals == x.AwayTeamGoals ? 1 : 0)\n",
    "    select new { Team = x.HomeTeam, Points = points }).ToList();"
   ]
  },
  {
   "cell_type": "markdown",
   "id": "f42b2007-d7d5-4479-8a1f-dcb5cf9a5255",
   "metadata": {},
   "source": [
    "Create a list of anonymous objects containing _away_ teams and the points they won in each match. Store the result in `awayTeamPoints`."
   ]
  },
  {
   "cell_type": "markdown",
   "id": "c69a3ec7-97df-4bc5-b749-545ef5aa29bb",
   "metadata": {
    "tags": []
   },
   "source": [
    "#### Answer..."
   ]
  },
  {
   "cell_type": "code",
   "execution_count": null,
   "id": "86de8594-a2a4-42fc-b306-6cdc4534b502",
   "metadata": {
    "jupyter": {
     "source_hidden": true
    },
    "tags": []
   },
   "outputs": [],
   "source": [
    "var awayTeamPoints =\n",
    "    (from x in matches\n",
    "    let points = x.AwayTeamGoals > x.HomeTeamGoals ? 3 : (x.AwayTeamGoals == x.HomeTeamGoals ? 1 : 0)\n",
    "    select new { Team = x.AwayTeam, Points = points }).ToList();"
   ]
  },
  {
   "cell_type": "markdown",
   "id": "7ab5b1d5-58e5-4e4a-9f2f-fa62f9de0ded",
   "metadata": {},
   "source": [
    "Concatenate `homeTeamPoints` and `awayTeamPoints` to create a _combined_ list called `teamPoints`."
   ]
  },
  {
   "cell_type": "markdown",
   "id": "44d89c49-41df-46e1-9211-a34b7374788f",
   "metadata": {
    "tags": []
   },
   "source": [
    "#### Answer..."
   ]
  },
  {
   "cell_type": "code",
   "execution_count": null,
   "id": "f7bd0187-8e2f-4800-841d-4ab655b8e3c9",
   "metadata": {
    "jupyter": {
     "source_hidden": true
    },
    "tags": []
   },
   "outputs": [],
   "source": [
    "var teamPoints = homeTeamPoints.Concat(awayTeamPoints).ToList();"
   ]
  },
  {
   "cell_type": "markdown",
   "id": "7608bd3a-2a8f-44ba-a5bc-8fbb65f61ec4",
   "metadata": {},
   "source": [
    "Group, aggregated and sort `teamPoints` to recreate the final league table. Store the results in `leagueTable`."
   ]
  },
  {
   "cell_type": "markdown",
   "id": "545782bd-48a8-4b41-ad98-8eeb25d99892",
   "metadata": {
    "tags": []
   },
   "source": [
    "#### Answer..."
   ]
  },
  {
   "cell_type": "code",
   "execution_count": null,
   "id": "c270d144-dfd4-4bdc-8608-a611eedf1e84",
   "metadata": {
    "jupyter": {
     "source_hidden": true
    },
    "tags": []
   },
   "outputs": [],
   "source": [
    "var leagueTable = teamPoints\n",
    "    .GroupBy(x => x.Team)\n",
    "    .Select(g => new { Team = g.Key, Points = g.Sum(x => x.Points) })\n",
    "    .OrderByDescending(x => x.Points)\n",
    "    .ToList();"
   ]
  },
  {
   "cell_type": "markdown",
   "id": "231c7e17-65a7-40cb-9eaf-22255631df6a",
   "metadata": {
    "tags": []
   },
   "source": [
    "Output the contents of `leagueTable`. Compare them with the _actual_ league table? Do they match?"
   ]
  },
  {
   "cell_type": "markdown",
   "id": "e063fde1-dd37-4490-8331-3c04c0c04f17",
   "metadata": {
    "tags": []
   },
   "source": [
    "#### Answer..."
   ]
  },
  {
   "cell_type": "code",
   "execution_count": null,
   "id": "03c410cb-71b7-4e98-b78d-14bd22151e9f",
   "metadata": {
    "jupyter": {
     "source_hidden": true
    },
    "tags": []
   },
   "outputs": [],
   "source": [
    "foreach (var team in leagueTable) {\n",
    "    Console.WriteLine($\"{team.Team}: {team.Points}\");\n",
    "}"
   ]
  },
  {
   "cell_type": "markdown",
   "id": "68e04c30-64dd-43ff-8106-cf9c915ff0fe",
   "metadata": {},
   "source": [
    "Where the final point tally is the same (e.g. Leeds United and Everton) goal difference (**GD** in the Wikipedia table) is used as a tie-breaker. We don't have that data, so the order of tied teams may differ in your results."
   ]
  },
  {
   "cell_type": "markdown",
   "id": "3386622f-19c0-41cf-9612-bea5f23014d7",
   "metadata": {},
   "source": [
    "Extract and display the teams that qualified for the Champions League (the top four teams in the league automatically qualify)."
   ]
  },
  {
   "cell_type": "markdown",
   "id": "98176437-9dac-4921-b52d-cd2048c2fd1e",
   "metadata": {
    "tags": []
   },
   "source": [
    "#### Answer..."
   ]
  },
  {
   "cell_type": "code",
   "execution_count": null,
   "id": "4160b296-8d76-45da-8c0f-e99acda6d7dd",
   "metadata": {
    "jupyter": {
     "source_hidden": true
    },
    "tags": []
   },
   "outputs": [],
   "source": [
    "foreach (var team in leagueTable.Take(4)) {\n",
    "    Console.WriteLine($\"{team.Team} qualified for the Champions League\");\n",
    "}"
   ]
  },
  {
   "cell_type": "markdown",
   "id": "183ffc26-958a-4bbc-9b41-ed1d19b64b76",
   "metadata": {},
   "source": [
    "## Congratulations! You have successfully completed the exercise. Continue to the bonus if you have more time."
   ]
  },
  {
   "cell_type": "markdown",
   "id": "e4ce284c-bfff-49d1-8307-3bd29029fd12",
   "metadata": {
    "tags": []
   },
   "source": [
    "# Bonus (Optional)"
   ]
  },
  {
   "cell_type": "markdown",
   "id": "28e48f02-a03e-4cb4-905a-103d5d485e18",
   "metadata": {},
   "source": [
    "The .NET Interactive notebooks that are used for the manuals are ideal for doing data analysis.\n",
    "\n",
    "Create a new notebook and use it to analyze **F1** data."
   ]
  },
  {
   "cell_type": "markdown",
   "id": "7483e604-0009-4d8d-a752-f781b288c2cb",
   "metadata": {},
   "source": [
    "#### Create a new notebook."
   ]
  },
  {
   "cell_type": "markdown",
   "id": "b7389ddd-ee5e-49ee-b1ba-5dcd534eac6f",
   "metadata": {},
   "source": [
    "Use **File | New | Notebook** to create a new .NET Interactive notebook.\n",
    "\n",
    "<font color=\"red\">**When prompted to select a kernel _make sure_ you choose _.NET (C#)_ from the list.**</font>"
   ]
  },
  {
   "cell_type": "markdown",
   "id": "0df7a87d-ece3-4fdc-8879-295ac2f6a222",
   "metadata": {},
   "source": [
    "Right-click on the new notebook's name (`Untitled.ipynb`) and change it to `f1_analysis.ipynb`."
   ]
  },
  {
   "cell_type": "markdown",
   "id": "9e4e147a-8852-4f29-974d-157db71ea100",
   "metadata": {
    "tags": []
   },
   "source": [
    "#### Load the F1 dataset."
   ]
  },
  {
   "cell_type": "markdown",
   "id": "cf0f56b0-dfaf-4480-abed-231c1213aefe",
   "metadata": {},
   "source": [
    "In the first cell, create a data model/class called `RaceResult` to hold an F1 race result. The class definition should be as follows."
   ]
  },
  {
   "cell_type": "code",
   "execution_count": null,
   "id": "8eba8d94-19cd-4ec1-8c3e-0a321d149b5d",
   "metadata": {},
   "outputs": [],
   "source": [
    "public class RaceResult\n",
    "{\n",
    "    public string Country { get; set; }\n",
    "    public string Circuit { get; set; }\n",
    "    public string CircuitReference { get; set; }\n",
    "    public int Year { get; set; }\n",
    "    public int Round { get; set; }\n",
    "    public string Driver { get; set; }\n",
    "    public string DriverCode { get; set; }\n",
    "    public string DriverNationality { get; set; }\n",
    "    public string Constructor { get; set; }\n",
    "    public int GridPosition { get; set; }\n",
    "    public string FastestLap { get; set; }\n",
    "    public string Result { get; set; }\n",
    "    public double Points { get; set; }\n",
    "}"
   ]
  },
  {
   "cell_type": "markdown",
   "id": "4a8eb22a-623f-4dbc-ab2e-b5ce3df0649a",
   "metadata": {},
   "source": [
    "<font color=\"red\">**Make sure to run the cell whenever you add new code.**</font>"
   ]
  },
  {
   "cell_type": "markdown",
   "id": "27ccabd8-8832-4d57-8d58-885417eb6139",
   "metadata": {},
   "source": [
    "Load (deserialize) the JSON document in `C:\\Course\\510D\\Data\\f1_results.json` as a list of `RaceResult` objects."
   ]
  },
  {
   "cell_type": "markdown",
   "id": "9716df7e-4dea-4415-8eda-d5f89c2a6f15",
   "metadata": {
    "tags": []
   },
   "source": [
    "#### Answer..."
   ]
  },
  {
   "cell_type": "code",
   "execution_count": null,
   "id": "3740a895-6b05-402c-b15b-86d39f38c8db",
   "metadata": {
    "jupyter": {
     "source_hidden": true
    },
    "tags": []
   },
   "outputs": [],
   "source": [
    "// Change to C:\\Course\\510D\\Data\\f1_results.json for exercise \n",
    "string json = File.ReadAllText(@\"data/f1_results.json\");\n",
    "\n",
    "var serializerOptions = new JsonSerializerOptions\n",
    "{\n",
    "    PropertyNamingPolicy = JsonNamingPolicy.CamelCase,\n",
    "};\n",
    "\n",
    "var raceResults = JsonSerializer.Deserialize<IEnumerable<RaceResult>>(json, serializerOptions);"
   ]
  },
  {
   "cell_type": "markdown",
   "id": "cf7e248e-1833-4310-88cc-9af4bd55ba75",
   "metadata": {},
   "source": [
    "#### Analyze the F1 data."
   ]
  },
  {
   "cell_type": "markdown",
   "id": "ac87ab44-a98e-4b71-96b8-c0723044c57f",
   "metadata": {},
   "source": [
    "Using the data, determine the following.\n",
    "\n",
    "- Top three drivers in the 2017 season\n",
    "- Top three constructors in the 2017 season\n",
    "- Driver with the most pole positions\n",
    "- Drivers who have never won an F1 race\n",
    "\n",
    "...or any other statistic that interests you."
   ]
  },
  {
   "cell_type": "markdown",
   "id": "65481b53-827e-40fc-b38f-132d8cd9825a",
   "metadata": {},
   "source": [
    "#### Find the top three drivers in the 2017 season."
   ]
  },
  {
   "cell_type": "markdown",
   "id": "119d2a77-3cda-4751-bc33-683a6241f673",
   "metadata": {
    "tags": []
   },
   "source": [
    "#### Answer..."
   ]
  },
  {
   "cell_type": "code",
   "execution_count": null,
   "id": "71d88b94-0d67-452d-90d0-b99149317597",
   "metadata": {
    "jupyter": {
     "source_hidden": true
    },
    "tags": []
   },
   "outputs": [],
   "source": [
    "raceResults\n",
    "    .Where(x => x.Year == 2017)\n",
    "    .GroupBy(x => x.Driver)\n",
    "    .Select(g => new { Driver = g.Key, Points = g.Sum(x => x.Points) })\n",
    "    .OrderByDescending(x => x.Points)\n",
    "    .Take(3)"
   ]
  },
  {
   "cell_type": "markdown",
   "id": "85270b27-54ed-41ed-9c0e-bed4a35ac240",
   "metadata": {},
   "source": [
    "#### Find the top three constructors in the 2017 season."
   ]
  },
  {
   "cell_type": "markdown",
   "id": "2d249ab1-b873-40e1-810e-614f127d58cf",
   "metadata": {
    "tags": []
   },
   "source": [
    "#### Answer..."
   ]
  },
  {
   "cell_type": "code",
   "execution_count": null,
   "id": "7334df3e-530d-4b42-a7c1-793075ec0eec",
   "metadata": {
    "jupyter": {
     "source_hidden": true
    },
    "tags": []
   },
   "outputs": [],
   "source": [
    "raceResults\n",
    "    .Where(x => x.Year == 2017)\n",
    "    .GroupBy(x => x.Constructor)\n",
    "    .Select(g => new { Constructor = g.Key, Points = g.Sum(x => x.Points) })\n",
    "    .OrderByDescending(x => x.Points)\n",
    "    .Take(3)"
   ]
  },
  {
   "cell_type": "markdown",
   "id": "fda9f546-fe76-4bbf-a119-46aa98e61d84",
   "metadata": {},
   "source": [
    "#### Find the driver with the most pole positions."
   ]
  },
  {
   "cell_type": "markdown",
   "id": "14f6814e-eaf5-4aef-86da-35f1d3c05f16",
   "metadata": {
    "tags": []
   },
   "source": [
    "#### Answer..."
   ]
  },
  {
   "cell_type": "code",
   "execution_count": null,
   "id": "42a0d800-8ba4-4d5d-a254-d1f658a2598b",
   "metadata": {
    "jupyter": {
     "source_hidden": true
    },
    "tags": []
   },
   "outputs": [],
   "source": [
    "raceResults\n",
    "    .Where(x => x.GridPosition == 1)\n",
    "    .GroupBy(x => x.Driver)\n",
    "    .Select(g => new { Driver = g.Key, PolePositions = g.Count() })\n",
    "    .OrderByDescending(x => x.PolePositions)\n",
    "    .First()"
   ]
  },
  {
   "cell_type": "markdown",
   "id": "16a3c090-9c80-4d58-ab87-7684e9553013",
   "metadata": {},
   "source": [
    "#### Find drivers who have never won an F1 race."
   ]
  },
  {
   "cell_type": "markdown",
   "id": "7762ef37-aeb1-45ab-98a7-7bb73fe8a953",
   "metadata": {
    "tags": []
   },
   "source": [
    "#### Answer..."
   ]
  },
  {
   "cell_type": "code",
   "execution_count": null,
   "id": "a84c21eb-14ab-49ee-bfd0-723bb57a4491",
   "metadata": {
    "jupyter": {
     "source_hidden": true
    },
    "tags": []
   },
   "outputs": [],
   "source": [
    "raceResults\n",
    "    .GroupBy(x => x.Driver)\n",
    "    .Where(g => !g.Select(x => x.Result).Contains(\"1\"))\n",
    "    .Select(g => g.Key)\n",
    "    .OrderBy(x => x)"
   ]
  },
  {
   "cell_type": "markdown",
   "id": "684fc258-1787-4f4d-94e8-25392ef176ae",
   "metadata": {},
   "source": [
    "## Congratulations! You have completed the bonus."
   ]
  }
 ],
 "metadata": {
  "kernelspec": {
   "display_name": ".NET (C#)",
   "language": "C#",
   "name": ".net-csharp"
  },
  "language_info": {
   "file_extension": ".cs",
   "mimetype": "text/x-csharp",
   "name": "C#",
   "pygments_lexer": "csharp",
   "version": "9.0"
  }
 },
 "nbformat": 4,
 "nbformat_minor": 5
}
